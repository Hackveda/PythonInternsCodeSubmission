{
  "nbformat": 4,
  "nbformat_minor": 0,
  "metadata": {
    "colab": {
      "provenance": [],
      "collapsed_sections": []
    },
    "kernelspec": {
      "name": "python3",
      "display_name": "Python 3"
    },
    "language_info": {
      "name": "python"
    }
  },
  "cells": [
    {
      "cell_type": "code",
      "source": [
        "import smtplib\n",
        "from email.mime.multipart import MIMEMultipart\n",
        "from email.mime.text import MIMEText\n",
        "from email.mime.base import MIMEBase\n",
        "from email import encoders\n",
        "\n"
      ],
      "metadata": {
        "id": "fJSepbd7ngu2"
      },
      "execution_count": 1,
      "outputs": []
    },
    {
      "cell_type": "code",
      "source": [
        "mail_content = \"\"\"Hello,\n",
        "This is a test mail.\n",
        "In this mail we are sending some attachments.\n",
        "The mail is sent using Python SMTP library.\n",
        "Thank You\n",
        "\"\"\"\n",
        "# The mail addresses and password\n",
        "sender_address = 'harshit030209@gmail.com'\n",
        "sender_pass = 'gjegxituyhkuztwm'\n",
        "receiver_address = 'jainharshit655@gmail.com'\n",
        "\n",
        "# Setup the MIME\n",
        "message = MIMEMultipart()\n",
        "message['From'] = sender_address\n",
        "message['To'] = receiver_address\n",
        "message['Subject'] = 'A test mail sent by Python. It has an attachment.'\n"
      ],
      "metadata": {
        "id": "Y4X9gCptvgJ1"
      },
      "execution_count": 5,
      "outputs": []
    },
    {
      "cell_type": "code",
      "source": [
        "# The subject line\n",
        "# The body and the attachments for the mail\n",
        "message.attach(MIMEText(mail_content, 'plain'))\n",
        "attach_file_name = 'TP_python_prev.pdf'\n",
        "attach_file = open(attach_file_name, 'rb')\n",
        "payload = MIMEBase('application', 'octate-stream')\n",
        "payload.set_payload((attach_file).read())\n",
        "encoders.encode_base64(payload)  # encode the attachment\n",
        "\n",
        "# add payload header with filename\n",
        "payload.add_header('Content-Decomposition', 'attachment', filename=attach_file_name)\n",
        "message.attach(payload)\n"
      ],
      "metadata": {
        "id": "hwhPD_dz4WKa"
      },
      "execution_count": 3,
      "outputs": []
    },
    {
      "cell_type": "code",
      "source": [
        "# Create SMTP session for sending the mail\n",
        "session = smtplib.SMTP('smtp.gmail.com', 587) # use gmail with port\n",
        "session.starttls() # enable security\n",
        "session.login(sender_address, sender_pass) # login with mail_id and ppassword\n",
        "text = message.as_string()\n",
        "session.sendmail(sender_address, receiver_address, text)\n",
        "session.quit()\n",
        "print('Mail Sent')\n"
      ],
      "metadata": {
        "id": "KBUR1JAZ846E",
        "colab": {
          "base_uri": "https://localhost:8080/"
        },
        "outputId": "392e5677-17a9-4065-e2d3-e4909ae7bcc5"
      },
      "execution_count": 6,
      "outputs": [
        {
          "output_type": "stream",
          "name": "stdout",
          "text": [
            "Mail Sent\n"
          ]
        }
      ]
    }
  ]
}