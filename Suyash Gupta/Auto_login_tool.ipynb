{
 "cells": [
  {
   "cell_type": "code",
   "execution_count": 12,
   "id": "3d492fc6",
   "metadata": {},
   "outputs": [],
   "source": [
    "from selenium import webdriver\n",
    "import time"
   ]
  },
  {
   "cell_type": "code",
   "execution_count": 13,
   "id": "7c8fea86",
   "metadata": {},
   "outputs": [],
   "source": [
    "browser = webdriver.Chrome(\"D:\\Chrome Driver\\chromedriver.exe\")\n",
    "\n",
    "browser.maximize_window()\n",
    "\n",
    "browser.get(\"https://www.hackveda.in/one2one\")\n",
    "time.sleep(2)"
   ]
  },
  {
   "cell_type": "code",
   "execution_count": 14,
   "id": "1d35cc57",
   "metadata": {},
   "outputs": [
    {
     "data": {
      "text/plain": [
       "<selenium.webdriver.remote.webelement.WebElement (session=\"fed4b3942409277624dd53f67ebf9b2b\", element=\"541ade43-2284-49cb-b463-5c3083493e04\")>"
      ]
     },
     "execution_count": 14,
     "metadata": {},
     "output_type": "execute_result"
    }
   ],
   "source": [
    "username = browser.find_element_by_id(\"email\")\n",
    "username"
   ]
  },
  {
   "cell_type": "code",
   "execution_count": 15,
   "id": "32601ec2",
   "metadata": {},
   "outputs": [],
   "source": [
    "username.send_keys(\"suyash.gupta1355@gmail.com\")\n",
    "time.sleep(2)"
   ]
  },
  {
   "cell_type": "code",
   "execution_count": 16,
   "id": "218e0144",
   "metadata": {},
   "outputs": [],
   "source": [
    "password = browser.find_element_by_id(\"password\")\n",
    "password.send_keys(\"19024116\")\n",
    "time.sleep(2)"
   ]
  },
  {
   "cell_type": "code",
   "execution_count": 17,
   "id": "aabbf4ac",
   "metadata": {},
   "outputs": [],
   "source": [
    "button = browser.find_element_by_id(\"login_btn\")\n",
    "button.click()"
   ]
  },
  {
   "cell_type": "code",
   "execution_count": null,
   "id": "4ef9c101",
   "metadata": {},
   "outputs": [],
   "source": []
  }
 ],
 "metadata": {
  "kernelspec": {
   "display_name": "Python 3 (ipykernel)",
   "language": "python",
   "name": "python3"
  },
  "language_info": {
   "codemirror_mode": {
    "name": "ipython",
    "version": 3
   },
   "file_extension": ".py",
   "mimetype": "text/x-python",
   "name": "python",
   "nbconvert_exporter": "python",
   "pygments_lexer": "ipython3",
   "version": "3.9.13"
  }
 },
 "nbformat": 4,
 "nbformat_minor": 5
}
