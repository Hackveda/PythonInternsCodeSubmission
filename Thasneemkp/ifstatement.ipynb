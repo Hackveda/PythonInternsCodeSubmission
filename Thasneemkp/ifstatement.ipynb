{
  "nbformat": 4,
  "nbformat_minor": 0,
  "metadata": {
    "colab": {
      "provenance": [],
      "authorship_tag": "ABX9TyOPXLsL3u9Yux3UVgrIThVw",
      "include_colab_link": true
    },
    "kernelspec": {
      "name": "python3",
      "display_name": "Python 3"
    },
    "language_info": {
      "name": "python"
    }
  },
  "cells": [
    {
      "cell_type": "markdown",
      "metadata": {
        "id": "view-in-github",
        "colab_type": "text"
      },
      "source": [
        "<a href=\"https://colab.research.google.com/github/Hackveda/PythonInternsCodeSubmission/blob/main/Thasneemkp/ifstatement.ipynb\" target=\"_parent\"><img src=\"https://colab.research.google.com/assets/colab-badge.svg\" alt=\"Open In Colab\"/></a>"
      ]
    },
    {
      "cell_type": "code",
      "execution_count": 6,
      "metadata": {
        "colab": {
          "base_uri": "https://localhost:8080/"
        },
        "id": "bhf0-f289dhd",
        "outputId": "f2849d2a-6f87-4140-f9dd-f55b3aaea3ff"
      },
      "outputs": [
        {
          "output_type": "stream",
          "name": "stdout",
          "text": [
            "More\n"
          ]
        }
      ],
      "source": [
        "x=int(42)\n",
        "if x<0:\n",
        "   x=0\n",
        "   print('Negative changed to zero')\n",
        "elif x==0:\n",
        "   print('Zero')\n",
        "elif x==1:\n",
        "   print('Single')\n",
        "else:\n",
        "  print('More')"
      ]
    }
  ]
}