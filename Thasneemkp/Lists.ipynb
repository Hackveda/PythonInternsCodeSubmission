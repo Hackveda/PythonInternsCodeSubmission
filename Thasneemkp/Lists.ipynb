{
  "nbformat": 4,
  "nbformat_minor": 0,
  "metadata": {
    "colab": {
      "provenance": [],
      "authorship_tag": "ABX9TyPFwm76LNyvzNT+HXXQAII6",
      "include_colab_link": true
    },
    "kernelspec": {
      "name": "python3",
      "display_name": "Python 3"
    },
    "language_info": {
      "name": "python"
    }
  },
  "cells": [
    {
      "cell_type": "markdown",
      "metadata": {
        "id": "view-in-github",
        "colab_type": "text"
      },
      "source": [
        "<a href=\"https://colab.research.google.com/github/Hackveda/PythonInternsCodeSubmission/blob/main/Thasneemkp/Lists.ipynb\" target=\"_parent\"><img src=\"https://colab.research.google.com/assets/colab-badge.svg\" alt=\"Open In Colab\"/></a>"
      ]
    },
    {
      "cell_type": "code",
      "source": [
        "#lists are compound data types\n",
        "#syntax of creating lists []\n",
        "roll_no=[1,2,3,4,5] #homogeneous type\n",
        "roll_no\n",
        "print(type(roll_no))"
      ],
      "metadata": {
        "colab": {
          "base_uri": "https://localhost:8080/"
        },
        "id": "AgGBcfFVLM-0",
        "outputId": "da961478-a5a0-455f-d3b8-97fb0d136b91"
      },
      "execution_count": 2,
      "outputs": [
        {
          "output_type": "stream",
          "name": "stdout",
          "text": [
            "<class 'list'>\n"
          ]
        }
      ]
    },
    {
      "cell_type": "code",
      "source": [
        "#multple information about a person\n",
        "name='thasneem'\n",
        "age=33\n",
        "height=5.9\n",
        "print(name,type(name),age,type(age),height,type(height))\n",
        "\n",
        "#group the above information in a list\n",
        "person_info=[name,age,height]\n",
        "person_info"
      ],
      "metadata": {
        "colab": {
          "base_uri": "https://localhost:8080/"
        },
        "id": "ttKeee06MIrP",
        "outputId": "033bb8af-5ed6-4202-b808-f5e03192e3c7"
      },
      "execution_count": 4,
      "outputs": [
        {
          "output_type": "stream",
          "name": "stdout",
          "text": [
            "thasneem <class 'str'> 33 <class 'int'> 5.9 <class 'float'>\n"
          ]
        },
        {
          "output_type": "execute_result",
          "data": {
            "text/plain": [
              "['thasneem', 33, 5.9]"
            ]
          },
          "metadata": {},
          "execution_count": 4
        }
      ]
    },
    {
      "cell_type": "code",
      "source": [
        "#print values at each index of list\n",
        "roll_no=[1,4,9,16,25]\n",
        "index=0\n",
        "for item in roll_no:\n",
        "    print(index,item)\n",
        "    index =index + 1"
      ],
      "metadata": {
        "colab": {
          "base_uri": "https://localhost:8080/"
        },
        "id": "yuLV5RJnNh75",
        "outputId": "7cba22f4-cfdf-4272-f430-1ad2042f43b8"
      },
      "execution_count": 5,
      "outputs": [
        {
          "output_type": "stream",
          "name": "stdout",
          "text": [
            "0 1\n",
            "1 4\n",
            "2 9\n",
            "3 16\n",
            "4 25\n"
          ]
        }
      ]
    },
    {
      "cell_type": "code",
      "source": [
        "value=int(input(\"enter input value:\"))\n",
        "print(type(value))"
      ],
      "metadata": {
        "colab": {
          "base_uri": "https://localhost:8080/"
        },
        "id": "gA2-GkR7K-io",
        "outputId": "c39a176a-0485-43e0-e086-041d2008f92a"
      },
      "execution_count": 7,
      "outputs": [
        {
          "output_type": "stream",
          "name": "stdout",
          "text": [
            "enter input value:12\n",
            "<class 'int'>\n"
          ]
        }
      ]
    },
    {
      "cell_type": "code",
      "source": [
        "index_no=int(input(\"enter index no:\"))\n",
        "print (\"the value at index\",index_no,\"is\",roll_no[index_no])"
      ],
      "metadata": {
        "colab": {
          "base_uri": "https://localhost:8080/"
        },
        "id": "F_trpnxJMF9y",
        "outputId": "6747d637-8f81-45ff-f7dc-6af21df07642"
      },
      "execution_count": 10,
      "outputs": [
        {
          "output_type": "stream",
          "name": "stdout",
          "text": [
            "enter index no:3\n",
            "the value at index 3 is 16\n"
          ]
        }
      ]
    },
    {
      "cell_type": "code",
      "source": [
        "#concatenation in lists\n",
        "list1=[\"thasneem\",33,5.9]\n",
        "list2=[\"zia\",7,3.2]\n",
        "conc_result=list1 + list2\n",
        "conc_result"
      ],
      "metadata": {
        "colab": {
          "base_uri": "https://localhost:8080/"
        },
        "id": "DoubR_YsM8AN",
        "outputId": "b761954d-f38d-4735-a03c-953cc88d2f9d"
      },
      "execution_count": 12,
      "outputs": [
        {
          "output_type": "execute_result",
          "data": {
            "text/plain": [
              "['thasneem', 33, 5.9, 'zia', 7, 3.2]"
            ]
          },
          "metadata": {},
          "execution_count": 12
        }
      ]
    }
  ]
}