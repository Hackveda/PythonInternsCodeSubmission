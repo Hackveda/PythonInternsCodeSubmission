{
  "nbformat": 4,
  "nbformat_minor": 0,
  "metadata": {
    "colab": {
      "provenance": [],
      "collapsed_sections": [],
      "authorship_tag": "ABX9TyNLxIiFa/CHbAn55dmCSTtb",
      "include_colab_link": true
    },
    "kernelspec": {
      "name": "python3",
      "display_name": "Python 3"
    },
    "language_info": {
      "name": "python"
    }
  },
  "cells": [
    {
      "cell_type": "markdown",
      "metadata": {
        "id": "view-in-github",
        "colab_type": "text"
      },
      "source": [
        "<a href=\"https://colab.research.google.com/github/Hackveda/PythonInternsCodeSubmission/blob/main/ankit/Regular_expression.ipynb\" target=\"_parent\"><img src=\"https://colab.research.google.com/assets/colab-badge.svg\" alt=\"Open In Colab\"/></a>"
      ]
    },
    {
      "cell_type": "code",
      "execution_count": 2,
      "metadata": {
        "colab": {
          "base_uri": "https://localhost:8080/"
        },
        "id": "tp9mZZdK2e6d",
        "outputId": "f7225c8c-c5af-40c1-b27c-b0a9132c99a1"
      },
      "outputs": [
        {
          "output_type": "stream",
          "name": "stdout",
          "text": [
            "0 ... 2 ... ab\n",
            "3 ... 5 ... ab\n",
            "5 ... 7 ... ab\n",
            "The number of occurrences:  3\n"
          ]
        }
      ],
      "source": [
        "import re \n",
        "count=0\n",
        "pattern=re.compile(\"ab\")\n",
        "matcher=pattern.finditer(\"abaababa\")\n",
        "for match in matcher:\n",
        "    count+=1\n",
        "    print(match.start(),\"...\",match.end(),\"...\",match.group())\n",
        "print(\"The number of occurrences: \",count)"
      ]
    },
    {
      "cell_type": "code",
      "source": [
        "import re \n",
        "matcher=re.finditer(\"[ejkb]\",\"abgeksj\")\n",
        "for match in matcher:\n",
        "  print(match.start(),\"....\",match.group())"
      ],
      "metadata": {
        "colab": {
          "base_uri": "https://localhost:8080/"
        },
        "id": "j2e1PA3y3KDT",
        "outputId": "43139cdb-3573-4d0d-b7ed-465167ff8522"
      },
      "execution_count": 11,
      "outputs": [
        {
          "output_type": "stream",
          "name": "stdout",
          "text": [
            "1 .... b\n",
            "3 .... e\n",
            "4 .... k\n",
            "6 .... j\n"
          ]
        }
      ]
    },
    {
      "cell_type": "code",
      "source": [
        "import re \n",
        "#\\s for space , \\S for non space character \n",
        "# \\d for numeric value , \\D for non numeric value\n",
        "#\\w for for words only , \\W for non word character (special symbols)\n",
        "# . for all type of characters\n",
        "matcher=re.finditer(\".\",\"a7b k@9z\")\n",
        "for match in matcher:\n",
        "  print(match.start(),\"....\",match.group())"
      ],
      "metadata": {
        "colab": {
          "base_uri": "https://localhost:8080/"
        },
        "id": "7jS1OPSW4xbF",
        "outputId": "3efc998f-eb98-4e82-9e59-3b76af87ea77"
      },
      "execution_count": 22,
      "outputs": [
        {
          "output_type": "stream",
          "name": "stdout",
          "text": [
            "0 .... a\n",
            "1 .... 7\n",
            "2 .... b\n",
            "3 ....  \n",
            "4 .... k\n",
            "5 .... @\n",
            "6 .... 9\n",
            "7 .... z\n"
          ]
        }
      ]
    },
    {
      "cell_type": "code",
      "source": [
        "import re \n",
        "matcher=re.finditer(\"a+\",\"abbbababaaaabb\")\n",
        "for match in matcher:\n",
        "  print(match.start(),\"....\",match.group())"
      ],
      "metadata": {
        "colab": {
          "base_uri": "https://localhost:8080/"
        },
        "id": "54c0lzn36Wx-",
        "outputId": "1c9e2823-d8c2-415a-93a7-6ec2f495942f"
      },
      "execution_count": 27,
      "outputs": [
        {
          "output_type": "stream",
          "name": "stdout",
          "text": [
            "0 .... a\n",
            "4 .... a\n",
            "6 .... a\n",
            "8 .... aaaa\n"
          ]
        }
      ]
    },
    {
      "cell_type": "code",
      "source": [
        "import re \n",
        "# ^'x' for checking if the string is start with this symbol \n",
        "matcher=re.finditer(\"^a\",\"abgeksj\")\n",
        "for match in matcher:\n",
        "  print(match.start(),\"....\",match.group())\n",
        "# $'x' for cheching if the string is start with this sybol or not\n",
        "mat=re.finditer(\"j$\",\"abgeksj\")\n",
        "for any in mat:\n",
        "  print(any.start(),\"...\",any.group())"
      ],
      "metadata": {
        "colab": {
          "base_uri": "https://localhost:8080/"
        },
        "id": "i-0VNKLj61_C",
        "outputId": "9abfbbdf-926e-4dfd-b0e4-1d98a007410d"
      },
      "execution_count": 30,
      "outputs": [
        {
          "output_type": "stream",
          "name": "stdout",
          "text": [
            "0 .... a\n",
            "6 ... j\n"
          ]
        }
      ]
    },
    {
      "cell_type": "code",
      "source": [
        "import re \n",
        "matcher=re.findall(\"[a-z]\",\"abgeksj\")\n",
        "print(matcher)\n",
        "finder=re.findall(\"[0-9]\",\"0gy78jht5\")\n",
        "print(finder)"
      ],
      "metadata": {
        "colab": {
          "base_uri": "https://localhost:8080/"
        },
        "id": "IP9HZ6E179h3",
        "outputId": "20e52eb5-08a0-47a6-98c8-6e1ff64292f4"
      },
      "execution_count": 32,
      "outputs": [
        {
          "output_type": "stream",
          "name": "stdout",
          "text": [
            "['a', 'b', 'g', 'e', 'k', 's', 'j']\n",
            "['0', '7', '8', '5']\n"
          ]
        }
      ]
    },
    {
      "cell_type": "code",
      "source": [
        "import re\n",
        "# sub() is used to make substitute\n",
        "#subn() is also gives the no of replacements\n",
        "st=re.sub(\"[0-9]\",\"*\",\"a78sje6gd5gw4\")\n",
        "print(st)"
      ],
      "metadata": {
        "colab": {
          "base_uri": "https://localhost:8080/"
        },
        "id": "dFLJB7KH9Fgv",
        "outputId": "b733dcda-689a-4db2-86c1-6dd201bf2f0e"
      },
      "execution_count": 33,
      "outputs": [
        {
          "output_type": "stream",
          "name": "stdout",
          "text": [
            "a**sje*gd*gw*\n"
          ]
        }
      ]
    },
    {
      "cell_type": "code",
      "source": [
        "import re \n",
        "s=re.split(\";\",\"apple;banana;mango;orange\")\n",
        "print(s)"
      ],
      "metadata": {
        "colab": {
          "base_uri": "https://localhost:8080/"
        },
        "id": "u3Q0ZN_t9iyo",
        "outputId": "d2108826-8b4c-41fd-829c-6786e1f51089"
      },
      "execution_count": 34,
      "outputs": [
        {
          "output_type": "stream",
          "name": "stdout",
          "text": [
            "['apple', 'banana', 'mango', 'orange']\n"
          ]
        }
      ]
    }
  ]
}