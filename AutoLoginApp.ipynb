{
 "cells": [
  {
   "cell_type": "code",
   "execution_count": 13,
   "id": "d67db3fc",
   "metadata": {},
   "outputs": [],
   "source": [
    "from selenium import webdriver \n",
    "import time"
   ]
  },
  {
   "cell_type": "code",
   "execution_count": 14,
   "id": "a07858ba",
   "metadata": {
    "scrolled": false
   },
   "outputs": [],
   "source": [
    "# Create a connection with your browser\n",
    "browser = webdriver.Chrome(\"/Users/harshit/Downloads/chromedriver\")\n",
    "\n",
    "# Maximise the Browser Window\n",
    "browser.maximize_window()\n",
    "\n",
    "# Open the website\n",
    "browser.get(\"https://www.hackveda.in/one2one\")\n",
    "time.sleep(3)"
   ]
  },
  {
   "cell_type": "code",
   "execution_count": 15,
   "id": "e66b6c07",
   "metadata": {},
   "outputs": [
    {
     "data": {
      "text/plain": [
       "<selenium.webdriver.remote.webelement.WebElement (session=\"3938ff74fe3e05c17775b97166e188e8\", element=\"29b697da-56c4-4873-843d-be985f8afe7f\")>"
      ]
     },
     "execution_count": 15,
     "metadata": {},
     "output_type": "execute_result"
    }
   ],
   "source": [
    "username = browser.find_element_by_id(\"email\")\n",
    "username"
   ]
  },
  {
   "cell_type": "code",
   "execution_count": 16,
   "id": "90c2f5a0",
   "metadata": {},
   "outputs": [],
   "source": [
    "username.send_keys(\"jaideep.pandher@gmail.com\")\n",
    "time.sleep(3)"
   ]
  },
  {
   "cell_type": "code",
   "execution_count": 17,
   "id": "82196016",
   "metadata": {},
   "outputs": [],
   "source": [
    "password = browser.find_element_by_id(\"password\")\n",
    "password.send_keys(\"9910950118\")\n",
    "time.sleep(3)"
   ]
  },
  {
   "cell_type": "code",
   "execution_count": 18,
   "id": "73ca9c41",
   "metadata": {},
   "outputs": [],
   "source": [
    "button = browser.find_element_by_id(\"login_btn\")\n",
    "button.click()"
   ]
  },
  {
   "cell_type": "code",
   "execution_count": null,
   "id": "0252491a",
   "metadata": {},
   "outputs": [],
   "source": []
  }
 ],
 "metadata": {
  "kernelspec": {
   "display_name": "Python 3 (ipykernel)",
   "language": "python",
   "name": "python3"
  },
  "language_info": {
   "codemirror_mode": {
    "name": "ipython",
    "version": 3
   },
   "file_extension": ".py",
   "mimetype": "text/x-python",
   "name": "python",
   "nbconvert_exporter": "python",
   "pygments_lexer": "ipython3",
   "version": "3.9.12"
  }
 },
 "nbformat": 4,
 "nbformat_minor": 5
}
