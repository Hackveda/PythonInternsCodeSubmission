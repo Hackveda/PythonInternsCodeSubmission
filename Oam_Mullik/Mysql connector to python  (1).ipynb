{
 "cells": [
  {
   "cell_type": "code",
   "execution_count": null,
   "id": "3a078209",
   "metadata": {},
   "outputs": [],
   "source": [
    "# Creating a database.\n",
    "\n",
    "import mysql.connector      # importing the mysql connector.\n",
    "\n",
    "mydb = mysql.connector.connect(host=\"localhost\",user=\"root\",password=\"Y1012Jqkhkp\")    # Giving the user access.\n",
    "mycursor = mydb.cursor()\n",
    "\n",
    "mycursor.execute(\"CREATE DATABASE login\")"
   ]
  },
  {
   "cell_type": "code",
   "execution_count": null,
   "id": "161c4590",
   "metadata": {},
   "outputs": [],
   "source": [
    "# Creating a table Details for Username and Password.\n",
    "\n",
    "mydb = mysql.connector.connect(host=\"localhost\",user=\"root\",password=\"Y1012Jqkhkp\",database=\"login\")\n",
    "mycursor = mydb.cursor()\n",
    "\n",
    "mycursor.execute(\"CREATE TABLE Details (username VARCHAR(255), password VARCHAR(255))\")\n",
    "\n",
    "# creating the table 'Details' and coloumns 'username' and 'password'."
   ]
  },
  {
   "cell_type": "code",
   "execution_count": null,
   "id": "40c6523a",
   "metadata": {},
   "outputs": [],
   "source": [
    "# Insreting values in the table.  \n",
    "\n",
    "mydb = mysql.connector.connect(host=\"localhost\",user=\"root\",password=\"Y1012Jqkhkp\",database=\"login\")\n",
    "mycursor = mydb.cursor()\n",
    "\n",
    "sql = (\"INSERT INTO Details (username, password) VALUES (%s, %s)\") # Inserting the values in the coloumns.\n",
    "val = (\"oammulik12@gmai.com\", \"luffyzoro12\")    \n",
    "mycursor.execute(sql, val)\n",
    "mydb.commit() \n",
    "\n",
    "print(mycursor.rowcount, \"record inserted.\")"
   ]
  },
  {
   "cell_type": "code",
   "execution_count": null,
   "id": "3ddf252c",
   "metadata": {},
   "outputs": [],
   "source": [
    "# Fetching the values from the table.\n",
    "\n",
    "mydb = mysql.connector.connect(host=\"localhost\",user=\"root\",password=\"Y1012Jqkhkp\",database=\"login\")\n",
    "mycursor = mydb.cursor()\n",
    "\n",
    "mycursor.execute(\"SELECT * FROM Details\")     # Selected the table from which the data would be Fetch.\n",
    "\n",
    "result = mycursor.fetchall()   #Fetching all the data.\n",
    "print(result)"
   ]
  },
  {
   "cell_type": "code",
   "execution_count": null,
   "id": "fbb715d3",
   "metadata": {},
   "outputs": [],
   "source": []
  }
 ],
 "metadata": {
  "kernelspec": {
   "display_name": "Python 3 (ipykernel)",
   "language": "python",
   "name": "python3"
  },
  "language_info": {
   "codemirror_mode": {
    "name": "ipython",
    "version": 3
   },
   "file_extension": ".py",
   "mimetype": "text/x-python",
   "name": "python",
   "nbconvert_exporter": "python",
   "pygments_lexer": "ipython3",
   "version": "3.9.7"
  }
 },
 "nbformat": 4,
 "nbformat_minor": 5
}
