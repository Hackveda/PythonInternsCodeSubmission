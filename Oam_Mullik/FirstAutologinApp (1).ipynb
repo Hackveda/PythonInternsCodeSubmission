{
 "cells": [
  {
   "cell_type": "code",
   "execution_count": null,
   "id": "07f72a4f",
   "metadata": {},
   "outputs": [],
   "source": [
    "from selenium import webdriver \n",
    "import time"
   ]
  },
  {
   "cell_type": "code",
   "execution_count": null,
   "id": "c3df504d",
   "metadata": {},
   "outputs": [],
   "source": [
    "# create a connection with your browser\n",
    "browser = webdriver.Chrome(\"C:/Users/JAI/Downloads/chromedriver_win32/chromedriver.exe\")\n",
    "\n",
    "# maximum the Browser Window \n",
    "browser.maximize_window()\n",
    "\n",
    "# Open the website \n",
    "browser.get(\"https://www.hackveda.in/one2one\")\n",
    "\n",
    "time.sleep(3)"
   ]
  },
  {
   "cell_type": "code",
   "execution_count": null,
   "id": "9ab7a3ea",
   "metadata": {},
   "outputs": [],
   "source": [
    "username = browser.find_element_by_id(\"email\")\n",
    "username"
   ]
  },
  {
   "cell_type": "code",
   "execution_count": null,
   "id": "f0593e94",
   "metadata": {},
   "outputs": [],
   "source": [
    "username.send_keys(\"oammulik12@gmail.com\")\n",
    "time.sleep(3)"
   ]
  },
  {
   "cell_type": "code",
   "execution_count": null,
   "id": "a58c3c46",
   "metadata": {},
   "outputs": [],
   "source": [
    "password = browser.find_element_by_id(\"password\")\n",
    "password.send_keys(\"zorojuro1112\")\n",
    "time.sleep(3)"
   ]
  },
  {
   "cell_type": "code",
   "execution_count": null,
   "id": "9ffd3d74",
   "metadata": {},
   "outputs": [],
   "source": [
    "button = browser.find_element_by_id(\"login_btn\")\n",
    "button.click()"
   ]
  }
 ],
 "metadata": {
  "kernelspec": {
   "display_name": "Python 3 (ipykernel)",
   "language": "python",
   "name": "python3"
  },
  "language_info": {
   "codemirror_mode": {
    "name": "ipython",
    "version": 3
   },
   "file_extension": ".py",
   "mimetype": "text/x-python",
   "name": "python",
   "nbconvert_exporter": "python",
   "pygments_lexer": "ipython3",
   "version": "3.9.7"
  }
 },
 "nbformat": 4,
 "nbformat_minor": 5
}
