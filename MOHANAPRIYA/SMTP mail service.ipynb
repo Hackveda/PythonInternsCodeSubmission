{
 "cells": [
  {
   "cell_type": "code",
   "execution_count": 13,
   "id": "f74c02f6",
   "metadata": {},
   "outputs": [],
   "source": [
    "def send_mail(email):\n",
    "    email_content=\"\"\"<p>Dear Sir/Madam, </p> <p>I am writing on behalf of\n",
    "    Hack, got to know about your event from Knowafst.com website. </p> \n",
    "    <p> Regards \n",
    "    MOHANAPRIYA<br>\n",
    "    Studentk, RMK<BR>\n",
    "    </p>\n",
    "    \"\"\"\n",
    "    \n",
    "    sender_address=\"moha20126.cb@rmkec.ac.in\"\n",
    "    sender_password=\"Mohana1702\"\n",
    "    receiver_address=email\n",
    "    \n",
    "    message=MIMEMultipart()\n",
    "    message[\"From\"]=\"STUDENT RMK <moha20126.cb@rmkec.ac.in>\"\n",
    "    message[\"To\"]=receiver_address\n",
    "    message[\"Subject\"]=\"just learning\"\n",
    "    message.attach(MIMEText(email_content,\"html\"))\n",
    "    \n",
    "    attach_file_name=\"Raghul G_resume.pdf\"\n",
    "    attach_file=open(attach_file_name,\"rb\")\n",
    "    payload=MIMEBase('application','octate-stream')\n",
    "    payload.set_payload((attach_file).read())\n",
    "    encoders.encode_base64(payload)\n",
    "    payload.add_header(\"Content-Disposition\",\"attachment\",filename=\"Mr Rahul cv\")\n",
    "    message.attach(payload) \n",
    "                    \n",
    "    session=smtplib.SMTP(\"smtp.gmail.com\",587)\n",
    "    session.starttls()\n",
    "    session.login(sender_address,sender_password)\n",
    "    text=message.as_string()\n",
    "    session.sendmail(sender_address,receiver_address,text)\n",
    "    session.quit()\n",
    "    print(\"Mail sent to\",receiver_address)\n",
    "                     "
   ]
  },
  {
   "cell_type": "code",
   "execution_count": 14,
   "id": "ba135a37",
   "metadata": {},
   "outputs": [
    {
     "name": "stdout",
     "output_type": "stream",
     "text": [
      "Mail sent to priyashanmugam1702@gmail.com\n"
     ]
    }
   ],
   "source": [
    "import smtplib\n",
    "from email.mime.multipart import MIMEMultipart\n",
    "from email.mime.text import MIMEText\n",
    "from email.mime.base import MIMEBase \n",
    "from email import encoders \n",
    "\n",
    "email=\"priyashanmugam1702@gmail.com\"\n",
    "send_mail(email)"
   ]
  }
 ],
 "metadata": {
  "kernelspec": {
   "display_name": "Python 3 (ipykernel)",
   "language": "python",
   "name": "python3"
  },
  "language_info": {
   "codemirror_mode": {
    "name": "ipython",
    "version": 3
   },
   "file_extension": ".py",
   "mimetype": "text/x-python",
   "name": "python",
   "nbconvert_exporter": "python",
   "pygments_lexer": "ipython3",
   "version": "3.9.12"
  }
 },
 "nbformat": 4,
 "nbformat_minor": 5
}
