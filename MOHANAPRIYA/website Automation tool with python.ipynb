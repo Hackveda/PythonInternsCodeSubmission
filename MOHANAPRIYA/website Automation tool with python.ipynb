{
 "cells": [
  {
   "cell_type": "code",
   "execution_count": 2,
   "id": "2159be62",
   "metadata": {},
   "outputs": [],
   "source": [
    "from selenium import webdriver\n",
    "import time\n",
    "\n",
    "#create connection with browser\n",
    "browser=webdriver.Chrome(\"C:/a1 sem results/chromedriver.exe\")\n",
    "#to maximize if its in other layouts\n",
    "browser.maximize_window()\n",
    "#getting into required website\n",
    "browser.get(\"https://www.hackveda.in/one2one/\")\n",
    "\n",
    "#to get access to username\n",
    "username=browser.find_element_by_id(\"email\")\n",
    "username.send_keys(\"moha20126.cb@rmkec.ac.in\")\n",
    "time.sleep(2)\n",
    "\n",
    "#to get access to password\n",
    "password=browser.find_element_by_id(\"password\")\n",
    "password.send_keys(\"50541331\")\n",
    "time.sleep(2)\n",
    "\n",
    "#to access sign button\n",
    "login=browser.find_element_by_id(\"login_btn\")\n",
    "login.click()\n",
    "\n"
   ]
  },
  {
   "cell_type": "code",
   "execution_count": null,
   "id": "6d8a3362",
   "metadata": {},
   "outputs": [],
   "source": []
  }
 ],
 "metadata": {
  "kernelspec": {
   "display_name": "Python 3 (ipykernel)",
   "language": "python",
   "name": "python3"
  },
  "language_info": {
   "codemirror_mode": {
    "name": "ipython",
    "version": 3
   },
   "file_extension": ".py",
   "mimetype": "text/x-python",
   "name": "python",
   "nbconvert_exporter": "python",
   "pygments_lexer": "ipython3",
   "version": "3.9.12"
  }
 },
 "nbformat": 4,
 "nbformat_minor": 5
}
