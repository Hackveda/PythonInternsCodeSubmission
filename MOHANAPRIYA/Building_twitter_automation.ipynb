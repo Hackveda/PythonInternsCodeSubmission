{
  "nbformat": 4,
  "nbformat_minor": 0,
  "metadata": {
    "colab": {
      "provenance": [],
      "collapsed_sections": []
    },
    "kernelspec": {
      "name": "python3",
      "display_name": "Python 3"
    },
    "language_info": {
      "name": "python"
    }
  },
  "cells": [
    {
      "cell_type": "code",
      "execution_count": 1,
      "metadata": {
        "colab": {
          "base_uri": "https://localhost:8080/"
        },
        "id": "3x9eX2Bxc0iS",
        "outputId": "7feb6557-e67e-4dc9-916b-f1a9e9ed22cf"
      },
      "outputs": [
        {
          "output_type": "stream",
          "name": "stdout",
          "text": [
            "Looking in indexes: https://pypi.org/simple, https://us-python.pkg.dev/colab-wheels/public/simple/\n",
            "Requirement already satisfied: tweepy in /usr/local/lib/python3.7/dist-packages (3.10.0)\n",
            "Requirement already satisfied: six>=1.10.0 in /usr/local/lib/python3.7/dist-packages (from tweepy) (1.15.0)\n",
            "Requirement already satisfied: requests[socks]>=2.11.1 in /usr/local/lib/python3.7/dist-packages (from tweepy) (2.23.0)\n",
            "Requirement already satisfied: requests-oauthlib>=0.7.0 in /usr/local/lib/python3.7/dist-packages (from tweepy) (1.3.1)\n",
            "Requirement already satisfied: oauthlib>=3.0.0 in /usr/local/lib/python3.7/dist-packages (from requests-oauthlib>=0.7.0->tweepy) (3.2.1)\n",
            "Requirement already satisfied: chardet<4,>=3.0.2 in /usr/local/lib/python3.7/dist-packages (from requests[socks]>=2.11.1->tweepy) (3.0.4)\n",
            "Requirement already satisfied: urllib3!=1.25.0,!=1.25.1,<1.26,>=1.21.1 in /usr/local/lib/python3.7/dist-packages (from requests[socks]>=2.11.1->tweepy) (1.24.3)\n",
            "Requirement already satisfied: certifi>=2017.4.17 in /usr/local/lib/python3.7/dist-packages (from requests[socks]>=2.11.1->tweepy) (2022.9.24)\n",
            "Requirement already satisfied: idna<3,>=2.5 in /usr/local/lib/python3.7/dist-packages (from requests[socks]>=2.11.1->tweepy) (2.10)\n",
            "Requirement already satisfied: PySocks!=1.5.7,>=1.5.6 in /usr/local/lib/python3.7/dist-packages (from requests[socks]>=2.11.1->tweepy) (1.7.1)\n"
          ]
        }
      ],
      "source": [
        "#connect to twitter and extract data\n",
        "!pip install tweepy"
      ]
    },
    {
      "cell_type": "code",
      "source": [
        "import tweepy # Get information from Twitter\n",
        "import pandas as pd # Structure data coming from twitter"
      ],
      "metadata": {
        "id": "E9gdlLE_dC7R"
      },
      "execution_count": 2,
      "outputs": []
    },
    {
      "cell_type": "code",
      "source": [
        "# credentials required to interact with twitter\n",
        "access_token=\"1312079228003778562-q37AosfiHhtO7SBV9LHF0M556pl9uW\"\n",
        "access_token_secret=\"I6nT3xhMXCrsDGzUFhwNeUsW7AvLEm8cpOTa9tebxOvuF\"\n",
        "\n",
        "consumer_key=\"yT4QGSTJmIyaZrxTBV89GoRLY\"\n",
        "consumer_secret=\"WBHHSFBg29x99d4Klme5BxFvaCYFY7VE3sHl6AoUVJ2CEqXeTY\""
      ],
      "metadata": {
        "id": "OCwq5hfCKXrq"
      },
      "execution_count": 3,
      "outputs": []
    },
    {
      "cell_type": "code",
      "source": [
        "# Authenticate with Twitter\n",
        "auth=tweepy.auth.OAuthHandler(consumer_key,consumer_secret)\n",
        "auth.set_access_token(access_token, access_token_secret)\n",
        "api=tweepy.API(auth) # send request and get access\n",
        "api"
      ],
      "metadata": {
        "colab": {
          "base_uri": "https://localhost:8080/"
        },
        "id": "NberZesnLxg7",
        "outputId": "c7b1fe51-4121-42d8-d099-d8b2126a6f0b"
      },
      "execution_count": 4,
      "outputs": [
        {
          "output_type": "execute_result",
          "data": {
            "text/plain": [
              "<tweepy.api.API at 0x7f18431c39d0>"
            ]
          },
          "metadata": {},
          "execution_count": 4
        }
      ]
    },
    {
      "cell_type": "code",
      "source": [
        "# Tweet using this app on twitter\n",
        "api.update_status(\"Hi varadha gundu pakods, Happy birthday man\")"
      ],
      "metadata": {
        "colab": {
          "base_uri": "https://localhost:8080/"
        },
        "id": "uBsLEpWmR_dd",
        "outputId": "72f94f95-8d4a-4aa9-d42a-81f92a4e3d57"
      },
      "execution_count": null,
      "outputs": [
        {
          "output_type": "execute_result",
          "data": {
            "text/plain": [
              "Status(_api=<tweepy.api.API object at 0x7f7f3370fbd0>, _json={'created_at': 'Tue Oct 18 14:44:53 +0000 2022', 'id': 1582382211172470784, 'id_str': '1582382211172470784', 'text': 'Hi varadha gundu pakods, Happy birthday man', 'truncated': False, 'entities': {'hashtags': [], 'symbols': [], 'user_mentions': [], 'urls': []}, 'source': '<a href=\"https://twitter.com/home\" rel=\"nofollow\">viesr_1</a>', 'in_reply_to_status_id': None, 'in_reply_to_status_id_str': None, 'in_reply_to_user_id': None, 'in_reply_to_user_id_str': None, 'in_reply_to_screen_name': None, 'user': {'id': 1312079228003778562, 'id_str': '1312079228003778562', 'name': 'VARADHARAJ S', 'screen_name': 'Varadha57780120', 'location': '', 'description': '', 'url': None, 'entities': {'description': {'urls': []}}, 'protected': False, 'followers_count': 0, 'friends_count': 3, 'listed_count': 0, 'created_at': 'Fri Oct 02 17:17:27 +0000 2020', 'favourites_count': 4, 'utc_offset': None, 'time_zone': None, 'geo_enabled': False, 'verified': False, 'statuses_count': 7, 'lang': None, 'contributors_enabled': False, 'is_translator': False, 'is_translation_enabled': False, 'profile_background_color': 'F5F8FA', 'profile_background_image_url': None, 'profile_background_image_url_https': None, 'profile_background_tile': False, 'profile_image_url': 'http://pbs.twimg.com/profile_images/1580563833604624386/PlsEiSn-_normal.jpg', 'profile_image_url_https': 'https://pbs.twimg.com/profile_images/1580563833604624386/PlsEiSn-_normal.jpg', 'profile_link_color': '1DA1F2', 'profile_sidebar_border_color': 'C0DEED', 'profile_sidebar_fill_color': 'DDEEF6', 'profile_text_color': '333333', 'profile_use_background_image': True, 'has_extended_profile': True, 'default_profile': True, 'default_profile_image': False, 'following': False, 'follow_request_sent': False, 'notifications': False, 'translator_type': 'none', 'withheld_in_countries': []}, 'geo': None, 'coordinates': None, 'place': None, 'contributors': None, 'is_quote_status': False, 'retweet_count': 0, 'favorite_count': 0, 'favorited': False, 'retweeted': False, 'lang': 'tl'}, created_at=datetime.datetime(2022, 10, 18, 14, 44, 53), id=1582382211172470784, id_str='1582382211172470784', text='Hi varadha gundu pakods, Happy birthday man', truncated=False, entities={'hashtags': [], 'symbols': [], 'user_mentions': [], 'urls': []}, source='viesr_1', source_url='https://twitter.com/home', in_reply_to_status_id=None, in_reply_to_status_id_str=None, in_reply_to_user_id=None, in_reply_to_user_id_str=None, in_reply_to_screen_name=None, author=User(_api=<tweepy.api.API object at 0x7f7f3370fbd0>, _json={'id': 1312079228003778562, 'id_str': '1312079228003778562', 'name': 'VARADHARAJ S', 'screen_name': 'Varadha57780120', 'location': '', 'description': '', 'url': None, 'entities': {'description': {'urls': []}}, 'protected': False, 'followers_count': 0, 'friends_count': 3, 'listed_count': 0, 'created_at': 'Fri Oct 02 17:17:27 +0000 2020', 'favourites_count': 4, 'utc_offset': None, 'time_zone': None, 'geo_enabled': False, 'verified': False, 'statuses_count': 7, 'lang': None, 'contributors_enabled': False, 'is_translator': False, 'is_translation_enabled': False, 'profile_background_color': 'F5F8FA', 'profile_background_image_url': None, 'profile_background_image_url_https': None, 'profile_background_tile': False, 'profile_image_url': 'http://pbs.twimg.com/profile_images/1580563833604624386/PlsEiSn-_normal.jpg', 'profile_image_url_https': 'https://pbs.twimg.com/profile_images/1580563833604624386/PlsEiSn-_normal.jpg', 'profile_link_color': '1DA1F2', 'profile_sidebar_border_color': 'C0DEED', 'profile_sidebar_fill_color': 'DDEEF6', 'profile_text_color': '333333', 'profile_use_background_image': True, 'has_extended_profile': True, 'default_profile': True, 'default_profile_image': False, 'following': False, 'follow_request_sent': False, 'notifications': False, 'translator_type': 'none', 'withheld_in_countries': []}, id=1312079228003778562, id_str='1312079228003778562', name='VARADHARAJ S', screen_name='Varadha57780120', location='', description='', url=None, entities={'description': {'urls': []}}, protected=False, followers_count=0, friends_count=3, listed_count=0, created_at=datetime.datetime(2020, 10, 2, 17, 17, 27), favourites_count=4, utc_offset=None, time_zone=None, geo_enabled=False, verified=False, statuses_count=7, lang=None, contributors_enabled=False, is_translator=False, is_translation_enabled=False, profile_background_color='F5F8FA', profile_background_image_url=None, profile_background_image_url_https=None, profile_background_tile=False, profile_image_url='http://pbs.twimg.com/profile_images/1580563833604624386/PlsEiSn-_normal.jpg', profile_image_url_https='https://pbs.twimg.com/profile_images/1580563833604624386/PlsEiSn-_normal.jpg', profile_link_color='1DA1F2', profile_sidebar_border_color='C0DEED', profile_sidebar_fill_color='DDEEF6', profile_text_color='333333', profile_use_background_image=True, has_extended_profile=True, default_profile=True, default_profile_image=False, following=False, follow_request_sent=False, notifications=False, translator_type='none', withheld_in_countries=[]), user=User(_api=<tweepy.api.API object at 0x7f7f3370fbd0>, _json={'id': 1312079228003778562, 'id_str': '1312079228003778562', 'name': 'VARADHARAJ S', 'screen_name': 'Varadha57780120', 'location': '', 'description': '', 'url': None, 'entities': {'description': {'urls': []}}, 'protected': False, 'followers_count': 0, 'friends_count': 3, 'listed_count': 0, 'created_at': 'Fri Oct 02 17:17:27 +0000 2020', 'favourites_count': 4, 'utc_offset': None, 'time_zone': None, 'geo_enabled': False, 'verified': False, 'statuses_count': 7, 'lang': None, 'contributors_enabled': False, 'is_translator': False, 'is_translation_enabled': False, 'profile_background_color': 'F5F8FA', 'profile_background_image_url': None, 'profile_background_image_url_https': None, 'profile_background_tile': False, 'profile_image_url': 'http://pbs.twimg.com/profile_images/1580563833604624386/PlsEiSn-_normal.jpg', 'profile_image_url_https': 'https://pbs.twimg.com/profile_images/1580563833604624386/PlsEiSn-_normal.jpg', 'profile_link_color': '1DA1F2', 'profile_sidebar_border_color': 'C0DEED', 'profile_sidebar_fill_color': 'DDEEF6', 'profile_text_color': '333333', 'profile_use_background_image': True, 'has_extended_profile': True, 'default_profile': True, 'default_profile_image': False, 'following': False, 'follow_request_sent': False, 'notifications': False, 'translator_type': 'none', 'withheld_in_countries': []}, id=1312079228003778562, id_str='1312079228003778562', name='VARADHARAJ S', screen_name='Varadha57780120', location='', description='', url=None, entities={'description': {'urls': []}}, protected=False, followers_count=0, friends_count=3, listed_count=0, created_at=datetime.datetime(2020, 10, 2, 17, 17, 27), favourites_count=4, utc_offset=None, time_zone=None, geo_enabled=False, verified=False, statuses_count=7, lang=None, contributors_enabled=False, is_translator=False, is_translation_enabled=False, profile_background_color='F5F8FA', profile_background_image_url=None, profile_background_image_url_https=None, profile_background_tile=False, profile_image_url='http://pbs.twimg.com/profile_images/1580563833604624386/PlsEiSn-_normal.jpg', profile_image_url_https='https://pbs.twimg.com/profile_images/1580563833604624386/PlsEiSn-_normal.jpg', profile_link_color='1DA1F2', profile_sidebar_border_color='C0DEED', profile_sidebar_fill_color='DDEEF6', profile_text_color='333333', profile_use_background_image=True, has_extended_profile=True, default_profile=True, default_profile_image=False, following=False, follow_request_sent=False, notifications=False, translator_type='none', withheld_in_countries=[]), geo=None, coordinates=None, place=None, contributors=None, is_quote_status=False, retweet_count=0, favorite_count=0, favorited=False, retweeted=False, lang='tl')"
            ]
          },
          "metadata": {},
          "execution_count": 8
        }
      ]
    },
    {
      "cell_type": "code",
      "source": [
        "# Search for tweets\n",
        "query=input(\"Enter keyword: \")\n",
        "searchresults=api.search(query)\n",
        "searchresults[0]"
      ],
      "metadata": {
        "colab": {
          "base_uri": "https://localhost:8080/"
        },
        "id": "oaiDnhcVLyzS",
        "outputId": "f1aee4d1-a025-4914-e3ff-f4eed06678e8"
      },
      "execution_count": 7,
      "outputs": [
        {
          "name": "stdout",
          "output_type": "stream",
          "text": [
            "Enter keyword: machine learning tutorial\n"
          ]
        },
        {
          "output_type": "execute_result",
          "data": {
            "text/plain": [
              "Status(_api=<tweepy.api.API object at 0x7f18431c39d0>, _json={'created_at': 'Wed Oct 19 12:47:24 +0000 2022', 'id': 1582715036526518272, 'id_str': '1582715036526518272', 'text': 'RT @KirkDBorne: Download Free eBook (47-page PDF) — The #Mathematics needed in preparation for an introductory class in #MachineLearning :…', 'truncated': False, 'entities': {'hashtags': [{'text': 'Mathematics', 'indices': [56, 68]}, {'text': 'MachineLearning', 'indices': [120, 136]}], 'symbols': [], 'user_mentions': [{'screen_name': 'KirkDBorne', 'name': 'Kirk Borne', 'id': 534563976, 'id_str': '534563976', 'indices': [3, 14]}], 'urls': []}, 'metadata': {'iso_language_code': 'en', 'result_type': 'recent'}, 'source': '<a href=\"https://mybot.twitter.com\" rel=\"nofollow\">AiSpaceBot</a>', 'in_reply_to_status_id': None, 'in_reply_to_status_id_str': None, 'in_reply_to_user_id': None, 'in_reply_to_user_id_str': None, 'in_reply_to_screen_name': None, 'user': {'id': 935446829730291717, 'id_str': '935446829730291717', 'name': 'godfrey™', 'screen_name': 'godfrey_G_', 'location': 'Johannesburg, South Africa', 'description': 'If our limited intelligence got us here imagine where unlimited A.I intelligence  can take us. Hi Am GeE and I am a Space fanatic and an AI believer.', 'url': None, 'entities': {'description': {'urls': []}}, 'protected': False, 'followers_count': 5699, 'friends_count': 47, 'listed_count': 84, 'created_at': 'Tue Nov 28 09:54:38 +0000 2017', 'favourites_count': 220787, 'utc_offset': None, 'time_zone': None, 'geo_enabled': False, 'verified': False, 'statuses_count': 673127, 'lang': None, 'contributors_enabled': False, 'is_translator': False, 'is_translation_enabled': False, 'profile_background_color': '000000', 'profile_background_image_url': 'http://abs.twimg.com/images/themes/theme1/bg.png', 'profile_background_image_url_https': 'https://abs.twimg.com/images/themes/theme1/bg.png', 'profile_background_tile': False, 'profile_image_url': 'http://pbs.twimg.com/profile_images/1331728812300767233/vplJ5zhZ_normal.jpg', 'profile_image_url_https': 'https://pbs.twimg.com/profile_images/1331728812300767233/vplJ5zhZ_normal.jpg', 'profile_banner_url': 'https://pbs.twimg.com/profile_banners/935446829730291717/1540381509', 'profile_link_color': '7FDBB6', 'profile_sidebar_border_color': '000000', 'profile_sidebar_fill_color': '000000', 'profile_text_color': '000000', 'profile_use_background_image': False, 'has_extended_profile': False, 'default_profile': False, 'default_profile_image': False, 'following': False, 'follow_request_sent': False, 'notifications': False, 'translator_type': 'none', 'withheld_in_countries': []}, 'geo': None, 'coordinates': None, 'place': None, 'contributors': None, 'retweeted_status': {'created_at': 'Tue Oct 18 21:50:22 +0000 2022', 'id': 1582489290948608000, 'id_str': '1582489290948608000', 'text': 'Download Free eBook (47-page PDF) — The #Mathematics needed in preparation for an introductory class in… https://t.co/k2KVuDubF1', 'truncated': True, 'entities': {'hashtags': [{'text': 'Mathematics', 'indices': [40, 52]}], 'symbols': [], 'user_mentions': [], 'urls': [{'url': 'https://t.co/k2KVuDubF1', 'expanded_url': 'https://twitter.com/i/web/status/1582489290948608000', 'display_url': 'twitter.com/i/web/status/1…', 'indices': [105, 128]}]}, 'metadata': {'iso_language_code': 'en', 'result_type': 'recent'}, 'source': '<a href=\"http://twitter.com/download/iphone\" rel=\"nofollow\">Twitter for iPhone</a>', 'in_reply_to_status_id': None, 'in_reply_to_status_id_str': None, 'in_reply_to_user_id': None, 'in_reply_to_user_id_str': None, 'in_reply_to_screen_name': None, 'user': {'id': 534563976, 'id_str': '534563976', 'name': 'Kirk Borne', 'screen_name': 'KirkDBorne', 'location': 'Maryland, USA', 'description': '@dataprime_ai  Data Scientist. Freelancer. Global Speaker. Founder/owner of @LeadershipData. Top #BigData #DataScience #AI #IoT #ML Influencer. PhD Astrophysics', 'url': 'https://t.co/g46xALu4Eu', 'entities': {'url': {'urls': [{'url': 'https://t.co/g46xALu4Eu', 'expanded_url': 'http://www.linkedin.com/in/kirkdborne', 'display_url': 'linkedin.com/in/kirkdborne', 'indices': [0, 23]}]}, 'description': {'urls': []}}, 'protected': False, 'followers_count': 366560, 'friends_count': 8598, 'listed_count': 9458, 'created_at': 'Fri Mar 23 16:35:17 +0000 2012', 'favourites_count': 222271, 'utc_offset': None, 'time_zone': None, 'geo_enabled': False, 'verified': True, 'statuses_count': 162251, 'lang': None, 'contributors_enabled': False, 'is_translator': False, 'is_translation_enabled': False, 'profile_background_color': 'C0DEED', 'profile_background_image_url': 'http://abs.twimg.com/images/themes/theme1/bg.png', 'profile_background_image_url_https': 'https://abs.twimg.com/images/themes/theme1/bg.png', 'profile_background_tile': True, 'profile_image_url': 'http://pbs.twimg.com/profile_images/1112733580948635648/s-8d1avb_normal.jpg', 'profile_image_url_https': 'https://pbs.twimg.com/profile_images/1112733580948635648/s-8d1avb_normal.jpg', 'profile_banner_url': 'https://pbs.twimg.com/profile_banners/534563976/1651617018', 'profile_link_color': '0084B4', 'profile_sidebar_border_color': 'FFFFFF', 'profile_sidebar_fill_color': 'DDEEF6', 'profile_text_color': '333333', 'profile_use_background_image': True, 'has_extended_profile': True, 'default_profile': False, 'default_profile_image': False, 'following': False, 'follow_request_sent': False, 'notifications': False, 'translator_type': 'none', 'withheld_in_countries': []}, 'geo': None, 'coordinates': None, 'place': None, 'contributors': None, 'is_quote_status': False, 'retweet_count': 32, 'favorite_count': 107, 'favorited': False, 'retweeted': False, 'possibly_sensitive': False, 'lang': 'en'}, 'is_quote_status': False, 'retweet_count': 32, 'favorite_count': 0, 'favorited': False, 'retweeted': False, 'lang': 'en'}, created_at=datetime.datetime(2022, 10, 19, 12, 47, 24), id=1582715036526518272, id_str='1582715036526518272', text='RT @KirkDBorne: Download Free eBook (47-page PDF) — The #Mathematics needed in preparation for an introductory class in #MachineLearning :…', truncated=False, entities={'hashtags': [{'text': 'Mathematics', 'indices': [56, 68]}, {'text': 'MachineLearning', 'indices': [120, 136]}], 'symbols': [], 'user_mentions': [{'screen_name': 'KirkDBorne', 'name': 'Kirk Borne', 'id': 534563976, 'id_str': '534563976', 'indices': [3, 14]}], 'urls': []}, metadata={'iso_language_code': 'en', 'result_type': 'recent'}, source='AiSpaceBot', source_url='https://mybot.twitter.com', in_reply_to_status_id=None, in_reply_to_status_id_str=None, in_reply_to_user_id=None, in_reply_to_user_id_str=None, in_reply_to_screen_name=None, author=User(_api=<tweepy.api.API object at 0x7f18431c39d0>, _json={'id': 935446829730291717, 'id_str': '935446829730291717', 'name': 'godfrey™', 'screen_name': 'godfrey_G_', 'location': 'Johannesburg, South Africa', 'description': 'If our limited intelligence got us here imagine where unlimited A.I intelligence  can take us. Hi Am GeE and I am a Space fanatic and an AI believer.', 'url': None, 'entities': {'description': {'urls': []}}, 'protected': False, 'followers_count': 5699, 'friends_count': 47, 'listed_count': 84, 'created_at': 'Tue Nov 28 09:54:38 +0000 2017', 'favourites_count': 220787, 'utc_offset': None, 'time_zone': None, 'geo_enabled': False, 'verified': False, 'statuses_count': 673127, 'lang': None, 'contributors_enabled': False, 'is_translator': False, 'is_translation_enabled': False, 'profile_background_color': '000000', 'profile_background_image_url': 'http://abs.twimg.com/images/themes/theme1/bg.png', 'profile_background_image_url_https': 'https://abs.twimg.com/images/themes/theme1/bg.png', 'profile_background_tile': False, 'profile_image_url': 'http://pbs.twimg.com/profile_images/1331728812300767233/vplJ5zhZ_normal.jpg', 'profile_image_url_https': 'https://pbs.twimg.com/profile_images/1331728812300767233/vplJ5zhZ_normal.jpg', 'profile_banner_url': 'https://pbs.twimg.com/profile_banners/935446829730291717/1540381509', 'profile_link_color': '7FDBB6', 'profile_sidebar_border_color': '000000', 'profile_sidebar_fill_color': '000000', 'profile_text_color': '000000', 'profile_use_background_image': False, 'has_extended_profile': False, 'default_profile': False, 'default_profile_image': False, 'following': False, 'follow_request_sent': False, 'notifications': False, 'translator_type': 'none', 'withheld_in_countries': []}, id=935446829730291717, id_str='935446829730291717', name='godfrey™', screen_name='godfrey_G_', location='Johannesburg, South Africa', description='If our limited intelligence got us here imagine where unlimited A.I intelligence  can take us. Hi Am GeE and I am a Space fanatic and an AI believer.', url=None, entities={'description': {'urls': []}}, protected=False, followers_count=5699, friends_count=47, listed_count=84, created_at=datetime.datetime(2017, 11, 28, 9, 54, 38), favourites_count=220787, utc_offset=None, time_zone=None, geo_enabled=False, verified=False, statuses_count=673127, lang=None, contributors_enabled=False, is_translator=False, is_translation_enabled=False, profile_background_color='000000', profile_background_image_url='http://abs.twimg.com/images/themes/theme1/bg.png', profile_background_image_url_https='https://abs.twimg.com/images/themes/theme1/bg.png', profile_background_tile=False, profile_image_url='http://pbs.twimg.com/profile_images/1331728812300767233/vplJ5zhZ_normal.jpg', profile_image_url_https='https://pbs.twimg.com/profile_images/1331728812300767233/vplJ5zhZ_normal.jpg', profile_banner_url='https://pbs.twimg.com/profile_banners/935446829730291717/1540381509', profile_link_color='7FDBB6', profile_sidebar_border_color='000000', profile_sidebar_fill_color='000000', profile_text_color='000000', profile_use_background_image=False, has_extended_profile=False, default_profile=False, default_profile_image=False, following=False, follow_request_sent=False, notifications=False, translator_type='none', withheld_in_countries=[]), user=User(_api=<tweepy.api.API object at 0x7f18431c39d0>, _json={'id': 935446829730291717, 'id_str': '935446829730291717', 'name': 'godfrey™', 'screen_name': 'godfrey_G_', 'location': 'Johannesburg, South Africa', 'description': 'If our limited intelligence got us here imagine where unlimited A.I intelligence  can take us. Hi Am GeE and I am a Space fanatic and an AI believer.', 'url': None, 'entities': {'description': {'urls': []}}, 'protected': False, 'followers_count': 5699, 'friends_count': 47, 'listed_count': 84, 'created_at': 'Tue Nov 28 09:54:38 +0000 2017', 'favourites_count': 220787, 'utc_offset': None, 'time_zone': None, 'geo_enabled': False, 'verified': False, 'statuses_count': 673127, 'lang': None, 'contributors_enabled': False, 'is_translator': False, 'is_translation_enabled': False, 'profile_background_color': '000000', 'profile_background_image_url': 'http://abs.twimg.com/images/themes/theme1/bg.png', 'profile_background_image_url_https': 'https://abs.twimg.com/images/themes/theme1/bg.png', 'profile_background_tile': False, 'profile_image_url': 'http://pbs.twimg.com/profile_images/1331728812300767233/vplJ5zhZ_normal.jpg', 'profile_image_url_https': 'https://pbs.twimg.com/profile_images/1331728812300767233/vplJ5zhZ_normal.jpg', 'profile_banner_url': 'https://pbs.twimg.com/profile_banners/935446829730291717/1540381509', 'profile_link_color': '7FDBB6', 'profile_sidebar_border_color': '000000', 'profile_sidebar_fill_color': '000000', 'profile_text_color': '000000', 'profile_use_background_image': False, 'has_extended_profile': False, 'default_profile': False, 'default_profile_image': False, 'following': False, 'follow_request_sent': False, 'notifications': False, 'translator_type': 'none', 'withheld_in_countries': []}, id=935446829730291717, id_str='935446829730291717', name='godfrey™', screen_name='godfrey_G_', location='Johannesburg, South Africa', description='If our limited intelligence got us here imagine where unlimited A.I intelligence  can take us. Hi Am GeE and I am a Space fanatic and an AI believer.', url=None, entities={'description': {'urls': []}}, protected=False, followers_count=5699, friends_count=47, listed_count=84, created_at=datetime.datetime(2017, 11, 28, 9, 54, 38), favourites_count=220787, utc_offset=None, time_zone=None, geo_enabled=False, verified=False, statuses_count=673127, lang=None, contributors_enabled=False, is_translator=False, is_translation_enabled=False, profile_background_color='000000', profile_background_image_url='http://abs.twimg.com/images/themes/theme1/bg.png', profile_background_image_url_https='https://abs.twimg.com/images/themes/theme1/bg.png', profile_background_tile=False, profile_image_url='http://pbs.twimg.com/profile_images/1331728812300767233/vplJ5zhZ_normal.jpg', profile_image_url_https='https://pbs.twimg.com/profile_images/1331728812300767233/vplJ5zhZ_normal.jpg', profile_banner_url='https://pbs.twimg.com/profile_banners/935446829730291717/1540381509', profile_link_color='7FDBB6', profile_sidebar_border_color='000000', profile_sidebar_fill_color='000000', profile_text_color='000000', profile_use_background_image=False, has_extended_profile=False, default_profile=False, default_profile_image=False, following=False, follow_request_sent=False, notifications=False, translator_type='none', withheld_in_countries=[]), geo=None, coordinates=None, place=None, contributors=None, retweeted_status=Status(_api=<tweepy.api.API object at 0x7f18431c39d0>, _json={'created_at': 'Tue Oct 18 21:50:22 +0000 2022', 'id': 1582489290948608000, 'id_str': '1582489290948608000', 'text': 'Download Free eBook (47-page PDF) — The #Mathematics needed in preparation for an introductory class in… https://t.co/k2KVuDubF1', 'truncated': True, 'entities': {'hashtags': [{'text': 'Mathematics', 'indices': [40, 52]}], 'symbols': [], 'user_mentions': [], 'urls': [{'url': 'https://t.co/k2KVuDubF1', 'expanded_url': 'https://twitter.com/i/web/status/1582489290948608000', 'display_url': 'twitter.com/i/web/status/1…', 'indices': [105, 128]}]}, 'metadata': {'iso_language_code': 'en', 'result_type': 'recent'}, 'source': '<a href=\"http://twitter.com/download/iphone\" rel=\"nofollow\">Twitter for iPhone</a>', 'in_reply_to_status_id': None, 'in_reply_to_status_id_str': None, 'in_reply_to_user_id': None, 'in_reply_to_user_id_str': None, 'in_reply_to_screen_name': None, 'user': {'id': 534563976, 'id_str': '534563976', 'name': 'Kirk Borne', 'screen_name': 'KirkDBorne', 'location': 'Maryland, USA', 'description': '@dataprime_ai  Data Scientist. Freelancer. Global Speaker. Founder/owner of @LeadershipData. Top #BigData #DataScience #AI #IoT #ML Influencer. PhD Astrophysics', 'url': 'https://t.co/g46xALu4Eu', 'entities': {'url': {'urls': [{'url': 'https://t.co/g46xALu4Eu', 'expanded_url': 'http://www.linkedin.com/in/kirkdborne', 'display_url': 'linkedin.com/in/kirkdborne', 'indices': [0, 23]}]}, 'description': {'urls': []}}, 'protected': False, 'followers_count': 366560, 'friends_count': 8598, 'listed_count': 9458, 'created_at': 'Fri Mar 23 16:35:17 +0000 2012', 'favourites_count': 222271, 'utc_offset': None, 'time_zone': None, 'geo_enabled': False, 'verified': True, 'statuses_count': 162251, 'lang': None, 'contributors_enabled': False, 'is_translator': False, 'is_translation_enabled': False, 'profile_background_color': 'C0DEED', 'profile_background_image_url': 'http://abs.twimg.com/images/themes/theme1/bg.png', 'profile_background_image_url_https': 'https://abs.twimg.com/images/themes/theme1/bg.png', 'profile_background_tile': True, 'profile_image_url': 'http://pbs.twimg.com/profile_images/1112733580948635648/s-8d1avb_normal.jpg', 'profile_image_url_https': 'https://pbs.twimg.com/profile_images/1112733580948635648/s-8d1avb_normal.jpg', 'profile_banner_url': 'https://pbs.twimg.com/profile_banners/534563976/1651617018', 'profile_link_color': '0084B4', 'profile_sidebar_border_color': 'FFFFFF', 'profile_sidebar_fill_color': 'DDEEF6', 'profile_text_color': '333333', 'profile_use_background_image': True, 'has_extended_profile': True, 'default_profile': False, 'default_profile_image': False, 'following': False, 'follow_request_sent': False, 'notifications': False, 'translator_type': 'none', 'withheld_in_countries': []}, 'geo': None, 'coordinates': None, 'place': None, 'contributors': None, 'is_quote_status': False, 'retweet_count': 32, 'favorite_count': 107, 'favorited': False, 'retweeted': False, 'possibly_sensitive': False, 'lang': 'en'}, created_at=datetime.datetime(2022, 10, 18, 21, 50, 22), id=1582489290948608000, id_str='1582489290948608000', text='Download Free eBook (47-page PDF) — The #Mathematics needed in preparation for an introductory class in… https://t.co/k2KVuDubF1', truncated=True, entities={'hashtags': [{'text': 'Mathematics', 'indices': [40, 52]}], 'symbols': [], 'user_mentions': [], 'urls': [{'url': 'https://t.co/k2KVuDubF1', 'expanded_url': 'https://twitter.com/i/web/status/1582489290948608000', 'display_url': 'twitter.com/i/web/status/1…', 'indices': [105, 128]}]}, metadata={'iso_language_code': 'en', 'result_type': 'recent'}, source='Twitter for iPhone', source_url='http://twitter.com/download/iphone', in_reply_to_status_id=None, in_reply_to_status_id_str=None, in_reply_to_user_id=None, in_reply_to_user_id_str=None, in_reply_to_screen_name=None, author=User(_api=<tweepy.api.API object at 0x7f18431c39d0>, _json={'id': 534563976, 'id_str': '534563976', 'name': 'Kirk Borne', 'screen_name': 'KirkDBorne', 'location': 'Maryland, USA', 'description': '@dataprime_ai  Data Scientist. Freelancer. Global Speaker. Founder/owner of @LeadershipData. Top #BigData #DataScience #AI #IoT #ML Influencer. PhD Astrophysics', 'url': 'https://t.co/g46xALu4Eu', 'entities': {'url': {'urls': [{'url': 'https://t.co/g46xALu4Eu', 'expanded_url': 'http://www.linkedin.com/in/kirkdborne', 'display_url': 'linkedin.com/in/kirkdborne', 'indices': [0, 23]}]}, 'description': {'urls': []}}, 'protected': False, 'followers_count': 366560, 'friends_count': 8598, 'listed_count': 9458, 'created_at': 'Fri Mar 23 16:35:17 +0000 2012', 'favourites_count': 222271, 'utc_offset': None, 'time_zone': None, 'geo_enabled': False, 'verified': True, 'statuses_count': 162251, 'lang': None, 'contributors_enabled': False, 'is_translator': False, 'is_translation_enabled': False, 'profile_background_color': 'C0DEED', 'profile_background_image_url': 'http://abs.twimg.com/images/themes/theme1/bg.png', 'profile_background_image_url_https': 'https://abs.twimg.com/images/themes/theme1/bg.png', 'profile_background_tile': True, 'profile_image_url': 'http://pbs.twimg.com/profile_images/1112733580948635648/s-8d1avb_normal.jpg', 'profile_image_url_https': 'https://pbs.twimg.com/profile_images/1112733580948635648/s-8d1avb_normal.jpg', 'profile_banner_url': 'https://pbs.twimg.com/profile_banners/534563976/1651617018', 'profile_link_color': '0084B4', 'profile_sidebar_border_color': 'FFFFFF', 'profile_sidebar_fill_color': 'DDEEF6', 'profile_text_color': '333333', 'profile_use_background_image': True, 'has_extended_profile': True, 'default_profile': False, 'default_profile_image': False, 'following': False, 'follow_request_sent': False, 'notifications': False, 'translator_type': 'none', 'withheld_in_countries': []}, id=534563976, id_str='534563976', name='Kirk Borne', screen_name='KirkDBorne', location='Maryland, USA', description='@dataprime_ai  Data Scientist. Freelancer. Global Speaker. Founder/owner of @LeadershipData. Top #BigData #DataScience #AI #IoT #ML Influencer. PhD Astrophysics', url='https://t.co/g46xALu4Eu', entities={'url': {'urls': [{'url': 'https://t.co/g46xALu4Eu', 'expanded_url': 'http://www.linkedin.com/in/kirkdborne', 'display_url': 'linkedin.com/in/kirkdborne', 'indices': [0, 23]}]}, 'description': {'urls': []}}, protected=False, followers_count=366560, friends_count=8598, listed_count=9458, created_at=datetime.datetime(2012, 3, 23, 16, 35, 17), favourites_count=222271, utc_offset=None, time_zone=None, geo_enabled=False, verified=True, statuses_count=162251, lang=None, contributors_enabled=False, is_translator=False, is_translation_enabled=False, profile_background_color='C0DEED', profile_background_image_url='http://abs.twimg.com/images/themes/theme1/bg.png', profile_background_image_url_https='https://abs.twimg.com/images/themes/theme1/bg.png', profile_background_tile=True, profile_image_url='http://pbs.twimg.com/profile_images/1112733580948635648/s-8d1avb_normal.jpg', profile_image_url_https='https://pbs.twimg.com/profile_images/1112733580948635648/s-8d1avb_normal.jpg', profile_banner_url='https://pbs.twimg.com/profile_banners/534563976/1651617018', profile_link_color='0084B4', profile_sidebar_border_color='FFFFFF', profile_sidebar_fill_color='DDEEF6', profile_text_color='333333', profile_use_background_image=True, has_extended_profile=True, default_profile=False, default_profile_image=False, following=False, follow_request_sent=False, notifications=False, translator_type='none', withheld_in_countries=[]), user=User(_api=<tweepy.api.API object at 0x7f18431c39d0>, _json={'id': 534563976, 'id_str': '534563976', 'name': 'Kirk Borne', 'screen_name': 'KirkDBorne', 'location': 'Maryland, USA', 'description': '@dataprime_ai  Data Scientist. Freelancer. Global Speaker. Founder/owner of @LeadershipData. Top #BigData #DataScience #AI #IoT #ML Influencer. PhD Astrophysics', 'url': 'https://t.co/g46xALu4Eu', 'entities': {'url': {'urls': [{'url': 'https://t.co/g46xALu4Eu', 'expanded_url': 'http://www.linkedin.com/in/kirkdborne', 'display_url': 'linkedin.com/in/kirkdborne', 'indices': [0, 23]}]}, 'description': {'urls': []}}, 'protected': False, 'followers_count': 366560, 'friends_count': 8598, 'listed_count': 9458, 'created_at': 'Fri Mar 23 16:35:17 +0000 2012', 'favourites_count': 222271, 'utc_offset': None, 'time_zone': None, 'geo_enabled': False, 'verified': True, 'statuses_count': 162251, 'lang': None, 'contributors_enabled': False, 'is_translator': False, 'is_translation_enabled': False, 'profile_background_color': 'C0DEED', 'profile_background_image_url': 'http://abs.twimg.com/images/themes/theme1/bg.png', 'profile_background_image_url_https': 'https://abs.twimg.com/images/themes/theme1/bg.png', 'profile_background_tile': True, 'profile_image_url': 'http://pbs.twimg.com/profile_images/1112733580948635648/s-8d1avb_normal.jpg', 'profile_image_url_https': 'https://pbs.twimg.com/profile_images/1112733580948635648/s-8d1avb_normal.jpg', 'profile_banner_url': 'https://pbs.twimg.com/profile_banners/534563976/1651617018', 'profile_link_color': '0084B4', 'profile_sidebar_border_color': 'FFFFFF', 'profile_sidebar_fill_color': 'DDEEF6', 'profile_text_color': '333333', 'profile_use_background_image': True, 'has_extended_profile': True, 'default_profile': False, 'default_profile_image': False, 'following': False, 'follow_request_sent': False, 'notifications': False, 'translator_type': 'none', 'withheld_in_countries': []}, id=534563976, id_str='534563976', name='Kirk Borne', screen_name='KirkDBorne', location='Maryland, USA', description='@dataprime_ai  Data Scientist. Freelancer. Global Speaker. Founder/owner of @LeadershipData. Top #BigData #DataScience #AI #IoT #ML Influencer. PhD Astrophysics', url='https://t.co/g46xALu4Eu', entities={'url': {'urls': [{'url': 'https://t.co/g46xALu4Eu', 'expanded_url': 'http://www.linkedin.com/in/kirkdborne', 'display_url': 'linkedin.com/in/kirkdborne', 'indices': [0, 23]}]}, 'description': {'urls': []}}, protected=False, followers_count=366560, friends_count=8598, listed_count=9458, created_at=datetime.datetime(2012, 3, 23, 16, 35, 17), favourites_count=222271, utc_offset=None, time_zone=None, geo_enabled=False, verified=True, statuses_count=162251, lang=None, contributors_enabled=False, is_translator=False, is_translation_enabled=False, profile_background_color='C0DEED', profile_background_image_url='http://abs.twimg.com/images/themes/theme1/bg.png', profile_background_image_url_https='https://abs.twimg.com/images/themes/theme1/bg.png', profile_background_tile=True, profile_image_url='http://pbs.twimg.com/profile_images/1112733580948635648/s-8d1avb_normal.jpg', profile_image_url_https='https://pbs.twimg.com/profile_images/1112733580948635648/s-8d1avb_normal.jpg', profile_banner_url='https://pbs.twimg.com/profile_banners/534563976/1651617018', profile_link_color='0084B4', profile_sidebar_border_color='FFFFFF', profile_sidebar_fill_color='DDEEF6', profile_text_color='333333', profile_use_background_image=True, has_extended_profile=True, default_profile=False, default_profile_image=False, following=False, follow_request_sent=False, notifications=False, translator_type='none', withheld_in_countries=[]), geo=None, coordinates=None, place=None, contributors=None, is_quote_status=False, retweet_count=32, favorite_count=107, favorited=False, retweeted=False, possibly_sensitive=False, lang='en'), is_quote_status=False, retweet_count=32, favorite_count=0, favorited=False, retweeted=False, lang='en')"
            ]
          },
          "metadata": {},
          "execution_count": 7
        }
      ]
    },
    {
      "cell_type": "code",
      "source": [
        "for searchresult in searchresults:\n",
        "  print(\"Date: \",searchresult.created_at)\n",
        "  print(\"Text: \",searchresult.text)"
      ],
      "metadata": {
        "colab": {
          "base_uri": "https://localhost:8080/"
        },
        "id": "hWmbmNsESNJv",
        "outputId": "63979483-bfed-4f9c-9cd2-f5305161457b"
      },
      "execution_count": 9,
      "outputs": [
        {
          "output_type": "stream",
          "name": "stdout",
          "text": [
            "Date:  2022-10-19 12:47:24\n",
            "Text:  RT @KirkDBorne: Download Free eBook (47-page PDF) — The #Mathematics needed in preparation for an introductory class in #MachineLearning :…\n",
            "Date:  2022-10-19 12:43:28\n",
            "Text:  RT @KirkDBorne: Download Free eBook (47-page PDF) — The #Mathematics needed in preparation for an introductory class in #MachineLearning :…\n",
            "Date:  2022-10-19 12:42:37\n",
            "Text:  RT @KirkDBorne: Download Free eBook (47-page PDF) — The #Mathematics needed in preparation for an introductory class in #MachineLearning :…\n",
            "Date:  2022-10-19 12:28:54\n",
            "Text:  #FEATURED #COURSES\n",
            "\n",
            "Machine Learning, Data Science and Deep Learning with Python\n",
            "\n",
            "Complete hands-on #machine… https://t.co/kvgQSOQGFf\n",
            "Date:  2022-10-19 12:04:16\n",
            "Text:  RT @KirkDBorne: Download Free eBook (47-page PDF) — The #Mathematics needed in preparation for an introductory class in #MachineLearning :…\n",
            "Date:  2022-10-19 10:34:57\n",
            "Text:  RT @KirkDBorne: Download Free eBook (47-page PDF) — The #Mathematics needed in preparation for an introductory class in #MachineLearning :…\n",
            "Date:  2022-10-19 10:28:45\n",
            "Text:  RT @byLilyV: #FEATURED #COURSES\n",
            "\n",
            "Machine Learning, Data Science and Deep Learning with Python\n",
            "\n",
            "Complete hands-on #machine #learning tutoria…\n",
            "Date:  2022-10-19 10:28:43\n",
            "Text:  #FEATURED #COURSES\n",
            "\n",
            "Machine Learning, Data Science and Deep Learning with Python\n",
            "\n",
            "Complete hands-on #machine… https://t.co/aoxTbVWDqB\n",
            "Date:  2022-10-19 10:07:31\n",
            "Text:  RT @KirkDBorne: Download Free eBook (47-page PDF) — The #Mathematics needed in preparation for an introductory class in #MachineLearning :…\n",
            "Date:  2022-10-19 09:47:16\n",
            "Text:  RT @KirkDBorne: Download Free eBook (47-page PDF) — The #Mathematics needed in preparation for an introductory class in #MachineLearning :…\n",
            "Date:  2022-10-19 09:24:58\n",
            "Text:  RT @KirkDBorne: Download Free eBook (47-page PDF) — The #Mathematics needed in preparation for an introductory class in #MachineLearning :…\n",
            "Date:  2022-10-19 09:12:03\n",
            "Text:  A gentle tutorial on kernel methods and NTK.\n",
            "\n",
            "6.S088 Modern Machine Learning: Simple Methods that Work\n",
            "https://t.co/e5z24RW08u\n",
            "Date:  2022-10-19 08:42:11\n",
            "Text:  RT @michael_ragone_: How can we use symmetry to do better quantum machine learning (QML)? Excited to announce our new preprint https://t.co…\n",
            "Date:  2022-10-19 08:28:57\n",
            "Text:  RT @byLilyV: #FEATURED #COURSES\n",
            "\n",
            "Machine Learning, Data Science and Deep Learning with Python\n",
            "\n",
            "Complete hands-on #machine #learning tutoria…\n",
            "Date:  2022-10-19 08:28:43\n",
            "Text:  #FEATURED #COURSES\n",
            "\n",
            "Machine Learning, Data Science and Deep Learning with Python\n",
            "\n",
            "Complete hands-on #machine… https://t.co/Ra452K2Plz\n"
          ]
        }
      ]
    }
  ]
}