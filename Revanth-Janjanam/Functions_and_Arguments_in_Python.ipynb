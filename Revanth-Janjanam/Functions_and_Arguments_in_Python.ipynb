{
  "nbformat": 4,
  "nbformat_minor": 0,
  "metadata": {
    "colab": {
      "provenance": [],
      "collapsed_sections": []
    },
    "kernelspec": {
      "name": "python3",
      "display_name": "Python 3"
    },
    "language_info": {
      "name": "python"
    }
  },
  "cells": [
    {
      "cell_type": "code",
      "execution_count": 4,
      "metadata": {
        "id": "gBhiWeuTkN2j"
      },
      "outputs": [],
      "source": [
        "#Defining the function\n",
        "def functionName(parameters):\n",
        "  \"Document string for the function\"\n",
        "\n",
        "#call the function\n",
        "param = 1 #sample parameter tfor example\n",
        "functionName(param)"
      ]
    },
    {
      "cell_type": "code",
      "source": [
        "#Method 1 :Define a function to add two values\n",
        "def add(a,b):\n",
        "  \"\"\"Add two numbers and returns added value\n",
        "  for Example:\n",
        "    add(2,5)=>7 \n",
        "  \"\"\"\n",
        "  return a+b"
      ],
      "metadata": {
        "id": "DCG2zg-UlJNC"
      },
      "execution_count": 5,
      "outputs": []
    },
    {
      "cell_type": "code",
      "source": [
        "add(2,5)"
      ],
      "metadata": {
        "colab": {
          "base_uri": "https://localhost:8080/"
        },
        "id": "QJwJm0H0oIH0",
        "outputId": "d7813cf7-6cf4-4f96-f18d-857146cff4b8"
      },
      "execution_count": 6,
      "outputs": [
        {
          "output_type": "execute_result",
          "data": {
            "text/plain": [
              "7"
            ]
          },
          "metadata": {},
          "execution_count": 6
        }
      ]
    },
    {
      "cell_type": "code",
      "source": [
        "print(\"Addition of 10 and 2567 is\",add(10,2567))"
      ],
      "metadata": {
        "colab": {
          "base_uri": "https://localhost:8080/"
        },
        "id": "jmho19GEoJ_n",
        "outputId": "6bf0b7c6-2d9d-4ad4-8b1e-ec81f6d2c656"
      },
      "execution_count": 7,
      "outputs": [
        {
          "output_type": "stream",
          "name": "stdout",
          "text": [
            "Addition of 10 and 2567 is 2577\n"
          ]
        }
      ]
    },
    {
      "cell_type": "code",
      "source": [
        "#Method 1: Execute the function but doesnot return a value\n",
        "def add1(a,b):\n",
        "  \"Add two values and print, but no return values\"\n",
        "  print(a+b)"
      ],
      "metadata": {
        "id": "67mdnowVoTD7"
      },
      "execution_count": 8,
      "outputs": []
    },
    {
      "cell_type": "code",
      "source": [
        "add1(30,45)"
      ],
      "metadata": {
        "colab": {
          "base_uri": "https://localhost:8080/"
        },
        "id": "suOWISZfovMV",
        "outputId": "c9808238-17eb-41c5-f394-30aea70720ae"
      },
      "execution_count": 9,
      "outputs": [
        {
          "output_type": "stream",
          "name": "stdout",
          "text": [
            "75\n"
          ]
        }
      ]
    },
    {
      "cell_type": "code",
      "source": [
        "ans1 = add(10,20)#Returns Integer value\n",
        "ans2 = add1(10,20)#Returns None"
      ],
      "metadata": {
        "colab": {
          "base_uri": "https://localhost:8080/"
        },
        "id": "wGoeZDrFoxCc",
        "outputId": "ee0e577a-f231-4ce5-c1eb-127f8c2ca7d9"
      },
      "execution_count": 10,
      "outputs": [
        {
          "output_type": "stream",
          "name": "stdout",
          "text": [
            "30\n"
          ]
        }
      ]
    },
    {
      "cell_type": "code",
      "source": [
        "print(ans1)"
      ],
      "metadata": {
        "colab": {
          "base_uri": "https://localhost:8080/"
        },
        "id": "8UMV7rYko3Gt",
        "outputId": "f72448dd-2b68-4ef1-ff8f-e148fdd12c3f"
      },
      "execution_count": 11,
      "outputs": [
        {
          "output_type": "stream",
          "name": "stdout",
          "text": [
            "30\n"
          ]
        }
      ]
    },
    {
      "cell_type": "code",
      "source": [
        "print(ans2)"
      ],
      "metadata": {
        "colab": {
          "base_uri": "https://localhost:8080/"
        },
        "id": "E3ijeXQ4o44E",
        "outputId": "e7fa2489-68d9-40a6-db49-7c1d6d370b59"
      },
      "execution_count": 12,
      "outputs": [
        {
          "output_type": "stream",
          "name": "stdout",
          "text": [
            "None\n"
          ]
        }
      ]
    },
    {
      "cell_type": "code",
      "source": [
        "add(1,2,3)"
      ],
      "metadata": {
        "colab": {
          "base_uri": "https://localhost:8080/",
          "height": 165
        },
        "id": "LfgjIoMao6rY",
        "outputId": "022a59dc-428b-4cfb-98a8-79aaa6b94146"
      },
      "execution_count": 14,
      "outputs": [
        {
          "output_type": "error",
          "ename": "TypeError",
          "evalue": "ignored",
          "traceback": [
            "\u001b[0;31m---------------------------------------------------------------------------\u001b[0m",
            "\u001b[0;31mTypeError\u001b[0m                                 Traceback (most recent call last)",
            "\u001b[0;32m<ipython-input-14-ff1b6584ceb8>\u001b[0m in \u001b[0;36m<module>\u001b[0;34m\u001b[0m\n\u001b[0;32m----> 1\u001b[0;31m \u001b[0madd\u001b[0m\u001b[0;34m(\u001b[0m\u001b[0;36m1\u001b[0m\u001b[0;34m,\u001b[0m\u001b[0;36m2\u001b[0m\u001b[0;34m,\u001b[0m\u001b[0;36m3\u001b[0m\u001b[0;34m)\u001b[0m\u001b[0;34m\u001b[0m\u001b[0;34m\u001b[0m\u001b[0m\n\u001b[0m",
            "\u001b[0;31mTypeError\u001b[0m: add() takes 2 positional arguments but 3 were given"
          ]
        }
      ]
    },
    {
      "cell_type": "code",
      "source": [
        "#when you have arguments without a defined count\n",
        "#make a simple application to add a new admission\n",
        "\n",
        "def newAdmission(studentName,studentClass=10,studentGroup=\"Red\"):\n",
        "  print(\"Student added\",studentName,studentClass,studentGroup)"
      ],
      "metadata": {
        "id": "iuMvmYRwpQJy"
      },
      "execution_count": 15,
      "outputs": []
    },
    {
      "cell_type": "code",
      "source": [
        "#call the function in the first way - No parameter\n",
        "newAdmission()"
      ],
      "metadata": {
        "colab": {
          "base_uri": "https://localhost:8080/",
          "height": 182
        },
        "id": "UE3oYSvhq4eJ",
        "outputId": "29e69a79-1b6d-49e3-d1a2-4bda3e16084b"
      },
      "execution_count": 16,
      "outputs": [
        {
          "output_type": "error",
          "ename": "TypeError",
          "evalue": "ignored",
          "traceback": [
            "\u001b[0;31m---------------------------------------------------------------------------\u001b[0m",
            "\u001b[0;31mTypeError\u001b[0m                                 Traceback (most recent call last)",
            "\u001b[0;32m<ipython-input-16-a26f2bed1df3>\u001b[0m in \u001b[0;36m<module>\u001b[0;34m\u001b[0m\n\u001b[1;32m      1\u001b[0m \u001b[0;31m#call the function in the first way - No parameter\u001b[0m\u001b[0;34m\u001b[0m\u001b[0;34m\u001b[0m\u001b[0;34m\u001b[0m\u001b[0m\n\u001b[0;32m----> 2\u001b[0;31m \u001b[0mnewAdmission\u001b[0m\u001b[0;34m(\u001b[0m\u001b[0;34m)\u001b[0m\u001b[0;34m\u001b[0m\u001b[0;34m\u001b[0m\u001b[0m\n\u001b[0m",
            "\u001b[0;31mTypeError\u001b[0m: newAdmission() missing 1 required positional argument: 'studentName'"
          ]
        }
      ]
    },
    {
      "cell_type": "code",
      "source": [
        "#Give the positional argument\n",
        "newAdmission(\"Revanth Janjanam\")"
      ],
      "metadata": {
        "colab": {
          "base_uri": "https://localhost:8080/"
        },
        "id": "qeFLslJ9rBe3",
        "outputId": "dcb24b20-5edc-4d95-e6c0-d1c15472c296"
      },
      "execution_count": 18,
      "outputs": [
        {
          "output_type": "stream",
          "name": "stdout",
          "text": [
            "Student added Revanth Janjanam 10 Red\n"
          ]
        }
      ]
    },
    {
      "cell_type": "code",
      "source": [
        "newAdmission(\"Jaideep\",studentGroup=\"Blue\")"
      ],
      "metadata": {
        "colab": {
          "base_uri": "https://localhost:8080/"
        },
        "id": "dD5l8BovrMzd",
        "outputId": "8ed9830a-d7b5-4371-a2d4-ac297ac179dc"
      },
      "execution_count": 21,
      "outputs": [
        {
          "output_type": "stream",
          "name": "stdout",
          "text": [
            "Student added Jaideep 10 Blue\n"
          ]
        }
      ]
    },
    {
      "cell_type": "code",
      "source": [
        "newAdmission(studentClass=11,studentName=\"Revanth\")"
      ],
      "metadata": {
        "colab": {
          "base_uri": "https://localhost:8080/"
        },
        "id": "YCyGQArrrYEM",
        "outputId": "16eae9c2-8c50-4abc-b51c-717a58082751"
      },
      "execution_count": 22,
      "outputs": [
        {
          "output_type": "stream",
          "name": "stdout",
          "text": [
            "Student added Revanth 11 Red\n"
          ]
        }
      ]
    },
    {
      "cell_type": "code",
      "source": [
        "#Defining the arguments list\n",
        "\n",
        "#create an application to make a team and add players\n",
        "player_list = []\n",
        "def ipl_team(teamName,*players):\n",
        "  for player in players:\n",
        "    player_list.append(player)\n",
        "  print(\"IPL team:\",teamName,\"Playerlist:\",player_list)\n"
      ],
      "metadata": {
        "id": "LhUg6SOOrpzr"
      },
      "execution_count": 28,
      "outputs": []
    },
    {
      "cell_type": "code",
      "source": [
        "ipl_team(\"RCB\",\"Navadeep Saini\",\"AB de villiers\",\"Finn Allen\",\"Virat Kohli\")"
      ],
      "metadata": {
        "colab": {
          "base_uri": "https://localhost:8080/"
        },
        "id": "1X6HUGCEszYK",
        "outputId": "7a3feae5-86c7-44ff-d3c9-b24cf963761c"
      },
      "execution_count": 29,
      "outputs": [
        {
          "output_type": "stream",
          "name": "stdout",
          "text": [
            "IPL team: RCB Playerlist: ['Navadeep Saini', 'AB de villiers', 'Finn Allen', 'Virat Kohli']\n"
          ]
        }
      ]
    },
    {
      "cell_type": "code",
      "source": [
        "#\"Navdeep Saini\"=\"Bowler\"\n",
        "def ipl_players(**players):\n",
        "  for player in players:\n",
        "    print(\"Player Name: \",player,\"Role:\",players[player])"
      ],
      "metadata": {
        "id": "xf1dYG68tEiV"
      },
      "execution_count": 33,
      "outputs": []
    },
    {
      "cell_type": "code",
      "source": [
        "ipl_players(Navdeep_saini=\"Bowler\",\n",
        "            Virat_Kohli=\"Batsman\",\n",
        "            Glenn_Maxwell=\"All-rounder\")"
      ],
      "metadata": {
        "colab": {
          "base_uri": "https://localhost:8080/"
        },
        "id": "Q6-XHK-Vt-3T",
        "outputId": "9795cb9c-4493-48b2-f28b-1a67c14b9d10"
      },
      "execution_count": 36,
      "outputs": [
        {
          "output_type": "stream",
          "name": "stdout",
          "text": [
            "Player Name:  Navdeep_saini Role: Bowler\n",
            "Player Name:  Virat_Kohli Role: Batsman\n",
            "Player Name:  Glenn_Maxwell Role: All-rounder\n"
          ]
        }
      ]
    },
    {
      "cell_type": "code",
      "source": [],
      "metadata": {
        "id": "gz29bJKeuW4k"
      },
      "execution_count": null,
      "outputs": []
    }
  ]
}