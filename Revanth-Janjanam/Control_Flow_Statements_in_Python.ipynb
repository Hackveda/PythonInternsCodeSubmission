{
  "nbformat": 4,
  "nbformat_minor": 0,
  "metadata": {
    "colab": {
      "provenance": [],
      "collapsed_sections": []
    },
    "kernelspec": {
      "name": "python3",
      "display_name": "Python 3"
    },
    "language_info": {
      "name": "python"
    }
  },
  "cells": [
    {
      "cell_type": "code",
      "execution_count": 14,
      "metadata": {
        "colab": {
          "base_uri": "https://localhost:8080/"
        },
        "id": "A82HtJDl9Lsp",
        "outputId": "a8e1631e-22c4-4bdf-aa02-5c81e1f87a1e"
      },
      "outputs": [
        {
          "output_type": "stream",
          "name": "stdout",
          "text": [
            "Variable values 0 1 2 3\n"
          ]
        }
      ],
      "source": [
        "a = 0\n",
        "b = 1\n",
        "c , d = 2 , 3 #Multiple variable assignment\n",
        "\n",
        "print(\"Variable values\",a,b,c,d)"
      ]
    },
    {
      "cell_type": "code",
      "source": [
        "while a < 10:\n",
        "  print(a)\n",
        "  a , b = b , a+b"
      ],
      "metadata": {
        "colab": {
          "base_uri": "https://localhost:8080/"
        },
        "id": "-grWuIAF9wmQ",
        "outputId": "fd024d8f-b1bf-49f0-844e-af814d3feb45"
      },
      "execution_count": 15,
      "outputs": [
        {
          "output_type": "stream",
          "name": "stdout",
          "text": [
            "0\n",
            "1\n",
            "1\n",
            "2\n",
            "3\n",
            "5\n",
            "8\n"
          ]
        }
      ]
    },
    {
      "cell_type": "code",
      "source": [
        "#simple grade system application\n",
        "# 91-100 = A ,81-90 = B,71-80 = C, Below or equal 70 = Fail\n",
        "\n",
        "#Take input from the user\n",
        "marks = int(input(\"Enter your marks : \"))\n",
        "\n",
        "#Conditional Flow Implementation using IF\n",
        "if marks >=91:\n",
        "  print(\"Grade A\")\n",
        "elif marks >=81:\n",
        "  print(\"Grade B\")\n",
        "elif marks >= 71:\n",
        "  print(\"Grade C\")\n",
        "else:\n",
        "   print(\"Failed Score\")\n"
      ],
      "metadata": {
        "colab": {
          "base_uri": "https://localhost:8080/"
        },
        "id": "m_xeNbUD-AF9",
        "outputId": "1955fb21-ad09-408a-d900-a4192d7259ef"
      },
      "execution_count": 16,
      "outputs": [
        {
          "output_type": "stream",
          "name": "stdout",
          "text": [
            "Enter your marks : 93\n",
            "Grade A\n"
          ]
        }
      ]
    },
    {
      "cell_type": "code",
      "source": [
        "#switch Implementation of If\n",
        "#ATM MACHINE APPLICATION\n",
        "cardno = input(\"Enter card: \")\n",
        "print(\"\"\"\n",
        "\n",
        "select you option no\n",
        "\n",
        "1.Banking\n",
        "2.Banking Statement\n",
        "3.Pin Change\n",
        "4.Fast withdrawl\n",
        "\n",
        "\"\"\")\n",
        "option = int(input(\"Enter option no: \"))\n",
        "\n",
        "#Switch Implementation\n",
        "if option ==1:\n",
        "  print(\"Welcome to Banking Mode\")\n",
        "elif option ==2:\n",
        "  print(\"Print Bank Statement\")\n",
        "elif option==3:\n",
        "  print(\"PIN change Menu\")\n",
        "elif option == 4:\n",
        "  print(\"Fast Withdrawl\")\n",
        "else:\n",
        "  print(\"Please check the correct option\")"
      ],
      "metadata": {
        "colab": {
          "base_uri": "https://localhost:8080/"
        },
        "id": "hEOtw9nv_B7X",
        "outputId": "77cca6e4-471f-4621-e090-9a484bbe1320"
      },
      "execution_count": 17,
      "outputs": [
        {
          "output_type": "stream",
          "name": "stdout",
          "text": [
            "Enter card: 12345678990\n",
            "\n",
            "\n",
            "select you option no\n",
            "\n",
            "1.Banking\n",
            "2.Banking Statement\n",
            "3.Pin Change\n",
            "4.Fast withdrawl\n",
            "\n",
            "\n",
            "Enter option no: 1\n",
            "Welcome to Banking Mode\n"
          ]
        }
      ]
    },
    {
      "cell_type": "code",
      "source": [
        "#for statements in Python\n",
        "#Railway Reservation Application\n",
        "\n",
        "queue = [\"Palak\",\"jaideep\",\"Revanth\",\"Devanshu\"]\n",
        "\n",
        "#start making tickets for this queue using FOR statement\n",
        "for traveller_name in queue:\n",
        "  print(\"Make ticket for\",traveller_name)\n",
        "  print(\"Ticket issued for\",traveller_name)\n",
        "print(\"All travellers ticket made\")\n"
      ],
      "metadata": {
        "colab": {
          "base_uri": "https://localhost:8080/"
        },
        "id": "DW7xxifEBoE4",
        "outputId": "a761b486-09e2-4216-ad5e-bce4c87e2310"
      },
      "execution_count": 18,
      "outputs": [
        {
          "output_type": "stream",
          "name": "stdout",
          "text": [
            "Make ticket for Palak\n",
            "Ticket issued for Palak\n",
            "Make ticket for jaideep\n",
            "Ticket issued for jaideep\n",
            "Make ticket for Revanth\n",
            "Ticket issued for Revanth\n",
            "Make ticket for Devanshu\n",
            "Ticket issued for Devanshu\n",
            "All travellers ticket made\n"
          ]
        }
      ]
    },
    {
      "cell_type": "code",
      "source": [
        "#ADD ALL THE items in a basket starting from character B\n",
        "items = [\"Banana\",\"Apple\",\"Bhindi\",\"Juice\",\"Brinjal\",\"Burger\",\"Coffee\",\"Milk\",\"Butter\"]\n",
        "\n",
        "basket = []\n",
        "for i in items:\n",
        "  if i[0] == 'B':\n",
        "    basket.append(i)\n",
        "basket"
      ],
      "metadata": {
        "colab": {
          "base_uri": "https://localhost:8080/"
        },
        "id": "-3iT7-G4c-1v",
        "outputId": "beb1dff2-67a5-4953-8d08-c4e815697fb3"
      },
      "execution_count": 19,
      "outputs": [
        {
          "output_type": "execute_result",
          "data": {
            "text/plain": [
              "['Banana', 'Bhindi', 'Brinjal', 'Burger', 'Butter']"
            ]
          },
          "metadata": {},
          "execution_count": 19
        }
      ]
    },
    {
      "cell_type": "code",
      "source": [
        "#Range Functions\n",
        "#for(int i =0; i<20;i++) {}\n",
        "for i  in range(0,50):\n",
        "  print(i)"
      ],
      "metadata": {
        "colab": {
          "base_uri": "https://localhost:8080/"
        },
        "id": "CLVl6PARd733",
        "outputId": "8b63af15-c59c-484a-8db4-e96914a80c28"
      },
      "execution_count": 22,
      "outputs": [
        {
          "output_type": "stream",
          "name": "stdout",
          "text": [
            "0\n",
            "1\n",
            "2\n",
            "3\n",
            "4\n",
            "5\n",
            "6\n",
            "7\n",
            "8\n",
            "9\n",
            "10\n",
            "11\n",
            "12\n",
            "13\n",
            "14\n",
            "15\n",
            "16\n",
            "17\n",
            "18\n",
            "19\n",
            "20\n",
            "21\n",
            "22\n",
            "23\n",
            "24\n",
            "25\n",
            "26\n",
            "27\n",
            "28\n",
            "29\n",
            "30\n",
            "31\n",
            "32\n",
            "33\n",
            "34\n",
            "35\n",
            "36\n",
            "37\n",
            "38\n",
            "39\n",
            "40\n",
            "41\n",
            "42\n",
            "43\n",
            "44\n",
            "45\n",
            "46\n",
            "47\n",
            "48\n",
            "49\n"
          ]
        }
      ]
    },
    {
      "cell_type": "code",
      "source": [
        "sum(range(10,20,2))"
      ],
      "metadata": {
        "colab": {
          "base_uri": "https://localhost:8080/"
        },
        "id": "ViAgboijfbZA",
        "outputId": "d22e1c85-985f-4318-abfc-fec8867db638"
      },
      "execution_count": 23,
      "outputs": [
        {
          "output_type": "execute_result",
          "data": {
            "text/plain": [
              "70"
            ]
          },
          "metadata": {},
          "execution_count": 23
        }
      ]
    },
    {
      "cell_type": "code",
      "source": [
        "#Make list of items between 10,50 step by 7\n",
        "list(range(10,51,7))"
      ],
      "metadata": {
        "colab": {
          "base_uri": "https://localhost:8080/"
        },
        "id": "eNKvv5tcf3Wo",
        "outputId": "2285e9ac-11e6-44dd-9cb9-4eb3ab4b9c9f"
      },
      "execution_count": 25,
      "outputs": [
        {
          "output_type": "execute_result",
          "data": {
            "text/plain": [
              "[10, 17, 24, 31, 38, 45]"
            ]
          },
          "metadata": {},
          "execution_count": 25
        }
      ]
    },
    {
      "cell_type": "code",
      "source": [
        "for i in range(5):\n",
        "  print(i)\n",
        "  if i ==3:\n",
        "    break"
      ],
      "metadata": {
        "colab": {
          "base_uri": "https://localhost:8080/"
        },
        "id": "jhmb17bTgDcI",
        "outputId": "bf946421-c3b1-4bd0-c627-72642a2848f4"
      },
      "execution_count": 28,
      "outputs": [
        {
          "output_type": "stream",
          "name": "stdout",
          "text": [
            "0\n",
            "1\n",
            "2\n",
            "3\n"
          ]
        }
      ]
    },
    {
      "cell_type": "code",
      "source": [
        "for num in range(2,10):\n",
        "  if num%2 ==0:\n",
        "    print(\"Even Number\",num)\n",
        "    continue\n",
        "  print(\"Found and odd number\",num)"
      ],
      "metadata": {
        "colab": {
          "base_uri": "https://localhost:8080/"
        },
        "id": "GrZ8ORCLgO2S",
        "outputId": "cca9f68e-f69b-4633-d0ec-36c1db7f6407"
      },
      "execution_count": 31,
      "outputs": [
        {
          "output_type": "stream",
          "name": "stdout",
          "text": [
            "Even Number 2\n",
            "Found and odd number 3\n",
            "Even Number 4\n",
            "Found and odd number 5\n",
            "Even Number 6\n",
            "Found and odd number 7\n",
            "Even Number 8\n",
            "Found and odd number 9\n"
          ]
        }
      ]
    },
    {
      "cell_type": "code",
      "source": [
        "items = [\"abcd\",\"defg\",\"ab\",\"ijkl\",\"hem\"]\n",
        "for item in items:\n",
        "  if len(item) ==4:\n",
        "    print(item)\n",
        "  else:\n",
        "    pass"
      ],
      "metadata": {
        "colab": {
          "base_uri": "https://localhost:8080/"
        },
        "id": "NjfxLSHLgovP",
        "outputId": "08be04bd-5cf3-4d2a-8408-a2eaad6b56b0"
      },
      "execution_count": 32,
      "outputs": [
        {
          "output_type": "stream",
          "name": "stdout",
          "text": [
            "abcd\n",
            "defg\n",
            "ijkl\n"
          ]
        }
      ]
    },
    {
      "cell_type": "code",
      "source": [],
      "metadata": {
        "id": "e9HFzovNhMqJ"
      },
      "execution_count": null,
      "outputs": []
    }
  ]
}