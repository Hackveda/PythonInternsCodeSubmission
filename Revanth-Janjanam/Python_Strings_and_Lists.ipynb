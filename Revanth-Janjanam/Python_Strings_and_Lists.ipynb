{
  "nbformat": 4,
  "nbformat_minor": 0,
  "metadata": {
    "colab": {
      "provenance": []
    },
    "kernelspec": {
      "name": "python3",
      "display_name": "Python 3"
    },
    "language_info": {
      "name": "python"
    }
  },
  "cells": [
    {
      "cell_type": "code",
      "execution_count": 5,
      "metadata": {
        "colab": {
          "base_uri": "https://localhost:8080/"
        },
        "id": "PEBDEb4LwA32",
        "outputId": "a063795a-5f85-493e-8ee6-bc0274d68e45"
      },
      "outputs": [
        {
          "output_type": "stream",
          "name": "stdout",
          "text": [
            "Revanth <class 'str'>\n",
            "Janjanam <class 'str'>\n"
          ]
        }
      ],
      "source": [
        "name = 'Revanth'\n",
        "surname = \"Janjanam\"\n",
        "print(name, type(name))\n",
        "print(surname, type(surname))"
      ]
    },
    {
      "cell_type": "code",
      "source": [
        "#he doesn't understand\n",
        "statement = \"He doesn't understand\"\n",
        "statement1 = 'He doesn\\'t understand'\n",
        "print(statement)\n",
        "print(statement1)"
      ],
      "metadata": {
        "colab": {
          "base_uri": "https://localhost:8080/"
        },
        "id": "TIVNnRwrwueD",
        "outputId": "fd33f05e-7700-40a2-fead-f308620c16e7"
      },
      "execution_count": 6,
      "outputs": [
        {
          "output_type": "stream",
          "name": "stdout",
          "text": [
            "He doesn't understand\n",
            "He doesn't understand\n"
          ]
        }
      ]
    },
    {
      "cell_type": "code",
      "source": [
        "statement2 = \"His name is \\\"Revanth\\\". intern at Hackveda\"\n",
        "print(statement2)"
      ],
      "metadata": {
        "colab": {
          "base_uri": "https://localhost:8080/"
        },
        "id": "PcUqRq54y0wg",
        "outputId": "08bef288-1d0e-44bf-ac9d-7c30e62f9da6"
      },
      "execution_count": 7,
      "outputs": [
        {
          "output_type": "stream",
          "name": "stdout",
          "text": [
            "His name is \"Revanth\". intern at Hackveda\n"
          ]
        }
      ]
    },
    {
      "cell_type": "code",
      "source": [
        "#we can use r raw strings  to avoid backslash escaping\n",
        "print(r'c:\\\\users\\neha')"
      ],
      "metadata": {
        "colab": {
          "base_uri": "https://localhost:8080/"
        },
        "id": "vZwUa2U_zHqM",
        "outputId": "4d041895-cc5a-4785-f58b-b2a5b03bfdef"
      },
      "execution_count": 8,
      "outputs": [
        {
          "output_type": "stream",
          "name": "stdout",
          "text": [
            "c:\\\\users\\neha\n"
          ]
        }
      ]
    },
    {
      "cell_type": "code",
      "source": [
        "#print multiple lines in python using triple double or single quotes\n",
        "print(\"\"\"\n",
        "Hi this is a \n",
        "Multiple line print\n",
        "statement\n",
        "\"\"\")"
      ],
      "metadata": {
        "colab": {
          "base_uri": "https://localhost:8080/"
        },
        "id": "jj3_DoIszaBV",
        "outputId": "48d0efcd-ecd6-4519-da43-150b8fa2f542"
      },
      "execution_count": 9,
      "outputs": [
        {
          "output_type": "stream",
          "name": "stdout",
          "text": [
            "\n",
            "Hi this is a \n",
            "Multiple line print\n",
            "statement\n",
            "\n"
          ]
        }
      ]
    },
    {
      "cell_type": "code",
      "source": [
        "print('''\n",
        "This is an example\n",
        "for multiple lines\n",
        "with single quotes\n",
        "''')"
      ],
      "metadata": {
        "colab": {
          "base_uri": "https://localhost:8080/"
        },
        "id": "WTVEQigbzquG",
        "outputId": "e6dbf53c-9762-4d5f-bc50-84ed6e007db9"
      },
      "execution_count": 10,
      "outputs": [
        {
          "output_type": "stream",
          "name": "stdout",
          "text": [
            "\n",
            "This is an example\n",
            "for multiple lines\n",
            "with single quotes\n",
            "\n"
          ]
        }
      ]
    },
    {
      "cell_type": "code",
      "source": [
        "#string concatenation\n",
        "string1 = \"Hi my name is Revanth \"\n",
        "string2 = \"My surname is Janjanam\"\n",
        "string3 = string1 + string2 #Concatenation\n",
        "print(string3)\n",
        "\n",
        "#string Repetation\n",
        "alphabet = 'a'\n",
        "word = 'Programming'\n",
        "statement = 'This is a Programming class'\n",
        "\n",
        "print(alphabet*10)\n",
        "print(word*5)\n",
        "print(statement * 3)\n"
      ],
      "metadata": {
        "colab": {
          "base_uri": "https://localhost:8080/"
        },
        "id": "rDsWfV5p0ETC",
        "outputId": "9efff893-16dc-44ef-8515-48c42cdc563a"
      },
      "execution_count": 11,
      "outputs": [
        {
          "output_type": "stream",
          "name": "stdout",
          "text": [
            "Hi my name is Revanth My surname is Janjanam\n",
            "aaaaaaaaaa\n",
            "ProgrammingProgrammingProgrammingProgrammingProgramming\n",
            "This is a Programming classThis is a Programming classThis is a Programming class\n"
          ]
        }
      ]
    },
    {
      "cell_type": "code",
      "source": [
        "name = 'Revanth' 'Janjanam'\n",
        "print(name)"
      ],
      "metadata": {
        "colab": {
          "base_uri": "https://localhost:8080/"
        },
        "id": "Yir3U8PZ0iRh",
        "outputId": "fe18f884-da10-42e3-b4f4-42c142f08a8e"
      },
      "execution_count": 12,
      "outputs": [
        {
          "output_type": "stream",
          "name": "stdout",
          "text": [
            "RevanthJanjanam\n"
          ]
        }
      ]
    },
    {
      "cell_type": "code",
      "source": [
        "name = 'Revanth'\n",
        "fullname = name + 'Janjanam'\n",
        "print(fullname)"
      ],
      "metadata": {
        "colab": {
          "base_uri": "https://localhost:8080/"
        },
        "id": "mDMGHAUbQwlW",
        "outputId": "402c57b6-c953-4a71-a807-7fdc84f8f379"
      },
      "execution_count": 13,
      "outputs": [
        {
          "output_type": "stream",
          "name": "stdout",
          "text": [
            "RevanthJanjanam\n"
          ]
        }
      ]
    },
    {
      "cell_type": "code",
      "source": [
        "#string indexing\n",
        "name = \"Revanth Janjanam\"\n",
        "len(name)\n",
        "\n",
        "print(name[0])"
      ],
      "metadata": {
        "colab": {
          "base_uri": "https://localhost:8080/"
        },
        "id": "W76dxn7tRGgT",
        "outputId": "f231244c-d7ba-4843-da86-e4b84700e40a"
      },
      "execution_count": 15,
      "outputs": [
        {
          "output_type": "stream",
          "name": "stdout",
          "text": [
            "R\n"
          ]
        }
      ]
    },
    {
      "cell_type": "code",
      "source": [
        "#testing with negative indexs\n",
        "print(name[-1])"
      ],
      "metadata": {
        "colab": {
          "base_uri": "https://localhost:8080/"
        },
        "id": "Cm_yktAGRc4K",
        "outputId": "78a84554-dce7-49be-f46d-63ca8da69f6f"
      },
      "execution_count": 16,
      "outputs": [
        {
          "output_type": "stream",
          "name": "stdout",
          "text": [
            "m\n"
          ]
        }
      ]
    },
    {
      "cell_type": "code",
      "source": [
        "#extract character using string indexing +ve or -ve\n",
        "name = \"Revanth\"\n",
        "print(name[4])\n",
        "print(name[-3])\n",
        "slice1 = name[0:3]\n",
        "print(slice1)\n",
        "print(name[-7:-4])\n",
        "print(name[0:-4])"
      ],
      "metadata": {
        "colab": {
          "base_uri": "https://localhost:8080/"
        },
        "id": "Xn74ZpLUR9KK",
        "outputId": "7fe13552-36df-4481-d5e3-ce13c5708a6b"
      },
      "execution_count": 24,
      "outputs": [
        {
          "output_type": "stream",
          "name": "stdout",
          "text": [
            "n\n",
            "n\n",
            "Rev\n",
            "Rev\n",
            "Rev\n"
          ]
        }
      ]
    },
    {
      "cell_type": "code",
      "source": [
        "print(name[2:6])\n",
        "print(name[-5:-1])\n",
        "print(name[2:-1])\n",
        "print(name[-5:6])"
      ],
      "metadata": {
        "colab": {
          "base_uri": "https://localhost:8080/"
        },
        "id": "D-UJzpqqSdGl",
        "outputId": "9ccb9db9-6a9b-4ef6-dee5-953085b17bb3"
      },
      "execution_count": 33,
      "outputs": [
        {
          "output_type": "stream",
          "name": "stdout",
          "text": [
            "vant\n",
            "vant\n",
            "vant\n",
            "vant\n"
          ]
        }
      ]
    },
    {
      "cell_type": "code",
      "source": [
        "print(name[2:])\n",
        "print(name[:5])"
      ],
      "metadata": {
        "colab": {
          "base_uri": "https://localhost:8080/"
        },
        "id": "Ju4tMTabTMdQ",
        "outputId": "3157c972-b61e-44ed-d806-9de968dcebf1"
      },
      "execution_count": 35,
      "outputs": [
        {
          "output_type": "stream",
          "name": "stdout",
          "text": [
            "vanth\n",
            "Revan\n"
          ]
        }
      ]
    },
    {
      "cell_type": "code",
      "source": [
        "#Immutable = cannot change the value of item at index\n",
        "name[1]\n",
        "name[1] = 'i'"
      ],
      "metadata": {
        "colab": {
          "base_uri": "https://localhost:8080/",
          "height": 200
        },
        "id": "ZT1MVgaoUfgq",
        "outputId": "ea0017f7-435a-4f3b-bf46-4d37196f6481"
      },
      "execution_count": 38,
      "outputs": [
        {
          "output_type": "error",
          "ename": "TypeError",
          "evalue": "ignored",
          "traceback": [
            "\u001b[0;31m---------------------------------------------------------------------------\u001b[0m",
            "\u001b[0;31mTypeError\u001b[0m                                 Traceback (most recent call last)",
            "\u001b[0;32m<ipython-input-38-49e49dbedf68>\u001b[0m in \u001b[0;36m<module>\u001b[0;34m\u001b[0m\n\u001b[1;32m      1\u001b[0m \u001b[0;31m#Immutable = cannot change the value of item at index\u001b[0m\u001b[0;34m\u001b[0m\u001b[0;34m\u001b[0m\u001b[0;34m\u001b[0m\u001b[0m\n\u001b[1;32m      2\u001b[0m \u001b[0mname\u001b[0m\u001b[0;34m[\u001b[0m\u001b[0;36m1\u001b[0m\u001b[0;34m]\u001b[0m\u001b[0;34m\u001b[0m\u001b[0;34m\u001b[0m\u001b[0m\n\u001b[0;32m----> 3\u001b[0;31m \u001b[0mname\u001b[0m\u001b[0;34m[\u001b[0m\u001b[0;36m1\u001b[0m\u001b[0;34m]\u001b[0m \u001b[0;34m=\u001b[0m \u001b[0;34m'i'\u001b[0m\u001b[0;34m\u001b[0m\u001b[0;34m\u001b[0m\u001b[0m\n\u001b[0m",
            "\u001b[0;31mTypeError\u001b[0m: 'str' object does not support item assignment"
          ]
        }
      ]
    },
    {
      "cell_type": "code",
      "source": [
        "#make a nam REVANA\n",
        "newname = name[:5]+ 'a'\n",
        "print(newname)"
      ],
      "metadata": {
        "colab": {
          "base_uri": "https://localhost:8080/"
        },
        "id": "cKVVaBRqU21B",
        "outputId": "ce0daaa7-64b1-4777-f83e-57a3cba161df"
      },
      "execution_count": 39,
      "outputs": [
        {
          "output_type": "stream",
          "name": "stdout",
          "text": [
            "Revana\n"
          ]
        }
      ]
    },
    {
      "cell_type": "code",
      "source": [
        "#Get the size of the string\n",
        "len(name)"
      ],
      "metadata": {
        "colab": {
          "base_uri": "https://localhost:8080/"
        },
        "id": "HIgTZVZPVZzY",
        "outputId": "299ae75e-0b8a-4fc1-8821-94fec86b1917"
      },
      "execution_count": 40,
      "outputs": [
        {
          "output_type": "execute_result",
          "data": {
            "text/plain": [
              "7"
            ]
          },
          "metadata": {},
          "execution_count": 40
        }
      ]
    },
    {
      "cell_type": "code",
      "source": [
        "# Values w.r.t person\n",
        "name = 'Revanth'\n",
        "age = 19\n",
        "height = 5.9\n",
        "position = 'intern'\n",
        "\n",
        "#Group these values together in a compound data type\n",
        "mylist = [name,age,height,position]\n",
        "mylist"
      ],
      "metadata": {
        "colab": {
          "base_uri": "https://localhost:8080/"
        },
        "id": "GT15yO71VgSh",
        "outputId": "9a02b164-dcba-4a27-faa9-f848ab39e75a"
      },
      "execution_count": 42,
      "outputs": [
        {
          "output_type": "execute_result",
          "data": {
            "text/plain": [
              "['Revanth', 19, 5.9, 'intern']"
            ]
          },
          "metadata": {},
          "execution_count": 42
        }
      ]
    },
    {
      "cell_type": "code",
      "source": [
        "for item in mylist:\n",
        "  print(item,type(item))"
      ],
      "metadata": {
        "colab": {
          "base_uri": "https://localhost:8080/"
        },
        "id": "jz1akTZ4WZLy",
        "outputId": "833bae8c-a747-49eb-b831-9a973c7837ba"
      },
      "execution_count": 43,
      "outputs": [
        {
          "output_type": "stream",
          "name": "stdout",
          "text": [
            "Revanth <class 'str'>\n",
            "19 <class 'int'>\n",
            "5.9 <class 'float'>\n",
            "intern <class 'str'>\n"
          ]
        }
      ]
    },
    {
      "cell_type": "code",
      "source": [
        "mylist = [0,1,2,3,4,5,6]\n",
        "mylist"
      ],
      "metadata": {
        "colab": {
          "base_uri": "https://localhost:8080/"
        },
        "id": "SOh3ipuvW_tT",
        "outputId": "77fbf25a-c683-450b-9cec-c6ab35e331a2"
      },
      "execution_count": 44,
      "outputs": [
        {
          "output_type": "execute_result",
          "data": {
            "text/plain": [
              "[0, 1, 2, 3, 4, 5, 6]"
            ]
          },
          "metadata": {},
          "execution_count": 44
        }
      ]
    },
    {
      "cell_type": "code",
      "source": [
        "mylist[4]"
      ],
      "metadata": {
        "colab": {
          "base_uri": "https://localhost:8080/"
        },
        "id": "0MbcXusGXHlo",
        "outputId": "9458e284-232e-4467-d9d7-4142321ba514"
      },
      "execution_count": 45,
      "outputs": [
        {
          "output_type": "execute_result",
          "data": {
            "text/plain": [
              "4"
            ]
          },
          "metadata": {},
          "execution_count": 45
        }
      ]
    },
    {
      "cell_type": "code",
      "source": [
        "#slice out the numbers from the list \n",
        "mylist[:4]"
      ],
      "metadata": {
        "colab": {
          "base_uri": "https://localhost:8080/"
        },
        "id": "fKvUo_dQXSfY",
        "outputId": "8d9bbd4f-289c-47a0-fa9c-a39dc7954226"
      },
      "execution_count": 46,
      "outputs": [
        {
          "output_type": "execute_result",
          "data": {
            "text/plain": [
              "[0, 1, 2, 3]"
            ]
          },
          "metadata": {},
          "execution_count": 46
        }
      ]
    },
    {
      "cell_type": "code",
      "source": [
        "oddlist = [1,3,5,7,9,11]\n",
        "newlist = mylist + oddlist\n",
        "newlist"
      ],
      "metadata": {
        "colab": {
          "base_uri": "https://localhost:8080/"
        },
        "id": "YsNCBXO4XaSD",
        "outputId": "ca0a23e6-b362-4645-92a8-e5188cf6ae88"
      },
      "execution_count": 47,
      "outputs": [
        {
          "output_type": "execute_result",
          "data": {
            "text/plain": [
              "[0, 1, 2, 3, 4, 5, 6, 1, 3, 5, 7, 9, 11]"
            ]
          },
          "metadata": {},
          "execution_count": 47
        }
      ]
    },
    {
      "cell_type": "code",
      "source": [
        "newlist[4]"
      ],
      "metadata": {
        "colab": {
          "base_uri": "https://localhost:8080/"
        },
        "id": "V-U3GwTSXkmI",
        "outputId": "f6988800-3dea-4fac-c9c7-f1dc57de30a6"
      },
      "execution_count": 48,
      "outputs": [
        {
          "output_type": "execute_result",
          "data": {
            "text/plain": [
              "4"
            ]
          },
          "metadata": {},
          "execution_count": 48
        }
      ]
    },
    {
      "cell_type": "code",
      "source": [
        "#lists are mutable in nature\n",
        "newlist[4] = 100\n",
        "newlist"
      ],
      "metadata": {
        "colab": {
          "base_uri": "https://localhost:8080/"
        },
        "id": "FOPP5W3TXqI8",
        "outputId": "d30a2df7-61eb-45bb-e863-5da2dae92baa"
      },
      "execution_count": 49,
      "outputs": [
        {
          "output_type": "execute_result",
          "data": {
            "text/plain": [
              "[0, 1, 2, 3, 100, 5, 6, 1, 3, 5, 7, 9, 11]"
            ]
          },
          "metadata": {},
          "execution_count": 49
        }
      ]
    },
    {
      "cell_type": "code",
      "source": [],
      "metadata": {
        "id": "W5_vNp4FXtjd"
      },
      "execution_count": null,
      "outputs": []
    }
  ]
}