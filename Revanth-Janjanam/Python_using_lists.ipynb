{
  "cells": [
    {
      "cell_type": "code",
      "execution_count": 15,
      "metadata": {
        "colab": {
          "base_uri": "https://localhost:8080/"
        },
        "id": "bxrc5QxkZtrg",
        "outputId": "7bbbe803-e697-4589-d356-1883e1b12d94"
      },
      "outputs": [
        {
          "output_type": "stream",
          "name": "stdout",
          "text": [
            "<class 'list'>\n"
          ]
        }
      ],
      "source": [
        "#syntax of creating lists []\n",
        "empty_list = []\n",
        "print(type(empty_list))"
      ]
    },
    {
      "cell_type": "code",
      "execution_count": 16,
      "metadata": {
        "colab": {
          "base_uri": "https://localhost:8080/"
        },
        "id": "9_F86ovtarhz",
        "outputId": "e3765623-a45a-4c1d-cd31-aabc26c584cc"
      },
      "outputs": [
        {
          "output_type": "stream",
          "name": "stdout",
          "text": [
            "<class 'list'>\n"
          ]
        }
      ],
      "source": [
        "#why do we use lists - when we need to group values together\n",
        "#we can group homogeneous or heterogenous both in lists\n",
        "#Lists are considered as compound data types\n",
        "\n",
        "roll_no = [1,2,3,4,5]#Homogeneous List\n",
        "roll_no\n",
        "print(type(roll_no))\n"
      ]
    },
    {
      "cell_type": "code",
      "execution_count": 17,
      "metadata": {
        "colab": {
          "base_uri": "https://localhost:8080/"
        },
        "id": "vBq73cMketi1",
        "outputId": "2aee4f2b-900d-47f1-bccc-a8ea66a033d9"
      },
      "outputs": [
        {
          "output_type": "stream",
          "name": "stdout",
          "text": [
            "Revanth <class 'str'> 19 <class 'int'> 5.9 <class 'float'>\n"
          ]
        },
        {
          "output_type": "execute_result",
          "data": {
            "text/plain": [
              "['Revanth', 19, 5.9]"
            ]
          },
          "metadata": {},
          "execution_count": 17
        }
      ],
      "source": [
        "#Multiple information about a person\n",
        "name = 'Revanth'\n",
        "age = 19\n",
        "height = 5.9\n",
        "print(name,type(name),age,type(age),height,type(height))\n",
        "#Group the above information together in a list\n",
        "person_info = [name,age,height]\n",
        "person_info"
      ]
    },
    {
      "cell_type": "code",
      "source": [
        "#print values at each index of the list\n",
        "index = 0\n",
        "for item in roll_no:\n",
        "  print(index,item)\n",
        "  index = index+1"
      ],
      "metadata": {
        "colab": {
          "base_uri": "https://localhost:8080/"
        },
        "id": "SKpeizOb5C_1",
        "outputId": "e79245d3-d071-4381-d733-c04e553ebfcf"
      },
      "execution_count": 18,
      "outputs": [
        {
          "output_type": "stream",
          "name": "stdout",
          "text": [
            "0 1\n",
            "1 2\n",
            "2 3\n",
            "3 4\n",
            "4 5\n"
          ]
        }
      ]
    },
    {
      "cell_type": "code",
      "source": [
        "index_no = int(input(\"Enter index number : \"))\n",
        "print(\"The value at index\",index_no,\"is\",roll_no[index_no])"
      ],
      "metadata": {
        "colab": {
          "base_uri": "https://localhost:8080/"
        },
        "id": "xt0qyj8wS4go",
        "outputId": "3bb4925f-517c-4125-a8b2-822ee6ebaedd"
      },
      "execution_count": 19,
      "outputs": [
        {
          "output_type": "stream",
          "name": "stdout",
          "text": [
            "Enter index number : 2\n",
            "The value at index 2 is 3\n"
          ]
        }
      ]
    },
    {
      "cell_type": "code",
      "source": [
        "#simple program for slicing\n",
        "inclusive = int(input(\"Enter inclusive index: \"))\n",
        "exclusive = int(input(\"Enter exclusive index: \"))\n",
        "roll_no[inclusive:exclusive]"
      ],
      "metadata": {
        "id": "kUScwOjAUKkL",
        "colab": {
          "base_uri": "https://localhost:8080/"
        },
        "outputId": "497e18a2-ecb3-4ce4-bc47-200cf6ca6565"
      },
      "execution_count": 20,
      "outputs": [
        {
          "name": "stdout",
          "output_type": "stream",
          "text": [
            "Enter inclusive index: 2\n",
            "Enter exclusive index: -1\n"
          ]
        },
        {
          "output_type": "execute_result",
          "data": {
            "text/plain": [
              "[3, 4]"
            ]
          },
          "metadata": {},
          "execution_count": 20
        }
      ]
    },
    {
      "cell_type": "code",
      "source": [
        "#Concatenation in Lists\n",
        "list1 = [\"Revanth\",19,5.9]\n",
        "list2 = [\"Sreenivas\",21,6]\n",
        "conc_result = list1+list2\n",
        "conc_result"
      ],
      "metadata": {
        "colab": {
          "base_uri": "https://localhost:8080/"
        },
        "id": "NbBMC6Xyc0XA",
        "outputId": "dcee0ff3-770c-49ea-a2ed-a0a208ba411d"
      },
      "execution_count": 21,
      "outputs": [
        {
          "output_type": "execute_result",
          "data": {
            "text/plain": [
              "['Revanth', 19, 5.9, 'Sreenivas', 21, 6]"
            ]
          },
          "metadata": {},
          "execution_count": 21
        }
      ]
    },
    {
      "cell_type": "code",
      "source": [
        "#Lists are mutable.Their content can be changed\n",
        "index = 0\n",
        "for item in conc_result:\n",
        "  print(index,item)\n",
        "  index = index+1"
      ],
      "metadata": {
        "colab": {
          "base_uri": "https://localhost:8080/"
        },
        "id": "HEKQnfD-dfCC",
        "outputId": "12cf62ad-632c-4cdc-cdb2-73559ad84bf9"
      },
      "execution_count": 22,
      "outputs": [
        {
          "output_type": "stream",
          "name": "stdout",
          "text": [
            "0 Revanth\n",
            "1 19\n",
            "2 5.9\n",
            "3 Sreenivas\n",
            "4 21\n",
            "5 6\n"
          ]
        }
      ]
    },
    {
      "cell_type": "code",
      "source": [
        "conc_result[4] = 22 #Mutating the value at index 4"
      ],
      "metadata": {
        "id": "u7d4P_ngdv5P"
      },
      "execution_count": 23,
      "outputs": []
    },
    {
      "cell_type": "code",
      "source": [
        "conc_result[4]"
      ],
      "metadata": {
        "colab": {
          "base_uri": "https://localhost:8080/"
        },
        "id": "arhBCbQ1d7LS",
        "outputId": "4b9e68fb-c615-426f-82fb-af871b1e1fae"
      },
      "execution_count": 24,
      "outputs": [
        {
          "output_type": "execute_result",
          "data": {
            "text/plain": [
              "22"
            ]
          },
          "metadata": {},
          "execution_count": 24
        }
      ]
    },
    {
      "cell_type": "code",
      "source": [
        "conc_result"
      ],
      "metadata": {
        "colab": {
          "base_uri": "https://localhost:8080/"
        },
        "id": "5TwuuvPsd9vQ",
        "outputId": "50141c9e-69a9-42ae-b77b-689db01fc9b9"
      },
      "execution_count": 25,
      "outputs": [
        {
          "output_type": "execute_result",
          "data": {
            "text/plain": [
              "['Revanth', 19, 5.9, 'Sreenivas', 22, 6]"
            ]
          },
          "metadata": {},
          "execution_count": 25
        }
      ]
    },
    {
      "cell_type": "code",
      "source": [
        " #Add new items into the list\n",
        " conc_result.append('9654825370')\n",
        " conc_result"
      ],
      "metadata": {
        "colab": {
          "base_uri": "https://localhost:8080/"
        },
        "id": "rDE7ByhheBhl",
        "outputId": "ae7fef99-5ac4-4ac6-85db-4e5c7dc05c74"
      },
      "execution_count": 26,
      "outputs": [
        {
          "output_type": "execute_result",
          "data": {
            "text/plain": [
              "['Revanth', 19, 5.9, 'Sreenivas', 22, 6, '9654825370']"
            ]
          },
          "metadata": {},
          "execution_count": 26
        }
      ]
    },
    {
      "cell_type": "code",
      "source": [
        "#update slice in the lists\n",
        "list2 = [31,5.10,'bala']\n",
        "conc_result[1:4] = list2\n",
        "conc_result"
      ],
      "metadata": {
        "colab": {
          "base_uri": "https://localhost:8080/"
        },
        "id": "qvhw8kW0wJeT",
        "outputId": "98679805-8dce-461d-f9c7-4b75f84711fb"
      },
      "execution_count": 27,
      "outputs": [
        {
          "output_type": "execute_result",
          "data": {
            "text/plain": [
              "['Revanth', 31, 5.1, 'bala', 22, 6, '9654825370']"
            ]
          },
          "metadata": {},
          "execution_count": 27
        }
      ]
    },
    {
      "cell_type": "code",
      "source": [
        "#remove a slice from the list\n",
        "conc_result[2:4] = []\n",
        "conc_result"
      ],
      "metadata": {
        "colab": {
          "base_uri": "https://localhost:8080/"
        },
        "id": "_fc-qDMqwiWl",
        "outputId": "43ea11f1-3cb2-4c65-b247-b968808f0c44"
      },
      "execution_count": 28,
      "outputs": [
        {
          "output_type": "execute_result",
          "data": {
            "text/plain": [
              "['Revanth', 31, 22, 6, '9654825370']"
            ]
          },
          "metadata": {},
          "execution_count": 28
        }
      ]
    },
    {
      "cell_type": "code",
      "source": [
        "#calculate the size of the list\n",
        "print(\"Size of the list is\",len(conc_result))"
      ],
      "metadata": {
        "colab": {
          "base_uri": "https://localhost:8080/"
        },
        "id": "XAbNCVrgw3v1",
        "outputId": "53d99b06-a246-4267-a40f-5679f5766c4a"
      },
      "execution_count": 29,
      "outputs": [
        {
          "output_type": "stream",
          "name": "stdout",
          "text": [
            "Size of the list is 5\n"
          ]
        }
      ]
    },
    {
      "cell_type": "code",
      "source": [
        "#nesting feature is available in lists\n",
        "#Nesting = list within a list\n",
        "list1 = [1,2,3,4,5]\n",
        "list2 = [6,7,8,9,10]\n",
        "nested_list = [list1,list2]\n",
        "nested_list"
      ],
      "metadata": {
        "colab": {
          "base_uri": "https://localhost:8080/"
        },
        "id": "g-0pfaPqxQ2R",
        "outputId": "7f9e798f-6b4a-4009-b500-2ba3eee1bbb1"
      },
      "execution_count": 30,
      "outputs": [
        {
          "output_type": "execute_result",
          "data": {
            "text/plain": [
              "[[1, 2, 3, 4, 5], [6, 7, 8, 9, 10]]"
            ]
          },
          "metadata": {},
          "execution_count": 30
        }
      ]
    },
    {
      "cell_type": "code",
      "source": [
        "#Access information from a nested list\n",
        "nested_list[0][2]\n",
        "nested_list[1][2]"
      ],
      "metadata": {
        "colab": {
          "base_uri": "https://localhost:8080/"
        },
        "id": "YWXs_7KHx0oT",
        "outputId": "c1567846-75b5-442b-9dc2-fb0f88d757c5"
      },
      "execution_count": 31,
      "outputs": [
        {
          "output_type": "execute_result",
          "data": {
            "text/plain": [
              "8"
            ]
          },
          "metadata": {},
          "execution_count": 31
        }
      ]
    },
    {
      "cell_type": "code",
      "source": [
        "list = [1,2,3,4,5]\n",
        "list"
      ],
      "metadata": {
        "colab": {
          "base_uri": "https://localhost:8080/"
        },
        "id": "-Mb14h6JyE-L",
        "outputId": "3928e124-71c0-4693-f207-5da82f2f886d"
      },
      "execution_count": 39,
      "outputs": [
        {
          "output_type": "execute_result",
          "data": {
            "text/plain": [
              "[1, 2, 3, 4, 5]"
            ]
          },
          "metadata": {},
          "execution_count": 39
        }
      ]
    },
    {
      "cell_type": "code",
      "source": [
        "#insert at top of tlist =O(1)\n",
        "list.insert(0,10)\n",
        "list"
      ],
      "metadata": {
        "colab": {
          "base_uri": "https://localhost:8080/"
        },
        "id": "LMbfB-h_y0Gj",
        "outputId": "e1c48631-1783-4174-99ca-386821bcc477"
      },
      "execution_count": 40,
      "outputs": [
        {
          "output_type": "execute_result",
          "data": {
            "text/plain": [
              "[10, 1, 2, 3, 4, 5]"
            ]
          },
          "metadata": {},
          "execution_count": 40
        }
      ]
    },
    {
      "cell_type": "code",
      "source": [
        "#insert at the tail of the list = O(1)\n",
        "list.append(20)\n",
        "list #O(1)"
      ],
      "metadata": {
        "colab": {
          "base_uri": "https://localhost:8080/"
        },
        "id": "Kg8El13EzEad",
        "outputId": "93b5a184-1bde-4df5-d7a5-094c960307ac"
      },
      "execution_count": 42,
      "outputs": [
        {
          "output_type": "execute_result",
          "data": {
            "text/plain": [
              "[10, 1, 2, 3, 4, 5, 20]"
            ]
          },
          "metadata": {},
          "execution_count": 42
        }
      ]
    },
    {
      "cell_type": "code",
      "source": [
        "#Insert at specific index on the list. O(N)\n",
        "list.insert(4,30)\n",
        "list #O(1)"
      ],
      "metadata": {
        "colab": {
          "base_uri": "https://localhost:8080/"
        },
        "id": "DcLsoxTAzXi_",
        "outputId": "c5c9c07c-e7db-44f0-cf62-9364d7ee2584"
      },
      "execution_count": 43,
      "outputs": [
        {
          "output_type": "execute_result",
          "data": {
            "text/plain": [
              "[10, 1, 2, 3, 30, 4, 5, 20]"
            ]
          },
          "metadata": {},
          "execution_count": 43
        }
      ]
    },
    {
      "cell_type": "code",
      "source": [],
      "metadata": {
        "id": "GXi7rnkh0jI2"
      },
      "execution_count": null,
      "outputs": []
    }
  ],
  "metadata": {
    "colab": {
      "provenance": [],
      "collapsed_sections": []
    },
    "kernelspec": {
      "display_name": "Python 3",
      "name": "python3"
    },
    "language_info": {
      "name": "python"
    }
  },
  "nbformat": 4,
  "nbformat_minor": 0
}