{
  "nbformat": 4,
  "nbformat_minor": 0,
  "metadata": {
    "colab": {
      "provenance": []
    },
    "kernelspec": {
      "name": "python3",
      "display_name": "Python 3"
    },
    "language_info": {
      "name": "python"
    }
  },
  "cells": [
    {
      "cell_type": "code",
      "execution_count": 2,
      "metadata": {
        "colab": {
          "base_uri": "https://localhost:8080/"
        },
        "id": "cnGrf3F9T3QO",
        "outputId": "9be8207a-ef2c-4830-e15a-9fd6a287f1f5"
      },
      "outputs": [
        {
          "output_type": "stream",
          "name": "stdout",
          "text": [
            "1\n",
            "2\n",
            "3\n"
          ]
        }
      ],
      "source": [
        "mylist = [1,2,3]\n",
        "for listitem in mylist:\n",
        "  print(listitem)"
      ]
    },
    {
      "cell_type": "code",
      "source": [
        "mylist = [1,2,3,4,5,6]\n",
        "index = 0\n",
        "searchitem = int(input(\"Enter Search item:\"))\n",
        "for listitem in mylist:\n",
        "  if listitem==searchitem:\n",
        "    print(\"Item Found at index: \",index)\n",
        "  else:\n",
        "    print('Item Not Found at Index: ',index)\n",
        "  index = index + 1\n",
        "\n"
      ],
      "metadata": {
        "colab": {
          "base_uri": "https://localhost:8080/"
        },
        "id": "1lJ_HZWvUFje",
        "outputId": "fa5e2e61-7109-4ae5-c006-3d492fa78cd3"
      },
      "execution_count": 11,
      "outputs": [
        {
          "output_type": "stream",
          "name": "stdout",
          "text": [
            "Enter Search item:3\n",
            "Item Not Found at Index:  0\n",
            "Item Not Found at Index:  1\n",
            "Item Found at index:  2\n",
            "Item Not Found at Index:  3\n",
            "Item Not Found at Index:  4\n",
            "Item Not Found at Index:  5\n"
          ]
        }
      ]
    },
    {
      "cell_type": "code",
      "source": [
        "mylist = [1,2,3,4,5,6]\n",
        "mylist.append(10)\n",
        "print(mylist[6])"
      ],
      "metadata": {
        "colab": {
          "base_uri": "https://localhost:8080/"
        },
        "id": "ZqSu_LG8Ua54",
        "outputId": "0bb37460-fa2f-408a-aa44-a2f45d4985b2"
      },
      "execution_count": 17,
      "outputs": [
        {
          "output_type": "stream",
          "name": "stdout",
          "text": [
            "10\n"
          ]
        }
      ]
    },
    {
      "cell_type": "code",
      "source": [
        "mylist.insert(2,20)\n",
        "print(mylist)"
      ],
      "metadata": {
        "colab": {
          "base_uri": "https://localhost:8080/"
        },
        "id": "HoeozOJFVF0I",
        "outputId": "f464b1be-dc3c-4dda-e688-01b2e642024b"
      },
      "execution_count": 18,
      "outputs": [
        {
          "output_type": "stream",
          "name": "stdout",
          "text": [
            "[1, 2, 20, 3, 4, 5, 6, 10]\n"
          ]
        }
      ]
    },
    {
      "cell_type": "code",
      "source": [
        "mylist1 = [1,2,3,4,5,6]\n",
        "mylist1.pop(2)"
      ],
      "metadata": {
        "colab": {
          "base_uri": "https://localhost:8080/"
        },
        "id": "QHMemFK4YpsZ",
        "outputId": "94bff574-fdf8-43b8-faca-0ce72889cfda"
      },
      "execution_count": 20,
      "outputs": [
        {
          "output_type": "execute_result",
          "data": {
            "text/plain": [
              "3"
            ]
          },
          "metadata": {},
          "execution_count": 20
        }
      ]
    },
    {
      "cell_type": "code",
      "source": [],
      "metadata": {
        "id": "1RAiAPfLZcoZ"
      },
      "execution_count": null,
      "outputs": []
    }
  ]
}