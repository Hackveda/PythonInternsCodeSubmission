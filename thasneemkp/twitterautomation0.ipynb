{
  "nbformat": 4,
  "nbformat_minor": 0,
  "metadata": {
    "colab": {
      "provenance": [],
      "authorship_tag": "ABX9TyN1KaFV+nb6a4AjBzhZvC2K",
      "include_colab_link": true
    },
    "kernelspec": {
      "name": "python3",
      "display_name": "Python 3"
    },
    "language_info": {
      "name": "python"
    }
  },
  "cells": [
    {
      "cell_type": "markdown",
      "metadata": {
        "id": "view-in-github",
        "colab_type": "text"
      },
      "source": [
        "<a href=\"https://colab.research.google.com/github/Hackveda/PythonInternsCodeSubmission/blob/main/thasneemkp/twitterautomation0.ipynb\" target=\"_parent\"><img src=\"https://colab.research.google.com/assets/colab-badge.svg\" alt=\"Open In Colab\"/></a>"
      ]
    },
    {
      "cell_type": "code",
      "execution_count": null,
      "metadata": {
        "id": "ObZojFL2OWer"
      },
      "outputs": [],
      "source": [
        "import tweepy\n",
        "import pandas\n",
        "\n",
        "access_token =\n",
        "access_token_secret =\n",
        "\n",
        "consumer_key =\n",
        "consumer_secret = \n",
        "\n",
        "auth = tweepy.auth.O AuthHandler(consumer_key,consumer_secret) \n",
        "auth.set_access_token(access_token, access_token_secret)\n",
        "api = tweepy.API(auth)\n",
        "api.update_status\n",
        "\n",
        "query = input(\"Enter keyword:\")\n",
        "searchresults = api.search(query)\n",
        "searchresult[0]\n",
        "\n",
        "#collect the data and represent in dataframes\n",
        "query = [\"machine learning\",\"covid\"]\n",
        "api.search(query)\n",
        "\n",
        "query = [\"upgrad\"]\n",
        "results = api.search(query)\n",
        " "
      ]
    }
  ]
}