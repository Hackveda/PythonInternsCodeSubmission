{
  "cells": [
    {
      "cell_type": "markdown",
      "metadata": {
        "id": "view-in-github",
        "colab_type": "text"
      },
      "source": [
        "<a href=\"https://colab.research.google.com/github/Hackveda/PythonInternsCodeSubmission/blob/main/Harini%20Thimmareddy/Control%20flow%20statements.ipynb\" target=\"_parent\"><img src=\"https://colab.research.google.com/assets/colab-badge.svg\" alt=\"Open In Colab\"/></a>"
      ]
    },
    {
      "cell_type": "code",
      "execution_count": null,
      "metadata": {
        "colab": {
          "base_uri": "https://localhost:8080/"
        },
        "id": "geCRxdJibJz5",
        "outputId": "d87be03d-5f79-4a86-e4dc-e0d452a7b8db"
      },
      "outputs": [
        {
          "name": "stdout",
          "output_type": "stream",
          "text": [
            "values are: 4 5\n"
          ]
        }
      ],
      "source": [
        "#Multiple variable assignment\n",
        "a,b=4,5\n",
        "print(\"values are:\",a,b)"
      ]
    },
    {
      "cell_type": "code",
      "execution_count": null,
      "metadata": {
        "id": "c4siRwUCch5O"
      },
      "outputs": [],
      "source": [
        "#if statement\n",
        "a=7\n",
        "if(a>10):\n",
        "  print(a)"
      ]
    },
    {
      "cell_type": "code",
      "execution_count": null,
      "metadata": {
        "colab": {
          "base_uri": "https://localhost:8080/"
        },
        "id": "Kpa-Jb4ecprK",
        "outputId": "f0bb46ce-7950-440f-a997-caadbfd36617"
      },
      "outputs": [
        {
          "name": "stdout",
          "output_type": "stream",
          "text": [
            "7\n"
          ]
        }
      ],
      "source": [
        "a=7\n",
        "if(a<10):\n",
        "  print(a)"
      ]
    },
    {
      "cell_type": "code",
      "execution_count": null,
      "metadata": {
        "colab": {
          "base_uri": "https://localhost:8080/"
        },
        "id": "1AkJSz2rcvVf",
        "outputId": "062c9460-ad64-4030-cda0-413f87785597"
      },
      "outputs": [
        {
          "name": "stdout",
          "output_type": "stream",
          "text": [
            "a is less than 100\n"
          ]
        }
      ],
      "source": [
        "#if-else:\n",
        "a=89\n",
        "if(a<100):\n",
        "  print(\"a is less than 100\")\n",
        "else:\n",
        "  print(\"a is greater than 100\")"
      ]
    },
    {
      "cell_type": "code",
      "execution_count": null,
      "metadata": {
        "colab": {
          "base_uri": "https://localhost:8080/"
        },
        "id": "GyeFTcIxdBKk",
        "outputId": "eca3abb4-5af6-4d20-ae75-5f42e475e82a"
      },
      "outputs": [
        {
          "name": "stdout",
          "output_type": "stream",
          "text": [
            "45\n",
            "Lesss Score\n"
          ]
        }
      ],
      "source": [
        "#elif statements\n",
        "m=int(input())\n",
        "if(m>=90):\n",
        "  print(\"A Grade\")\n",
        "elif(m>=80):\n",
        "  print(\"B Grade\")\n",
        "elif(m>=70):\n",
        "  print(\"C Grade\")\n",
        "elif(m>=60):\n",
        "  print(\"D Grade\")\n",
        "elif(m>=25 and m<60):\n",
        "  print(\"Lesss Score\")\n",
        "else:\n",
        "  print(\"Fail\")"
      ]
    },
    {
      "cell_type": "code",
      "execution_count": null,
      "metadata": {
        "colab": {
          "base_uri": "https://localhost:8080/"
        },
        "id": "med_HN7ieM3i",
        "outputId": "bc2598ab-18fd-4195-86b1-ac752276fa4e"
      },
      "outputs": [
        {
          "name": "stdout",
          "output_type": "stream",
          "text": [
            "a\n",
            "Harini\n",
            "34\n",
            "234.25435\n"
          ]
        }
      ],
      "source": [
        "#for statements\n",
        "l=['a','Harini',34,234.25435]\n",
        "for i in l:\n",
        "  print(i)"
      ]
    },
    {
      "cell_type": "code",
      "execution_count": null,
      "metadata": {
        "colab": {
          "base_uri": "https://localhost:8080/"
        },
        "id": "nCBV8V2xfuOH",
        "outputId": "614f42f9-21d0-44de-cb11-d20623255c7f"
      },
      "outputs": [
        {
          "data": {
            "text/plain": [
              "11"
            ]
          },
          "execution_count": 3,
          "metadata": {},
          "output_type": "execute_result"
        }
      ],
      "source": [
        "#lambda expression\n",
        "def la(n):\n",
        "  return lambda x:x+n\n",
        "f=la(5)\n",
        "f(6)"
      ]
    },
    {
      "cell_type": "code",
      "execution_count": null,
      "metadata": {
        "colab": {
          "base_uri": "https://localhost:8080/"
        },
        "id": "aXLWRH2Lk-cG",
        "outputId": "b449d528-9db0-43a1-e2db-cef1dc2d53e4"
      },
      "outputs": [
        {
          "data": {
            "text/plain": [
              "43"
            ]
          },
          "execution_count": 5,
          "metadata": {},
          "output_type": "execute_result"
        }
      ],
      "source": [
        "#sum using range\n",
        "sum(range(20,26,3))"
      ]
    },
    {
      "cell_type": "code",
      "execution_count": null,
      "metadata": {
        "colab": {
          "base_uri": "https://localhost:8080/"
        },
        "id": "NvRtPS7WxFSl",
        "outputId": "7b666edb-e5e2-4027-cce4-da4054b6d691"
      },
      "outputs": [
        {
          "data": {
            "text/plain": [
              "[2, 6, 10, 14, 18, 22]"
            ]
          },
          "execution_count": 6,
          "metadata": {},
          "output_type": "execute_result"
        }
      ],
      "source": [
        "list(range(2,26,4))"
      ]
    },
    {
      "cell_type": "code",
      "execution_count": null,
      "metadata": {
        "colab": {
          "background_save": true,
          "base_uri": "https://localhost:8080/"
        },
        "id": "sZojLAR1zs0D",
        "outputId": "3d7d49f7-a321-4f82-eeb2-4c93b53f3159"
      },
      "outputs": [
        {
          "name": "stdout",
          "output_type": "stream",
          "text": [
            "0 1 2 "
          ]
        }
      ],
      "source": [
        "i=0\n",
        "while(i<10):\n",
        "  if i==5:\n",
        "    break\n",
        "  elif i==3:\n",
        "    continue\n",
        "  else:\n",
        "    print(i,end=\" \")\n",
        "  i=i+1"
      ]
    }
  ],
  "metadata": {
    "colab": {
      "provenance": [],
      "authorship_tag": "ABX9TyMA0D59gtUkRk3ggoj9rG3V",
      "include_colab_link": true
    },
    "kernelspec": {
      "display_name": "Python 3",
      "name": "python3"
    },
    "language_info": {
      "name": "python"
    }
  },
  "nbformat": 4,
  "nbformat_minor": 0
}