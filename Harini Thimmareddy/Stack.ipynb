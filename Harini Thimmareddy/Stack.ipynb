{
  "nbformat": 4,
  "nbformat_minor": 0,
  "metadata": {
    "colab": {
      "provenance": [],
      "authorship_tag": "ABX9TyP3mwKExmfVbgCqPFRoYBnn",
      "include_colab_link": true
    },
    "kernelspec": {
      "name": "python3",
      "display_name": "Python 3"
    },
    "language_info": {
      "name": "python"
    }
  },
  "cells": [
    {
      "cell_type": "markdown",
      "metadata": {
        "id": "view-in-github",
        "colab_type": "text"
      },
      "source": [
        "<a href=\"https://colab.research.google.com/github/Hackveda/PythonInternsCodeSubmission/blob/main/Harini%20Thimmareddy/Stack.ipynb\" target=\"_parent\"><img src=\"https://colab.research.google.com/assets/colab-badge.svg\" alt=\"Open In Colab\"/></a>"
      ]
    },
    {
      "cell_type": "code",
      "execution_count": null,
      "metadata": {
        "id": "QbDrYaoqC9j5",
        "colab": {
          "base_uri": "https://localhost:8080/"
        },
        "outputId": "4bc92fdf-3d11-4d1a-d72d-c910dbe11313"
      },
      "outputs": [
        {
          "output_type": "stream",
          "name": "stdout",
          "text": [
            "))(()())((\n",
            "False\n"
          ]
        }
      ],
      "source": [
        "a=input()\n",
        "l=[]\n",
        "flag=True\n",
        "i=0\n",
        "while i<len(a) and flag:\n",
        "  s=a[i]\n",
        "  if s==\"(\":\n",
        "    l.append(s)\n",
        "  elif s==\")\":\n",
        "    if l:\n",
        "      l.pop()\n",
        "    else:\n",
        "      flag=False\n",
        "  i=i+1\n",
        "if l:\n",
        "  flag=False\n",
        "print(flag)\n"
      ]
    },
    {
      "cell_type": "code",
      "source": [
        "l=[5,7,9,0]\n",
        "if l:\n",
        "  print(\"1\")\n",
        "else:\n",
        "  print(\"0\")\n"
      ],
      "metadata": {
        "colab": {
          "base_uri": "https://localhost:8080/"
        },
        "id": "XI91xZ0ZPpBL",
        "outputId": "7afc26e1-caec-4696-cd37-34c9caa34a1b"
      },
      "execution_count": null,
      "outputs": [
        {
          "output_type": "stream",
          "name": "stdout",
          "text": [
            "1\n"
          ]
        }
      ]
    }
  ]
}