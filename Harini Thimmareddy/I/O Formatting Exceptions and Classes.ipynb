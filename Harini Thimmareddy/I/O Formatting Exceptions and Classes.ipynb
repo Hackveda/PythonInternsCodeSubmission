{
  "nbformat": 4,
  "nbformat_minor": 0,
  "metadata": {
    "colab": {
      "provenance": [],
      "authorship_tag": "ABX9TyP/xPxnOy1UMlbVJDjPAXQ4",
      "include_colab_link": true
    },
    "kernelspec": {
      "name": "python3",
      "display_name": "Python 3"
    },
    "language_info": {
      "name": "python"
    }
  },
  "cells": [
    {
      "cell_type": "markdown",
      "metadata": {
        "id": "view-in-github",
        "colab_type": "text"
      },
      "source": [
        "<a href=\"https://colab.research.google.com/github/Hackveda/PythonInternsCodeSubmission/blob/main/Harini%20Thimmareddy/I/O%20Formatting%20Exceptions%20and%20Classes.ipynb\" target=\"_parent\"><img src=\"https://colab.research.google.com/assets/colab-badge.svg\" alt=\"Open In Colab\"/></a>"
      ]
    },
    {
      "cell_type": "code",
      "execution_count": null,
      "metadata": {
        "id": "C4gOkea5yZrv",
        "colab": {
          "base_uri": "https://localhost:8080/"
        },
        "outputId": "d5221271-a590-4461-cba1-7de23fba82ad"
      },
      "outputs": [
        {
          "output_type": "stream",
          "name": "stdout",
          "text": [
            "Name is: Harini COurse is CSE\n"
          ]
        }
      ],
      "source": [
        "name=\"Harini\"\n",
        "course=\"CSE\"\n",
        "a=f\"Name is: {name} COurse is {course}\"\n",
        "print(a)"
      ]
    },
    {
      "cell_type": "code",
      "source": [
        "a=100\n",
        "user=\"Harini\"\n",
        "\"Total amount for {} is {}\".format(user,a)"
      ],
      "metadata": {
        "colab": {
          "base_uri": "https://localhost:8080/",
          "height": 36
        },
        "id": "aD_vDZMRGU4F",
        "outputId": "1f37dace-7534-48fc-f918-908850c36046"
      },
      "execution_count": null,
      "outputs": [
        {
          "output_type": "execute_result",
          "data": {
            "text/plain": [
              "'Total amount for Harini is 100'"
            ],
            "application/vnd.google.colaboratory.intrinsic+json": {
              "type": "string"
            }
          },
          "metadata": {},
          "execution_count": 8
        }
      ]
    },
    {
      "cell_type": "code",
      "source": [
        "with open(\"harini.txt\") as f:\n",
        "  myfile=f.read()\n",
        "print(myfile)"
      ],
      "metadata": {
        "colab": {
          "base_uri": "https://localhost:8080/"
        },
        "id": "_cBDbItdb0xq",
        "outputId": "c4f0c964-f1b8-48fc-fe10-2409fcd961cf"
      },
      "execution_count": null,
      "outputs": [
        {
          "output_type": "stream",
          "name": "stdout",
          "text": [
            "Hello I'm Harini\n"
          ]
        }
      ]
    },
    {
      "cell_type": "code",
      "source": [
        "with open(\"harini.txt\") as f:\n",
        "  Line=f.readline()\n",
        "print(Line)"
      ],
      "metadata": {
        "colab": {
          "base_uri": "https://localhost:8080/"
        },
        "id": "mZV3_leyoO9y",
        "outputId": "5b77b700-937f-45ac-d349-034e9f642b10"
      },
      "execution_count": null,
      "outputs": [
        {
          "output_type": "stream",
          "name": "stdout",
          "text": [
            "Hello I'm Harini\n",
            "\n"
          ]
        }
      ]
    },
    {
      "cell_type": "code",
      "source": [
        "with open(\"harini.txt\") as f:\n",
        "  for i in f:\n",
        "    print(i)"
      ],
      "metadata": {
        "colab": {
          "base_uri": "https://localhost:8080/"
        },
        "id": "TWqAR5DQovQS",
        "outputId": "64adee97-5f78-4024-f572-2d63388e7f2a"
      },
      "execution_count": null,
      "outputs": [
        {
          "output_type": "stream",
          "name": "stdout",
          "text": [
            "Hello I'm Harini\n",
            "\n",
            "Andhra Pradesh\n"
          ]
        }
      ]
    },
    {
      "cell_type": "code",
      "source": [
        "with open(\"harini.txt\",\"w\") as f:\n",
        "  f.write(\"Hi\")"
      ],
      "metadata": {
        "id": "-8lZzBXPpEiJ"
      },
      "execution_count": null,
      "outputs": []
    },
    {
      "cell_type": "code",
      "source": [
        "import json\n",
        "data={\"Name\":\"Harini\",\"id\":123}\n",
        "json.dumps(data)"
      ],
      "metadata": {
        "colab": {
          "base_uri": "https://localhost:8080/",
          "height": 36
        },
        "id": "ZRiu689mw85U",
        "outputId": "6f2a2744-117d-46a4-babb-f754b91f343d"
      },
      "execution_count": null,
      "outputs": [
        {
          "output_type": "execute_result",
          "data": {
            "text/plain": [
              "'{\"Name\": \"Harini\", \"id\": 123}'"
            ],
            "application/vnd.google.colaboratory.intrinsic+json": {
              "type": "string"
            }
          },
          "metadata": {},
          "execution_count": 20
        }
      ]
    },
    {
      "cell_type": "code",
      "source": [
        "try:\n",
        "  a=[\"hi\",\"hello\"]\n",
        "  d=10/0\n",
        "  for i in a:\n",
        "    print(d)\n",
        "except ZeroDivisionError as e:\n",
        "  print(\"Please try another method\")"
      ],
      "metadata": {
        "colab": {
          "base_uri": "https://localhost:8080/"
        },
        "id": "Ywq1ZNCU1Dii",
        "outputId": "84367b9d-a704-4375-fe39-1797c82def90"
      },
      "execution_count": null,
      "outputs": [
        {
          "output_type": "stream",
          "name": "stdout",
          "text": [
            "Please try another method\n"
          ]
        }
      ]
    }
  ]
}