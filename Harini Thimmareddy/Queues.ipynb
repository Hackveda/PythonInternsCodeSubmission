{
  "nbformat": 4,
  "nbformat_minor": 0,
  "metadata": {
    "colab": {
      "provenance": [],
      "authorship_tag": "ABX9TyP1GzPh8BQvPOVompEEv4/H",
      "include_colab_link": true
    },
    "kernelspec": {
      "name": "python3",
      "display_name": "Python 3"
    },
    "language_info": {
      "name": "python"
    }
  },
  "cells": [
    {
      "cell_type": "markdown",
      "metadata": {
        "id": "view-in-github",
        "colab_type": "text"
      },
      "source": [
        "<a href=\"https://colab.research.google.com/github/Hackveda/PythonInternsCodeSubmission/blob/main/Harini%20Thimmareddy/Queues.ipynb\" target=\"_parent\"><img src=\"https://colab.research.google.com/assets/colab-badge.svg\" alt=\"Open In Colab\"/></a>"
      ]
    },
    {
      "cell_type": "code",
      "execution_count": null,
      "metadata": {
        "id": "tHTgb-RAa57F"
      },
      "outputs": [],
      "source": [
        "from collections import deque"
      ]
    },
    {
      "cell_type": "code",
      "source": [
        "queue=deque([\"Hello\",\"Hi\"])\n",
        "type(queue)"
      ],
      "metadata": {
        "colab": {
          "base_uri": "https://localhost:8080/"
        },
        "id": "v-e_W8TUbr6J",
        "outputId": "67e83b49-0d9d-466e-8951-1e78f858026f"
      },
      "execution_count": null,
      "outputs": [
        {
          "output_type": "execute_result",
          "data": {
            "text/plain": [
              "collections.deque"
            ]
          },
          "metadata": {},
          "execution_count": 7
        }
      ]
    },
    {
      "cell_type": "code",
      "source": [
        "queue.append([\"Harini\"])\n",
        "queue"
      ],
      "metadata": {
        "colab": {
          "base_uri": "https://localhost:8080/"
        },
        "id": "naBvh2MliB-w",
        "outputId": "9154c5e9-0198-40fa-8aed-122ee0498434"
      },
      "execution_count": null,
      "outputs": [
        {
          "output_type": "execute_result",
          "data": {
            "text/plain": [
              "deque(['Hello', 'Hi', ['Harini']])"
            ]
          },
          "metadata": {},
          "execution_count": 8
        }
      ]
    },
    {
      "cell_type": "code",
      "source": [
        "queue.append(\"Good\")\n",
        "queue\n"
      ],
      "metadata": {
        "colab": {
          "base_uri": "https://localhost:8080/"
        },
        "id": "FZV4o_wViT7Z",
        "outputId": "41c90bdc-747c-4792-d517-c9a3d9fc62bc"
      },
      "execution_count": null,
      "outputs": [
        {
          "output_type": "execute_result",
          "data": {
            "text/plain": [
              "deque(['Hello', 'Hi', ['Harini'], 'Good'])"
            ]
          },
          "metadata": {},
          "execution_count": 9
        }
      ]
    },
    {
      "cell_type": "code",
      "source": [
        "queue.popleft()"
      ],
      "metadata": {
        "colab": {
          "base_uri": "https://localhost:8080/",
          "height": 36
        },
        "id": "i3hGG2_OiaSc",
        "outputId": "ff0a7df8-3928-4c8f-8a2f-3f4dabbd0cea"
      },
      "execution_count": null,
      "outputs": [
        {
          "output_type": "execute_result",
          "data": {
            "text/plain": [
              "'Hello'"
            ],
            "application/vnd.google.colaboratory.intrinsic+json": {
              "type": "string"
            }
          },
          "metadata": {},
          "execution_count": 10
        }
      ]
    },
    {
      "cell_type": "code",
      "source": [
        "queue"
      ],
      "metadata": {
        "colab": {
          "base_uri": "https://localhost:8080/"
        },
        "id": "I3PE6-NYiiHN",
        "outputId": "d994fd98-28e9-4fc3-99a5-85059b33d0e9"
      },
      "execution_count": null,
      "outputs": [
        {
          "output_type": "execute_result",
          "data": {
            "text/plain": [
              "deque(['Hi', ['Harini'], 'Good'])"
            ]
          },
          "metadata": {},
          "execution_count": 11
        }
      ]
    },
    {
      "cell_type": "code",
      "source": [
        "queue.appendleft(\"1\")\n",
        "queue"
      ],
      "metadata": {
        "colab": {
          "base_uri": "https://localhost:8080/"
        },
        "id": "49HEgPqFimoH",
        "outputId": "9de9bb51-14af-400f-e054-0f1555beb04c"
      },
      "execution_count": null,
      "outputs": [
        {
          "output_type": "execute_result",
          "data": {
            "text/plain": [
              "deque(['1', 'Hi', ['Harini'], 'Good'])"
            ]
          },
          "metadata": {},
          "execution_count": 12
        }
      ]
    },
    {
      "cell_type": "code",
      "source": [
        "q2=queue.copy()\n",
        "q2"
      ],
      "metadata": {
        "id": "-1F7Vb2PjuOn",
        "colab": {
          "base_uri": "https://localhost:8080/"
        },
        "outputId": "ea97d9e1-8b9d-4c57-a99a-e6edb45ca699"
      },
      "execution_count": null,
      "outputs": [
        {
          "output_type": "execute_result",
          "data": {
            "text/plain": [
              "deque(['1', 'Hi', ['Harini'], 'Good'])"
            ]
          },
          "metadata": {},
          "execution_count": 13
        }
      ]
    },
    {
      "cell_type": "code",
      "source": [
        "q=deque([\"Python\",\"Internship\"])\n",
        "q"
      ],
      "metadata": {
        "colab": {
          "base_uri": "https://localhost:8080/"
        },
        "id": "z6LIMmShuRm7",
        "outputId": "4323e5ad-a3b5-4146-d1ab-96b850af39af"
      },
      "execution_count": null,
      "outputs": [
        {
          "output_type": "execute_result",
          "data": {
            "text/plain": [
              "deque(['Python', 'Internship'])"
            ]
          },
          "metadata": {},
          "execution_count": 3
        }
      ]
    },
    {
      "cell_type": "code",
      "source": [
        "q.count(\"Python\")"
      ],
      "metadata": {
        "colab": {
          "base_uri": "https://localhost:8080/"
        },
        "id": "pB6lsF3muqdL",
        "outputId": "69f8f0e1-a2a5-4576-c1ec-25a08ad93eb5"
      },
      "execution_count": null,
      "outputs": [
        {
          "output_type": "execute_result",
          "data": {
            "text/plain": [
              "1"
            ]
          },
          "metadata": {},
          "execution_count": 4
        }
      ]
    },
    {
      "cell_type": "code",
      "source": [
        "q2.extend(q)\n",
        "q2"
      ],
      "metadata": {
        "colab": {
          "base_uri": "https://localhost:8080/"
        },
        "id": "vlxiMkpvu-9c",
        "outputId": "b7cc5b06-5946-4b74-fc5e-5a0c960a6a81"
      },
      "execution_count": null,
      "outputs": [
        {
          "output_type": "execute_result",
          "data": {
            "text/plain": [
              "deque(['1', 'Hi', ['Harini'], 'Good', 'Python', 'Internship'])"
            ]
          },
          "metadata": {},
          "execution_count": 14
        }
      ]
    },
    {
      "cell_type": "code",
      "source": [
        "q2.extendleft(q)\n",
        "q2"
      ],
      "metadata": {
        "colab": {
          "base_uri": "https://localhost:8080/"
        },
        "id": "GlVsS0n2vd1v",
        "outputId": "7cae44ff-0828-4248-a7a3-1de50472ca2a"
      },
      "execution_count": null,
      "outputs": [
        {
          "output_type": "execute_result",
          "data": {
            "text/plain": [
              "deque(['Internship',\n",
              "       'Python',\n",
              "       'Internship',\n",
              "       'Python',\n",
              "       'Internship',\n",
              "       'Python',\n",
              "       'Internship',\n",
              "       'Python',\n",
              "       '1',\n",
              "       'Hi',\n",
              "       ['Harini'],\n",
              "       'Good',\n",
              "       'Python',\n",
              "       'Internship'])"
            ]
          },
          "metadata": {},
          "execution_count": 18
        }
      ]
    },
    {
      "cell_type": "code",
      "source": [
        "q2.index(\"Internship\")"
      ],
      "metadata": {
        "colab": {
          "base_uri": "https://localhost:8080/"
        },
        "id": "rMH6LmkNvnrk",
        "outputId": "6b726fa1-401f-4231-ea30-ba318ad6bc22"
      },
      "execution_count": null,
      "outputs": [
        {
          "output_type": "execute_result",
          "data": {
            "text/plain": [
              "0"
            ]
          },
          "metadata": {},
          "execution_count": 19
        }
      ]
    },
    {
      "cell_type": "code",
      "source": [
        "q2.insert(5,\"Hackveda\")\n",
        "q2"
      ],
      "metadata": {
        "colab": {
          "base_uri": "https://localhost:8080/"
        },
        "id": "7tpgZK_8vs0h",
        "outputId": "d2d2a21e-9eb7-4e16-fe19-30ab7d64fe52"
      },
      "execution_count": null,
      "outputs": [
        {
          "output_type": "execute_result",
          "data": {
            "text/plain": [
              "deque(['Internship',\n",
              "       'Python',\n",
              "       'Internship',\n",
              "       'Python',\n",
              "       'Internship',\n",
              "       'Hackveda',\n",
              "       'Python',\n",
              "       'Internship',\n",
              "       'Python',\n",
              "       '1',\n",
              "       'Hi',\n",
              "       ['Harini'],\n",
              "       'Good',\n",
              "       'Python',\n",
              "       'Internship'])"
            ]
          },
          "metadata": {},
          "execution_count": 20
        }
      ]
    },
    {
      "cell_type": "code",
      "source": [
        "q2.popleft()\n",
        "q2"
      ],
      "metadata": {
        "colab": {
          "base_uri": "https://localhost:8080/"
        },
        "id": "ZLGv-6Stv3zk",
        "outputId": "10215fff-b4dc-4bf6-cf84-d312f849744e"
      },
      "execution_count": null,
      "outputs": [
        {
          "output_type": "execute_result",
          "data": {
            "text/plain": [
              "deque(['Python',\n",
              "       'Internship',\n",
              "       'Python',\n",
              "       'Internship',\n",
              "       'Hackveda',\n",
              "       'Python',\n",
              "       'Internship',\n",
              "       'Python',\n",
              "       '1',\n",
              "       'Hi',\n",
              "       ['Harini'],\n",
              "       'Good',\n",
              "       'Python',\n",
              "       'Internship'])"
            ]
          },
          "metadata": {},
          "execution_count": 21
        }
      ]
    },
    {
      "cell_type": "code",
      "source": [
        "q2.remove(\"Internship\")\n",
        "q2"
      ],
      "metadata": {
        "colab": {
          "base_uri": "https://localhost:8080/"
        },
        "id": "J53HIMTpwDUA",
        "outputId": "2fc33e0e-6535-48f8-b051-d7ad9e5acfa9"
      },
      "execution_count": null,
      "outputs": [
        {
          "output_type": "execute_result",
          "data": {
            "text/plain": [
              "deque(['Python',\n",
              "       'Python',\n",
              "       'Internship',\n",
              "       'Hackveda',\n",
              "       'Python',\n",
              "       'Internship',\n",
              "       'Python',\n",
              "       '1',\n",
              "       'Hi',\n",
              "       ['Harini'],\n",
              "       'Good',\n",
              "       'Python',\n",
              "       'Internship'])"
            ]
          },
          "metadata": {},
          "execution_count": 23
        }
      ]
    },
    {
      "cell_type": "code",
      "source": [
        "q2.reverse()\n",
        "q2"
      ],
      "metadata": {
        "colab": {
          "base_uri": "https://localhost:8080/"
        },
        "id": "V7YV2J61wPo3",
        "outputId": "075d6c31-5f11-4d3a-f847-d851401ff1df"
      },
      "execution_count": null,
      "outputs": [
        {
          "output_type": "execute_result",
          "data": {
            "text/plain": [
              "deque(['Internship',\n",
              "       'Python',\n",
              "       'Good',\n",
              "       ['Harini'],\n",
              "       'Hi',\n",
              "       '1',\n",
              "       'Python',\n",
              "       'Internship',\n",
              "       'Python',\n",
              "       'Hackveda',\n",
              "       'Internship',\n",
              "       'Python',\n",
              "       'Python'])"
            ]
          },
          "metadata": {},
          "execution_count": 24
        }
      ]
    },
    {
      "cell_type": "code",
      "source": [
        "q2.rotate()\n",
        "q2"
      ],
      "metadata": {
        "colab": {
          "base_uri": "https://localhost:8080/"
        },
        "id": "tV8ZzcoCwVlD",
        "outputId": "73267d59-abe0-43c1-bc2e-96fcf2c29fe9"
      },
      "execution_count": null,
      "outputs": [
        {
          "output_type": "execute_result",
          "data": {
            "text/plain": [
              "deque(['Python',\n",
              "       'Internship',\n",
              "       'Python',\n",
              "       'Good',\n",
              "       ['Harini'],\n",
              "       'Hi',\n",
              "       '1',\n",
              "       'Python',\n",
              "       'Internship',\n",
              "       'Python',\n",
              "       'Hackveda',\n",
              "       'Internship',\n",
              "       'Python'])"
            ]
          },
          "metadata": {},
          "execution_count": 25
        }
      ]
    },
    {
      "cell_type": "code",
      "source": [
        "q2.rotate(4)#O(1)\n",
        "q2"
      ],
      "metadata": {
        "colab": {
          "base_uri": "https://localhost:8080/"
        },
        "id": "Eca54Am2wok7",
        "outputId": "48f0dd98-83c8-4caf-f2ce-f4b157dad921"
      },
      "execution_count": null,
      "outputs": [
        {
          "output_type": "execute_result",
          "data": {
            "text/plain": [
              "deque(['Python',\n",
              "       'Hackveda',\n",
              "       'Internship',\n",
              "       'Python',\n",
              "       'Python',\n",
              "       'Internship',\n",
              "       'Python',\n",
              "       'Good',\n",
              "       ['Harini'],\n",
              "       'Hi',\n",
              "       '1',\n",
              "       'Python',\n",
              "       'Internship'])"
            ]
          },
          "metadata": {},
          "execution_count": 26
        }
      ]
    },
    {
      "cell_type": "code",
      "source": [
        "q2.maxlen\n",
        "q2"
      ],
      "metadata": {
        "colab": {
          "base_uri": "https://localhost:8080/"
        },
        "id": "9vgiISCsxCyd",
        "outputId": "b28c2e68-925c-425c-8087-18a06c743f0b"
      },
      "execution_count": null,
      "outputs": [
        {
          "output_type": "execute_result",
          "data": {
            "text/plain": [
              "deque(['Python',\n",
              "       'Hackveda',\n",
              "       'Internship',\n",
              "       'Python',\n",
              "       'Python',\n",
              "       'Internship',\n",
              "       'Python',\n",
              "       'Good',\n",
              "       ['Harini'],\n",
              "       'Hi',\n",
              "       '1',\n",
              "       'Python',\n",
              "       'Internship'])"
            ]
          },
          "metadata": {},
          "execution_count": 31
        }
      ]
    },
    {
      "cell_type": "code",
      "source": [
        "class Queue:\n",
        "  def __init__(self):\n",
        "    self.queue=deque()\n",
        "  def insert(self,item):\n",
        "    self.queue.append(item)\n",
        "  def delete(self):\n",
        "    if len(self.queue)>0:\n",
        "      return self.queue.popleft()\n",
        "    else:\n",
        "      return None\n",
        "  def __str__(self):\n",
        "    return str(self.queue)\n",
        "my_queue=Queue()\n",
        "my_queue.insert(50)\n",
        "print(my_queue)"
      ],
      "metadata": {
        "colab": {
          "base_uri": "https://localhost:8080/"
        },
        "id": "tvIgYgTfzYlM",
        "outputId": "43ef249a-96bc-405a-b87b-30d2539f0710"
      },
      "execution_count": null,
      "outputs": [
        {
          "output_type": "stream",
          "name": "stdout",
          "text": [
            "deque([50])\n"
          ]
        }
      ]
    }
  ]
}