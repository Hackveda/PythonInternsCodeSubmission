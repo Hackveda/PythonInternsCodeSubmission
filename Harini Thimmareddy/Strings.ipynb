{
  "nbformat": 4,
  "nbformat_minor": 0,
  "metadata": {
    "colab": {
      "provenance": [],
      "authorship_tag": "ABX9TyM3MnZnK40v9ETFEV0vBWPk",
      "include_colab_link": true
    },
    "kernelspec": {
      "name": "python3",
      "display_name": "Python 3"
    },
    "language_info": {
      "name": "python"
    }
  },
  "cells": [
    {
      "cell_type": "markdown",
      "metadata": {
        "id": "view-in-github",
        "colab_type": "text"
      },
      "source": [
        "<a href=\"https://colab.research.google.com/github/Hackveda/PythonInternsCodeSubmission/blob/main/Harini%20Thimmareddy/Strings.ipynb\" target=\"_parent\"><img src=\"https://colab.research.google.com/assets/colab-badge.svg\" alt=\"Open In Colab\"/></a>"
      ]
    },
    {
      "cell_type": "code",
      "execution_count": null,
      "metadata": {
        "colab": {
          "base_uri": "https://localhost:8080/"
        },
        "id": "mnfjFslfIzHa",
        "outputId": "1a50d100-e6bf-46bc-e248-e95331bfa0bc"
      },
      "outputs": [
        {
          "output_type": "stream",
          "name": "stdout",
          "text": [
            "Harini <class 'str'>\n",
            "Reddy <class 'str'>\n"
          ]
        }
      ],
      "source": [
        "a=\"Harini\"\n",
        "b=\"Reddy\"\n",
        "print(a,type(a))\n",
        "print(b,type(b))"
      ]
    },
    {
      "cell_type": "code",
      "source": [
        "H=\"Hello chick's\"\n",
        "print(H)"
      ],
      "metadata": {
        "colab": {
          "base_uri": "https://localhost:8080/"
        },
        "id": "QGDC4gMTJlit",
        "outputId": "4925cbac-ede4-4eda-bdbf-4e6461df0886"
      },
      "execution_count": null,
      "outputs": [
        {
          "output_type": "stream",
          "name": "stdout",
          "text": [
            "Hello chick's\n"
          ]
        }
      ]
    },
    {
      "cell_type": "code",
      "source": [
        "H='Hello chick\\'s'\n",
        "print(H)"
      ],
      "metadata": {
        "colab": {
          "base_uri": "https://localhost:8080/"
        },
        "id": "yzXlhXH5J3V7",
        "outputId": "1075c2c8-c64c-4e89-f9ac-1dd6d2d5a969"
      },
      "execution_count": null,
      "outputs": [
        {
          "output_type": "stream",
          "name": "stdout",
          "text": [
            "Hello chick's\n"
          ]
        }
      ]
    },
    {
      "cell_type": "code",
      "source": [
        "print('H\\\\ari\\ni')"
      ],
      "metadata": {
        "colab": {
          "base_uri": "https://localhost:8080/"
        },
        "id": "BTDfP_89KeqF",
        "outputId": "27e3e34c-bb35-4fd8-b3de-6c3faafe5b68"
      },
      "execution_count": null,
      "outputs": [
        {
          "output_type": "stream",
          "name": "stdout",
          "text": [
            "H\\ari\n",
            "i\n"
          ]
        }
      ]
    },
    {
      "cell_type": "code",
      "source": [
        "#raw string\n",
        "print(r'H\\\\ari\\ni')"
      ],
      "metadata": {
        "colab": {
          "base_uri": "https://localhost:8080/"
        },
        "id": "h4gX1VP7Knen",
        "outputId": "a13084a3-efbc-40c2-ef0a-3cca249d1685"
      },
      "execution_count": null,
      "outputs": [
        {
          "output_type": "stream",
          "name": "stdout",
          "text": [
            "H\\\\ari\\ni\n"
          ]
        }
      ]
    },
    {
      "cell_type": "code",
      "source": [
        "a='Harini' 'reddy'\n",
        "print(a)"
      ],
      "metadata": {
        "colab": {
          "base_uri": "https://localhost:8080/"
        },
        "id": "YG08IWYgOhHC",
        "outputId": "7dd64242-7217-4bc7-87c0-de1da833f334"
      },
      "execution_count": null,
      "outputs": [
        {
          "output_type": "stream",
          "name": "stdout",
          "text": [
            "Harinireddy\n"
          ]
        }
      ]
    }
  ]
}