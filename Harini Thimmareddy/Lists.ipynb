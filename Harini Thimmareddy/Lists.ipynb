{
  "nbformat": 4,
  "nbformat_minor": 0,
  "metadata": {
    "colab": {
      "provenance": [],
      "authorship_tag": "ABX9TyMlHKSJm6VLfpIRPE3W8xss",
      "include_colab_link": true
    },
    "kernelspec": {
      "name": "python3",
      "display_name": "Python 3"
    },
    "language_info": {
      "name": "python"
    }
  },
  "cells": [
    {
      "cell_type": "markdown",
      "metadata": {
        "id": "view-in-github",
        "colab_type": "text"
      },
      "source": [
        "<a href=\"https://colab.research.google.com/github/Hackveda/PythonInternsCodeSubmission/blob/main/Harini%20Thimmareddy/Lists.ipynb\" target=\"_parent\"><img src=\"https://colab.research.google.com/assets/colab-badge.svg\" alt=\"Open In Colab\"/></a>"
      ]
    },
    {
      "cell_type": "code",
      "execution_count": 1,
      "metadata": {
        "colab": {
          "base_uri": "https://localhost:8080/"
        },
        "id": "PabjyjG5ZrdT",
        "outputId": "39c79466-1c34-46ac-f3b4-6929cbec1971"
      },
      "outputs": [
        {
          "output_type": "stream",
          "name": "stdout",
          "text": [
            "<class 'list'>\n"
          ]
        }
      ],
      "source": [
        "#Lists are compound data types\n",
        "l=[]\n",
        "print(type(l))"
      ]
    },
    {
      "cell_type": "code",
      "source": [
        "l=[3,2,5,9]\n",
        "print(type(l))"
      ],
      "metadata": {
        "colab": {
          "base_uri": "https://localhost:8080/"
        },
        "id": "ogDEb62BaNHt",
        "outputId": "b4eb0fe4-2a38-45ce-8326-64885fddba87"
      },
      "execution_count": 2,
      "outputs": [
        {
          "output_type": "stream",
          "name": "stdout",
          "text": [
            "<class 'list'>\n"
          ]
        }
      ]
    },
    {
      "cell_type": "code",
      "source": [
        "a=\"Harini\"\n",
        "h=\"5.4\"\n",
        "print(a,type(a),h)"
      ],
      "metadata": {
        "colab": {
          "base_uri": "https://localhost:8080/"
        },
        "id": "Yq7aQqd3aUKc",
        "outputId": "2be8faa6-a840-42d7-a2f1-6a5873702cc9"
      },
      "execution_count": 3,
      "outputs": [
        {
          "output_type": "stream",
          "name": "stdout",
          "text": [
            "Harini <class 'str'> 5.4\n"
          ]
        }
      ]
    },
    {
      "cell_type": "code",
      "source": [
        "#can store different data types\n",
        "l=[1,\"Harini\",1.23,'a']\n",
        "print(type(l))"
      ],
      "metadata": {
        "colab": {
          "base_uri": "https://localhost:8080/"
        },
        "id": "o0uS7rWsapiT",
        "outputId": "ac3a9acf-f468-416b-a067-13996e553aa9"
      },
      "execution_count": 4,
      "outputs": [
        {
          "output_type": "stream",
          "name": "stdout",
          "text": [
            "<class 'list'>\n"
          ]
        }
      ]
    },
    {
      "cell_type": "code",
      "source": [
        "#index,value\n",
        "l=[1,\"Harini\",1.456,'a']\n",
        "for i in range(0,len(l)):\n",
        "  print(i,l[i])"
      ],
      "metadata": {
        "colab": {
          "base_uri": "https://localhost:8080/"
        },
        "id": "fXv87Hzia5UJ",
        "outputId": "26a85919-5ecf-4ec0-c6a3-970deeaf8704"
      },
      "execution_count": 5,
      "outputs": [
        {
          "output_type": "stream",
          "name": "stdout",
          "text": [
            "0 1\n",
            "1 Harini\n",
            "2 1.456\n",
            "3 a\n"
          ]
        }
      ]
    },
    {
      "cell_type": "code",
      "source": [
        "#concatination\n",
        "a=[1,2,3]\n",
        "b=['a','b','c']\n",
        "print(a+b)"
      ],
      "metadata": {
        "colab": {
          "base_uri": "https://localhost:8080/"
        },
        "id": "-x_6Cb2jm31u",
        "outputId": "0bb4a7e1-bb48-4a29-a2c0-f3054e2a0c70"
      },
      "execution_count": 8,
      "outputs": [
        {
          "output_type": "stream",
          "name": "stdout",
          "text": [
            "[1, 2, 3, 'a', 'b', 'c']\n"
          ]
        }
      ]
    },
    {
      "cell_type": "code",
      "source": [
        "#append\n",
        "l=[1,2]\n",
        "l.append(3)\n",
        "print(l)"
      ],
      "metadata": {
        "colab": {
          "base_uri": "https://localhost:8080/"
        },
        "id": "MUQ5qd40nEof",
        "outputId": "f48eda8f-8457-4288-aaf0-91dda78ca864"
      },
      "execution_count": 9,
      "outputs": [
        {
          "output_type": "stream",
          "name": "stdout",
          "text": [
            "[1, 2, 3]\n"
          ]
        }
      ]
    },
    {
      "cell_type": "code",
      "source": [
        "#slicing\n",
        "a=[1,2,3,'a','b','c']\n",
        "print(a[:4])"
      ],
      "metadata": {
        "colab": {
          "base_uri": "https://localhost:8080/"
        },
        "id": "RKlCuLtHnTp9",
        "outputId": "3803b144-de87-4212-e783-74299d78fffc"
      },
      "execution_count": 10,
      "outputs": [
        {
          "output_type": "stream",
          "name": "stdout",
          "text": [
            "[1, 2, 3, 'a']\n"
          ]
        }
      ]
    },
    {
      "cell_type": "code",
      "source": [
        "#insert,append=O(1)\n",
        "#for specific location inserting n items then complexity is O(n)\n",
        "#nested_list\n",
        "a=[1,2,3]\n",
        "b=['a','b','c']\n",
        "nl=[a,b]\n",
        "nl"
      ],
      "metadata": {
        "colab": {
          "base_uri": "https://localhost:8080/"
        },
        "id": "YdzZqof0nfpS",
        "outputId": "341a2c4f-6bbb-4c03-de08-24f7d0f420d1"
      },
      "execution_count": 11,
      "outputs": [
        {
          "output_type": "execute_result",
          "data": {
            "text/plain": [
              "[[1, 2, 3], ['a', 'b', 'c']]"
            ]
          },
          "metadata": {},
          "execution_count": 11
        }
      ]
    },
    {
      "cell_type": "code",
      "source": [
        "#reverse()\n",
        "a.reverse()\n",
        "a"
      ],
      "metadata": {
        "colab": {
          "base_uri": "https://localhost:8080/"
        },
        "id": "g4PsgkNBoY_l",
        "outputId": "c0852df6-04b0-4d6d-b3fd-d8f8e8005eb1"
      },
      "execution_count": 12,
      "outputs": [
        {
          "output_type": "execute_result",
          "data": {
            "text/plain": [
              "[3, 2, 1]"
            ]
          },
          "metadata": {},
          "execution_count": 12
        }
      ]
    },
    {
      "cell_type": "code",
      "source": [
        "#complexity o(n)\n",
        "a.insert(2,8)\n",
        "a"
      ],
      "metadata": {
        "colab": {
          "base_uri": "https://localhost:8080/"
        },
        "id": "LxCr55lcor_9",
        "outputId": "ea78750a-9aa0-4c78-a288-e73fe5d540ba"
      },
      "execution_count": 13,
      "outputs": [
        {
          "output_type": "execute_result",
          "data": {
            "text/plain": [
              "[3, 2, 8, 1]"
            ]
          },
          "metadata": {},
          "execution_count": 13
        }
      ]
    },
    {
      "cell_type": "code",
      "source": [
        "#complexity o(1)\n",
        "a.append('a')\n",
        "a"
      ],
      "metadata": {
        "colab": {
          "base_uri": "https://localhost:8080/"
        },
        "id": "SCnZqBORqED1",
        "outputId": "dd30a703-94ee-4a90-b195-322bc7c6c19d"
      },
      "execution_count": 14,
      "outputs": [
        {
          "output_type": "execute_result",
          "data": {
            "text/plain": [
              "[3, 2, 8, 1, 'a']"
            ]
          },
          "metadata": {},
          "execution_count": 14
        }
      ]
    }
  ]
}