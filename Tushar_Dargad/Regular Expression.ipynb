{
 "cells": [
  {
   "cell_type": "code",
   "execution_count": 11,
   "id": "0f3ec237",
   "metadata": {},
   "outputs": [],
   "source": [
    "import re"
   ]
  },
  {
   "cell_type": "code",
   "execution_count": 12,
   "id": "6ecf6878",
   "metadata": {},
   "outputs": [
    {
     "name": "stdout",
     "output_type": "stream",
     "text": [
      "0...2...ab\n",
      "3...5...ab\n",
      "5...7...ab\n",
      "The number of occurrences : 3\n"
     ]
    }
   ],
   "source": [
    "pattern=re.compile('ab')\n",
    "matcher=pattern.finditer(\"abaababa\")\n",
    "count=0\n",
    "for match in matcher:\n",
    "    count+=1\n",
    "    print(f\"{match.start()}...{match.end()}...{match.group()}\")\n",
    "    \n",
    "print(f'The number of occurrences : {count}')"
   ]
  },
  {
   "cell_type": "code",
   "execution_count": 13,
   "id": "4c30286f",
   "metadata": {},
   "outputs": [
    {
     "name": "stdout",
     "output_type": "stream",
     "text": [
      "<re.Match object; span=(0, 2), match='ab'>\n",
      "<re.Match object; span=(3, 5), match='ab'>\n",
      "<re.Match object; span=(5, 7), match='ab'>\n"
     ]
    }
   ],
   "source": [
    "count=0\n",
    "matcher=re.finditer(\"ab\",\"abaababa\")\n",
    "for match in matcher:\n",
    "    print(match)"
   ]
  },
  {
   "cell_type": "code",
   "execution_count": 16,
   "id": "9fca9aa4",
   "metadata": {},
   "outputs": [
    {
     "name": "stdout",
     "output_type": "stream",
     "text": [
      "0 ...... a\n",
      "2 ...... b\n"
     ]
    }
   ],
   "source": [
    "matcher=re.finditer('[abc]',\"a7b@k9z\")\n",
    "for match in matcher:\n",
    "    print(match.start(),\"......\",match.group())"
   ]
  },
  {
   "cell_type": "code",
   "execution_count": 17,
   "id": "1cd1422f",
   "metadata": {},
   "outputs": [
    {
     "name": "stdout",
     "output_type": "stream",
     "text": [
      "1 ...... 7\n",
      "3 ...... @\n",
      "4 ...... k\n",
      "5 ...... 9\n",
      "6 ...... z\n"
     ]
    }
   ],
   "source": [
    "matcher=re.finditer('[^abc]',\"a7b@k9z\")\n",
    "for match in matcher:\n",
    "    print(match.start(),\"......\",match.group())"
   ]
  },
  {
   "cell_type": "code",
   "execution_count": 18,
   "id": "97ead255",
   "metadata": {},
   "outputs": [
    {
     "name": "stdout",
     "output_type": "stream",
     "text": [
      "0 ...... a\n",
      "2 ...... b\n",
      "4 ...... k\n",
      "6 ...... z\n"
     ]
    }
   ],
   "source": [
    "matcher=re.finditer('[a-z]',\"a7b@k9z\")\n",
    "for match in matcher:\n",
    "    print(match.start(),\"......\",match.group())"
   ]
  },
  {
   "cell_type": "code",
   "execution_count": 19,
   "id": "8a0d92fa",
   "metadata": {},
   "outputs": [
    {
     "name": "stdout",
     "output_type": "stream",
     "text": [
      "1 ...... 7\n",
      "5 ...... 9\n"
     ]
    }
   ],
   "source": [
    "matcher=re.finditer('[0-9]',\"a7b@k9z\")\n",
    "for match in matcher:\n",
    "    print(match.start(),\"......\",match.group())"
   ]
  },
  {
   "cell_type": "code",
   "execution_count": 22,
   "id": "0977da20",
   "metadata": {},
   "outputs": [
    {
     "name": "stdout",
     "output_type": "stream",
     "text": [
      "0 ...... a\n",
      "1 ...... 7\n",
      "2 ...... b\n",
      "4 ...... k\n",
      "5 ...... 9\n",
      "6 ...... z\n"
     ]
    }
   ],
   "source": [
    "matcher=re.finditer('[a-zA-Z0-9]',\"a7b@k9z\")\n",
    "for match in matcher:\n",
    "    print(match.start(),\"......\",match.group())"
   ]
  },
  {
   "cell_type": "code",
   "execution_count": 23,
   "id": "c6c917e7",
   "metadata": {},
   "outputs": [
    {
     "name": "stdout",
     "output_type": "stream",
     "text": [
      "3 ...... @\n"
     ]
    }
   ],
   "source": [
    "matcher=re.finditer('[^a-zA-Z0-9]',\"a7b@k9z\")\n",
    "for match in matcher:\n",
    "    print(match.start(),\"......\",match.group())"
   ]
  },
  {
   "cell_type": "code",
   "execution_count": 25,
   "id": "8947c561",
   "metadata": {},
   "outputs": [
    {
     "name": "stdout",
     "output_type": "stream",
     "text": [
      "3 ......  \n"
     ]
    }
   ],
   "source": [
    "matcher=re.finditer('\\s',\"a7b @k9z\")\n",
    "for match in matcher:\n",
    "    print(match.start(),\"......\",match.group())"
   ]
  },
  {
   "cell_type": "code",
   "execution_count": 26,
   "id": "c4ff19d4",
   "metadata": {},
   "outputs": [
    {
     "name": "stdout",
     "output_type": "stream",
     "text": [
      "0 ...... a\n",
      "1 ...... 7\n",
      "2 ...... b\n",
      "4 ...... @\n",
      "5 ...... k\n",
      "6 ...... 9\n",
      "7 ...... z\n"
     ]
    }
   ],
   "source": [
    "matcher=re.finditer('\\S',\"a7b @k9z\")\n",
    "for match in matcher:\n",
    "    print(match.start(),\"......\",match.group())"
   ]
  },
  {
   "cell_type": "code",
   "execution_count": 27,
   "id": "6f6c785b",
   "metadata": {},
   "outputs": [
    {
     "name": "stdout",
     "output_type": "stream",
     "text": [
      "1 ...... 7\n",
      "6 ...... 9\n"
     ]
    }
   ],
   "source": [
    "matcher=re.finditer('\\d',\"a7b @k9z\")\n",
    "for match in matcher:\n",
    "    print(match.start(),\"......\",match.group())"
   ]
  },
  {
   "cell_type": "code",
   "execution_count": 28,
   "id": "8a174d67",
   "metadata": {},
   "outputs": [
    {
     "name": "stdout",
     "output_type": "stream",
     "text": [
      "0 ...... a\n",
      "2 ...... b\n",
      "3 ......  \n",
      "4 ...... @\n",
      "5 ...... k\n",
      "7 ...... z\n"
     ]
    }
   ],
   "source": [
    "matcher=re.finditer('\\D',\"a7b @k9z\")\n",
    "for match in matcher:\n",
    "    print(match.start(),\"......\",match.group())"
   ]
  },
  {
   "cell_type": "code",
   "execution_count": 29,
   "id": "81f4ef24",
   "metadata": {},
   "outputs": [
    {
     "name": "stdout",
     "output_type": "stream",
     "text": [
      "0 ...... a\n",
      "1 ...... 7\n",
      "2 ...... b\n",
      "5 ...... k\n",
      "6 ...... 9\n",
      "7 ...... z\n"
     ]
    }
   ],
   "source": [
    "matcher=re.finditer('\\w',\"a7b @k9z\")\n",
    "for match in matcher:\n",
    "    print(match.start(),\"......\",match.group())"
   ]
  },
  {
   "cell_type": "code",
   "execution_count": 30,
   "id": "6a1596cd",
   "metadata": {},
   "outputs": [
    {
     "name": "stdout",
     "output_type": "stream",
     "text": [
      "3 ......  \n",
      "4 ...... @\n"
     ]
    }
   ],
   "source": [
    "matcher=re.finditer('\\W',\"a7b @k9z\")\n",
    "for match in matcher:\n",
    "    print(match.start(),\"......\",match.group())"
   ]
  },
  {
   "cell_type": "code",
   "execution_count": 31,
   "id": "700039f2",
   "metadata": {},
   "outputs": [
    {
     "name": "stdout",
     "output_type": "stream",
     "text": [
      "0 ...... a\n",
      "2 ...... a\n",
      "3 ...... a\n",
      "5 ...... a\n",
      "6 ...... a\n",
      "7 ...... a\n"
     ]
    }
   ],
   "source": [
    "matcher=re.finditer(\"a\",\"abaabaaab\")\n",
    "for match in matcher:\n",
    "    print(match.start(),\"......\",match.group())"
   ]
  },
  {
   "cell_type": "code",
   "execution_count": 32,
   "id": "0f5911ae",
   "metadata": {},
   "outputs": [
    {
     "name": "stdout",
     "output_type": "stream",
     "text": [
      "0 ...... a\n",
      "2 ...... aa\n",
      "5 ...... aaa\n"
     ]
    }
   ],
   "source": [
    "matcher=re.finditer(\"a+\",\"abaabaaab\")\n",
    "for match in matcher:\n",
    "    print(match.start(),\"......\",match.group())"
   ]
  },
  {
   "cell_type": "code",
   "execution_count": 33,
   "id": "807fc3f5",
   "metadata": {},
   "outputs": [
    {
     "name": "stdout",
     "output_type": "stream",
     "text": [
      "0 ...... a\n",
      "1 ...... \n",
      "2 ...... aa\n",
      "4 ...... \n",
      "5 ...... aaa\n",
      "8 ...... \n",
      "9 ...... \n"
     ]
    }
   ],
   "source": [
    "matcher=re.finditer(\"a*\",\"abaabaaab\")\n",
    "for match in matcher:\n",
    "    print(match.start(),\"......\",match.group())"
   ]
  },
  {
   "cell_type": "code",
   "execution_count": 34,
   "id": "14e4f39e",
   "metadata": {},
   "outputs": [
    {
     "name": "stdout",
     "output_type": "stream",
     "text": [
      "0 ...... a\n",
      "1 ...... \n",
      "2 ...... a\n",
      "3 ...... a\n",
      "4 ...... \n",
      "5 ...... a\n",
      "6 ...... a\n",
      "7 ...... a\n",
      "8 ...... \n",
      "9 ...... \n"
     ]
    }
   ],
   "source": [
    "matcher=re.finditer(\"a?\",\"abaabaaab\")\n",
    "for match in matcher:\n",
    "    print(match.start(),\"......\",match.group())"
   ]
  },
  {
   "cell_type": "code",
   "execution_count": 35,
   "id": "bf11ec2f",
   "metadata": {},
   "outputs": [
    {
     "name": "stdout",
     "output_type": "stream",
     "text": [
      "5 ...... aaa\n"
     ]
    }
   ],
   "source": [
    "matcher=re.finditer(\"a{3}\",\"abaabaaab\")\n",
    "for match in matcher:\n",
    "    print(match.start(),\"......\",match.group())"
   ]
  },
  {
   "cell_type": "code",
   "execution_count": 36,
   "id": "3f57e2f2",
   "metadata": {},
   "outputs": [
    {
     "name": "stdout",
     "output_type": "stream",
     "text": [
      "2 ...... aa\n",
      "5 ...... aaa\n"
     ]
    }
   ],
   "source": [
    "matcher=re.finditer(\"a{2,4}\",\"abaabaaab\")\n",
    "for match in matcher:\n",
    "    print(match.start(),\"......\",match.group())"
   ]
  },
  {
   "cell_type": "code",
   "execution_count": 37,
   "id": "e5f7aa19",
   "metadata": {},
   "outputs": [
    {
     "name": "stdout",
     "output_type": "stream",
     "text": [
      "Enter number:9130061481\n",
      "Valid Mobile Number\n"
     ]
    }
   ],
   "source": [
    "n=input(\"Enter number:\")\n",
    "m=re.fullmatch(\"[7-9]\\d{9}\",n)\n",
    "if m!= None:\n",
    "    print(\"Valid Mobile Number\")\n",
    "else:\n",
    "    print(\"Invalid Mobile Number\")"
   ]
  },
  {
   "cell_type": "code",
   "execution_count": 38,
   "id": "8aa24287",
   "metadata": {},
   "outputs": [
    {
     "name": "stdout",
     "output_type": "stream",
     "text": [
      "019058219\n",
      "919945600000\n",
      "919945600000\n",
      "25306184\n"
     ]
    }
   ],
   "source": [
    "import re,urllib\n",
    "import urllib.request\n",
    "u=urllib.request.urlopen(\"https://www.redbus.in/info/contactus\")\n",
    "text=u.read()\n",
    "numbers=re.findall(\"[0-9-]{7}[0-9-]+\",str(text),re.I)\n",
    "for n in numbers:\n",
    "    print(n)"
   ]
  },
  {
   "cell_type": "code",
   "execution_count": null,
   "id": "d53d01dd",
   "metadata": {},
   "outputs": [],
   "source": []
  }
 ],
 "metadata": {
  "kernelspec": {
   "display_name": "Python 3 (ipykernel)",
   "language": "python",
   "name": "python3"
  },
  "language_info": {
   "codemirror_mode": {
    "name": "ipython",
    "version": 3
   },
   "file_extension": ".py",
   "mimetype": "text/x-python",
   "name": "python",
   "nbconvert_exporter": "python",
   "pygments_lexer": "ipython3",
   "version": "3.8.12"
  }
 },
 "nbformat": 4,
 "nbformat_minor": 5
}
