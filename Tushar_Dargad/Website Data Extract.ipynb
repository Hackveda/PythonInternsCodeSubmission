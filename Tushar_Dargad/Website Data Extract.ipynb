{
 "cells": [
  {
   "cell_type": "code",
   "execution_count": 26,
   "id": "1f0a6345",
   "metadata": {},
   "outputs": [],
   "source": [
    "from selenium import webdriver\n",
    "import time"
   ]
  },
  {
   "cell_type": "code",
   "execution_count": 27,
   "id": "5e1db4b8",
   "metadata": {},
   "outputs": [
    {
     "name": "stderr",
     "output_type": "stream",
     "text": [
      "C:\\Users\\hp\\AppData\\Local\\Temp/ipykernel_1008/862495855.py:1: DeprecationWarning: executable_path has been deprecated, please pass in a Service object\n",
      "  browser=webdriver.Chrome(\"D:/chromedriver.exe\")\n"
     ]
    }
   ],
   "source": [
    "browser=webdriver.Chrome(\"D:/chromedriver.exe\")\n",
    "#browser.maximize_window()\n",
    "browser.get(\"https://www.knowafest.com/college-fests/upcomingfests\")"
   ]
  },
  {
   "cell_type": "code",
   "execution_count": 28,
   "id": "875ebd08",
   "metadata": {},
   "outputs": [
    {
     "name": "stderr",
     "output_type": "stream",
     "text": [
      "C:\\Users\\hp\\AppData\\Local\\Temp/ipykernel_1008/2134400841.py:1: DeprecationWarning: find_element_by_* commands are deprecated. Please use find_element() instead\n",
      "  table=browser.find_element_by_id(\"tablaDatos\")\n"
     ]
    }
   ],
   "source": [
    "table=browser.find_element_by_id(\"tablaDatos\")"
   ]
  },
  {
   "cell_type": "code",
   "execution_count": 29,
   "id": "cb6a2f45",
   "metadata": {},
   "outputs": [
    {
     "name": "stderr",
     "output_type": "stream",
     "text": [
      "C:\\Users\\hp\\AppData\\Local\\Temp/ipykernel_1008/1354670707.py:2: DeprecationWarning: find_element_by_tag_name is deprecated. Please use find_element(by=By.TAG_NAME, value=name) instead\n",
      "  thead=table.find_element_by_tag_name(\"thead\")\n"
     ]
    },
    {
     "data": {
      "text/plain": [
       "<selenium.webdriver.remote.webelement.WebElement (session=\"785cb91c841f790ff4eea48970245afc\", element=\"81983d16-2cc9-43b9-ba5d-26c5f7096391\")>"
      ]
     },
     "execution_count": 29,
     "metadata": {},
     "output_type": "execute_result"
    }
   ],
   "source": [
    "# Search The element in the table\n",
    "thead=table.find_element_by_tag_name(\"thead\")\n",
    "thead"
   ]
  },
  {
   "cell_type": "code",
   "execution_count": 30,
   "id": "d5a24835",
   "metadata": {},
   "outputs": [
    {
     "name": "stderr",
     "output_type": "stream",
     "text": [
      "C:\\Users\\hp\\AppData\\Local\\Temp/ipykernel_1008/564989857.py:1: DeprecationWarning: find_elements_by_tag_name is deprecated. Please use find_elements(by=By.TAG_NAME, value=name) instead\n",
      "  th_list = thead.find_elements_by_tag_name(\"th\")\n"
     ]
    },
    {
     "data": {
      "text/plain": [
       "[<selenium.webdriver.remote.webelement.WebElement (session=\"785cb91c841f790ff4eea48970245afc\", element=\"81c00a9a-001a-47fd-811a-e298677efe5a\")>,\n",
       " <selenium.webdriver.remote.webelement.WebElement (session=\"785cb91c841f790ff4eea48970245afc\", element=\"1266fc01-2fe3-460d-b942-d4f30f1d3127\")>,\n",
       " <selenium.webdriver.remote.webelement.WebElement (session=\"785cb91c841f790ff4eea48970245afc\", element=\"d2aed900-7a4d-46cd-aa7c-90cbd54f880f\")>,\n",
       " <selenium.webdriver.remote.webelement.WebElement (session=\"785cb91c841f790ff4eea48970245afc\", element=\"e9b30fa7-1d3a-408b-b042-b5e2cfc9886a\")>,\n",
       " <selenium.webdriver.remote.webelement.WebElement (session=\"785cb91c841f790ff4eea48970245afc\", element=\"7c9cc037-5985-4051-a039-a073f317861b\")>]"
      ]
     },
     "execution_count": 30,
     "metadata": {},
     "output_type": "execute_result"
    }
   ],
   "source": [
    "th_list = thead.find_elements_by_tag_name(\"th\")\n",
    "th_list"
   ]
  },
  {
   "cell_type": "code",
   "execution_count": 31,
   "id": "42842736",
   "metadata": {},
   "outputs": [
    {
     "name": "stdout",
     "output_type": "stream",
     "text": [
      "Fest Starts\n",
      "Fest Name\n",
      "Fest Type\n",
      "Organiser\n",
      "Fest Ends\n"
     ]
    }
   ],
   "source": [
    "for th in th_list:\n",
    "    heading=th.text\n",
    "    print(heading)"
   ]
  },
  {
   "cell_type": "code",
   "execution_count": 32,
   "id": "cb902577",
   "metadata": {
    "scrolled": true
   },
   "outputs": [
    {
     "name": "stderr",
     "output_type": "stream",
     "text": [
      "C:\\Users\\hp\\AppData\\Local\\Temp/ipykernel_1008/4034028499.py:1: DeprecationWarning: find_element_by_tag_name is deprecated. Please use find_element(by=By.TAG_NAME, value=name) instead\n",
      "  tbody=table.find_element_by_tag_name(\"tbody\")\n"
     ]
    },
    {
     "data": {
      "text/plain": [
       "<selenium.webdriver.remote.webelement.WebElement (session=\"785cb91c841f790ff4eea48970245afc\", element=\"d0d0a873-370c-4237-ba5e-c12b7697b3cf\")>"
      ]
     },
     "execution_count": 32,
     "metadata": {},
     "output_type": "execute_result"
    }
   ],
   "source": [
    "tbody=table.find_element_by_tag_name(\"tbody\")\n",
    "tbody"
   ]
  },
  {
   "cell_type": "code",
   "execution_count": 33,
   "id": "74352c90",
   "metadata": {},
   "outputs": [
    {
     "name": "stderr",
     "output_type": "stream",
     "text": [
      "C:\\Users\\hp\\AppData\\Local\\Temp/ipykernel_1008/2565988303.py:1: DeprecationWarning: find_elements_by_tag_name is deprecated. Please use find_elements(by=By.TAG_NAME, value=name) instead\n",
      "  tr_list=tbody.find_elements_by_tag_name(\"tr\")\n"
     ]
    },
    {
     "data": {
      "text/plain": [
       "[<selenium.webdriver.remote.webelement.WebElement (session=\"785cb91c841f790ff4eea48970245afc\", element=\"b94a8d3b-eea4-4fb8-98ef-367034f70d2f\")>,\n",
       " <selenium.webdriver.remote.webelement.WebElement (session=\"785cb91c841f790ff4eea48970245afc\", element=\"cc3060d8-74de-4209-b514-de168ae8c211\")>,\n",
       " <selenium.webdriver.remote.webelement.WebElement (session=\"785cb91c841f790ff4eea48970245afc\", element=\"85f33b87-8d62-4e9b-a956-2b5d2c68761a\")>,\n",
       " <selenium.webdriver.remote.webelement.WebElement (session=\"785cb91c841f790ff4eea48970245afc\", element=\"c6061838-8b7a-4684-bb62-06536ba64fe1\")>,\n",
       " <selenium.webdriver.remote.webelement.WebElement (session=\"785cb91c841f790ff4eea48970245afc\", element=\"f1f232cd-c754-4999-986f-af4bac359ace\")>,\n",
       " <selenium.webdriver.remote.webelement.WebElement (session=\"785cb91c841f790ff4eea48970245afc\", element=\"c7911d43-c365-44af-b8f4-3280c38f158c\")>,\n",
       " <selenium.webdriver.remote.webelement.WebElement (session=\"785cb91c841f790ff4eea48970245afc\", element=\"c74a5e1c-b657-4c22-b67b-11210b6af110\")>,\n",
       " <selenium.webdriver.remote.webelement.WebElement (session=\"785cb91c841f790ff4eea48970245afc\", element=\"f323df34-1091-4d6e-9f13-df13d90a04a5\")>,\n",
       " <selenium.webdriver.remote.webelement.WebElement (session=\"785cb91c841f790ff4eea48970245afc\", element=\"78db113c-4d2c-4409-80de-5eeb9baa70d8\")>,\n",
       " <selenium.webdriver.remote.webelement.WebElement (session=\"785cb91c841f790ff4eea48970245afc\", element=\"457fe2b5-529c-4505-a072-91a3ba30ee77\")>,\n",
       " <selenium.webdriver.remote.webelement.WebElement (session=\"785cb91c841f790ff4eea48970245afc\", element=\"9d7cc247-f040-4817-a074-4a1ff9daf4e0\")>,\n",
       " <selenium.webdriver.remote.webelement.WebElement (session=\"785cb91c841f790ff4eea48970245afc\", element=\"cb85c738-1b25-4bac-9282-d28ee9e8f894\")>,\n",
       " <selenium.webdriver.remote.webelement.WebElement (session=\"785cb91c841f790ff4eea48970245afc\", element=\"077860a1-1be5-4dc1-acc9-24ce988e828d\")>,\n",
       " <selenium.webdriver.remote.webelement.WebElement (session=\"785cb91c841f790ff4eea48970245afc\", element=\"c4294744-b89e-40fb-ab51-111b8ad5e745\")>,\n",
       " <selenium.webdriver.remote.webelement.WebElement (session=\"785cb91c841f790ff4eea48970245afc\", element=\"0f6e7aa1-e054-4909-bb51-9547de19af88\")>,\n",
       " <selenium.webdriver.remote.webelement.WebElement (session=\"785cb91c841f790ff4eea48970245afc\", element=\"158108e6-304b-4a4b-8426-1582d485ce96\")>,\n",
       " <selenium.webdriver.remote.webelement.WebElement (session=\"785cb91c841f790ff4eea48970245afc\", element=\"7aa47e75-4776-4750-85e5-26c94276b54e\")>,\n",
       " <selenium.webdriver.remote.webelement.WebElement (session=\"785cb91c841f790ff4eea48970245afc\", element=\"a09f2abd-0158-491f-ae93-bdecc7791008\")>,\n",
       " <selenium.webdriver.remote.webelement.WebElement (session=\"785cb91c841f790ff4eea48970245afc\", element=\"5302c7d8-b506-4f11-ad6a-8d606515273d\")>,\n",
       " <selenium.webdriver.remote.webelement.WebElement (session=\"785cb91c841f790ff4eea48970245afc\", element=\"407aaa5b-0122-4398-be95-5a02e2d8a3c3\")>,\n",
       " <selenium.webdriver.remote.webelement.WebElement (session=\"785cb91c841f790ff4eea48970245afc\", element=\"6b88963c-0e2f-4dfb-815c-0ee239336a2e\")>,\n",
       " <selenium.webdriver.remote.webelement.WebElement (session=\"785cb91c841f790ff4eea48970245afc\", element=\"6482df9f-3f09-4c1c-849e-527950e1390f\")>,\n",
       " <selenium.webdriver.remote.webelement.WebElement (session=\"785cb91c841f790ff4eea48970245afc\", element=\"5f3b915a-f8ac-464a-8634-a33c01aa84b6\")>,\n",
       " <selenium.webdriver.remote.webelement.WebElement (session=\"785cb91c841f790ff4eea48970245afc\", element=\"8e077b28-6397-4a00-b9c4-1b0d2393f3d7\")>,\n",
       " <selenium.webdriver.remote.webelement.WebElement (session=\"785cb91c841f790ff4eea48970245afc\", element=\"9397a6e2-edda-4c2a-b942-3cb73f11d6c7\")>,\n",
       " <selenium.webdriver.remote.webelement.WebElement (session=\"785cb91c841f790ff4eea48970245afc\", element=\"beb74c72-f5a5-46b0-baf0-901abe909ea5\")>,\n",
       " <selenium.webdriver.remote.webelement.WebElement (session=\"785cb91c841f790ff4eea48970245afc\", element=\"63bb597d-9080-48d4-9238-d512a2270e28\")>,\n",
       " <selenium.webdriver.remote.webelement.WebElement (session=\"785cb91c841f790ff4eea48970245afc\", element=\"50f17b70-c738-4b7b-9ef0-b91be21589a0\")>,\n",
       " <selenium.webdriver.remote.webelement.WebElement (session=\"785cb91c841f790ff4eea48970245afc\", element=\"a4b57bdf-1065-44e3-a574-b7e23f23d61d\")>,\n",
       " <selenium.webdriver.remote.webelement.WebElement (session=\"785cb91c841f790ff4eea48970245afc\", element=\"e4808ea8-7b72-472d-bfab-a5bb9a3571cf\")>,\n",
       " <selenium.webdriver.remote.webelement.WebElement (session=\"785cb91c841f790ff4eea48970245afc\", element=\"b7cff61a-4f49-4edf-8509-21ad5dba2268\")>,\n",
       " <selenium.webdriver.remote.webelement.WebElement (session=\"785cb91c841f790ff4eea48970245afc\", element=\"b5999003-071c-4301-9a1f-720e41a4e7bd\")>,\n",
       " <selenium.webdriver.remote.webelement.WebElement (session=\"785cb91c841f790ff4eea48970245afc\", element=\"8ad6f610-4674-4280-9df6-edb1875c26e6\")>,\n",
       " <selenium.webdriver.remote.webelement.WebElement (session=\"785cb91c841f790ff4eea48970245afc\", element=\"86528265-1ff6-4898-986f-a96e3981c2f5\")>,\n",
       " <selenium.webdriver.remote.webelement.WebElement (session=\"785cb91c841f790ff4eea48970245afc\", element=\"8be7e2e8-a180-41e6-af6f-3cdb3a85e29f\")>,\n",
       " <selenium.webdriver.remote.webelement.WebElement (session=\"785cb91c841f790ff4eea48970245afc\", element=\"ed2d6fce-3cd4-466c-b8ff-ffaba1417a45\")>,\n",
       " <selenium.webdriver.remote.webelement.WebElement (session=\"785cb91c841f790ff4eea48970245afc\", element=\"30803cf0-0138-4c05-9a22-d85cedf5dc32\")>,\n",
       " <selenium.webdriver.remote.webelement.WebElement (session=\"785cb91c841f790ff4eea48970245afc\", element=\"39ab5c53-d83c-45f0-b8ea-faef92eb8ca3\")>,\n",
       " <selenium.webdriver.remote.webelement.WebElement (session=\"785cb91c841f790ff4eea48970245afc\", element=\"f5624424-b73d-4b48-b48a-c4e84c086321\")>,\n",
       " <selenium.webdriver.remote.webelement.WebElement (session=\"785cb91c841f790ff4eea48970245afc\", element=\"35646218-c0e3-4e66-97ce-04842f217f93\")>,\n",
       " <selenium.webdriver.remote.webelement.WebElement (session=\"785cb91c841f790ff4eea48970245afc\", element=\"fd41808d-763e-429b-adb6-10dda54226cf\")>,\n",
       " <selenium.webdriver.remote.webelement.WebElement (session=\"785cb91c841f790ff4eea48970245afc\", element=\"9ecac5ee-35d3-46ce-923c-2b47e1ab0ed4\")>,\n",
       " <selenium.webdriver.remote.webelement.WebElement (session=\"785cb91c841f790ff4eea48970245afc\", element=\"e8747455-320a-4cd4-af06-e38b6209f153\")>,\n",
       " <selenium.webdriver.remote.webelement.WebElement (session=\"785cb91c841f790ff4eea48970245afc\", element=\"454766be-3427-42e9-872a-e4e83f6df1dc\")>,\n",
       " <selenium.webdriver.remote.webelement.WebElement (session=\"785cb91c841f790ff4eea48970245afc\", element=\"9bf29a0a-8bf6-418f-bd19-5fa6a757098e\")>,\n",
       " <selenium.webdriver.remote.webelement.WebElement (session=\"785cb91c841f790ff4eea48970245afc\", element=\"90adca66-5930-474c-a90d-124c6e83c195\")>,\n",
       " <selenium.webdriver.remote.webelement.WebElement (session=\"785cb91c841f790ff4eea48970245afc\", element=\"3869b2ba-0962-4b8d-a761-2a746ca27e60\")>,\n",
       " <selenium.webdriver.remote.webelement.WebElement (session=\"785cb91c841f790ff4eea48970245afc\", element=\"7a045a76-e6c4-47f7-b5a8-e4e435d8d2af\")>,\n",
       " <selenium.webdriver.remote.webelement.WebElement (session=\"785cb91c841f790ff4eea48970245afc\", element=\"dcf87498-c6bf-44da-b2af-a5a9e2a0f79b\")>,\n",
       " <selenium.webdriver.remote.webelement.WebElement (session=\"785cb91c841f790ff4eea48970245afc\", element=\"41159e5a-ceec-43e9-95fe-0f612db0b872\")>,\n",
       " <selenium.webdriver.remote.webelement.WebElement (session=\"785cb91c841f790ff4eea48970245afc\", element=\"bde15eeb-9094-4d57-9e58-9ad2782dc1a8\")>,\n",
       " <selenium.webdriver.remote.webelement.WebElement (session=\"785cb91c841f790ff4eea48970245afc\", element=\"cac69b50-0691-4e60-a597-b1252cec5206\")>,\n",
       " <selenium.webdriver.remote.webelement.WebElement (session=\"785cb91c841f790ff4eea48970245afc\", element=\"eb6e4c5b-6c4a-4b51-8c29-0287cc6f6e14\")>]"
      ]
     },
     "execution_count": 33,
     "metadata": {},
     "output_type": "execute_result"
    }
   ],
   "source": [
    "tr_list=tbody.find_elements_by_tag_name(\"tr\")\n",
    "tr_list"
   ]
  },
  {
   "cell_type": "code",
   "execution_count": 52,
   "id": "6be70f95",
   "metadata": {},
   "outputs": [
    {
     "name": "stderr",
     "output_type": "stream",
     "text": [
      "C:\\Users\\hp\\AppData\\Local\\Temp/ipykernel_1008/4103969846.py:11: DeprecationWarning: find_elements_by_tag_name is deprecated. Please use find_elements(by=By.TAG_NAME, value=name) instead\n",
      "  td_list=tr.find_elements_by_tag_name(\"td\")\n",
      "C:\\Users\\hp\\AppData\\Local\\Temp/ipykernel_1008/4103969846.py:19: DeprecationWarning: find_elements_by_tag_name is deprecated. Please use find_elements(by=By.TAG_NAME, value=name) instead\n",
      "  span_list=event_location_data.find_elements_by_tag_name(\"span\")\n"
     ]
    },
    {
     "name": "stdout",
     "output_type": "stream",
     "text": [
      "Exception list index out of range\n"
     ]
    }
   ],
   "source": [
    "import pandas as pd\n",
    "# Iterate Over Each Row\n",
    "event_name_list= []\n",
    "start_date_list= []\n",
    "organiser_name_list= []\n",
    "address_list= []\n",
    "end_date_list= []\n",
    "my_data={}\n",
    "for tr in tr_list:\n",
    "    try:\n",
    "        td_list=tr.find_elements_by_tag_name(\"td\")\n",
    "        \n",
    "        start_date= td_list[0].text\n",
    "        event_name = td_list[1].text\n",
    "        event_type=td_list[2].text\n",
    "\n",
    "        event_location_data=td_list[3]\n",
    "        \n",
    "        span_list=event_location_data.find_elements_by_tag_name(\"span\")\n",
    "        event_organiser=span_list[1].text\n",
    "        event_add=span_list[2].text\n",
    "        \n",
    "\n",
    "        end_date=td_list[4].text\n",
    "        \n",
    "        if start_date=='' or event_name=='':\n",
    "            pass\n",
    "        \n",
    "        else:\n",
    "            #print(\"Event Name: \",event_name)\n",
    "            #print(\"Event start Date: \",start_date)\n",
    "            #print(\"Organizer Name: \",event_organiser)\n",
    "            #print(\"Event address: \",event_add)\n",
    "            #print(\"Ending Date: \",end_date)\n",
    "            #print(\"\\n\\n\")\n",
    "            \n",
    "            event_name_list.append(event_name)\n",
    "            start_date_list.append(start_date)\n",
    "            organiser_name_list.append(event_organiser)\n",
    "            address_list.append(event_add)\n",
    "            end_date_list.append(end_date)\n",
    "            \n",
    "    except Exception as e:\n",
    "        print(\"Exception\",e)\n",
    "        pass\n",
    "        \n",
    "\n",
    "result_dict= {\"Event Name\":event_name_list,\"Start Date\":start_date_list,\n",
    "                 \"Ordaniser Name\": organiser_name_list,\"Event Address\": address_list,\n",
    "                 \"Events Ends\": end_date_list}\n",
    "    \n",
    "my_data=pd.DataFrame(data=result_dict)"
   ]
  },
  {
   "cell_type": "code",
   "execution_count": 53,
   "id": "30a39c2a",
   "metadata": {},
   "outputs": [
    {
     "data": {
      "text/html": [
       "<div>\n",
       "<style scoped>\n",
       "    .dataframe tbody tr th:only-of-type {\n",
       "        vertical-align: middle;\n",
       "    }\n",
       "\n",
       "    .dataframe tbody tr th {\n",
       "        vertical-align: top;\n",
       "    }\n",
       "\n",
       "    .dataframe thead th {\n",
       "        text-align: right;\n",
       "    }\n",
       "</style>\n",
       "<table border=\"1\" class=\"dataframe\">\n",
       "  <thead>\n",
       "    <tr style=\"text-align: right;\">\n",
       "      <th></th>\n",
       "      <th>Event Name</th>\n",
       "      <th>Start Date</th>\n",
       "      <th>Ordaniser Name</th>\n",
       "      <th>Event Address</th>\n",
       "      <th>Events Ends</th>\n",
       "    </tr>\n",
       "  </thead>\n",
       "  <tbody>\n",
       "    <tr>\n",
       "      <th>0</th>\n",
       "      <td>UDAAN 2022 Read More</td>\n",
       "      <td>24 Jun 2022</td>\n",
       "      <td>Institute of Industrial and Computer Managemen...</td>\n",
       "      <td>Pune, Maharashtra</td>\n",
       "      <td>25 Jun 2022</td>\n",
       "    </tr>\n",
       "    <tr>\n",
       "      <th>1</th>\n",
       "      <td>Second International Conference on Advances in...</td>\n",
       "      <td>25 Jun 2022</td>\n",
       "      <td>RSP Conference Hub,</td>\n",
       "      <td>Coimbatore, Tamil Nadu</td>\n",
       "      <td>26 Jun 2022</td>\n",
       "    </tr>\n",
       "    <tr>\n",
       "      <th>2</th>\n",
       "      <td>International Conference on advanced Communica...</td>\n",
       "      <td>28 Jun 2022</td>\n",
       "      <td>Saveetha School of Engineering,</td>\n",
       "      <td>Chennai, Tamil Nadu</td>\n",
       "      <td>30 Jun 2022</td>\n",
       "    </tr>\n",
       "    <tr>\n",
       "      <th>3</th>\n",
       "      <td>4th International Conference on Intelligent Co...</td>\n",
       "      <td>29 Jun 2022</td>\n",
       "      <td>CARE College of Engineering,</td>\n",
       "      <td>Tiruchirappalli, Tamil Nadu</td>\n",
       "      <td>30 Jun 2022</td>\n",
       "    </tr>\n",
       "    <tr>\n",
       "      <th>4</th>\n",
       "      <td>National Conference on Aritificial Intelligenc...</td>\n",
       "      <td>29 Jun 2022</td>\n",
       "      <td>Federal Institute of Science and Technology FI...</td>\n",
       "      <td>Kochi, Kerala</td>\n",
       "      <td>30 Jun 2022</td>\n",
       "    </tr>\n",
       "    <tr>\n",
       "      <th>5</th>\n",
       "      <td>Call for Papers IEEE Region 10 Symposium (TENS...</td>\n",
       "      <td>01 Jul 2022</td>\n",
       "      <td>IIT Bombay,</td>\n",
       "      <td>Mumbai, Maharashtra</td>\n",
       "      <td>03 Jul 2022</td>\n",
       "    </tr>\n",
       "    <tr>\n",
       "      <th>6</th>\n",
       "      <td>3rd International Conference on Data Intellige...</td>\n",
       "      <td>06 Jul 2022</td>\n",
       "      <td>SCAD College of Engineering and Technology,</td>\n",
       "      <td>Tirunelveli, Tamil Nadu</td>\n",
       "      <td>07 Jul 2022</td>\n",
       "    </tr>\n",
       "    <tr>\n",
       "      <th>7</th>\n",
       "      <td>3rd International Conference on Engineering an...</td>\n",
       "      <td>08 Jul 2022</td>\n",
       "      <td>Malla Reddy Institute of Engineering and Techn...</td>\n",
       "      <td>Hyderabad, Andhra Pradesh</td>\n",
       "      <td>09 Jul 2022</td>\n",
       "    </tr>\n",
       "    <tr>\n",
       "      <th>8</th>\n",
       "      <td>E -Learning Quiz UGC CARE and IPR 2022 Read More</td>\n",
       "      <td>15 Jul 2022</td>\n",
       "      <td>Knowledge Innovation of Research Centre,</td>\n",
       "      <td>Coimbatore, Tamil Nadu</td>\n",
       "      <td>15 Jul 2022</td>\n",
       "    </tr>\n",
       "    <tr>\n",
       "      <th>9</th>\n",
       "      <td>5th International Conference on Inventive Comp...</td>\n",
       "      <td>20 Jul 2022</td>\n",
       "      <td>Nepal,</td>\n",
       "      <td>Nepal, Online</td>\n",
       "      <td>22 Jul 2022</td>\n",
       "    </tr>\n",
       "    <tr>\n",
       "      <th>10</th>\n",
       "      <td>National Conference on Current and Emerging Te...</td>\n",
       "      <td>25 Jul 2022</td>\n",
       "      <td>Jawaharlal College of Engineering and Technology,</td>\n",
       "      <td>Palakkad, Kerala</td>\n",
       "      <td>27 Jul 2022</td>\n",
       "    </tr>\n",
       "    <tr>\n",
       "      <th>11</th>\n",
       "      <td>4th International Conference on Computer and C...</td>\n",
       "      <td>29 Jul 2022</td>\n",
       "      <td>Kakatiya Institute of Technology and Science,</td>\n",
       "      <td>Warangal, Telangana</td>\n",
       "      <td>30 Jul 2022</td>\n",
       "    </tr>\n",
       "    <tr>\n",
       "      <th>12</th>\n",
       "      <td>PCGT National Youth Parliament 2022 Read More</td>\n",
       "      <td>30 Jul 2022</td>\n",
       "      <td>Pravin Gandhi College of Law,</td>\n",
       "      <td>Mumbai, Maharashtra</td>\n",
       "      <td>31 Jul 2022</td>\n",
       "    </tr>\n",
       "    <tr>\n",
       "      <th>13</th>\n",
       "      <td>2022 Third International Conference on Intelli...</td>\n",
       "      <td>11 Aug 2022</td>\n",
       "      <td>Vimal Jyothi Engineering College,</td>\n",
       "      <td>Kannur, Kerala</td>\n",
       "      <td>12 Aug 2022</td>\n",
       "    </tr>\n",
       "    <tr>\n",
       "      <th>14</th>\n",
       "      <td>International Conference on Intelligent Cyber ...</td>\n",
       "      <td>11 Aug 2022</td>\n",
       "      <td>JCT College of Engineering and Technology,</td>\n",
       "      <td>Coimbatore, Tamil Nadu</td>\n",
       "      <td>12 Aug 2022</td>\n",
       "    </tr>\n",
       "    <tr>\n",
       "      <th>15</th>\n",
       "      <td>International Conference on Electronics and Su...</td>\n",
       "      <td>17 Aug 2022</td>\n",
       "      <td>Hindusthan Institute of Technology,</td>\n",
       "      <td>Coimbatore, Tamil Nadu</td>\n",
       "      <td>19 Aug 2022</td>\n",
       "    </tr>\n",
       "    <tr>\n",
       "      <th>16</th>\n",
       "      <td>Primary Care, Nursing and Womens Healthcare 20...</td>\n",
       "      <td>19 Aug 2022</td>\n",
       "      <td>New York,</td>\n",
       "      <td>New York, NA</td>\n",
       "      <td>20 Aug 2022</td>\n",
       "    </tr>\n",
       "    <tr>\n",
       "      <th>17</th>\n",
       "      <td>World Congress on Precision and Personalized M...</td>\n",
       "      <td>22 Aug 2022</td>\n",
       "      <td>Rome,</td>\n",
       "      <td>Arezzo, NA</td>\n",
       "      <td>23 Aug 2022</td>\n",
       "    </tr>\n",
       "    <tr>\n",
       "      <th>18</th>\n",
       "      <td>World Congress on Precision and Personalized M...</td>\n",
       "      <td>22 Aug 2022</td>\n",
       "      <td>Medwide Group,</td>\n",
       "      <td>Rome, NA</td>\n",
       "      <td>23 Aug 2022</td>\n",
       "    </tr>\n",
       "    <tr>\n",
       "      <th>19</th>\n",
       "      <td>World Congress on Precision and Personalized M...</td>\n",
       "      <td>22 Aug 2022</td>\n",
       "      <td>Medwide Group,</td>\n",
       "      <td>Rome, NA</td>\n",
       "      <td>23 Aug 2022</td>\n",
       "    </tr>\n",
       "    <tr>\n",
       "      <th>20</th>\n",
       "      <td>6th International Conference on Inter Discipli...</td>\n",
       "      <td>24 Aug 2022</td>\n",
       "      <td>Ideal institute of Management and Technology,</td>\n",
       "      <td>Delhi, Delhi</td>\n",
       "      <td>25 Aug 2022</td>\n",
       "    </tr>\n",
       "    <tr>\n",
       "      <th>21</th>\n",
       "      <td>4th International Conference on Inventive Comp...</td>\n",
       "      <td>25 Aug 2022</td>\n",
       "      <td>RVS Technical Campus,</td>\n",
       "      <td>Coimbatore, Tamil Nadu</td>\n",
       "      <td>26 Aug 2022</td>\n",
       "    </tr>\n",
       "    <tr>\n",
       "      <th>22</th>\n",
       "      <td>World Congress and Expo on Surgery and Anesthe...</td>\n",
       "      <td>25 Aug 2022</td>\n",
       "      <td>Rome,</td>\n",
       "      <td>Rome, NA</td>\n",
       "      <td>26 Aug 2022</td>\n",
       "    </tr>\n",
       "    <tr>\n",
       "      <th>23</th>\n",
       "      <td>International Conference on Recent Trends in I...</td>\n",
       "      <td>29 Aug 2022</td>\n",
       "      <td>Vel Tech Rangarajan Dr Sagunthala R and D Inst...</td>\n",
       "      <td>Chennai, Tamil Nadu</td>\n",
       "      <td>30 Aug 2022</td>\n",
       "    </tr>\n",
       "  </tbody>\n",
       "</table>\n",
       "</div>"
      ],
      "text/plain": [
       "                                           Event Name   Start Date  \\\n",
       "0                                UDAAN 2022 Read More  24 Jun 2022   \n",
       "1   Second International Conference on Advances in...  25 Jun 2022   \n",
       "2   International Conference on advanced Communica...  28 Jun 2022   \n",
       "3   4th International Conference on Intelligent Co...  29 Jun 2022   \n",
       "4   National Conference on Aritificial Intelligenc...  29 Jun 2022   \n",
       "5   Call for Papers IEEE Region 10 Symposium (TENS...  01 Jul 2022   \n",
       "6   3rd International Conference on Data Intellige...  06 Jul 2022   \n",
       "7   3rd International Conference on Engineering an...  08 Jul 2022   \n",
       "8    E -Learning Quiz UGC CARE and IPR 2022 Read More  15 Jul 2022   \n",
       "9   5th International Conference on Inventive Comp...  20 Jul 2022   \n",
       "10  National Conference on Current and Emerging Te...  25 Jul 2022   \n",
       "11  4th International Conference on Computer and C...  29 Jul 2022   \n",
       "12      PCGT National Youth Parliament 2022 Read More  30 Jul 2022   \n",
       "13  2022 Third International Conference on Intelli...  11 Aug 2022   \n",
       "14  International Conference on Intelligent Cyber ...  11 Aug 2022   \n",
       "15  International Conference on Electronics and Su...  17 Aug 2022   \n",
       "16  Primary Care, Nursing and Womens Healthcare 20...  19 Aug 2022   \n",
       "17  World Congress on Precision and Personalized M...  22 Aug 2022   \n",
       "18  World Congress on Precision and Personalized M...  22 Aug 2022   \n",
       "19  World Congress on Precision and Personalized M...  22 Aug 2022   \n",
       "20  6th International Conference on Inter Discipli...  24 Aug 2022   \n",
       "21  4th International Conference on Inventive Comp...  25 Aug 2022   \n",
       "22  World Congress and Expo on Surgery and Anesthe...  25 Aug 2022   \n",
       "23  International Conference on Recent Trends in I...  29 Aug 2022   \n",
       "\n",
       "                                       Ordaniser Name  \\\n",
       "0   Institute of Industrial and Computer Managemen...   \n",
       "1                                 RSP Conference Hub,   \n",
       "2                     Saveetha School of Engineering,   \n",
       "3                        CARE College of Engineering,   \n",
       "4   Federal Institute of Science and Technology FI...   \n",
       "5                                         IIT Bombay,   \n",
       "6         SCAD College of Engineering and Technology,   \n",
       "7   Malla Reddy Institute of Engineering and Techn...   \n",
       "8            Knowledge Innovation of Research Centre,   \n",
       "9                                              Nepal,   \n",
       "10  Jawaharlal College of Engineering and Technology,   \n",
       "11      Kakatiya Institute of Technology and Science,   \n",
       "12                      Pravin Gandhi College of Law,   \n",
       "13                  Vimal Jyothi Engineering College,   \n",
       "14         JCT College of Engineering and Technology,   \n",
       "15                Hindusthan Institute of Technology,   \n",
       "16                                          New York,   \n",
       "17                                              Rome,   \n",
       "18                                     Medwide Group,   \n",
       "19                                     Medwide Group,   \n",
       "20      Ideal institute of Management and Technology,   \n",
       "21                              RVS Technical Campus,   \n",
       "22                                              Rome,   \n",
       "23  Vel Tech Rangarajan Dr Sagunthala R and D Inst...   \n",
       "\n",
       "                  Event Address  Events Ends  \n",
       "0             Pune, Maharashtra  25 Jun 2022  \n",
       "1        Coimbatore, Tamil Nadu  26 Jun 2022  \n",
       "2           Chennai, Tamil Nadu  30 Jun 2022  \n",
       "3   Tiruchirappalli, Tamil Nadu  30 Jun 2022  \n",
       "4                 Kochi, Kerala  30 Jun 2022  \n",
       "5           Mumbai, Maharashtra  03 Jul 2022  \n",
       "6       Tirunelveli, Tamil Nadu  07 Jul 2022  \n",
       "7     Hyderabad, Andhra Pradesh  09 Jul 2022  \n",
       "8        Coimbatore, Tamil Nadu  15 Jul 2022  \n",
       "9                 Nepal, Online  22 Jul 2022  \n",
       "10             Palakkad, Kerala  27 Jul 2022  \n",
       "11          Warangal, Telangana  30 Jul 2022  \n",
       "12          Mumbai, Maharashtra  31 Jul 2022  \n",
       "13               Kannur, Kerala  12 Aug 2022  \n",
       "14       Coimbatore, Tamil Nadu  12 Aug 2022  \n",
       "15       Coimbatore, Tamil Nadu  19 Aug 2022  \n",
       "16                 New York, NA  20 Aug 2022  \n",
       "17                   Arezzo, NA  23 Aug 2022  \n",
       "18                     Rome, NA  23 Aug 2022  \n",
       "19                     Rome, NA  23 Aug 2022  \n",
       "20                 Delhi, Delhi  25 Aug 2022  \n",
       "21       Coimbatore, Tamil Nadu  26 Aug 2022  \n",
       "22                     Rome, NA  26 Aug 2022  \n",
       "23          Chennai, Tamil Nadu  30 Aug 2022  "
      ]
     },
     "execution_count": 53,
     "metadata": {},
     "output_type": "execute_result"
    }
   ],
   "source": [
    "my_data"
   ]
  },
  {
   "cell_type": "code",
   "execution_count": 54,
   "id": "7f52a341",
   "metadata": {},
   "outputs": [],
   "source": [
    "my_data.to_csv(\"Know a fest events list.csv\")"
   ]
  }
 ],
 "metadata": {
  "kernelspec": {
   "display_name": "Python 3 (ipykernel)",
   "language": "python",
   "name": "python3"
  },
  "language_info": {
   "codemirror_mode": {
    "name": "ipython",
    "version": 3
   },
   "file_extension": ".py",
   "mimetype": "text/x-python",
   "name": "python",
   "nbconvert_exporter": "python",
   "pygments_lexer": "ipython3",
   "version": "3.8.12"
  }
 },
 "nbformat": 4,
 "nbformat_minor": 5
}
