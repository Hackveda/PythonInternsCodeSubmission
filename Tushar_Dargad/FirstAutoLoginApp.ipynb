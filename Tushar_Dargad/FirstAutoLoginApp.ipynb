{
 "cells": [
  {
   "cell_type": "code",
   "execution_count": 27,
   "id": "235dcb8e",
   "metadata": {},
   "outputs": [],
   "source": [
    "from selenium import webdriver\n",
    "import time"
   ]
  },
  {
   "cell_type": "code",
   "execution_count": 28,
   "id": "cc8f95bf",
   "metadata": {
    "scrolled": true
   },
   "outputs": [
    {
     "name": "stderr",
     "output_type": "stream",
     "text": [
      "C:\\Users\\hp\\AppData\\Local\\Temp/ipykernel_7308/2661126849.py:3: DeprecationWarning: executable_path has been deprecated, please pass in a Service object\n",
      "  browser = webdriver.Chrome(\"D:/chromedriver.exe\")\n"
     ]
    }
   ],
   "source": [
    "# Create a connection with browser\n",
    "\n",
    "browser = webdriver.Chrome(\"D:/chromedriver.exe\")\n",
    "\n",
    "# Maximize the browser windows\n",
    "\n",
    "browser.maximize_window()\n",
    "\n",
    "# Open the website\n",
    "\n",
    "browser.get(\"https://www.hackveda.in/one2one/\")\n",
    "time.sleep(3)"
   ]
  },
  {
   "cell_type": "code",
   "execution_count": 29,
   "id": "6d44b6c4",
   "metadata": {},
   "outputs": [
    {
     "name": "stderr",
     "output_type": "stream",
     "text": [
      "C:\\Users\\hp\\AppData\\Local\\Temp/ipykernel_7308/3944922799.py:1: DeprecationWarning: find_element_by_* commands are deprecated. Please use find_element() instead\n",
      "  username=browser.find_element_by_id(\"email\")\n",
      "C:\\Users\\hp\\AppData\\Local\\Temp/ipykernel_7308/3944922799.py:4: DeprecationWarning: find_element_by_* commands are deprecated. Please use find_element() instead\n",
      "  password=browser.find_element_by_id(\"password\")\n"
     ]
    }
   ],
   "source": [
    "username=browser.find_element_by_id(\"email\")\n",
    "username.send_keys(\"tushardargad.intership@gmail.com\")\n",
    "time.sleep(3)\n",
    "password=browser.find_element_by_id(\"password\")\n",
    "password.send_keys(\"31556881\")\n",
    "time.sleep(3)"
   ]
  },
  {
   "cell_type": "code",
   "execution_count": 30,
   "id": "d528f645",
   "metadata": {},
   "outputs": [
    {
     "name": "stderr",
     "output_type": "stream",
     "text": [
      "C:\\Users\\hp\\AppData\\Local\\Temp/ipykernel_7308/1821076415.py:1: DeprecationWarning: find_element_by_* commands are deprecated. Please use find_element() instead\n",
      "  button=browser.find_element_by_id(\"login_btn\")\n"
     ]
    }
   ],
   "source": [
    "button=browser.find_element_by_id(\"login_btn\")\n",
    "button.click()"
   ]
  },
  {
   "cell_type": "code",
   "execution_count": null,
   "id": "6f5fee5c",
   "metadata": {},
   "outputs": [],
   "source": []
  }
 ],
 "metadata": {
  "kernelspec": {
   "display_name": "Python 3 (ipykernel)",
   "language": "python",
   "name": "python3"
  },
  "language_info": {
   "codemirror_mode": {
    "name": "ipython",
    "version": 3
   },
   "file_extension": ".py",
   "mimetype": "text/x-python",
   "name": "python",
   "nbconvert_exporter": "python",
   "pygments_lexer": "ipython3",
   "version": "3.8.12"
  }
 },
 "nbformat": 4,
 "nbformat_minor": 5
}
