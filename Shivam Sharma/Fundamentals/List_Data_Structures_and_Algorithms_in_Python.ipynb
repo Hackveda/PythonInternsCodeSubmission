{
  "nbformat": 4,
  "nbformat_minor": 0,
  "metadata": {
    "colab": {
      "provenance": [],
      "authorship_tag": "ABX9TyNW+1BXntm4188BEOMmvYPs",
      "include_colab_link": true
    },
    "kernelspec": {
      "name": "python3",
      "display_name": "Python 3"
    },
    "language_info": {
      "name": "python"
    }
  },
  "cells": [
    {
      "cell_type": "markdown",
      "metadata": {
        "id": "view-in-github",
        "colab_type": "text"
      },
      "source": [
        "<a href=\"https://colab.research.google.com/github/Hackveda/PythonInternsCodeSubmission/blob/main/Shivam%20Sharma/Fundamentals/List_Data_Structures_and_Algorithms_in_Python.ipynb\" target=\"_parent\"><img src=\"https://colab.research.google.com/assets/colab-badge.svg\" alt=\"Open In Colab\"/></a>"
      ]
    },
    {
      "cell_type": "code",
      "execution_count": 3,
      "metadata": {
        "id": "COdpxBkTLVYm",
        "colab": {
          "base_uri": "https://localhost:8080/"
        },
        "outputId": "552d66b4-f5c4-4b0f-cf35-01c2890b678e"
      },
      "outputs": [
        {
          "output_type": "stream",
          "name": "stdout",
          "text": [
            "Enter a Number: 2\n",
            "Element not found at index 0\n",
            "Element found at index 1\n",
            "Element not found at index 2\n",
            "Element not found at index 3\n",
            "Element not found at index 4\n",
            "Element not found at index 5\n"
          ]
        }
      ],
      "source": [
        "mylist=[1,2,3,4,5,6]\n",
        "index=0\n",
        "search=int(input(\"Enter a Number: \"))\n",
        "for i in mylist:\n",
        "  if(search==i):\n",
        "    print(\"Element found at index %d\"%index)\n",
        "  else:\n",
        "    print(\"Element not found at index %d\"%index)\n",
        "  index=index+1"
      ]
    },
    {
      "cell_type": "code",
      "source": [
        "list=[1,2,3,4,5]\n",
        "print(\"Original List:\",list)\n",
        "list.append(6)\n",
        "print(\"Appended List:\",list)\n",
        "list.insert(2,7)\n",
        "print(\"List after Insertion:\",list)\n",
        "list.remove(7)\n",
        "print(\"List after Insertion:\",list)\n",
        "print(\"Index of element 5 is: \",list.index(5))\n",
        "print(\"Poping an Element: \",list.pop(5))\n",
        "list.clear()\n",
        "print(\"Cleared List:\",list)"
      ],
      "metadata": {
        "colab": {
          "base_uri": "https://localhost:8080/"
        },
        "id": "igwfldwWryIc",
        "outputId": "7c57cfd0-8743-4d0f-b0b7-e775e03ffb7e"
      },
      "execution_count": 37,
      "outputs": [
        {
          "output_type": "stream",
          "name": "stdout",
          "text": [
            "Original List: [1, 2, 3, 4, 5]\n",
            "Appended List: [1, 2, 3, 4, 5, 6]\n",
            "List after Insertion: [1, 2, 7, 3, 4, 5, 6]\n",
            "List after Insertion: [1, 2, 3, 4, 5, 6]\n",
            "Index of element 5 is:  4\n",
            "Poping an Element:  6\n",
            "Cleared List: []\n"
          ]
        }
      ]
    }
  ]
}