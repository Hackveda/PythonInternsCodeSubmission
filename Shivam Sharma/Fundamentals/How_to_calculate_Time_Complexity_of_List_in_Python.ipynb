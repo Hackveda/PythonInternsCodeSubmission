{
  "nbformat": 4,
  "nbformat_minor": 0,
  "metadata": {
    "colab": {
      "provenance": [],
      "collapsed_sections": [],
      "authorship_tag": "ABX9TyNSlzT6LVnfP5yCmaTDbfeK",
      "include_colab_link": true
    },
    "kernelspec": {
      "name": "python3",
      "display_name": "Python 3"
    },
    "language_info": {
      "name": "python"
    }
  },
  "cells": [
    {
      "cell_type": "markdown",
      "metadata": {
        "id": "view-in-github",
        "colab_type": "text"
      },
      "source": [
        "<a href=\"https://colab.research.google.com/github/Hackveda/PythonInternsCodeSubmission/blob/main/Shivam%20Sharma/Fundamentals/How_to_calculate_Time_Complexity_of_List_in_Python.ipynb\" target=\"_parent\"><img src=\"https://colab.research.google.com/assets/colab-badge.svg\" alt=\"Open In Colab\"/></a>"
      ]
    },
    {
      "cell_type": "code",
      "execution_count": 12,
      "metadata": {
        "id": "l0Dp33NuC97z",
        "colab": {
          "base_uri": "https://localhost:8080/"
        },
        "outputId": "c310dea5-210c-4faf-bc68-ad2513fad960"
      },
      "outputs": [
        {
          "output_type": "stream",
          "name": "stdout",
          "text": [
            "[1, 2, 3, 4, 5, 6]\n",
            "The time complexity of append operation is O(1)\n"
          ]
        }
      ],
      "source": [
        "#Append operation on List\n",
        "list1=[1,2,3,4,5]\n",
        "list1.append(6)\n",
        "print(list1)\n",
        "print(\"The time complexity of append operation is O(1)\")"
      ]
    },
    {
      "cell_type": "code",
      "source": [
        "#Extend operation on List\n",
        "list1=[1,2,3,4,5]\n",
        "list2=[6,7]\n",
        "list1.extend(list2)\n",
        "print(list1)\n",
        "print(\"The time complexity of extend operation is O(k)\")"
      ],
      "metadata": {
        "colab": {
          "base_uri": "https://localhost:8080/"
        },
        "id": "8HvEFGgh_Jx1",
        "outputId": "42620834-d4f2-4a9f-fddc-9fb5ad1804bc"
      },
      "execution_count": 14,
      "outputs": [
        {
          "output_type": "stream",
          "name": "stdout",
          "text": [
            "[1, 2, 3, 4, 5, 6, 7]\n",
            "The time complexity of extend operation is O(k)\n"
          ]
        }
      ]
    },
    {
      "cell_type": "code",
      "source": [
        "#Insert operation on List\n",
        "list1=[1,2,3,4,5]\n",
        "print(\"Original List:\",list1,\"\\n\")\n",
        "\n",
        "list1.insert(0,0)               #Insertion at head\n",
        "print(list1)\n",
        "print(\"The time complexity of insertion operation at head is O(1)\")\n",
        "\n",
        "list1.insert(6,6)               #Insertion at tail\n",
        "print(list1)\n",
        "print(\"The time complexity of insertion operation at tail is O(1)\")\n",
        "\n",
        "list1.insert(4,9)               #Insertion at a random index number\n",
        "print(list1)\n",
        "print(\"The time complexity of insertion operation at a random index number is O(n), where n is the index number\")"
      ],
      "metadata": {
        "colab": {
          "base_uri": "https://localhost:8080/"
        },
        "id": "IQKFcK0M_xAL",
        "outputId": "a3b4a25f-7a21-4f03-eaf5-a78e01465d7b"
      },
      "execution_count": 23,
      "outputs": [
        {
          "output_type": "stream",
          "name": "stdout",
          "text": [
            "Original List: [1, 2, 3, 4, 5] \n",
            "\n",
            "[0, 1, 2, 3, 4, 5]\n",
            "The time complexity of insertion at head operation is O(1)\n",
            "[0, 1, 2, 3, 4, 5, 6]\n",
            "The time complexity of insertion at tail operation is O(1)\n",
            "[0, 1, 2, 3, 9, 4, 5, 6]\n",
            "The time complexity of insertion at tail operation is O(n), where n is the index number\n"
          ]
        }
      ]
    },
    {
      "cell_type": "code",
      "source": [
        "#Remove operation on List\n",
        "list1=[0,1,2,3,4,5]\n",
        "print(\"Original List:\",list1,\"\\n\")\n",
        "\n",
        "list1.remove(0)               #Removal at head\n",
        "print(list1)\n",
        "print(\"The time complexity of removal operation at head is O(1)\")\n",
        "\n",
        "list1.remove(5)               #Removal at tail\n",
        "print(list1)\n",
        "print(\"The time complexity of removal operation at tail is O(1)\")\n",
        "\n",
        "list1.remove(2)               #Removal at a random index number\n",
        "print(list1)\n",
        "print(\"The time complexity of removal operation at a random index number is O(n), where n is the index number\")"
      ],
      "metadata": {
        "colab": {
          "base_uri": "https://localhost:8080/"
        },
        "id": "KqqwMKd6_J1o",
        "outputId": "854b1592-592f-4386-9d66-3b8f8a69b918"
      },
      "execution_count": 30,
      "outputs": [
        {
          "output_type": "stream",
          "name": "stdout",
          "text": [
            "Original List: [0, 1, 2, 3, 4, 5] \n",
            "\n",
            "[1, 2, 3, 4, 5]\n",
            "The time complexity of removal at head operation is O(1)\n",
            "[1, 2, 3, 4]\n",
            "The time complexity of removal at tail operation is O(1)\n",
            "[1, 3, 4]\n",
            "The time complexity of removal at tail operation is O(n), where n is the index number\n"
          ]
        }
      ]
    },
    {
      "cell_type": "code",
      "source": [
        "#Pop operation on List\n",
        "list1=[1,2,3,4,5]\n",
        "print(list1.pop(2))\n",
        "print(\"The time complexity of Pop operation is O(n), where n is the index number\")"
      ],
      "metadata": {
        "colab": {
          "base_uri": "https://localhost:8080/"
        },
        "id": "ZACgwGnfHEll",
        "outputId": "870d700d-e455-4e32-f5c0-969194a4a190"
      },
      "execution_count": 36,
      "outputs": [
        {
          "output_type": "stream",
          "name": "stdout",
          "text": [
            "3\n",
            "The time complexity of Pop operation is O(n), where n is the index number\n"
          ]
        }
      ]
    },
    {
      "cell_type": "code",
      "source": [
        "#Clear operation on List\n",
        "list1=[1,2,3,4,5]\n",
        "list1.clear()\n",
        "print(list1)\n",
        "print(\"The time complexity of clear operation at is O(1)\")"
      ],
      "metadata": {
        "colab": {
          "base_uri": "https://localhost:8080/"
        },
        "id": "ArDMQLVNFNO2",
        "outputId": "ced28a59-a78b-43c8-f549-904f4cb383c6"
      },
      "execution_count": 37,
      "outputs": [
        {
          "output_type": "stream",
          "name": "stdout",
          "text": [
            "[]\n",
            "The time complexity of clear operation at is O(1)\n"
          ]
        }
      ]
    },
    {
      "cell_type": "code",
      "source": [
        "#Index operation on List\n",
        "list1=[1,2,3,4,5]\n",
        "print(list1.index(4))\n",
        "print(\"The time complexity of index operation is O(n), where n is the index number\")"
      ],
      "metadata": {
        "colab": {
          "base_uri": "https://localhost:8080/"
        },
        "id": "7zb158HcFeRw",
        "outputId": "0312fd4a-4f7f-4ada-c10b-d9761c6b6824"
      },
      "execution_count": 38,
      "outputs": [
        {
          "output_type": "stream",
          "name": "stdout",
          "text": [
            "3\n",
            "The time complexity of index operation is O(n), where n is the index number\n"
          ]
        }
      ]
    },
    {
      "cell_type": "code",
      "source": [
        "#Count operation on List\n",
        "list1=[1,2,3,4,5,4,4,4,4]\n",
        "print(list1.count(4))\n",
        "print(\"The time complexity of count operation is O(n), where n is the index number\")"
      ],
      "metadata": {
        "colab": {
          "base_uri": "https://localhost:8080/"
        },
        "id": "6SnhKtdvFeVs",
        "outputId": "094ef2ae-08d6-4065-e53c-7b2b3bb054a5"
      },
      "execution_count": 39,
      "outputs": [
        {
          "output_type": "stream",
          "name": "stdout",
          "text": [
            "5\n",
            "The time complexity of count operation is O(n), where n is the index number\n"
          ]
        }
      ]
    },
    {
      "cell_type": "code",
      "source": [
        "#Sort operation on List\n",
        "list1=[1,3,4,5,4,4,4,4,2,5]\n",
        "list1.sort(reverse=False)                 #Ascending Order\n",
        "print(list1)\n",
        "list1.sort(reverse=True)                 #Ascending Order\n",
        "print(list1)\n",
        "print(\"The time complexity of sort operation is O(n)\")"
      ],
      "metadata": {
        "colab": {
          "base_uri": "https://localhost:8080/"
        },
        "id": "ixuQVo_aFtTp",
        "outputId": "05b03479-b805-4e1a-ff28-97e1928ccbad"
      },
      "execution_count": 43,
      "outputs": [
        {
          "output_type": "stream",
          "name": "stdout",
          "text": [
            "[1, 2, 3, 4, 4, 4, 4, 4, 5, 5]\n",
            "[5, 5, 4, 4, 4, 4, 4, 3, 2, 1]\n",
            "The time complexity of sort operation is O(n)\n"
          ]
        }
      ]
    },
    {
      "cell_type": "code",
      "source": [
        "#Reverse operation on List\n",
        "list1=[1,2,3,4,5,4,]\n",
        "list1.reverse()\n",
        "print(list1)\n",
        "print(\"The time complexity of reverse operation is O(n)\")"
      ],
      "metadata": {
        "colab": {
          "base_uri": "https://localhost:8080/"
        },
        "id": "i0AM5xJMFtWt",
        "outputId": "fd0cf300-e581-430a-af68-5c7bd2d4ce2c"
      },
      "execution_count": 45,
      "outputs": [
        {
          "output_type": "stream",
          "name": "stdout",
          "text": [
            "[4, 5, 4, 3, 2, 1]\n",
            "The time complexity of reverse operation is O(n)\n"
          ]
        }
      ]
    },
    {
      "cell_type": "code",
      "source": [
        "#Copy operation on List\n",
        "list1=[1,2,3,4,5,4,]\n",
        "list2=list1.copy()\n",
        "print(list2)\n",
        "print(\"The time complexity of copy operation is O(n)\")"
      ],
      "metadata": {
        "colab": {
          "base_uri": "https://localhost:8080/"
        },
        "id": "_21hsms9FzRu",
        "outputId": "f4d7324a-619d-4ad4-d399-48c90ece2c11"
      },
      "execution_count": 46,
      "outputs": [
        {
          "output_type": "stream",
          "name": "stdout",
          "text": [
            "[1, 2, 3, 4, 5, 4]\n",
            "The time complexity of copy operation is O(n)\n"
          ]
        }
      ]
    }
  ]
}