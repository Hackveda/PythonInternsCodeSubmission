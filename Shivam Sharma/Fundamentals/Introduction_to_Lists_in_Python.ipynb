{
  "nbformat": 4,
  "nbformat_minor": 0,
  "metadata": {
    "colab": {
      "provenance": [],
      "collapsed_sections": [],
      "authorship_tag": "ABX9TyMtapkpmXkmhvFeiHYMpSy4",
      "include_colab_link": true
    },
    "kernelspec": {
      "name": "python3",
      "display_name": "Python 3"
    },
    "language_info": {
      "name": "python"
    }
  },
  "cells": [
    {
      "cell_type": "markdown",
      "metadata": {
        "id": "view-in-github",
        "colab_type": "text"
      },
      "source": [
        "<a href=\"https://colab.research.google.com/github/Hackveda/PythonInternsCodeSubmission/blob/main/Shivam%20Sharma/Fundamentals/Introduction_to_Lists_in_Python.ipynb\" target=\"_parent\"><img src=\"https://colab.research.google.com/assets/colab-badge.svg\" alt=\"Open In Colab\"/></a>"
      ]
    },
    {
      "cell_type": "code",
      "execution_count": 6,
      "metadata": {
        "id": "viiaenAJC2a3",
        "colab": {
          "base_uri": "https://localhost:8080/"
        },
        "outputId": "28d88fb7-7fef-4226-9b75-6dca5df70d1e"
      },
      "outputs": [
        {
          "output_type": "stream",
          "name": "stdout",
          "text": [
            "<class 'list'>\n",
            "<class 'str'>\n",
            "<class 'int'>\n",
            "<class 'str'>\n"
          ]
        }
      ],
      "source": [
        " #Syntax of List\n",
        " list=[]\n",
        " print(type(list))\n",
        " roll_no=[2,4,5,6,7,8] #Homogenous List\n",
        " list=['shivam',19,'intern'] #Hetrogenous List\n",
        " print(type(list[0]))\n",
        " print(type(list[1]))\n",
        " print(type(list[2]))"
      ]
    },
    {
      "cell_type": "code",
      "source": [
        "roll_no=[4,9,66,25]\n",
        "index=0\n",
        "for i in roll_no:\n",
        "  print(index,i);\n",
        "  index+=1"
      ],
      "metadata": {
        "colab": {
          "base_uri": "https://localhost:8080/"
        },
        "id": "J51sFkH1zjDw",
        "outputId": "9a94e250-0bf0-4300-f6e4-48ff924e8942"
      },
      "execution_count": 7,
      "outputs": [
        {
          "output_type": "stream",
          "name": "stdout",
          "text": [
            "0 4\n",
            "1 9\n",
            "2 66\n",
            "3 25\n"
          ]
        }
      ]
    },
    {
      "cell_type": "code",
      "source": [
        "data=str(input('Enter here: '))\n",
        "print(\"Type of input is: \",type(data))\n",
        "data=int(input(\"Enter a Number: \"))\n",
        "print(\"Type of input is: \",type(data))"
      ],
      "metadata": {
        "colab": {
          "base_uri": "https://localhost:8080/"
        },
        "id": "86tLFYryzjHc",
        "outputId": "7eb95c69-1be0-4902-a11a-de82e8556114"
      },
      "execution_count": 2,
      "outputs": [
        {
          "output_type": "stream",
          "name": "stdout",
          "text": [
            "Enter here: 2\n",
            "Type of input is:  <class 'str'>\n",
            "Enter a Number: 2\n",
            "Type of input is:  <class 'int'>\n"
          ]
        }
      ]
    },
    {
      "cell_type": "code",
      "source": [
        "#Indexing and Slicing on Lists\n",
        "roll_no=[4,9,66,25,55,27]\n",
        "index=int(input('Enter index: '))                             #Indexing\n",
        "print(\"The Roll No. at index\",index,\"is\",roll_no[index])\n",
        "inclusive=int(input('Enter inclusive: '))                     #Slicing\n",
        "exclusive=int(input('Enter exclusive: '))\n",
        "roll_no[inclusive:exclusive]"
      ],
      "metadata": {
        "colab": {
          "base_uri": "https://localhost:8080/"
        },
        "id": "lIoI5XXlzjM9",
        "outputId": "b73044b0-198e-4bdd-bd69-26fe233e70bd"
      },
      "execution_count": 12,
      "outputs": [
        {
          "name": "stdout",
          "output_type": "stream",
          "text": [
            "Enter index: 5\n",
            "The Roll No. at index 5 is 27\n",
            "Enter inclusive: 2\n",
            "Enter exclusive: -2\n"
          ]
        },
        {
          "output_type": "execute_result",
          "data": {
            "text/plain": [
              "[66, 25]"
            ]
          },
          "metadata": {},
          "execution_count": 12
        }
      ]
    },
    {
      "cell_type": "code",
      "source": [
        "#Concatenation of Lists\n",
        "list=[2,5,6,7,8]\n",
        "list2=[9,8,5,6]\n",
        "list4=list+list2\n",
        "print(list4)\n",
        "for i in list4:\n",
        "  print(i)"
      ],
      "metadata": {
        "colab": {
          "base_uri": "https://localhost:8080/"
        },
        "id": "bdPGGpoGzjRd",
        "outputId": "dbad1a69-6cce-4e88-e618-c061a63b1cbb"
      },
      "execution_count": 15,
      "outputs": [
        {
          "output_type": "stream",
          "name": "stdout",
          "text": [
            "[2, 5, 6, 7, 8, 9, 8, 5, 6]\n",
            "2\n",
            "5\n",
            "6\n",
            "7\n",
            "8\n",
            "9\n",
            "8\n",
            "5\n",
            "6\n"
          ]
        }
      ]
    },
    {
      "cell_type": "code",
      "source": [
        "#Adding, Inserting, Updating and Removing Iteams in List\n",
        "A=[99,88,77,66,55,44]\n",
        "B=[2,6,8]\n",
        "print(A)\n",
        "A.append(22)      #Adding\n",
        "print(A)\n",
        "A.insert(2,200)   #Inserting at a Specific Location\n",
        "print(A)\n",
        "A[4:7]=B          #Updating\n",
        "print(A)\n",
        "A[4:7]=[]         #Removing\n",
        "print(A)"
      ],
      "metadata": {
        "colab": {
          "base_uri": "https://localhost:8080/"
        },
        "id": "cZx4aqi79BKF",
        "outputId": "2b42e689-c284-44d6-f72e-04cdd647f23d"
      },
      "execution_count": 35,
      "outputs": [
        {
          "output_type": "stream",
          "name": "stdout",
          "text": [
            "[99, 88, 77, 66, 55, 44]\n",
            "[99, 88, 77, 66, 55, 44, 22]\n",
            "[99, 88, 200, 77, 66, 55, 44, 22]\n",
            "[99, 88, 200, 77, 2, 6, 8, 22]\n",
            "[99, 88, 200, 77, 22]\n"
          ]
        }
      ]
    },
    {
      "cell_type": "code",
      "source": [
        "#Calculating the length of a list\n",
        "A=[99, 88, 77, 66]\n",
        "print(len(A))"
      ],
      "metadata": {
        "colab": {
          "base_uri": "https://localhost:8080/"
        },
        "id": "n8B2UbsI7pPH",
        "outputId": "380046f3-ceba-4ad4-d0ba-4ec114bcd06c"
      },
      "execution_count": 23,
      "outputs": [
        {
          "output_type": "stream",
          "name": "stdout",
          "text": [
            "4\n"
          ]
        }
      ]
    },
    {
      "cell_type": "code",
      "source": [
        "#Nesting of Lists\n",
        "A=[99, 88, 77, 66]\n",
        "B=[2,6,8]\n",
        "C=[A,B]\n",
        "print(C)\n",
        "print(C[0][2])   #Accessing Particular Element of a 2-D List"
      ],
      "metadata": {
        "colab": {
          "base_uri": "https://localhost:8080/"
        },
        "id": "-KEQVBZ_7plv",
        "outputId": "f4a75074-7081-4f61-8efd-2ec16dfcec9c"
      },
      "execution_count": 28,
      "outputs": [
        {
          "output_type": "stream",
          "name": "stdout",
          "text": [
            "[[99, 88, 77, 66], [2, 6, 8]]\n",
            "77\n"
          ]
        }
      ]
    },
    {
      "cell_type": "code",
      "source": [],
      "metadata": {
        "id": "zNK90p-BA7Ku"
      },
      "execution_count": null,
      "outputs": []
    },
    {
      "cell_type": "code",
      "source": [],
      "metadata": {
        "id": "g03K7Ss4A7S8"
      },
      "execution_count": null,
      "outputs": []
    }
  ]
}