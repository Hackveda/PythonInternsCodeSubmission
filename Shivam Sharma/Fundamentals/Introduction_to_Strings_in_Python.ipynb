{
  "nbformat": 4,
  "nbformat_minor": 0,
  "metadata": {
    "colab": {
      "provenance": [],
      "collapsed_sections": [],
      "authorship_tag": "ABX9TyPksVajsQwCxYoRs1xv66t6",
      "include_colab_link": true
    },
    "kernelspec": {
      "name": "python3",
      "display_name": "Python 3"
    },
    "language_info": {
      "name": "python"
    }
  },
  "cells": [
    {
      "cell_type": "markdown",
      "metadata": {
        "id": "view-in-github",
        "colab_type": "text"
      },
      "source": [
        "<a href=\"https://colab.research.google.com/github/Hackveda/PythonInternsCodeSubmission/blob/main/Shivam%20Sharma/Fundamentals/Introduction_to_Strings_in_Python.ipynb\" target=\"_parent\"><img src=\"https://colab.research.google.com/assets/colab-badge.svg\" alt=\"Open In Colab\"/></a>"
      ]
    },
    {
      "cell_type": "code",
      "execution_count": 2,
      "metadata": {
        "id": "qVU4hs919_hb",
        "colab": {
          "base_uri": "https://localhost:8080/"
        },
        "outputId": "d69a2831-f307-4598-b000-7f7747a788ee"
      },
      "outputs": [
        {
          "output_type": "stream",
          "name": "stdout",
          "text": [
            "Shivam <class 'str'>\n",
            "Sharma <class 'str'>\n"
          ]
        }
      ],
      "source": [
        "name='Shivam'\n",
        "surname=\"Sharma\"\n",
        "print(name,type(name))\n",
        "print(surname,type(surname))"
      ]
    },
    {
      "cell_type": "code",
      "source": [
        "#Using Escape Character\n",
        "statement=\"He doesn't understand\"\n",
        "print(statement)\n",
        "statement1='He doesn\\'t understand'\n",
        "print(statement1)\n",
        "statement2=\"My name is \\\"Shivam\\\". I am an Intern.\"\n",
        "print(statement2)"
      ],
      "metadata": {
        "colab": {
          "base_uri": "https://localhost:8080/"
        },
        "id": "lARP94Tf8KIV",
        "outputId": "dc2703db-7ecd-47e8-b639-435ff24e32bd"
      },
      "execution_count": 6,
      "outputs": [
        {
          "output_type": "stream",
          "name": "stdout",
          "text": [
            "He doesn't understand\n",
            "He doesn't understand\n",
            "My name is \"Shivam\". I am an Intern.\n"
          ]
        }
      ]
    },
    {
      "cell_type": "code",
      "source": [
        "#Using Raw Srings\n",
        "print('C:\\\\users\\nitesh')\n",
        "print(r'C:\\\\users\\nitesh')"
      ],
      "metadata": {
        "colab": {
          "base_uri": "https://localhost:8080/"
        },
        "id": "wyLgy6OP9lty",
        "outputId": "dee208f6-c5a9-4bb2-e8c4-21296fb70535"
      },
      "execution_count": 8,
      "outputs": [
        {
          "output_type": "stream",
          "name": "stdout",
          "text": [
            "C:\\users\n",
            "itesh\n",
            "C:\\\\users\\nitesh\n"
          ]
        }
      ]
    },
    {
      "cell_type": "code",
      "source": [
        "#Printing in Multiple Lines\n",
        "print('''\n",
        "This is an example\n",
        "for multiple lines\n",
        "with single quotes.\n",
        "''')\n",
        "print('''\n",
        "This is an example\n",
        "for multiple lines\n",
        "with double quotes.\n",
        "''')"
      ],
      "metadata": {
        "colab": {
          "base_uri": "https://localhost:8080/"
        },
        "id": "g42d9EPO9ly5",
        "outputId": "e85b67a3-b683-4149-d2e0-e9fc7ad5ac06"
      },
      "execution_count": 11,
      "outputs": [
        {
          "output_type": "stream",
          "name": "stdout",
          "text": [
            "\n",
            "This is an example\n",
            "for multiple lines\n",
            "with single quotes.\n",
            "\n",
            "\n",
            "This is an example\n",
            "for multiple lines\n",
            "with double quotes.\n",
            "\n"
          ]
        }
      ]
    },
    {
      "cell_type": "code",
      "source": [
        "#String Concatenation and Repetition\n",
        "string1='Hi my name is Shivam. '\n",
        "string2='I am an Intern.'\n",
        "print(string1+string2)\n",
        "print(string1*5,'\\n',string2*5)"
      ],
      "metadata": {
        "colab": {
          "base_uri": "https://localhost:8080/"
        },
        "id": "Eaei80vVBx3K",
        "outputId": "8d2ddb9b-4629-4dca-e704-3b8236e0b672"
      },
      "execution_count": 19,
      "outputs": [
        {
          "output_type": "stream",
          "name": "stdout",
          "text": [
            "Hi my name is Shivam. I am an Intern.\n",
            "Hi my name is Shivam. Hi my name is Shivam. Hi my name is Shivam. Hi my name is Shivam. Hi my name is Shivam.  \n",
            " I am an Intern.I am an Intern.I am an Intern.I am an Intern.I am an Intern.\n"
          ]
        }
      ]
    },
    {
      "cell_type": "code",
      "source": [
        "#String Indexing and Slicing\n",
        "string='Shivam'\n",
        "print(len(string))\n",
        "print(string[0])\n",
        "print(string[3])\n",
        "print(string[-1])\n",
        "print(string[-5])\n",
        "print(string[0:4])\n",
        "print(string[:2]+string[2:])"
      ],
      "metadata": {
        "colab": {
          "base_uri": "https://localhost:8080/"
        },
        "id": "PQt7C6FUB2j4",
        "outputId": "1ae240bb-7314-411a-bbf0-67d9e38c16dd"
      },
      "execution_count": 39,
      "outputs": [
        {
          "output_type": "stream",
          "name": "stdout",
          "text": [
            "6\n",
            "S\n",
            "v\n",
            "m\n",
            "h\n",
            "Shiv\n",
            "Shivam\n"
          ]
        }
      ]
    },
    {
      "cell_type": "code",
      "source": [
        "#Immutable Property of Strings\n",
        "name='Shivam'\n",
        "name[4]='d'"
      ],
      "metadata": {
        "colab": {
          "base_uri": "https://localhost:8080/",
          "height": 200
        },
        "id": "eb3HNgkhFiYw",
        "outputId": "d0870d8a-64f3-4388-dab0-5069d053be34"
      },
      "execution_count": 40,
      "outputs": [
        {
          "output_type": "error",
          "ename": "TypeError",
          "evalue": "ignored",
          "traceback": [
            "\u001b[0;31m---------------------------------------------------------------------------\u001b[0m",
            "\u001b[0;31mTypeError\u001b[0m                                 Traceback (most recent call last)",
            "\u001b[0;32m<ipython-input-40-30eaa777dfba>\u001b[0m in \u001b[0;36m<module>\u001b[0;34m\u001b[0m\n\u001b[1;32m      1\u001b[0m \u001b[0;31m#Immutable Property of Strings\u001b[0m\u001b[0;34m\u001b[0m\u001b[0;34m\u001b[0m\u001b[0;34m\u001b[0m\u001b[0m\n\u001b[1;32m      2\u001b[0m \u001b[0mname\u001b[0m\u001b[0;34m=\u001b[0m\u001b[0;34m'Shivam'\u001b[0m\u001b[0;34m\u001b[0m\u001b[0;34m\u001b[0m\u001b[0m\n\u001b[0;32m----> 3\u001b[0;31m \u001b[0mname\u001b[0m\u001b[0;34m[\u001b[0m\u001b[0;36m4\u001b[0m\u001b[0;34m]\u001b[0m\u001b[0;34m=\u001b[0m\u001b[0;34m'd'\u001b[0m\u001b[0;34m\u001b[0m\u001b[0;34m\u001b[0m\u001b[0m\n\u001b[0m",
            "\u001b[0;31mTypeError\u001b[0m: 'str' object does not support item assignment"
          ]
        }
      ]
    },
    {
      "cell_type": "code",
      "source": [
        "#Length of String\n",
        "name='Nitesh'\n",
        "len(name)"
      ],
      "metadata": {
        "colab": {
          "base_uri": "https://localhost:8080/"
        },
        "id": "O19MVJ9hFicF",
        "outputId": "4d5c7ee7-428b-47e1-c76e-cc1167a5a668"
      },
      "execution_count": 41,
      "outputs": [
        {
          "output_type": "execute_result",
          "data": {
            "text/plain": [
              "6"
            ]
          },
          "metadata": {},
          "execution_count": 41
        }
      ]
    },
    {
      "cell_type": "code",
      "source": [
        "#Introduction to Lists in Python\n",
        "name='Shivam'\n",
        "surname='Sharma'\n",
        "age=19\n",
        "height=5.11\n",
        "list=[name, surname, age, height]\n",
        "for i in list:\n",
        "  print(i,type(i))"
      ],
      "metadata": {
        "colab": {
          "base_uri": "https://localhost:8080/"
        },
        "id": "LWLPEZGcB2nX",
        "outputId": "fe173ebd-0a5d-4eb9-a47f-e8b8f078d3f7"
      },
      "execution_count": 45,
      "outputs": [
        {
          "output_type": "stream",
          "name": "stdout",
          "text": [
            "Shivam <class 'str'>\n",
            "Sharma <class 'str'>\n",
            "19 <class 'int'>\n",
            "5.11 <class 'float'>\n"
          ]
        }
      ]
    },
    {
      "cell_type": "code",
      "source": [
        "#List Indexing and Slicing\n",
        "print(list[2])\n",
        "print(list[:2])"
      ],
      "metadata": {
        "colab": {
          "base_uri": "https://localhost:8080/"
        },
        "id": "nAQTqvjiPivM",
        "outputId": "5247ccc0-298b-4651-cab5-ede299b3e9f5"
      },
      "execution_count": 46,
      "outputs": [
        {
          "output_type": "stream",
          "name": "stdout",
          "text": [
            "19\n",
            "['Shivam', 'Sharma']\n"
          ]
        }
      ]
    },
    {
      "cell_type": "code",
      "source": [
        "#Mutable Property of Lists\n",
        "list=[2,4,5,6,7,8,9]\n",
        "print(list)\n",
        "list[2]=200\n",
        "print(list)"
      ],
      "metadata": {
        "colab": {
          "base_uri": "https://localhost:8080/"
        },
        "id": "ucRWb2dEQNnV",
        "outputId": "2e7fd544-3a69-4de8-c956-63f6518104cf"
      },
      "execution_count": 50,
      "outputs": [
        {
          "output_type": "stream",
          "name": "stdout",
          "text": [
            "[2, 4, 5, 6, 7, 8, 9]\n",
            "[2, 4, 200, 6, 7, 8, 9]\n"
          ]
        }
      ]
    }
  ]
}