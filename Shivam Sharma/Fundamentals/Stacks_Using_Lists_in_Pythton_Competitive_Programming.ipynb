{
  "nbformat": 4,
  "nbformat_minor": 0,
  "metadata": {
    "colab": {
      "provenance": [],
      "authorship_tag": "ABX9TyNKUydSWo5xmvGhvuL4YomR",
      "include_colab_link": true
    },
    "kernelspec": {
      "name": "python3",
      "display_name": "Python 3"
    },
    "language_info": {
      "name": "python"
    }
  },
  "cells": [
    {
      "cell_type": "markdown",
      "metadata": {
        "id": "view-in-github",
        "colab_type": "text"
      },
      "source": [
        "<a href=\"https://colab.research.google.com/github/Hackveda/PythonInternsCodeSubmission/blob/main/Shivam%20Sharma/Fundamentals/Stacks_Using_Lists_in_Pythton_Competitive_Programming.ipynb\" target=\"_parent\"><img src=\"https://colab.research.google.com/assets/colab-badge.svg\" alt=\"Open In Colab\"/></a>"
      ]
    },
    {
      "cell_type": "code",
      "execution_count": 4,
      "metadata": {
        "colab": {
          "base_uri": "https://localhost:8080/"
        },
        "id": "-AIjkIQwP9id",
        "outputId": "e3157e66-6a70-4cd2-d4ec-e2cbaf1d74e2"
      },
      "outputs": [
        {
          "output_type": "execute_result",
          "data": {
            "text/plain": [
              "[1, 2, 3]"
            ]
          },
          "metadata": {},
          "execution_count": 4
        }
      ],
      "source": [
        "stack=[1,2]\n",
        "stack.append(3)\n",
        "stack.append(4)\n",
        "stack.pop()\n",
        "stack"
      ]
    },
    {
      "cell_type": "code",
      "source": [
        "#Use a stack to check if string has balanced usage of parantheses\n",
        "def check_balanced(str):\n",
        "  list=[]\n",
        "  is_balanced=True\n",
        "  i=0\n",
        "  while i<len(str):\n",
        "    paren=str[i]\n",
        "    if paren==\"{\":\n",
        "      list.append(paren)\n",
        "    elif paren==\"}\":\n",
        "      if list:\n",
        "        list.pop()\n",
        "      else:\n",
        "        is_balanced=False\n",
        "    i=i+1\n",
        "  if list:\n",
        "    is_balanced=False\n",
        "  return is_balanced\n",
        "\n",
        "str=\"{{}{\"\n",
        "print(check_balanced(str))\n",
        "print(check_balanced(\"{}{}{}\"))\n",
        "print(check_balanced(\"{{{}}}{}{\"))"
      ],
      "metadata": {
        "colab": {
          "base_uri": "https://localhost:8080/"
        },
        "id": "Bu2YDgJOc_pa",
        "outputId": "85c5d7da-b195-461a-e7c6-aea092be6141"
      },
      "execution_count": 24,
      "outputs": [
        {
          "output_type": "stream",
          "name": "stdout",
          "text": [
            "False\n",
            "True\n",
            "False\n"
          ]
        }
      ]
    }
  ]
}