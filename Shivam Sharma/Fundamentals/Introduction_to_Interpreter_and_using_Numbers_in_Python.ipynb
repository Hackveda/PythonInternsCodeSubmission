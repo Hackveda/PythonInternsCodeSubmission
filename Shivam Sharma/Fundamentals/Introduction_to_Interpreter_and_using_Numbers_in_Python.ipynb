{
  "nbformat": 4,
  "nbformat_minor": 0,
  "metadata": {
    "colab": {
      "provenance": [],
      "authorship_tag": "ABX9TyPK7F9wMok7hKO56uWfiNVB",
      "include_colab_link": true
    },
    "kernelspec": {
      "name": "python3",
      "display_name": "Python 3"
    },
    "language_info": {
      "name": "python"
    }
  },
  "cells": [
    {
      "cell_type": "markdown",
      "metadata": {
        "id": "view-in-github",
        "colab_type": "text"
      },
      "source": [
        "<a href=\"https://colab.research.google.com/github/Hackveda/PythonInternsCodeSubmission/blob/main/Shivam%20Sharma/Fundamentals/Introduction_to_Interpreter_and_using_Numbers_in_Python.ipynb\" target=\"_parent\"><img src=\"https://colab.research.google.com/assets/colab-badge.svg\" alt=\"Open In Colab\"/></a>"
      ]
    },
    {
      "cell_type": "code",
      "execution_count": 6,
      "metadata": {
        "colab": {
          "base_uri": "https://localhost:8080/"
        },
        "id": "lWCd6YEK0Mw3",
        "outputId": "d3934e92-c887-496d-e7c1-fabb4182bb05"
      },
      "outputs": [
        {
          "output_type": "stream",
          "name": "stdout",
          "text": [
            "<class 'int'>\n",
            "<class 'float'>\n",
            "<class 'str'>\n"
          ]
        }
      ],
      "source": [
        "#Checking Types of Variables\n",
        "a=1\n",
        "b=1.0\n",
        "c='hi'\n",
        "print(type(a))\n",
        "print(type(b))\n",
        "print(type(c))"
      ]
    },
    {
      "cell_type": "code",
      "source": [
        "#Checking Return Types of Variables\n",
        "a=2+5\n",
        "print(a)\n",
        "print(type(a))\n",
        "\n",
        "b=5-2\n",
        "print(b)\n",
        "print(type(b))\n",
        "\n",
        "c=5/2\n",
        "print(c)\n",
        "print(type(c))\n",
        "\n",
        "d=5//2\n",
        "print(d)\n",
        "print(type(d))\n",
        "\n",
        "e=5%2\n",
        "print(e)\n",
        "print(type(e))"
      ],
      "metadata": {
        "colab": {
          "base_uri": "https://localhost:8080/"
        },
        "id": "bT_zd9351vqL",
        "outputId": "5569606b-fb23-4614-cbf8-0886e581f5ec"
      },
      "execution_count": 11,
      "outputs": [
        {
          "output_type": "stream",
          "name": "stdout",
          "text": [
            "7\n",
            "<class 'int'>\n",
            "3\n",
            "<class 'int'>\n",
            "2.5\n",
            "<class 'float'>\n",
            "2\n",
            "<class 'int'>\n",
            "1\n",
            "<class 'int'>\n"
          ]
        }
      ]
    },
    {
      "cell_type": "code",
      "source": [
        "#Calculating Powers of Variables\n",
        "a=2**5\n",
        "print(a)"
      ],
      "metadata": {
        "colab": {
          "base_uri": "https://localhost:8080/"
        },
        "id": "K_Q1b2Tu3zDt",
        "outputId": "f700ed47-1b77-4b7a-d332-ce840cc72f56"
      },
      "execution_count": 14,
      "outputs": [
        {
          "output_type": "stream",
          "name": "stdout",
          "text": [
            "32\n"
          ]
        }
      ]
    }
  ]
}