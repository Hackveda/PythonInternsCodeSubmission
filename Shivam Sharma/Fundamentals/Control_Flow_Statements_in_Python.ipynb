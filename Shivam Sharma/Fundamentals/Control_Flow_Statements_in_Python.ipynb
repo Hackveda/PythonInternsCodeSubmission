{
  "nbformat": 4,
  "nbformat_minor": 0,
  "metadata": {
    "colab": {
      "provenance": [],
      "authorship_tag": "ABX9TyOnX9M85TaXPN/vuxb+LwWR",
      "include_colab_link": true
    },
    "kernelspec": {
      "name": "python3",
      "display_name": "Python 3"
    },
    "language_info": {
      "name": "python"
    }
  },
  "cells": [
    {
      "cell_type": "markdown",
      "metadata": {
        "id": "view-in-github",
        "colab_type": "text"
      },
      "source": [
        "<a href=\"https://colab.research.google.com/github/Hackveda/PythonInternsCodeSubmission/blob/main/Shivam%20Sharma/Fundamentals/Control_Flow_Statements_in_Python.ipynb\" target=\"_parent\"><img src=\"https://colab.research.google.com/assets/colab-badge.svg\" alt=\"Open In Colab\"/></a>"
      ]
    },
    {
      "cell_type": "code",
      "execution_count": null,
      "metadata": {
        "id": "8_KwzRvFFJyg",
        "colab": {
          "base_uri": "https://localhost:8080/"
        },
        "outputId": "62aea6e0-4cac-4302-ea32-552d499d90da"
      },
      "outputs": [
        {
          "output_type": "stream",
          "name": "stdout",
          "text": [
            "0\n",
            "1\n",
            "1\n",
            "2\n",
            "3\n",
            "5\n",
            "8\n"
          ]
        }
      ],
      "source": [
        "#Fibonacci Series using while loop\n",
        "a,b=0,1\n",
        "while(a<10):\n",
        "  print(a)\n",
        "  a,b=b,a+b"
      ]
    },
    {
      "cell_type": "code",
      "source": [
        "#Grading System\n",
        "a=int(input(\"Enter a number: \"))\n",
        "if (a>=91):\n",
        "  print(\"A Grade\")\n",
        "elif (a>=81):\n",
        "  print(\"B Grade\")\n",
        "elif (a>=71):\n",
        "  print(\"C Grade\")\n",
        "else:\n",
        "  print(\"Fail!\")"
      ],
      "metadata": {
        "colab": {
          "base_uri": "https://localhost:8080/"
        },
        "id": "nRZpEybbLuXU",
        "outputId": "f1aa0a39-4ed5-4e1a-e971-db65b0d43f67"
      },
      "execution_count": null,
      "outputs": [
        {
          "output_type": "stream",
          "name": "stdout",
          "text": [
            "Enter a number: 70\n",
            "Fail!\n"
          ]
        }
      ]
    },
    {
      "cell_type": "code",
      "source": [
        "#Switch Case\n",
        "#Atm Machine\n",
        "card=int(input(\"Enter Card Number: \"))\n",
        "print(\"\"\"\n",
        "Select a Service:\n",
        "1. Banking\n",
        "2. Bank Statement\n",
        "3. PIN Change\n",
        "4. Withdrawal\"\"\")\n",
        "option=int(input(\"Enter your Option: \"))\n",
        "if option==1:\n",
        "  print(\"Welcome to Banking Mode\")\n",
        "elif option==2:\n",
        "  print(\"Print Bank Statement\")\n",
        "elif option==3:\n",
        "  print(\"PIN change Menu\")\n",
        "elif option==4:\n",
        "  print(\"Enter Withdrawing Amount: \")\n",
        "else:\n",
        "  print(\"Enter a valid option\")"
      ],
      "metadata": {
        "colab": {
          "base_uri": "https://localhost:8080/"
        },
        "id": "_VWuxIYKLucC",
        "outputId": "95e3e7ea-152b-47fa-d802-964f5b6f309c"
      },
      "execution_count": null,
      "outputs": [
        {
          "output_type": "stream",
          "name": "stdout",
          "text": [
            "Enter Card Number: 55\n",
            "\n",
            "Select a Service:\n",
            "1. Banking\n",
            "2. Bank Statement\n",
            "3. PIN Change\n",
            "4. Withdrawal\n",
            "Enter your Option: 7\n",
            "Enter a valid option\n"
          ]
        }
      ]
    },
    {
      "cell_type": "code",
      "source": [
        "#for Statement\n",
        "queue=[\"Palak\",\"Devanshu\",\"Shivam\"]\n",
        "for traveller in queue:\n",
        "  print(\"Ticket issued for %s.\"%traveller)\n",
        "print(\"Queue over\")"
      ],
      "metadata": {
        "colab": {
          "base_uri": "https://localhost:8080/"
        },
        "id": "77bzEz8lQd4o",
        "outputId": "f68229dd-11eb-4c00-c7a0-ae8e1fc6bd71"
      },
      "execution_count": null,
      "outputs": [
        {
          "output_type": "stream",
          "name": "stdout",
          "text": [
            "Ticket issued for Palak.\n",
            "Ticket issued for Devanshu.\n",
            "Ticket issued for Shivam.\n",
            "Queue over\n"
          ]
        }
      ]
    },
    {
      "cell_type": "code",
      "source": [
        "#Add items in a basket starting with alphabet 'B'\n",
        "items=[\"Banana\",\"Juice\",\"Milk\",\"Butter\",\"Brinjal\",\"Burger\",\"Pizza\"]\n",
        "basket=[]\n",
        "print(\"Total items:\",items)\n",
        "for i in items:\n",
        "  if(i[0]=='B'):\n",
        "    basket.append(i)\n",
        "print(\"Items in the Basket:\",basket)"
      ],
      "metadata": {
        "colab": {
          "base_uri": "https://localhost:8080/"
        },
        "id": "PAetXZDZQd9e",
        "outputId": "c6c0a5f5-5320-42d0-b939-fa2290edbd44"
      },
      "execution_count": null,
      "outputs": [
        {
          "output_type": "stream",
          "name": "stdout",
          "text": [
            "Total items: ['Banana', 'Juice', 'Milk', 'Butter', 'Brinjal', 'Burger', 'Pizza']\n",
            "Items in the Basket: ['Banana', 'Butter', 'Brinjal', 'Burger']\n"
          ]
        }
      ]
    },
    {
      "cell_type": "code",
      "source": [
        "#Range functio n\n",
        "for i in range(0,5,2):\n",
        "  print(i)\n"
      ],
      "metadata": {
        "colab": {
          "base_uri": "https://localhost:8080/"
        },
        "id": "uIPxau0zXxn_",
        "outputId": "8ff2235c-c470-411c-bb13-2610152f8ac5"
      },
      "execution_count": null,
      "outputs": [
        {
          "output_type": "stream",
          "name": "stdout",
          "text": [
            "0\n",
            "2\n",
            "4\n"
          ]
        }
      ]
    },
    {
      "cell_type": "code",
      "source": [
        "#Break and Continue Statement Implementation\n",
        "for i in range(1,10):\n",
        "  if i%2==0:\n",
        "    print(\"Even number: %d\"%i)\n",
        "    continue\n",
        "  print(\"Odd number: %d\"%i)"
      ],
      "metadata": {
        "colab": {
          "base_uri": "https://localhost:8080/"
        },
        "id": "nYUVg_nOXxud",
        "outputId": "39966d09-c203-4fe9-8880-852ae2eb656d"
      },
      "execution_count": null,
      "outputs": [
        {
          "output_type": "stream",
          "name": "stdout",
          "text": [
            "Odd number: 1\n",
            "Even number: 2\n",
            "Odd number: 3\n",
            "Even number: 4\n",
            "Odd number: 5\n",
            "Even number: 6\n",
            "Odd number: 7\n",
            "Even number: 8\n",
            "Odd number: 9\n"
          ]
        }
      ]
    },
    {
      "cell_type": "code",
      "source": [
        "#Pass Statement Implementation\n",
        "for i in range(5):\n",
        "  if i==3:\n",
        "    pass\n",
        "  else:\n",
        "    print(i)"
      ],
      "metadata": {
        "colab": {
          "base_uri": "https://localhost:8080/"
        },
        "id": "wCnA27gQhb7g",
        "outputId": "31f1c044-b2b5-4be2-a4c1-2fa1d462e14f"
      },
      "execution_count": null,
      "outputs": [
        {
          "output_type": "stream",
          "name": "stdout",
          "text": [
            "0\n",
            "1\n",
            "2\n",
            "4\n"
          ]
        }
      ]
    },
    {
      "cell_type": "code",
      "source": [
        "while True:\n",
        "  pass"
      ],
      "metadata": {
        "id": "XEedMedMiBVC"
      },
      "execution_count": null,
      "outputs": []
    }
  ]
}