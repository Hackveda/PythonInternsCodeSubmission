{
  "nbformat": 4,
  "nbformat_minor": 0,
  "metadata": {
    "colab": {
      "provenance": [],
      "authorship_tag": "ABX9TyMmOv2CJK0fX5TBKDl8Uy0u",
      "include_colab_link": true
    },
    "kernelspec": {
      "name": "python3",
      "display_name": "Python 3"
    },
    "language_info": {
      "name": "python"
    }
  },
  "cells": [
    {
      "cell_type": "markdown",
      "metadata": {
        "id": "view-in-github",
        "colab_type": "text"
      },
      "source": [
        "<a href=\"https://colab.research.google.com/github/Hackveda/PythonInternsCodeSubmission/blob/main/Shivam%20Sharma/Fundamentals/Python_Input_Output_Formatting%2C_Exception_Handling_and_Classes.ipynb\" target=\"_parent\"><img src=\"https://colab.research.google.com/assets/colab-badge.svg\" alt=\"Open In Colab\"/></a>"
      ]
    },
    {
      "cell_type": "code",
      "source": [
        "#Output Formating"
      ],
      "metadata": {
        "id": "moP_Kz-2BbdH"
      },
      "execution_count": null,
      "outputs": []
    },
    {
      "cell_type": "code",
      "source": [
        "print(\"Hello Shivam\", \"Sharma\")\n",
        "name=\"Shivam\"\n",
        "print(\"My name is\", name)"
      ],
      "metadata": {
        "id": "Sr7PlcB88XXT",
        "colab": {
          "base_uri": "https://localhost:8080/"
        },
        "outputId": "8783c332-3e86-40f4-9979-ecbecac5438c"
      },
      "execution_count": 2,
      "outputs": [
        {
          "output_type": "stream",
          "name": "stdout",
          "text": [
            "Hello Shivam Sharma\n",
            "My name is Shivam\n"
          ]
        }
      ]
    },
    {
      "cell_type": "code",
      "source": [
        "name=\"Shivam\"\n",
        "surname=\"Sharma\"\n",
        "print_statement = \"My name is {name} and surname is {surname}\"\n",
        "print(print_statement)\n",
        "print_statement = f\"My name is {name} and surname is {surname}\"\n",
        "print(print_statement)"
      ],
      "metadata": {
        "colab": {
          "base_uri": "https://localhost:8080/"
        },
        "id": "MUZdW_uUBbQd",
        "outputId": "f2d979e0-95ea-409f-d14b-6eb9e3ea7b46"
      },
      "execution_count": 5,
      "outputs": [
        {
          "output_type": "stream",
          "name": "stdout",
          "text": [
            "My name is {name} and surname is {surname}\n",
            "My name is Shivam and surname is Sharma\n"
          ]
        }
      ]
    },
    {
      "cell_type": "code",
      "source": [
        "subtotal_amount=10000\n",
        "print(\"Subtotoal amount is: {:,}\".format(subtotal_amount))"
      ],
      "metadata": {
        "colab": {
          "base_uri": "https://localhost:8080/"
        },
        "id": "-SgQrlTlBbUU",
        "outputId": "0435d131-240a-481f-99eb-d6efaee789cd"
      },
      "execution_count": 12,
      "outputs": [
        {
          "output_type": "stream",
          "name": "stdout",
          "text": [
            "Subtotoal amount is: 10,000\n"
          ]
        }
      ]
    },
    {
      "cell_type": "code",
      "source": [
        "value=4\n",
        "print(\"Binary value is: {:b}\".format(value))"
      ],
      "metadata": {
        "colab": {
          "base_uri": "https://localhost:8080/"
        },
        "id": "KKhZsbWpBbZB",
        "outputId": "3dd7b9ab-c274-4668-9904-8165eab7fa5b"
      },
      "execution_count": 15,
      "outputs": [
        {
          "output_type": "stream",
          "name": "stdout",
          "text": [
            "Binary value is: 100\n"
          ]
        }
      ]
    },
    {
      "cell_type": "code",
      "source": [
        "#Reading and Writng Files in Python"
      ],
      "metadata": {
        "id": "g6mcTs6eBbgL"
      },
      "execution_count": null,
      "outputs": []
    },
    {
      "cell_type": "code",
      "source": [
        "with open(\"shivam.txt\") as f:\n",
        "  myfile=f.read()\n",
        "print(myfile) "
      ],
      "metadata": {
        "colab": {
          "base_uri": "https://localhost:8080/"
        },
        "id": "b6PnOBTZEBt1",
        "outputId": "296951b4-a3e4-4d7c-d6ae-76f0be17258f"
      },
      "execution_count": 19,
      "outputs": [
        {
          "output_type": "stream",
          "name": "stdout",
          "text": [
            "Hello my name is\n",
            "Shivam\n"
          ]
        }
      ]
    },
    {
      "cell_type": "code",
      "source": [
        "with open(\"shivam.txt\") as f:\n",
        "  myfile=f.readline()\n",
        "print(myfile) "
      ],
      "metadata": {
        "colab": {
          "base_uri": "https://localhost:8080/"
        },
        "id": "lgwX93RZEBys",
        "outputId": "98798716-3c06-4a60-f391-97aa4704665c"
      },
      "execution_count": 20,
      "outputs": [
        {
          "output_type": "stream",
          "name": "stdout",
          "text": [
            "Hello my name is\n",
            "\n"
          ]
        }
      ]
    },
    {
      "cell_type": "code",
      "source": [
        "with open(\"shivam.txt\") as f:\n",
        "  for line in f:\n",
        "    print(line) "
      ],
      "metadata": {
        "colab": {
          "base_uri": "https://localhost:8080/"
        },
        "id": "A-VVVch7EB1-",
        "outputId": "c6be7c0b-eb98-4626-8128-537ce6621fc8"
      },
      "execution_count": 25,
      "outputs": [
        {
          "output_type": "stream",
          "name": "stdout",
          "text": [
            "Hello my name is\n",
            "\n",
            "Shivam\n"
          ]
        }
      ]
    },
    {
      "cell_type": "code",
      "source": [
        "with open(\"shivam1.txt\",\"w\") as f:\n",
        "  f.write(\"Hello Ji\")"
      ],
      "metadata": {
        "id": "UuTbs-CXG0oD"
      },
      "execution_count": 31,
      "outputs": []
    },
    {
      "cell_type": "code",
      "source": [
        "#Writing JSON Data in Python"
      ],
      "metadata": {
        "id": "YJdfbqfLG0rX"
      },
      "execution_count": null,
      "outputs": []
    },
    {
      "cell_type": "code",
      "source": [
        "import json\n",
        "data={\"Nmae\":\"Shivam\",\"Age\":20}\n",
        "json.dumps(data)"
      ],
      "metadata": {
        "colab": {
          "base_uri": "https://localhost:8080/",
          "height": 36
        },
        "id": "6dsixMX_IB5n",
        "outputId": "9e420366-25bb-413b-9db1-f5c1c9f37855"
      },
      "execution_count": 32,
      "outputs": [
        {
          "output_type": "execute_result",
          "data": {
            "text/plain": [
              "'{\"Nmae\": \"Shivam\", \"Age\": 20}'"
            ],
            "application/vnd.google.colaboratory.intrinsic+json": {
              "type": "string"
            }
          },
          "metadata": {},
          "execution_count": 32
        }
      ]
    },
    {
      "cell_type": "code",
      "source": [
        "with open(\"new_json.json\",\"w\") as f:\n",
        "  json.dump(data,f)"
      ],
      "metadata": {
        "id": "P0GdATRbIB8r"
      },
      "execution_count": 34,
      "outputs": []
    },
    {
      "cell_type": "code",
      "source": [
        "#Exception Handling"
      ],
      "metadata": {
        "id": "VGsqzkkGIBKW"
      },
      "execution_count": null,
      "outputs": []
    },
    {
      "cell_type": "code",
      "source": [
        "try:\n",
        "  name={\"Shivam\",\"Sharma\"}\n",
        "  for name in names:\n",
        "    print(\"name\")\n",
        "\n",
        "except Exception as e:\n",
        "  print(\"Exception is\",e)"
      ],
      "metadata": {
        "colab": {
          "base_uri": "https://localhost:8080/"
        },
        "id": "zLBvS6_yIBNv",
        "outputId": "61fd5fe3-bd26-4391-b320-f5a5d7cb18ed"
      },
      "execution_count": 37,
      "outputs": [
        {
          "output_type": "stream",
          "name": "stdout",
          "text": [
            "Exception is name 'names' is not defined\n"
          ]
        }
      ]
    },
    {
      "cell_type": "code",
      "source": [
        "#Classes"
      ],
      "metadata": {
        "id": "fadBfmx-IBQ7"
      },
      "execution_count": null,
      "outputs": []
    },
    {
      "cell_type": "code",
      "source": [
        "from myclass import MYCLASS as m\n",
        "\n",
        "mclass=m()\n",
        "print(type(mclass))\n",
        "mclass.name(\"Shivam\")"
      ],
      "metadata": {
        "colab": {
          "base_uri": "https://localhost:8080/"
        },
        "id": "L74bdwtBBbje",
        "outputId": "5c4ec264-f2fe-4c01-b285-8d76b041fcb8"
      },
      "execution_count": 48,
      "outputs": [
        {
          "output_type": "stream",
          "name": "stdout",
          "text": [
            "<class 'myclass.MYCLASS'>\n",
            "My name is  Shivam\n"
          ]
        }
      ]
    }
  ]
}