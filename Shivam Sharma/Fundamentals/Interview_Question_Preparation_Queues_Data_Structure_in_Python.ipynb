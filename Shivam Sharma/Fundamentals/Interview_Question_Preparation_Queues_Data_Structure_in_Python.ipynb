{
  "nbformat": 4,
  "nbformat_minor": 0,
  "metadata": {
    "colab": {
      "provenance": [],
      "authorship_tag": "ABX9TyORNbPfHtbQR9g/whevbugk",
      "include_colab_link": true
    },
    "kernelspec": {
      "name": "python3",
      "display_name": "Python 3"
    },
    "language_info": {
      "name": "python"
    }
  },
  "cells": [
    {
      "cell_type": "markdown",
      "metadata": {
        "id": "view-in-github",
        "colab_type": "text"
      },
      "source": [
        "<a href=\"https://colab.research.google.com/github/Hackveda/PythonInternsCodeSubmission/blob/main/Shivam%20Sharma/Fundamentals/Interview_Question_Preparation_Queues_Data_Structure_in_Python.ipynb\" target=\"_parent\"><img src=\"https://colab.research.google.com/assets/colab-badge.svg\" alt=\"Open In Colab\"/></a>"
      ]
    },
    {
      "cell_type": "code",
      "execution_count": 2,
      "metadata": {
        "id": "7dtxt4n6mDAZ"
      },
      "outputs": [],
      "source": [
        "#QUEUE IMPLEMENTATION\n",
        "from collections import deque"
      ]
    },
    {
      "cell_type": "code",
      "source": [
        "class Queue:\n",
        "    def __init__(self,size):\n",
        "        self.q=[None]*size\n",
        "        self.capacity=size\n",
        "        self.front=0\n",
        "        self.rear=-1\n",
        "        self.count=0\n",
        "        \n",
        "    def pop(self):\n",
        "        if self.isEmpty():\n",
        "            print(\"Terminate\")\n",
        "            exit(1)\n",
        "        print(\"Removing element \",self.q[self.front])\n",
        "        self.front=(self.front+1)%self.capacity\n",
        "        self.count=self.count-1\n",
        "        \n",
        "    def append(self,value):\n",
        "        if self.isFull():\n",
        "            print(\"Overflow\")\n",
        "            exit(1)\n",
        "        print(\"Inserting value \",value)\n",
        "        self.rear=(self.rear+1)%self.capacity\n",
        "        self.q[self.rear]=value\n",
        "        self.count=self.count+1\n",
        "    \n",
        "    def peek(self):\n",
        "        if self.isEmpty():\n",
        "            print(\"Terminate\")\n",
        "            exit(1)\n",
        "        return self.q(self.front)\n",
        "    \n",
        "    def size(self):\n",
        "        return self.count\n",
        "    \n",
        "    def isEmpty(self):\n",
        "        return self.size()==0\n",
        "    \n",
        "    def isEmpty(self):\n",
        "        return self.size()==self.capacity\n",
        "    \n",
        "if __name__==\"__main__\":\n",
        "    cust_queue=Queue[10]\n",
        "    print(\"Size of the queue is: \",cust_queue.size())\n",
        "    cust_queue.append(10)\n",
        "    cust_queue.append(20)\n",
        "    cust_queue.append(30)\n",
        "    cust_queue.append(40)\n",
        "    print(\"Size of the queue is: \",cust_queue.size())\n",
        "    cust_queue.pop()\n",
        "    if cust_queue.isEmpty():\n",
        "        print(\"Empty Queue\")\n",
        "    else:\n",
        "        print(\"Non Empty Queue\")"
      ],
      "metadata": {
        "colab": {
          "base_uri": "https://localhost:8080/",
          "height": 244
        },
        "id": "dG3sQuU2wxo6",
        "outputId": "00a7962a-8b92-4936-9475-ec8feb2bccbd"
      },
      "execution_count": 3,
      "outputs": [
        {
          "output_type": "error",
          "ename": "TypeError",
          "evalue": "ignored",
          "traceback": [
            "\u001b[0;31m---------------------------------------------------------------------------\u001b[0m",
            "\u001b[0;31mTypeError\u001b[0m                                 Traceback (most recent call last)",
            "\u001b[0;32m<ipython-input-3-280d25b602d4>\u001b[0m in \u001b[0;36m<module>\u001b[0;34m\u001b[0m\n\u001b[1;32m     40\u001b[0m \u001b[0;34m\u001b[0m\u001b[0m\n\u001b[1;32m     41\u001b[0m \u001b[0;32mif\u001b[0m \u001b[0m__name__\u001b[0m\u001b[0;34m==\u001b[0m\u001b[0;34m\"__main__\"\u001b[0m\u001b[0;34m:\u001b[0m\u001b[0;34m\u001b[0m\u001b[0;34m\u001b[0m\u001b[0m\n\u001b[0;32m---> 42\u001b[0;31m     \u001b[0mcust_queue\u001b[0m\u001b[0;34m=\u001b[0m\u001b[0mQueue\u001b[0m\u001b[0;34m[\u001b[0m\u001b[0;36m10\u001b[0m\u001b[0;34m]\u001b[0m\u001b[0;34m\u001b[0m\u001b[0;34m\u001b[0m\u001b[0m\n\u001b[0m\u001b[1;32m     43\u001b[0m     \u001b[0mprint\u001b[0m\u001b[0;34m(\u001b[0m\u001b[0;34m\"Size of the queue is: \"\u001b[0m\u001b[0;34m,\u001b[0m\u001b[0mcust_queue\u001b[0m\u001b[0;34m.\u001b[0m\u001b[0msize\u001b[0m\u001b[0;34m(\u001b[0m\u001b[0;34m)\u001b[0m\u001b[0;34m)\u001b[0m\u001b[0;34m\u001b[0m\u001b[0;34m\u001b[0m\u001b[0m\n\u001b[1;32m     44\u001b[0m     \u001b[0mcust_queue\u001b[0m\u001b[0;34m.\u001b[0m\u001b[0mappend\u001b[0m\u001b[0;34m(\u001b[0m\u001b[0;36m10\u001b[0m\u001b[0;34m)\u001b[0m\u001b[0;34m\u001b[0m\u001b[0;34m\u001b[0m\u001b[0m\n",
            "\u001b[0;31mTypeError\u001b[0m: 'type' object is not subscriptable"
          ]
        }
      ]
    },
    {
      "cell_type": "code",
      "source": [],
      "metadata": {
        "id": "wi6RYEBEwxs2"
      },
      "execution_count": null,
      "outputs": []
    },
    {
      "cell_type": "code",
      "source": [],
      "metadata": {
        "id": "IwMZVA6vwx4A"
      },
      "execution_count": null,
      "outputs": []
    },
    {
      "cell_type": "code",
      "source": [],
      "metadata": {
        "id": "YQbO__22wyBG"
      },
      "execution_count": null,
      "outputs": []
    },
    {
      "cell_type": "code",
      "source": [],
      "metadata": {
        "id": "vP4t6ik2wyFK"
      },
      "execution_count": null,
      "outputs": []
    },
    {
      "cell_type": "code",
      "source": [],
      "metadata": {
        "id": "dRbnOFhswyMx"
      },
      "execution_count": null,
      "outputs": []
    },
    {
      "cell_type": "code",
      "source": [],
      "metadata": {
        "id": "gAk2WClrwyP3"
      },
      "execution_count": null,
      "outputs": []
    },
    {
      "cell_type": "code",
      "source": [],
      "metadata": {
        "id": "qLenGy3_wyTq"
      },
      "execution_count": null,
      "outputs": []
    },
    {
      "cell_type": "code",
      "source": [],
      "metadata": {
        "id": "VC7pow5pwyXj"
      },
      "execution_count": null,
      "outputs": []
    },
    {
      "cell_type": "code",
      "source": [],
      "metadata": {
        "id": "8nfiOtnowybj"
      },
      "execution_count": null,
      "outputs": []
    }
  ]
}