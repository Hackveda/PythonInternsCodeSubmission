{
  "nbformat": 4,
  "nbformat_minor": 0,
  "metadata": {
    "colab": {
      "provenance": [],
      "authorship_tag": "ABX9TyNTbUzefZ03Nh1xa6fnl5Oc",
      "include_colab_link": true
    },
    "kernelspec": {
      "name": "python3",
      "display_name": "Python 3"
    },
    "language_info": {
      "name": "python"
    }
  },
  "cells": [
    {
      "cell_type": "markdown",
      "metadata": {
        "id": "view-in-github",
        "colab_type": "text"
      },
      "source": [
        "<a href=\"https://colab.research.google.com/github/Hackveda/PythonInternsCodeSubmission/blob/main/Shivam%20Sharma/Fundamentals/Queues_Data_Structures_in_Python.ipynb\" target=\"_parent\"><img src=\"https://colab.research.google.com/assets/colab-badge.svg\" alt=\"Open In Colab\"/></a>"
      ]
    },
    {
      "cell_type": "code",
      "source": [
        "from collections import deque"
      ],
      "metadata": {
        "id": "icBEZJWur-sY"
      },
      "execution_count": null,
      "outputs": []
    },
    {
      "cell_type": "code",
      "source": [
        "queue=deque([\"Shivam\",\"Deependra\"])\n",
        "type(queue)"
      ],
      "metadata": {
        "id": "Kw0ZXtOxr-ur"
      },
      "execution_count": null,
      "outputs": []
    },
    {
      "cell_type": "code",
      "source": [
        "#Perform Operations on Queues\n",
        "queue.append(\"Devanshu\")\n",
        "queue"
      ],
      "metadata": {
        "id": "2aHMZ-4sr-yx"
      },
      "execution_count": null,
      "outputs": []
    },
    {
      "cell_type": "code",
      "source": [
        "#Deque\n",
        "queue.popleft()"
      ],
      "metadata": {
        "id": "YyEpYcdZr-29"
      },
      "execution_count": null,
      "outputs": []
    },
    {
      "cell_type": "code",
      "source": [
        "queue"
      ],
      "metadata": {
        "id": "QST3gZB6r-5l"
      },
      "execution_count": null,
      "outputs": []
    },
    {
      "cell_type": "code",
      "source": [
        "queue.appendleft(\"Shivam\")"
      ],
      "metadata": {
        "id": "5eJuyuasr-8Z"
      },
      "execution_count": null,
      "outputs": []
    },
    {
      "cell_type": "code",
      "source": [
        "queue"
      ],
      "metadata": {
        "id": "PMrywMtFsSq7"
      },
      "execution_count": null,
      "outputs": []
    },
    {
      "cell_type": "code",
      "source": [
        "queue2=queue.copy()\n",
        "queue2"
      ],
      "metadata": {
        "id": "VBawy6ELsStl"
      },
      "execution_count": null,
      "outputs": []
    },
    {
      "cell_type": "code",
      "source": [
        "queue.count(\"Shivam\")"
      ],
      "metadata": {
        "id": "oWgq4DLusSwT"
      },
      "execution_count": null,
      "outputs": []
    },
    {
      "cell_type": "code",
      "source": [
        "queue3=[\"Nitesh\"]\n",
        "queue.extend(queue3)\n",
        "queue"
      ],
      "metadata": {
        "id": "ChCtNFrbsSzd"
      },
      "execution_count": null,
      "outputs": []
    },
    {
      "cell_type": "code",
      "source": [
        "queue.index(\"Nitesh\")"
      ],
      "metadata": {
        "id": "gOPsYxrMsZnP"
      },
      "execution_count": null,
      "outputs": []
    },
    {
      "cell_type": "code",
      "source": [
        "queue.insert(3,\"HELLO\")\n",
        "queue"
      ],
      "metadata": {
        "id": "9NQcHMCksZqH"
      },
      "execution_count": null,
      "outputs": []
    },
    {
      "cell_type": "code",
      "source": [
        "queue.pop()\n",
        "queue"
      ],
      "metadata": {
        "id": "4vb9mfw1sZs4"
      },
      "execution_count": null,
      "outputs": []
    },
    {
      "cell_type": "code",
      "source": [
        "queue.popleft()\n",
        "queue"
      ],
      "metadata": {
        "id": "kV_T_Y2Dsf6G"
      },
      "execution_count": null,
      "outputs": []
    },
    {
      "cell_type": "code",
      "source": [
        "queue.remove(\"HELLO\")\n",
        "queue"
      ],
      "metadata": {
        "id": "w0o9O4mTsf_c"
      },
      "execution_count": null,
      "outputs": []
    },
    {
      "cell_type": "code",
      "source": [
        "queue.reverse()\n",
        "queue"
      ],
      "metadata": {
        "id": "kTPx1ScRsgDp"
      },
      "execution_count": null,
      "outputs": []
    }
  ]
}