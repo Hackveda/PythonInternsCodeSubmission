{
  "nbformat": 4,
  "nbformat_minor": 0,
  "metadata": {
    "colab": {
      "provenance": [],
      "authorship_tag": "ABX9TyPll7AUggzVDnewoHGpqsty",
      "include_colab_link": true
    },
    "kernelspec": {
      "name": "python3",
      "display_name": "Python 3"
    },
    "language_info": {
      "name": "python"
    }
  },
  "cells": [
    {
      "cell_type": "markdown",
      "metadata": {
        "id": "view-in-github",
        "colab_type": "text"
      },
      "source": [
        "<a href=\"https://colab.research.google.com/github/Hackveda/PythonInternsCodeSubmission/blob/main/Shivam%20Sharma/Fundamentals/Competitive_Programming_in_Python_Introduction_to_Data_Structures.ipynb\" target=\"_parent\"><img src=\"https://colab.research.google.com/assets/colab-badge.svg\" alt=\"Open In Colab\"/></a>"
      ]
    },
    {
      "cell_type": "code",
      "execution_count": 4,
      "metadata": {
        "id": "yP21A7s623zk",
        "colab": {
          "base_uri": "https://localhost:8080/"
        },
        "outputId": "b6d4943b-1fa5-4da8-a2ce-57f8dc965d57"
      },
      "outputs": [
        {
          "output_type": "stream",
          "name": "stdout",
          "text": [
            "[1, 2, 3, 4, 5]\n",
            "[1, 2, 3, 4, 5, 7]\n"
          ]
        }
      ],
      "source": [
        "#Working of List Data Structure in Python \n",
        "list=[1,2,3,4,5]\n",
        "print(list)\n",
        "tuple=(1,2,3,4,5)\n",
        "set={1,2,3,4,5}\n",
        "dict={\"Name\":\"Shivam\",\"Age\":20}\n",
        "\n",
        "#Operations on Dta Structures\n",
        "\n",
        "list.append(7)\n",
        "print(list)"
      ]
    }
  ]
}