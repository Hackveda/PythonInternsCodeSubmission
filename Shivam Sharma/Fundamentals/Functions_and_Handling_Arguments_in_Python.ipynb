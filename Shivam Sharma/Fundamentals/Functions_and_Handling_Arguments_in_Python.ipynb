{
  "nbformat": 4,
  "nbformat_minor": 0,
  "metadata": {
    "colab": {
      "provenance": [],
      "authorship_tag": "ABX9TyOetpn8Kg7gpAoInMZ6RwQc",
      "include_colab_link": true
    },
    "kernelspec": {
      "name": "python3",
      "display_name": "Python 3"
    },
    "language_info": {
      "name": "python"
    }
  },
  "cells": [
    {
      "cell_type": "markdown",
      "metadata": {
        "id": "view-in-github",
        "colab_type": "text"
      },
      "source": [
        "<a href=\"https://colab.research.google.com/github/Hackveda/PythonInternsCodeSubmission/blob/main/Shivam%20Sharma/Fundamentals/Functions_and_Handling_Arguments_in_Python.ipynb\" target=\"_parent\"><img src=\"https://colab.research.google.com/assets/colab-badge.svg\" alt=\"Open In Colab\"/></a>"
      ]
    },
    {
      "cell_type": "code",
      "execution_count": null,
      "metadata": {
        "id": "Y_dGJwP0LHNd",
        "colab": {
          "base_uri": "https://localhost:8080/"
        },
        "outputId": "810be234-bc3d-4a05-d7e6-394545e25052"
      },
      "outputs": [
        {
          "output_type": "stream",
          "name": "stdout",
          "text": [
            "0 1 1 2 3 5 8 13 21 34 55 89 144 233 377 610 987 1597 "
          ]
        }
      ],
      "source": [
        "#Defining a function\n",
        "def fib(n):\n",
        "  \"Print Fibonacci Series upto n\"\n",
        "  a,b=0,1\n",
        "  while(a<n):\n",
        "    print(a,end=' ')\n",
        "    a,b=b,a+b\n",
        "\n",
        "#Calling a function\n",
        "fib(2000)"
      ]
    },
    {
      "cell_type": "code",
      "source": [
        "#Define a function to add two numbers\n",
        "def add(a,b):\n",
        "  \"Add two numbers and return the sum\"\n",
        "  return a+b\n",
        "\n",
        "add(5,3)"
      ],
      "metadata": {
        "colab": {
          "base_uri": "https://localhost:8080/"
        },
        "id": "bp_PEELlu3Fp",
        "outputId": "f81b2ece-e765-410c-b7e8-f0e07cde400b"
      },
      "execution_count": null,
      "outputs": [
        {
          "output_type": "execute_result",
          "data": {
            "text/plain": [
              "8"
            ]
          },
          "metadata": {},
          "execution_count": 9
        }
      ]
    },
    {
      "cell_type": "code",
      "source": [
        "#Arguments without a defined count\n",
        "def new_admission(name, house='Orange'):\n",
        "  \"Adding a new student information\"\n",
        "  print(\"Student added: \")\n",
        "  print(\"Name: \",name)\n",
        "  print(\"House: \",house,\"\\n\")\n",
        "\n",
        "new_admission('Shivam')\n",
        "new_admission('Harsh','Red')"
      ],
      "metadata": {
        "colab": {
          "base_uri": "https://localhost:8080/"
        },
        "id": "2qSczo_jvxn4",
        "outputId": "52a50ad7-e4d0-40fb-a8f9-6c3f7b79785f"
      },
      "execution_count": null,
      "outputs": [
        {
          "output_type": "stream",
          "name": "stdout",
          "text": [
            "Student added: \n",
            "Name:  Shivam\n",
            "House:  Orange \n",
            "\n",
            "Student added: \n",
            "Name:  Harsh\n",
            "House:  Red \n",
            "\n"
          ]
        }
      ]
    },
    {
      "cell_type": "code",
      "source": [
        "#Defining the arguments list\n",
        "#Create an application to make a team and add players\n",
        "def ipl_team(teamName,*players):\n",
        "  \"Creating a new IPL team\"\n",
        "  player_list=[]\n",
        "  for player in players:\n",
        "    player_list.append(player)\n",
        "  print(\"IPL Team:\",teamName,\"\\nPlayers List:\",player_list)\n",
        "\n",
        "ipl_team(\"RCB\",\"Navdeep Saini\",\"Virat Kohli\",\"AB de Villers\",\"Finn Allen\")"
      ],
      "metadata": {
        "colab": {
          "base_uri": "https://localhost:8080/"
        },
        "id": "u1qjxNHbu3JW",
        "outputId": "4f8728f7-53cd-4bd1-87f0-160dbdbcb321"
      },
      "execution_count": null,
      "outputs": [
        {
          "output_type": "stream",
          "name": "stdout",
          "text": [
            "IPL Team: RCB \n",
            "Players List: ['Navdeep Saini', 'Virat Kohli', 'AB de Villers', 'Finn Allen']\n"
          ]
        }
      ]
    },
    {
      "cell_type": "code",
      "source": [
        "#\"Navdeep Saini\"=\"Bowler\"\n",
        "def ipl(**players):\n",
        "  for player in players:\n",
        "    print(\"Player Name:\",player,\"\\nRole:\",players[player],\"\\n\")\n",
        "\n",
        "ipl(Navdeep_Saini=\"Bowler\",\n",
        "    Virat_Kohli=\"Batsman\",\n",
        "    Glenn_Maxwell=\"All-rounder\")"
      ],
      "metadata": {
        "colab": {
          "base_uri": "https://localhost:8080/"
        },
        "id": "ljqU8pZq7wHj",
        "outputId": "faaa44f1-9146-4d17-9198-73e979fa6bfb"
      },
      "execution_count": null,
      "outputs": [
        {
          "output_type": "stream",
          "name": "stdout",
          "text": [
            "Player Name: Navdeep_Saini \n",
            "Role: Bowler \n",
            "\n",
            "Player Name: Virat_Kohli \n",
            "Role: Batsman \n",
            "\n",
            "Player Name: Glenn_Maxwell \n",
            "Role: All-rounder \n",
            "\n"
          ]
        }
      ]
    },
    {
      "cell_type": "code",
      "source": [],
      "metadata": {
        "id": "oMaXae-m-FI5"
      },
      "execution_count": null,
      "outputs": []
    }
  ]
}