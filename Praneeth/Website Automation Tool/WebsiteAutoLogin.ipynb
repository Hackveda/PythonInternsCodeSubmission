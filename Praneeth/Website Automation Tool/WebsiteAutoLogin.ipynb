{
 "cells": [
  {
   "cell_type": "code",
   "execution_count": 1,
   "id": "45245d2c",
   "metadata": {
    "scrolled": true
   },
   "outputs": [],
   "source": [
    "from selenium import webdriver\n",
    "\n",
    "import time"
   ]
  },
  {
   "cell_type": "code",
   "execution_count": 2,
   "id": "6d8679ed",
   "metadata": {},
   "outputs": [
    {
     "name": "stderr",
     "output_type": "stream",
     "text": [
      "C:\\Users\\PRANEETH\\AppData\\Local\\Temp/ipykernel_22736/3230565175.py:2: DeprecationWarning: executable_path has been deprecated, please pass in a Service object\n",
      "  browser = webdriver.Chrome(\"D:\\Downloads\\chromedriver_win32 (1)\\chromedriver.exe\")\n"
     ]
    }
   ],
   "source": [
    "# Create a connection with your browser\n",
    "browser = webdriver.Chrome(\"D:\\Downloads\\chromedriver_win32 (1)\\chromedriver.exe\")\n",
    "\n",
    "# Maximise the browser window \n",
    "browser.maximize_window()     \n",
    "\n",
    "# Open the website\n",
    "browser.get(\"https://www.hackveda.in/one2one\")\n",
    "time.sleep(3)"
   ]
  },
  {
   "cell_type": "code",
   "execution_count": 3,
   "id": "6bd334f5",
   "metadata": {},
   "outputs": [
    {
     "data": {
      "text/plain": [
       "<selenium.webdriver.remote.webelement.WebElement (session=\"76eed17dc0d4019de45bd9aa98ad2f4e\", element=\"6bb16f22-5a1a-4cf0-a98a-1726a8b9ad30\")>"
      ]
     },
     "execution_count": 3,
     "metadata": {},
     "output_type": "execute_result"
    }
   ],
   "source": [
    "username = browser.find_element(\"id\", \"email\")\n",
    "password = browser.find_element(\"id\",\"password\")\n",
    "username\n",
    "password"
   ]
  },
  {
   "cell_type": "code",
   "execution_count": 4,
   "id": "2a96684e",
   "metadata": {},
   "outputs": [],
   "source": [
    "username.send_keys(\"praneethreddy7733@gmail.com\")\n",
    "time.sleep(3)"
   ]
  },
  {
   "cell_type": "code",
   "execution_count": 5,
   "id": "d251a738",
   "metadata": {},
   "outputs": [],
   "source": [
    "password.send_keys(\"9910950118\")\n",
    "time.sleep(3)"
   ]
  },
  {
   "cell_type": "code",
   "execution_count": 6,
   "id": "cbf0edb1",
   "metadata": {},
   "outputs": [],
   "source": [
    "signIn=browser.find_element(\"id\",\"login_btn\")\n",
    "signIn.click()"
   ]
  }
 ],
 "metadata": {
  "kernelspec": {
   "display_name": "Python 3 (ipykernel)",
   "language": "python",
   "name": "python3"
  },
  "language_info": {
   "codemirror_mode": {
    "name": "ipython",
    "version": 3
   },
   "file_extension": ".py",
   "mimetype": "text/x-python",
   "name": "python",
   "nbconvert_exporter": "python",
   "pygments_lexer": "ipython3",
   "version": "3.9.6"
  }
 },
 "nbformat": 4,
 "nbformat_minor": 5
}
