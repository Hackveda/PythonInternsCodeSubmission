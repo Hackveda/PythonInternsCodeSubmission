{
  "nbformat": 4,
  "nbformat_minor": 0,
  "metadata": {
    "colab": {
      "provenance": [],
      "authorship_tag": "ABX9TyNCVLOkEgI9S8bdGnfz1Fex",
      "include_colab_link": true
    },
    "kernelspec": {
      "name": "python3",
      "display_name": "Python 3"
    },
    "language_info": {
      "name": "python"
    }
  },
  "cells": [
    {
      "cell_type": "markdown",
      "metadata": {
        "id": "view-in-github",
        "colab_type": "text"
      },
      "source": [
        "<a href=\"https://colab.research.google.com/github/Hackveda/PythonInternsCodeSubmission/blob/main/Praneeth/Standard_library/Standard_Libra.ipynb\" target=\"_parent\"><img src=\"https://colab.research.google.com/assets/colab-badge.svg\" alt=\"Open In Colab\"/></a>"
      ]
    },
    {
      "cell_type": "code",
      "execution_count": null,
      "metadata": {
        "id": "gBDXkmYMYI30",
        "colab": {
          "base_uri": "https://localhost:8080/"
        },
        "outputId": "9b9af156-b5e4-4ae6-bbda-fd50b4523ce1"
      },
      "outputs": [
        {
          "output_type": "stream",
          "name": "stdout",
          "text": [
            "uyvsczeguyki\n",
            "Email ID is valid\n"
          ]
        }
      ],
      "source": [
        "# String Pattern Matching\n",
        "# Check if the mail id is valid or not\n",
        "import re\n",
        "email = input()\n",
        "result = re.findall(r'^[a-zA-Z0_9+_.-]+@[a-zA-Z0-9.-]+$', email)\n",
        "if result != 0:\n",
        "  print('Email ID is valid')\n",
        "else:\n",
        "  print('Email ID is invalid') "
      ]
    },
    {
      "cell_type": "code",
      "source": [
        "# Using random in Python\n",
        "import random\n",
        "mylist= ['dummyt','gummy','runny','denwt']\n",
        "random.choice(mylist)"
      ],
      "metadata": {
        "colab": {
          "base_uri": "https://localhost:8080/",
          "height": 36
        },
        "id": "VugcnyMSQrUk",
        "outputId": "83fbd8c8-3f2b-47d3-d619-b183e5265def"
      },
      "execution_count": null,
      "outputs": [
        {
          "output_type": "execute_result",
          "data": {
            "text/plain": [
              "'runny'"
            ],
            "application/vnd.google.colaboratory.intrinsic+json": {
              "type": "string"
            }
          },
          "metadata": {},
          "execution_count": 3
        }
      ]
    },
    {
      "cell_type": "code",
      "source": [
        "num = [1,2,3,5,3,34]\n",
        "random.choice(num)"
      ],
      "metadata": {
        "colab": {
          "base_uri": "https://localhost:8080/"
        },
        "id": "-X-g-Fv0RA-C",
        "outputId": "62418c3a-40a7-4205-a1ef-6719457bdf18"
      },
      "execution_count": null,
      "outputs": [
        {
          "output_type": "execute_result",
          "data": {
            "text/plain": [
              "2"
            ]
          },
          "metadata": {},
          "execution_count": 6
        }
      ]
    },
    {
      "cell_type": "code",
      "source": [
        "#Implement DIce\n",
        "dice = [1,2,3,4,5,6]\n",
        "#k = \n",
        "user = input(\"enter 1 to start:\")\n",
        "if user == 1:\n",
        "  random.choice(dice)"
      ],
      "metadata": {
        "colab": {
          "base_uri": "https://localhost:8080/"
        },
        "id": "cjFwcZOZRTWr",
        "outputId": "1636accc-53ed-4168-d745-025da0929976"
      },
      "execution_count": null,
      "outputs": [
        {
          "name": "stdout",
          "output_type": "stream",
          "text": [
            "enter 1 to start:1\n"
          ]
        }
      ]
    },
    {
      "cell_type": "code",
      "source": [
        "#Implement Statistics in python\n",
        "import statistics\n",
        "mylist = [6,4,2,0,1,4]\n",
        "round(statistics.mean(mylist),5)"
      ],
      "metadata": {
        "colab": {
          "base_uri": "https://localhost:8080/"
        },
        "id": "pLMbRr1sSBxt",
        "outputId": "70f1550d-59c2-43e0-867d-717415ac9442"
      },
      "execution_count": null,
      "outputs": [
        {
          "output_type": "execute_result",
          "data": {
            "text/plain": [
              "2.83333"
            ]
          },
          "metadata": {},
          "execution_count": 15
        }
      ]
    },
    {
      "cell_type": "code",
      "source": [
        "from datetime import date\n",
        "today = date.today()"
      ],
      "metadata": {
        "id": "ZNVJtDobUnfa"
      },
      "execution_count": null,
      "outputs": []
    },
    {
      "cell_type": "code",
      "source": [
        "today.strftime(\"%m/%d/%y\")"
      ],
      "metadata": {
        "colab": {
          "base_uri": "https://localhost:8080/",
          "height": 36
        },
        "id": "Fi_7DZrEVUvM",
        "outputId": "8d799444-c218-4cfb-fdfc-15d31675341e"
      },
      "execution_count": null,
      "outputs": [
        {
          "output_type": "execute_result",
          "data": {
            "text/plain": [
              "'01/03/23'"
            ],
            "application/vnd.google.colaboratory.intrinsic+json": {
              "type": "string"
            }
          },
          "metadata": {},
          "execution_count": 22
        }
      ]
    },
    {
      "cell_type": "code",
      "source": [
        "# Print the date in alphabets\n",
        "today.strftime(\"Day is %A, Month is %B (%b)\")"
      ],
      "metadata": {
        "colab": {
          "base_uri": "https://localhost:8080/",
          "height": 36
        },
        "id": "Jzy9vJNmVn1r",
        "outputId": "87aa14be-57ba-43cb-81e6-e1643a2dd094"
      },
      "execution_count": null,
      "outputs": [
        {
          "output_type": "execute_result",
          "data": {
            "text/plain": [
              "'Day is Tuesday, Month is January (Jan)'"
            ],
            "application/vnd.google.colaboratory.intrinsic+json": {
              "type": "string"
            }
          },
          "metadata": {},
          "execution_count": 25
        }
      ]
    },
    {
      "cell_type": "code",
      "source": [
        "#Data compression in python\n",
        "data =b\"This is my statement ashrviubvcauygrcfn aquerlm;ouyerfcbq;ahdiy;oweqrufibwelnacx\"\n",
        "len(data)"
      ],
      "metadata": {
        "colab": {
          "base_uri": "https://localhost:8080/"
        },
        "id": "4rfdl0MgX4iZ",
        "outputId": "a300ba17-ba50-4c2c-e9c2-2991a3197f6e"
      },
      "execution_count": null,
      "outputs": [
        {
          "output_type": "execute_result",
          "data": {
            "text/plain": [
              "80"
            ]
          },
          "metadata": {},
          "execution_count": 31
        }
      ]
    },
    {
      "cell_type": "code",
      "source": [
        "#Compress this data using zlib\n",
        "import zlib\n",
        "data_compress=zlib.compress(data)\n",
        "len(data_compress)"
      ],
      "metadata": {
        "colab": {
          "base_uri": "https://localhost:8080/"
        },
        "id": "RMaIIh6jYfn8",
        "outputId": "2c2176cb-234a-4cc6-cff9-36d14ad19484"
      },
      "execution_count": null,
      "outputs": [
        {
          "output_type": "execute_result",
          "data": {
            "text/plain": [
              "77"
            ]
          },
          "metadata": {},
          "execution_count": 32
        }
      ]
    },
    {
      "cell_type": "code",
      "source": [
        "zlib.decompress(data_compress)"
      ],
      "metadata": {
        "colab": {
          "base_uri": "https://localhost:8080/"
        },
        "id": "hhvRsU1RZNlt",
        "outputId": "ef1949bd-9855-450f-bc6f-6c397fe8fa35"
      },
      "execution_count": null,
      "outputs": [
        {
          "output_type": "execute_result",
          "data": {
            "text/plain": [
              "b'This is my statement ashrviubvcauygrcfn aquerlm;ouyerfcbq;ahdiy;oweqrufibwelnacx'"
            ]
          },
          "metadata": {},
          "execution_count": 34
        }
      ]
    },
    {
      "cell_type": "code",
      "source": [
        "# Performance measurment in PYthon\n",
        "from timeit import Timer\n",
        "mylist = [\"dev\",\"abc\",\"cvb\"]\n",
        "Timer(\"mylist[0]='vada'\").timeit()\n"
      ],
      "metadata": {
        "id": "4yvbLKMfZfo0"
      },
      "execution_count": null,
      "outputs": []
    },
    {
      "cell_type": "code",
      "source": [
        "#Quality Control in Python\n",
        "def sum(a,b):\n",
        "  \"\"\"\n",
        "  This function sums two values\n",
        "  >>> print(sum(10,10))\n",
        "  30\n",
        "  \"\"\"\n",
        "  return a+b\n",
        "def sub(a,b):\n",
        "  \"\"\"\n",
        "  Subtract two values\n",
        "  >>> print(sub(20,10))\n",
        "  10\n",
        "  \"\"\"\n",
        "  return a-b\n",
        "import doctest\n",
        "doctest.testmod()  "
      ],
      "metadata": {
        "colab": {
          "base_uri": "https://localhost:8080/"
        },
        "id": "JJuhY2mIc5m1",
        "outputId": "19a16b18-52cb-4ecd-c290-a11185625f58"
      },
      "execution_count": null,
      "outputs": [
        {
          "output_type": "stream",
          "name": "stdout",
          "text": [
            "**********************************************************************\n",
            "File \"__main__\", line 5, in __main__.sum\n",
            "Failed example:\n",
            "    print(sum(10,10))\n",
            "Expected:\n",
            "    30\n",
            "Got:\n",
            "    20\n",
            "**********************************************************************\n",
            "1 items had failures:\n",
            "   1 of   1 in __main__.sum\n",
            "***Test Failed*** 1 failures.\n"
          ]
        },
        {
          "output_type": "execute_result",
          "data": {
            "text/plain": [
              "TestResults(failed=1, attempted=2)"
            ]
          },
          "metadata": {},
          "execution_count": 41
        }
      ]
    },
    {
      "cell_type": "code",
      "source": [
        "#Multi-Threading in Python\n",
        "import threading\n",
        "class MyOperation(threading.Threading):\n",
        "  def __init__(self,a,b):\n",
        "    threading.Thread.__init__(self)\n",
        "    self.a=a\n",
        "    self,b=bin\n",
        "  def run(self):\n",
        "    print(\"SUm is\",self.a + self.b)\n",
        "MyOperation(10,20).start()\n",
        "print(\"Gui Thread executed\")"
      ],
      "metadata": {
        "id": "sJg7Lidif15S"
      },
      "execution_count": null,
      "outputs": []
    }
  ]
}