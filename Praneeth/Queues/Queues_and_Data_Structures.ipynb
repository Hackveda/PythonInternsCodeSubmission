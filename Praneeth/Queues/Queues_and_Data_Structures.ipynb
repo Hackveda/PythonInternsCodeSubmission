{
  "nbformat": 4,
  "nbformat_minor": 0,
  "metadata": {
    "colab": {
      "provenance": [],
      "authorship_tag": "ABX9TyNRmrMiB2nf2vUWnBLZd9kf",
      "include_colab_link": true
    },
    "kernelspec": {
      "name": "python3",
      "display_name": "Python 3"
    },
    "language_info": {
      "name": "python"
    }
  },
  "cells": [
    {
      "cell_type": "markdown",
      "metadata": {
        "id": "view-in-github",
        "colab_type": "text"
      },
      "source": [
        "<a href=\"https://colab.research.google.com/github/Hackveda/PythonInternsCodeSubmission/blob/main/Praneeth/Queues/Queues_and_Data_Structures.ipynb\" target=\"_parent\"><img src=\"https://colab.research.google.com/assets/colab-badge.svg\" alt=\"Open In Colab\"/></a>"
      ]
    },
    {
      "cell_type": "code",
      "execution_count": 1,
      "metadata": {
        "id": "J966csH8vIbq"
      },
      "outputs": [],
      "source": [
        "from collections import deque"
      ]
    },
    {
      "cell_type": "code",
      "source": [
        "queue = deque([\"Aruse\",\"panni\",\"dummy\"])\n",
        "type(queue)"
      ],
      "metadata": {
        "colab": {
          "base_uri": "https://localhost:8080/"
        },
        "id": "ikN60scDvP_p",
        "outputId": "57633a68-698b-4f61-abe0-a21d34d48ab4"
      },
      "execution_count": 11,
      "outputs": [
        {
          "output_type": "execute_result",
          "data": {
            "text/plain": [
              "collections.deque"
            ]
          },
          "metadata": {},
          "execution_count": 11
        }
      ]
    },
    {
      "cell_type": "code",
      "source": [
        "#perform operatiions on queues\n",
        "queue.append(\"fanim\")\n",
        "queue"
      ],
      "metadata": {
        "colab": {
          "base_uri": "https://localhost:8080/"
        },
        "id": "Omyh2MW-wPbB",
        "outputId": "8c5244da-437f-4357-81d4-35593b90c9dc"
      },
      "execution_count": 12,
      "outputs": [
        {
          "output_type": "execute_result",
          "data": {
            "text/plain": [
              "deque(['Aruse', 'panni', 'dummy', 'fanim'])"
            ]
          },
          "metadata": {},
          "execution_count": 12
        }
      ]
    },
    {
      "cell_type": "code",
      "source": [
        "#perform dequeue\n",
        "queue.popleft()\n",
        "queue"
      ],
      "metadata": {
        "colab": {
          "base_uri": "https://localhost:8080/"
        },
        "id": "jrkJAQAFwv4Y",
        "outputId": "5935d7bd-bcbf-43ac-a876-540d9ee504e0"
      },
      "execution_count": 13,
      "outputs": [
        {
          "output_type": "execute_result",
          "data": {
            "text/plain": [
              "deque(['panni', 'dummy', 'fanim'])"
            ]
          },
          "metadata": {},
          "execution_count": 13
        }
      ]
    },
    {
      "cell_type": "code",
      "source": [
        "#operations\n",
        "queue.appendleft(\"yucgv\")\n",
        "queue"
      ],
      "metadata": {
        "colab": {
          "base_uri": "https://localhost:8080/"
        },
        "id": "UW3P_OPHxhpU",
        "outputId": "dcd4610f-1bd9-46e7-f263-85aac04c2340"
      },
      "execution_count": 14,
      "outputs": [
        {
          "output_type": "execute_result",
          "data": {
            "text/plain": [
              "deque(['yucgv', 'panni', 'dummy', 'fanim'])"
            ]
          },
          "metadata": {},
          "execution_count": 14
        }
      ]
    },
    {
      "cell_type": "code",
      "source": [
        "queue2=queue.copy()\n",
        "queue"
      ],
      "metadata": {
        "colab": {
          "base_uri": "https://localhost:8080/"
        },
        "id": "9gjAruPYx6K7",
        "outputId": "87b9a381-1907-421c-a23e-8a8b11b9c2c4"
      },
      "execution_count": 16,
      "outputs": [
        {
          "output_type": "execute_result",
          "data": {
            "text/plain": [
              "deque(['yucgv', 'panni', 'dummy', 'fanim'])"
            ]
          },
          "metadata": {},
          "execution_count": 16
        }
      ]
    },
    {
      "cell_type": "code",
      "source": [
        "queue2.count(\"panni\")"
      ],
      "metadata": {
        "colab": {
          "base_uri": "https://localhost:8080/"
        },
        "id": "mQM5lXdiyEtT",
        "outputId": "16e143b0-ddca-44f2-d978-d72036e0aecf"
      },
      "execution_count": 17,
      "outputs": [
        {
          "output_type": "execute_result",
          "data": {
            "text/plain": [
              "1"
            ]
          },
          "metadata": {},
          "execution_count": 17
        }
      ]
    },
    {
      "cell_type": "code",
      "source": [
        "extra_list=[\"sonam\",\"mohan\",'jogan']\n",
        "queue2.extend(extra_list)\n",
        "queue2"
      ],
      "metadata": {
        "colab": {
          "base_uri": "https://localhost:8080/"
        },
        "id": "VlILHABbyIq0",
        "outputId": "8e790dd7-48ea-4f79-9c24-d3b03ab1ab69"
      },
      "execution_count": 19,
      "outputs": [
        {
          "output_type": "execute_result",
          "data": {
            "text/plain": [
              "deque(['yucgv', 'panni', 'dummy', 'fanim', 'sonam', 'mohan', 'jogan'])"
            ]
          },
          "metadata": {},
          "execution_count": 19
        }
      ]
    },
    {
      "cell_type": "code",
      "source": [
        "queue2.extendleft(extra_list)\n",
        "queue2"
      ],
      "metadata": {
        "colab": {
          "base_uri": "https://localhost:8080/"
        },
        "id": "ENOHR61SyYcZ",
        "outputId": "9af3f74e-f7a6-4183-c2ae-70cded867bec"
      },
      "execution_count": 20,
      "outputs": [
        {
          "output_type": "execute_result",
          "data": {
            "text/plain": [
              "deque(['jogan',\n",
              "       'mohan',\n",
              "       'sonam',\n",
              "       'yucgv',\n",
              "       'panni',\n",
              "       'dummy',\n",
              "       'fanim',\n",
              "       'sonam',\n",
              "       'mohan',\n",
              "       'jogan'])"
            ]
          },
          "metadata": {},
          "execution_count": 20
        }
      ]
    },
    {
      "cell_type": "code",
      "source": [
        "queue2.index(\"jogan\")"
      ],
      "metadata": {
        "colab": {
          "base_uri": "https://localhost:8080/"
        },
        "id": "yOq3G3TTyfqE",
        "outputId": "652002af-f5c7-4ae1-903b-de3e5668b8f1"
      },
      "execution_count": 21,
      "outputs": [
        {
          "output_type": "execute_result",
          "data": {
            "text/plain": [
              "0"
            ]
          },
          "metadata": {},
          "execution_count": 21
        }
      ]
    },
    {
      "cell_type": "code",
      "source": [
        "queue2.insert(0,\"mom\")\n",
        "queue2"
      ],
      "metadata": {
        "colab": {
          "base_uri": "https://localhost:8080/"
        },
        "id": "-BW7OadhzT18",
        "outputId": "fd8b20f3-cf41-4a96-9e19-5a242c112af1"
      },
      "execution_count": 22,
      "outputs": [
        {
          "output_type": "execute_result",
          "data": {
            "text/plain": [
              "deque(['mom',\n",
              "       'jogan',\n",
              "       'mohan',\n",
              "       'sonam',\n",
              "       'yucgv',\n",
              "       'panni',\n",
              "       'dummy',\n",
              "       'fanim',\n",
              "       'sonam',\n",
              "       'mohan',\n",
              "       'jogan'])"
            ]
          },
          "metadata": {},
          "execution_count": 22
        }
      ]
    },
    {
      "cell_type": "code",
      "source": [
        "queue2.pop()"
      ],
      "metadata": {
        "colab": {
          "base_uri": "https://localhost:8080/",
          "height": 36
        },
        "id": "kCjib2KrzgTt",
        "outputId": "cf0d75ba-2e3a-4626-a5ce-992e7f7df015"
      },
      "execution_count": 23,
      "outputs": [
        {
          "output_type": "execute_result",
          "data": {
            "text/plain": [
              "'jogan'"
            ],
            "application/vnd.google.colaboratory.intrinsic+json": {
              "type": "string"
            }
          },
          "metadata": {},
          "execution_count": 23
        }
      ]
    },
    {
      "cell_type": "code",
      "source": [
        "queue2.popleft()\n",
        "queue2"
      ],
      "metadata": {
        "colab": {
          "base_uri": "https://localhost:8080/"
        },
        "id": "iRsk4XuAz1H1",
        "outputId": "d7a9c6e2-3e6e-48b0-cae7-a6bac5860d02"
      },
      "execution_count": 24,
      "outputs": [
        {
          "output_type": "execute_result",
          "data": {
            "text/plain": [
              "deque(['jogan',\n",
              "       'mohan',\n",
              "       'sonam',\n",
              "       'yucgv',\n",
              "       'panni',\n",
              "       'dummy',\n",
              "       'fanim',\n",
              "       'sonam',\n",
              "       'mohan'])"
            ]
          },
          "metadata": {},
          "execution_count": 24
        }
      ]
    },
    {
      "cell_type": "code",
      "source": [
        "queue2.rotate()\n",
        "queue2"
      ],
      "metadata": {
        "colab": {
          "base_uri": "https://localhost:8080/"
        },
        "id": "yas_RyZtz4Wo",
        "outputId": "4a7cb76d-ad46-4857-ef57-865df43e98a0"
      },
      "execution_count": 25,
      "outputs": [
        {
          "output_type": "execute_result",
          "data": {
            "text/plain": [
              "deque(['mohan',\n",
              "       'jogan',\n",
              "       'mohan',\n",
              "       'sonam',\n",
              "       'yucgv',\n",
              "       'panni',\n",
              "       'dummy',\n",
              "       'fanim',\n",
              "       'sonam'])"
            ]
          },
          "metadata": {},
          "execution_count": 25
        }
      ]
    },
    {
      "cell_type": "code",
      "source": [
        "queue2.rotate(2)\n",
        "queue2"
      ],
      "metadata": {
        "colab": {
          "base_uri": "https://localhost:8080/"
        },
        "id": "AOUS22XL0kn3",
        "outputId": "291938ff-8631-4e78-e1d1-e535b4db33a7"
      },
      "execution_count": 26,
      "outputs": [
        {
          "output_type": "execute_result",
          "data": {
            "text/plain": [
              "deque(['fanim',\n",
              "       'sonam',\n",
              "       'mohan',\n",
              "       'jogan',\n",
              "       'mohan',\n",
              "       'sonam',\n",
              "       'yucgv',\n",
              "       'panni',\n",
              "       'dummy'])"
            ]
          },
          "metadata": {},
          "execution_count": 26
        }
      ]
    },
    {
      "cell_type": "code",
      "source": [
        "queue2.rotate(3)\n",
        "queue2"
      ],
      "metadata": {
        "colab": {
          "base_uri": "https://localhost:8080/"
        },
        "id": "n_r_UbgP0wdX",
        "outputId": "147a630a-c96f-47ad-919e-61a924fcda4e"
      },
      "execution_count": 27,
      "outputs": [
        {
          "output_type": "execute_result",
          "data": {
            "text/plain": [
              "deque(['yucgv',\n",
              "       'panni',\n",
              "       'dummy',\n",
              "       'fanim',\n",
              "       'sonam',\n",
              "       'mohan',\n",
              "       'jogan',\n",
              "       'mohan',\n",
              "       'sonam'])"
            ]
          },
          "metadata": {},
          "execution_count": 27
        }
      ]
    }
  ]
}