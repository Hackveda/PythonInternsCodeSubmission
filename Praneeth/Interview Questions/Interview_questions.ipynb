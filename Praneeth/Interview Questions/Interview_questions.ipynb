{
  "nbformat": 4,
  "nbformat_minor": 0,
  "metadata": {
    "colab": {
      "provenance": [],
      "authorship_tag": "ABX9TyNlBBiTpeUx2Egxg/mCil23",
      "include_colab_link": true
    },
    "kernelspec": {
      "name": "python3",
      "display_name": "Python 3"
    },
    "language_info": {
      "name": "python"
    }
  },
  "cells": [
    {
      "cell_type": "markdown",
      "metadata": {
        "id": "view-in-github",
        "colab_type": "text"
      },
      "source": [
        "<a href=\"https://colab.research.google.com/github/Hackveda/PythonInternsCodeSubmission/blob/main/Praneeth/Interview%20Questions/Interview_questions.ipynb\" target=\"_parent\"><img src=\"https://colab.research.google.com/assets/colab-badge.svg\" alt=\"Open In Colab\"/></a>"
      ]
    },
    {
      "cell_type": "code",
      "execution_count": null,
      "metadata": {
        "id": "rUFXpS_f1HQN"
      },
      "outputs": [],
      "source": [
        "#Queue implimentation\n",
        "class queue:\n",
        "  def __init__(self,size):\n",
        "    self.q=[None]*size\n",
        "    self.capacity = size\n",
        "    self.front = 0\n",
        "    self.rear = -1\n",
        "    self.count = 0\n",
        "  def pop(self):\n",
        "    if self.isEmpty():\n",
        "      print('terminate')\n",
        "      exit(1)\n",
        "    print(\"Removing element:\", self.q[self.front])\n",
        "    self.front = (self.front+1)%self.capacity\n",
        "    self.count = self.count-1\n",
        "  def append(self,value):\n",
        "    if self.isFull():\n",
        "      print(\"Overflow\")\n",
        "      exit(1)\n",
        "    print(\"Inserting a value:\",value)\n",
        "    self.rear= (self.rear+1)%self.capacity\n",
        "    self.q[self.rear]= value\n",
        "    self.count= self.count+1\n",
        "  def peak(self):\n",
        "    if self.isEmpty():\n",
        "      print(\"Queue is empty\")\n",
        "      exit(1)\n",
        "    return self.q[self.front]\n",
        "  def size(self):\n",
        "    return self.count\n",
        "  def isEmpty(self):\n",
        "      return self.size==0\n",
        "  def isFull(self):\n",
        "    return self.size()==self.capacity\n",
        "if __name__ == '__main__':\n",
        "  cust_queue =queue(10)\n",
        "  print(\"Size of the queue is\", cust_queue.size())\n",
        "  cust_queue.append(10)\n",
        "  cust_queue.append(20)\n",
        "  cust_queue.append(30)\n",
        "  print(\"Size of the queue is\", cust_queue.size())\n",
        "  cust_queue.pop()\n",
        "  if cust_queue.isEmpty():\n",
        "    print(\"queue is empty\")\n",
        "  else:\n",
        "    print(\"Non empty\")"
      ]
    }
  ]
}