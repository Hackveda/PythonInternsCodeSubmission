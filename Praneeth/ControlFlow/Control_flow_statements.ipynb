{
  "nbformat": 4,
  "nbformat_minor": 0,
  "metadata": {
    "colab": {
      "provenance": [],
      "authorship_tag": "ABX9TyP+Wqc3+NmwphmACLCa0E6q",
      "include_colab_link": true
    },
    "kernelspec": {
      "name": "python3",
      "display_name": "Python 3"
    },
    "language_info": {
      "name": "python"
    }
  },
  "cells": [
    {
      "cell_type": "markdown",
      "metadata": {
        "id": "view-in-github",
        "colab_type": "text"
      },
      "source": [
        "<a href=\"https://colab.research.google.com/github/Hackveda/PythonInternsCodeSubmission/blob/main/Praneeth/ControlFlow/Control_flow_statements.ipynb\" target=\"_parent\"><img src=\"https://colab.research.google.com/assets/colab-badge.svg\" alt=\"Open In Colab\"/></a>"
      ]
    },
    {
      "cell_type": "code",
      "execution_count": null,
      "metadata": {
        "colab": {
          "base_uri": "https://localhost:8080/"
        },
        "id": "uGKZXaaaswv6",
        "outputId": "6efbad80-5714-4f7f-e65c-3caf7e12d4a9"
      },
      "outputs": [
        {
          "output_type": "stream",
          "name": "stdout",
          "text": [
            "Variable values 0 1 2 3\n"
          ]
        }
      ],
      "source": [
        "a= 0\n",
        "b =1\n",
        "c,d=2,3\n",
        "print('Variable values',a,b,c,d)"
      ]
    },
    {
      "cell_type": "code",
      "source": [
        "while a<10:\n",
        "   print(a)\n",
        "   a,b=b,a+b"
      ],
      "metadata": {
        "colab": {
          "base_uri": "https://localhost:8080/"
        },
        "id": "DBc2lBqotWOb",
        "outputId": "8179d0c8-a06e-4136-9341-7eecd0d4075d"
      },
      "execution_count": null,
      "outputs": [
        {
          "output_type": "stream",
          "name": "stdout",
          "text": [
            "0\n",
            "1\n",
            "1\n",
            "2\n",
            "3\n",
            "5\n",
            "8\n"
          ]
        }
      ]
    },
    {
      "cell_type": "code",
      "source": [
        "# Simple grade calculator Application\n",
        "# 91-100 =A, 81-90=B,Below or equal 70 = Fai\n",
        "# Take inout from the user\n",
        "mark = int(input(\"Enter your grade:\"))\n",
        "# Conditional flow implementation \n",
        "if mark>=91:\n",
        "  print(\"Grade A\")\n",
        "elif mark>=81:\n",
        "  print(\"Grade B\")\n",
        "elif mark>=71:\n",
        "  print(\"Grade C\")\n",
        "else:\n",
        "  print(\"Failed Score\")"
      ],
      "metadata": {
        "colab": {
          "base_uri": "https://localhost:8080/"
        },
        "id": "z6ZYdcJauRlc",
        "outputId": "65ea133a-5a66-4429-8b27-09d5cd6a262a"
      },
      "execution_count": null,
      "outputs": [
        {
          "output_type": "stream",
          "name": "stdout",
          "text": [
            "Enter your grade:67\n",
            "Failed Score\n"
          ]
        }
      ]
    },
    {
      "cell_type": "code",
      "source": [
        "# Switch Implementation of IF\n",
        "# ATM Machine Applicaton\n",
        "card = input(\"Enter Card: \")\n",
        "print(\"\"\"\n",
        "Select your option\n",
        "\n",
        "1.Banking\n",
        "2.Bank Statement\n",
        "3.PIN Change\n",
        "4.Fast Withdrawel\n",
        "\"\"\")\n",
        "option = int(input(\"EnterSelect option\"))\n",
        "\n",
        "#Switch implementation\n",
        "if option == 1:\n",
        "  print(\"Welcome to Banking Mode\")\n",
        "elif option == 2:\n",
        "  print(\"Print Bank Statement\")\n",
        "elif option==3:\n",
        "  print(\"PIN Change Menu\")\n",
        "elif option == 4:\n",
        "  print(\"Fast Withdrawal\")\n",
        "else:\n",
        "  print(\"Please check the correct option\")"
      ],
      "metadata": {
        "colab": {
          "base_uri": "https://localhost:8080/"
        },
        "id": "ho6C_kG3xbWN",
        "outputId": "904fb2eb-c156-4712-e908-dbdea06d3a2f"
      },
      "execution_count": null,
      "outputs": [
        {
          "output_type": "stream",
          "name": "stdout",
          "text": [
            "Enter Card: 5432\n",
            "\n",
            "Select your option\n",
            "\n",
            "1.Banking\n",
            "2.Bank Statement\n",
            "3.PIN Change\n",
            "4.Fast Withdrawel\n",
            "\n",
            "EnterSelect option2\n",
            "Print Bank Statement\n"
          ]
        }
      ]
    },
    {
      "cell_type": "code",
      "source": [
        " # For Statements in Python\n",
        " # Railway Reservation Application\n",
        "queue= [\"PAlak\",\"Dolak\",\"Molak\",\"Jalak\"]\n",
        "\n",
        " #Start making tickets for this queue\n",
        "for traveller in queue:\n",
        "  print(\"Make ticket for \",traveller)\n",
        "  print(\"Ticket issued for \",traveller)\n",
        "print(\"All traveller ticket made\")"
      ],
      "metadata": {
        "colab": {
          "base_uri": "https://localhost:8080/"
        },
        "id": "cITUZvv4BW5y",
        "outputId": "64528c26-be95-44eb-8994-615778821fef"
      },
      "execution_count": null,
      "outputs": [
        {
          "output_type": "stream",
          "name": "stdout",
          "text": [
            "Make ticket for  PAlak\n",
            "Ticket issued for  PAlak\n",
            "Make ticket for  Dolak\n",
            "Ticket issued for  Dolak\n",
            "Make ticket for  Molak\n",
            "Ticket issued for  Molak\n",
            "Make ticket for  Jalak\n",
            "Ticket issued for  Jalak\n",
            "All traveller ticket made\n"
          ]
        }
      ]
    },
    {
      "cell_type": "code",
      "source": [
        "items = [\"BAnana\",\"Bjindi\",\"Brinjal\",\"Butter\",\"Coffee\",\"Milk\",\"Burger\"]\n",
        "basket = []\n",
        "for item in items:\n",
        "  if item[0]=='B' or item[0]=='b':\n",
        "    basket.append(item)\n",
        "basket"
      ],
      "metadata": {
        "colab": {
          "base_uri": "https://localhost:8080/"
        },
        "id": "EXb1yz0XED5_",
        "outputId": "f93321f0-f921-4be7-d2a2-612a07f1f79b"
      },
      "execution_count": null,
      "outputs": [
        {
          "output_type": "execute_result",
          "data": {
            "text/plain": [
              "['BAnana', 'Bjindi', 'Brinjal', 'Butter', 'Burger']"
            ]
          },
          "metadata": {},
          "execution_count": 14
        }
      ]
    },
    {
      "cell_type": "code",
      "source": [
        "#Make a list of items between 10 and 50 step by 7\n",
        "list(range(10,51,7))"
      ],
      "metadata": {
        "colab": {
          "base_uri": "https://localhost:8080/"
        },
        "id": "g5hXJZ4_FKfV",
        "outputId": "633f73b6-5c41-4967-fa07-1ea52031283d"
      },
      "execution_count": null,
      "outputs": [
        {
          "output_type": "execute_result",
          "data": {
            "text/plain": [
              "[10, 17, 24, 31, 38, 45]"
            ]
          },
          "metadata": {},
          "execution_count": 15
        }
      ]
    },
    {
      "cell_type": "code",
      "source": [
        "for i in range(5):\n",
        "  print(i)\n",
        "  break"
      ],
      "metadata": {
        "colab": {
          "base_uri": "https://localhost:8080/"
        },
        "id": "SWz_rheeI_DN",
        "outputId": "73b6cb30-dfe9-434e-c881-97a35a576198"
      },
      "execution_count": null,
      "outputs": [
        {
          "output_type": "stream",
          "name": "stdout",
          "text": [
            "0\n"
          ]
        }
      ]
    },
    {
      "cell_type": "code",
      "source": [
        "for num in range(2,10):\n",
        "  if num%2==0:\n",
        "    print(\"Even number\")\n",
        "  print(\"Found odd number\",num)"
      ],
      "metadata": {
        "colab": {
          "base_uri": "https://localhost:8080/"
        },
        "id": "U966Er7fKDWM",
        "outputId": "8beb307e-4264-471f-9e81-dad21d45b678"
      },
      "execution_count": null,
      "outputs": [
        {
          "output_type": "stream",
          "name": "stdout",
          "text": [
            "Even number\n",
            "Found odd number 2\n",
            "Found odd number 3\n",
            "Even number\n",
            "Found odd number 4\n",
            "Found odd number 5\n",
            "Even number\n",
            "Found odd number 6\n",
            "Found odd number 7\n",
            "Even number\n",
            "Found odd number 8\n",
            "Found odd number 9\n"
          ]
        }
      ]
    },
    {
      "cell_type": "code",
      "source": [
        "items =['abcd','asfty','cgyfh','urte','ugygd']\n",
        "for item in items:\n",
        "  if len(item)==4:\n",
        "    print(item)\n",
        "  else:\n",
        "    pass"
      ],
      "metadata": {
        "colab": {
          "base_uri": "https://localhost:8080/"
        },
        "id": "ODAI3Ca11-GM",
        "outputId": "3bdeb45e-b049-4010-dac5-89bcb8a70643"
      },
      "execution_count": 1,
      "outputs": [
        {
          "output_type": "stream",
          "name": "stdout",
          "text": [
            "abcd\n",
            "urte\n"
          ]
        }
      ]
    }
  ]
}