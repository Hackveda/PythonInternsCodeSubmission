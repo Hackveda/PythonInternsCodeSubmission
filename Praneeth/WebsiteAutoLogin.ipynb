{
 "cells": [
  {
   "cell_type": "code",
   "execution_count": 17,
   "id": "45245d2c",
   "metadata": {
    "scrolled": true
   },
   "outputs": [],
   "source": [
    "from selenium import webdriver\n",
    "import time"
   ]
  },
  {
   "cell_type": "code",
   "execution_count": 18,
   "id": "6d8679ed",
   "metadata": {},
   "outputs": [],
   "source": [
    "# Create a connection with your browser\n",
    "browser = webdriver.Chrome(\"C:\\chromedriver_win32\\chromedriver.exe\")\n",
    "\n",
    "# Maximise the browser window \n",
    "browser.maximize_window()\n",
    "\n",
    "# Open the website\n",
    "browser.get(\"https://www.hackveda.in/one2one\")\n",
    "time.sleep(3)"
   ]
  },
  {
   "cell_type": "code",
   "execution_count": 19,
   "id": "6bd334f5",
   "metadata": {},
   "outputs": [
    {
     "data": {
      "text/plain": [
       "<selenium.webdriver.remote.webelement.WebElement (session=\"affef940c0fddece193a6cc1ea605d65\", element=\"66c5048f-b558-4dd0-96cd-dc0f32c4f205\")>"
      ]
     },
     "execution_count": 19,
     "metadata": {},
     "output_type": "execute_result"
    }
   ],
   "source": [
    "username = browser.find_element_by_id(\"email\")\n",
    "password = browser.find_element_by_id(\"password\")\n",
    "username\n",
    "password"
   ]
  },
  {
   "cell_type": "code",
   "execution_count": 20,
   "id": "2a96684e",
   "metadata": {},
   "outputs": [],
   "source": [
    "username.send_keys(\"jaideep.pandhera@gmail.com\")\n",
    "time.sleep(3)"
   ]
  },
  {
   "cell_type": "code",
   "execution_count": 21,
   "id": "d251a738",
   "metadata": {},
   "outputs": [],
   "source": [
    "password.send_keys(\"9910950118\")\n",
    "time.sleep(3)"
   ]
  },
  {
   "cell_type": "code",
   "execution_count": 22,
   "id": "cbf0edb1",
   "metadata": {},
   "outputs": [],
   "source": [
    "signIn=browser.find_element_by_id(\"login_btn\")\n",
    "signIn.click()"
   ]
  }
 ],
 "metadata": {
  "kernelspec": {
   "display_name": "Python 3 (ipykernel)",
   "language": "python",
   "name": "python3"
  },
  "language_info": {
   "codemirror_mode": {
    "name": "ipython",
    "version": 3
   },
   "file_extension": ".py",
   "mimetype": "text/x-python",
   "name": "python",
   "nbconvert_exporter": "python",
   "pygments_lexer": "ipython3",
   "version": "3.9.13"
  }
 },
 "nbformat": 4,
 "nbformat_minor": 5
}
