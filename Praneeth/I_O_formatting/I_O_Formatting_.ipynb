{
  "nbformat": 4,
  "nbformat_minor": 0,
  "metadata": {
    "colab": {
      "provenance": [],
      "authorship_tag": "ABX9TyMB2Yim2RTxXK9HuDqi5kyW",
      "include_colab_link": true
    },
    "kernelspec": {
      "name": "python3",
      "display_name": "Python 3"
    },
    "language_info": {
      "name": "python"
    }
  },
  "cells": [
    {
      "cell_type": "markdown",
      "metadata": {
        "id": "view-in-github",
        "colab_type": "text"
      },
      "source": [
        "<a href=\"https://colab.research.google.com/github/Hackveda/PythonInternsCodeSubmission/blob/main/Praneeth/I_O_formatting/I_O_Formatting_.ipynb\" target=\"_parent\"><img src=\"https://colab.research.google.com/assets/colab-badge.svg\" alt=\"Open In Colab\"/></a>"
      ]
    },
    {
      "cell_type": "code",
      "execution_count": null,
      "metadata": {
        "colab": {
          "base_uri": "https://localhost:8080/"
        },
        "id": "lxJ5kydK4nQm",
        "outputId": "e9871663-e88a-464a-a8e8-85925f3829af"
      },
      "outputs": [
        {
          "output_type": "stream",
          "name": "stdout",
          "text": [
            "my name is panni and my surname is raj\n"
          ]
        }
      ],
      "source": [
        "name ='panni'\n",
        "surname = 'raj'\n",
        "print(f'my name is {name} and my surname is {surname}')"
      ]
    },
    {
      "cell_type": "code",
      "source": [
        "subtotal_amount = 10000\n",
        "user = \"panni\"\n",
        "\"Subtotal for user is {} is {:,}\".format(user,subtotal_amount)"
      ],
      "metadata": {
        "colab": {
          "base_uri": "https://localhost:8080/",
          "height": 36
        },
        "id": "y11zkijD7cqm",
        "outputId": "4095c293-6c02-43b8-abd9-65ba795c97ab"
      },
      "execution_count": null,
      "outputs": [
        {
          "output_type": "execute_result",
          "data": {
            "text/plain": [
              "'Subtotal for user is panni is 10,000'"
            ],
            "application/vnd.google.colaboratory.intrinsic+json": {
              "type": "string"
            }
          },
          "metadata": {},
          "execution_count": 3
        }
      ]
    },
    {
      "cell_type": "code",
      "source": [
        "\"Subtotal for user is {} is {:_}\".format(user,subtotal_amount)"
      ],
      "metadata": {
        "colab": {
          "base_uri": "https://localhost:8080/",
          "height": 36
        },
        "id": "5QLFfkMa-aFJ",
        "outputId": "931fa4c4-0da6-4712-e59b-1dc2fe3e41ac"
      },
      "execution_count": null,
      "outputs": [
        {
          "output_type": "execute_result",
          "data": {
            "text/plain": [
              "'Subtotal for user is panni is 10_000'"
            ],
            "application/vnd.google.colaboratory.intrinsic+json": {
              "type": "string"
            }
          },
          "metadata": {},
          "execution_count": 4
        }
      ]
    },
    {
      "cell_type": "code",
      "source": [
        "l_value=10\n",
        "\"Binary value of {} is {:b}\".format(l_value,l_value)"
      ],
      "metadata": {
        "colab": {
          "base_uri": "https://localhost:8080/",
          "height": 36
        },
        "id": "huZjLDI3-lZI",
        "outputId": "404f869b-8f04-4592-ffa9-429320b0d595"
      },
      "execution_count": null,
      "outputs": [
        {
          "output_type": "execute_result",
          "data": {
            "text/plain": [
              "'Binary value of 10 is 1010'"
            ],
            "application/vnd.google.colaboratory.intrinsic+json": {
              "type": "string"
            }
          },
          "metadata": {},
          "execution_count": 5
        }
      ]
    },
    {
      "cell_type": "code",
      "source": [
        "val = 43\n",
        "\"Octal value of {} is {:o}\".format(val,val)"
      ],
      "metadata": {
        "colab": {
          "base_uri": "https://localhost:8080/",
          "height": 36
        },
        "id": "oJZIydrz_J0B",
        "outputId": "c8bb7cfe-c88c-4952-a424-b5e8069c522d"
      },
      "execution_count": null,
      "outputs": [
        {
          "output_type": "execute_result",
          "data": {
            "text/plain": [
              "'Octal value of 43 is 53'"
            ],
            "application/vnd.google.colaboratory.intrinsic+json": {
              "type": "string"
            }
          },
          "metadata": {},
          "execution_count": 6
        }
      ]
    },
    {
      "cell_type": "code",
      "source": [
        "\"Hexa decimal value of {} is {:x}\".format(val,val)"
      ],
      "metadata": {
        "colab": {
          "base_uri": "https://localhost:8080/",
          "height": 36
        },
        "id": "qrW20JpA_XmF",
        "outputId": "6c3f0007-34b4-4762-ded1-66958e9de064"
      },
      "execution_count": null,
      "outputs": [
        {
          "output_type": "execute_result",
          "data": {
            "text/plain": [
              "'Hexa decimal value of 43 is 2b'"
            ],
            "application/vnd.google.colaboratory.intrinsic+json": {
              "type": "string"
            }
          },
          "metadata": {},
          "execution_count": 8
        }
      ]
    },
    {
      "cell_type": "code",
      "source": [
        "#reading and writing files using python\n",
        "with open(\"panni.txt\") as f:\n",
        "  myfile=f.read()\n",
        "print(myfile)"
      ],
      "metadata": {
        "colab": {
          "base_uri": "https://localhost:8080/"
        },
        "id": "7K2iNudlA4fD",
        "outputId": "e3b511e9-edec-42b2-f01c-81ac5665c8eb"
      },
      "execution_count": null,
      "outputs": [
        {
          "output_type": "stream",
          "name": "stdout",
          "text": [
            "hli all\n",
            "this is me\n"
          ]
        }
      ]
    },
    {
      "cell_type": "code",
      "source": [
        "with open(\"naruto.txt\") as f:\n",
        "  hinata = f.read()\n",
        "print(hinata)"
      ],
      "metadata": {
        "colab": {
          "base_uri": "https://localhost:8080/"
        },
        "id": "RSB7zKTxClUK",
        "outputId": "aec1cde1-9143-4159-8117-3aa9424fa02a"
      },
      "execution_count": null,
      "outputs": [
        {
          "output_type": "stream",
          "name": "stdout",
          "text": [
            "dattebayoo!!\n",
            "naruto-kun\n"
          ]
        }
      ]
    },
    {
      "cell_type": "code",
      "source": [
        "with open(\"naruto.txt\") as f:\n",
        "  myline = f.readline()\n",
        "print(myline)"
      ],
      "metadata": {
        "colab": {
          "base_uri": "https://localhost:8080/"
        },
        "id": "6Bc3JFoLDNc9",
        "outputId": "18b4e515-6184-4ade-f036-26ab91073bd8"
      },
      "execution_count": null,
      "outputs": [
        {
          "output_type": "stream",
          "name": "stdout",
          "text": [
            "dattebayoo!!\n",
            "\n"
          ]
        }
      ]
    },
    {
      "cell_type": "code",
      "source": [
        "with open(\"naruto.txt\") as f:\n",
        "  for line in f:\n",
        "    print(line)"
      ],
      "metadata": {
        "colab": {
          "base_uri": "https://localhost:8080/"
        },
        "id": "PsTV66LPDiEm",
        "outputId": "7f1f7f15-3017-4695-c097-345a889500a9"
      },
      "execution_count": null,
      "outputs": [
        {
          "output_type": "stream",
          "name": "stdout",
          "text": [
            "dattebayoo!!\n",
            "\n",
            "naruto-kun\n"
          ]
        }
      ]
    },
    {
      "cell_type": "code",
      "source": [
        "with open(\"panni.txt\") as f:\n",
        "  for line in f:\n",
        "    print(line)"
      ],
      "metadata": {
        "colab": {
          "base_uri": "https://localhost:8080/"
        },
        "id": "7D7LeyGqD_cZ",
        "outputId": "fb2cb72d-2f91-4467-a73c-f4357e0e59b5"
      },
      "execution_count": null,
      "outputs": [
        {
          "output_type": "stream",
          "name": "stdout",
          "text": [
            "hli all\n",
            "\n",
            "this is me\n"
          ]
        }
      ]
    },
    {
      "cell_type": "code",
      "source": [
        "with open(\"panni1.txt\",\"w\") as f:\n",
        "  k = f.write(\"ohio! Guzaimas\")"
      ],
      "metadata": {
        "id": "-wkcZ4MxFBVU"
      },
      "execution_count": null,
      "outputs": []
    },
    {
      "cell_type": "code",
      "source": [
        "with open(\"panni2.txt\",\"w\") as p:\n",
        "  p.write(\"Konichiwaa!\")"
      ],
      "metadata": {
        "id": "VBlPOWmpFeQe"
      },
      "execution_count": null,
      "outputs": []
    },
    {
      "cell_type": "code",
      "source": [
        "# Writing JSON data in Python\n",
        "import json\n",
        "data = {\"Name\":\"Namaiva\", \"Age\": 43}\n",
        "json.dumps(data)"
      ],
      "metadata": {
        "colab": {
          "base_uri": "https://localhost:8080/",
          "height": 36
        },
        "id": "YvQjTTLrGLNo",
        "outputId": "5cc55e03-e32d-4b42-d78c-e175f2f064c4"
      },
      "execution_count": null,
      "outputs": [
        {
          "output_type": "execute_result",
          "data": {
            "text/plain": [
              "'{\"Name\": \"Namaiva\", \"Age\": 43}'"
            ],
            "application/vnd.google.colaboratory.intrinsic+json": {
              "type": "string"
            }
          },
          "metadata": {},
          "execution_count": 24
        }
      ]
    },
    {
      "cell_type": "code",
      "source": [
        "with open(\"newjson.json\",\"w\") as f:\n",
        "  json.dump(data,f)"
      ],
      "metadata": {
        "id": "s1lo_5AjHbWw"
      },
      "execution_count": null,
      "outputs": []
    },
    {
      "cell_type": "code",
      "source": [
        "meta = {\"wakuwaku\":\"anya\",\"age\": 15}\n",
        "json.dumps(meta)"
      ],
      "metadata": {
        "colab": {
          "base_uri": "https://localhost:8080/",
          "height": 36
        },
        "id": "ZxUimgnrH8QQ",
        "outputId": "8025d446-a0bc-44e9-a434-e4e165a5695a"
      },
      "execution_count": null,
      "outputs": [
        {
          "output_type": "execute_result",
          "data": {
            "text/plain": [
              "'{\"wakuwaku\": \"anya\", \"age\": 15}'"
            ],
            "application/vnd.google.colaboratory.intrinsic+json": {
              "type": "string"
            }
          },
          "metadata": {},
          "execution_count": 28
        }
      ]
    },
    {
      "cell_type": "code",
      "source": [
        "with open(\"newjson.json\",\"w\") as r:\n",
        "  json.dump(meta,r)"
      ],
      "metadata": {
        "id": "Ly91RsfeIGfJ"
      },
      "execution_count": null,
      "outputs": []
    },
    {
      "cell_type": "code",
      "source": [
        "with open(\"newjson.json\",\"r\") as k:\n",
        "  y=k.readline()\n",
        "print(y)"
      ],
      "metadata": {
        "colab": {
          "base_uri": "https://localhost:8080/"
        },
        "id": "uvtK7Yb0Icu4",
        "outputId": "a6e2e136-b64c-46e0-b1f7-085a9b70b557"
      },
      "execution_count": null,
      "outputs": [
        {
          "output_type": "stream",
          "name": "stdout",
          "text": [
            "{\"wakuwaku\": \"anya\", \"age\": 15}\n"
          ]
        }
      ]
    },
    {
      "cell_type": "code",
      "source": [
        "#Classes\n",
        "from myclass import Myclass\n",
        "m = Myclass\n",
        "m.Myname(\"komi\")"
      ],
      "metadata": {
        "colab": {
          "base_uri": "https://localhost:8080/"
        },
        "id": "4VOr3pJ8I8b5",
        "outputId": "2518f9f8-3bdf-4062-8508-def5000e5bf4"
      },
      "execution_count": null,
      "outputs": [
        {
          "output_type": "stream",
          "name": "stdout",
          "text": [
            "your name is komi\n"
          ]
        }
      ]
    },
    {
      "cell_type": "code",
      "source": [
        "m.Myname(\"Dummy\")"
      ],
      "metadata": {
        "colab": {
          "base_uri": "https://localhost:8080/"
        },
        "id": "9WheqfqmQs3X",
        "outputId": "476d013b-1d2b-4662-ca91-822554302fdc"
      },
      "execution_count": null,
      "outputs": [
        {
          "output_type": "stream",
          "name": "stdout",
          "text": [
            "your name is Dummy\n"
          ]
        }
      ]
    }
  ]
}