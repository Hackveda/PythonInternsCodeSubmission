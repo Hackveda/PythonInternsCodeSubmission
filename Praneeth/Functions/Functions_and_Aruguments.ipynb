{
  "nbformat": 4,
  "nbformat_minor": 0,
  "metadata": {
    "colab": {
      "provenance": [],
      "authorship_tag": "ABX9TyMtqIn8OTjquxojN0dSZhJb",
      "include_colab_link": true
    },
    "kernelspec": {
      "name": "python3",
      "display_name": "Python 3"
    },
    "language_info": {
      "name": "python"
    }
  },
  "cells": [
    {
      "cell_type": "markdown",
      "metadata": {
        "id": "view-in-github",
        "colab_type": "text"
      },
      "source": [
        "<a href=\"https://colab.research.google.com/github/Hackveda/PythonInternsCodeSubmission/blob/main/Praneeth/Functions/Functions_and_Aruguments.ipynb\" target=\"_parent\"><img src=\"https://colab.research.google.com/assets/colab-badge.svg\" alt=\"Open In Colab\"/></a>"
      ]
    },
    {
      "cell_type": "code",
      "execution_count": null,
      "metadata": {
        "id": "j3SWLNdy5CkW"
      },
      "outputs": [],
      "source": [
        "#Defining the function\n",
        "def functionname():\n",
        "  \"Documentation string\""
      ]
    },
    {
      "cell_type": "code",
      "source": [
        "# Define a function to add two values\n",
        "def add(a,b):\n",
        "  \"Add two numbers and returns add value\"\n",
        "  return a+b\n",
        "  "
      ],
      "metadata": {
        "id": "azW5CsdA6_WE"
      },
      "execution_count": 3,
      "outputs": []
    },
    {
      "cell_type": "code",
      "source": [
        "print(\"add two numbers 1,3\",add(1,3))"
      ],
      "metadata": {
        "colab": {
          "base_uri": "https://localhost:8080/"
        },
        "id": "YrCF2PVf8en9",
        "outputId": "b0977aa4-64a6-4561-c013-82b679db9ec1"
      },
      "execution_count": 4,
      "outputs": [
        {
          "output_type": "stream",
          "name": "stdout",
          "text": [
            "add two numbers 1,3 4\n"
          ]
        }
      ]
    },
    {
      "cell_type": "code",
      "source": [
        "def add1(a,b):\n",
        "  \"add two numbers and print,but no return\"\n",
        "  print(a+b)"
      ],
      "metadata": {
        "id": "0UBT_w8u8kpd"
      },
      "execution_count": 8,
      "outputs": []
    },
    {
      "cell_type": "code",
      "source": [
        "ans1=add(1,3)\n",
        "ans2=add1(1,3)"
      ],
      "metadata": {
        "colab": {
          "base_uri": "https://localhost:8080/"
        },
        "id": "6fGhZE848yfV",
        "outputId": "4ce091d9-c15f-45c4-a3c9-dac32097c46b"
      },
      "execution_count": 11,
      "outputs": [
        {
          "output_type": "stream",
          "name": "stdout",
          "text": [
            "4\n"
          ]
        }
      ]
    },
    {
      "cell_type": "code",
      "source": [
        "print(ans1)"
      ],
      "metadata": {
        "colab": {
          "base_uri": "https://localhost:8080/"
        },
        "id": "B1St9D5F9Mcu",
        "outputId": "3e65fd3b-5aed-4ed3-df70-aadac0793bd8"
      },
      "execution_count": 12,
      "outputs": [
        {
          "output_type": "stream",
          "name": "stdout",
          "text": [
            "4\n"
          ]
        }
      ]
    },
    {
      "cell_type": "code",
      "source": [
        "def newAdmission(studentname,studentClass=10,studentGroup='Blue'):\n",
        "  print(f'student added {studentname} in class {studentClass}, and in group {studentGroup}')"
      ],
      "metadata": {
        "id": "mKtgWRs99PMg"
      },
      "execution_count": 13,
      "outputs": []
    },
    {
      "cell_type": "code",
      "source": [
        "newAdmission(\"don\")"
      ],
      "metadata": {
        "colab": {
          "base_uri": "https://localhost:8080/"
        },
        "id": "TerUGd3H_BTC",
        "outputId": "b0ac9fc4-8616-4e2f-a7f0-d4973c04030e"
      },
      "execution_count": 15,
      "outputs": [
        {
          "output_type": "stream",
          "name": "stdout",
          "text": [
            "student added don in class 10, and in group Blue\n"
          ]
        }
      ]
    },
    {
      "cell_type": "code",
      "source": [
        "newAdmission(\"surya\",studentClass=11,studentGroup=\"red\")"
      ],
      "metadata": {
        "colab": {
          "base_uri": "https://localhost:8080/"
        },
        "id": "cQwFw0PC_Jsq",
        "outputId": "acd0a0bd-9730-4382-b028-303800a0d9b0"
      },
      "execution_count": 16,
      "outputs": [
        {
          "output_type": "stream",
          "name": "stdout",
          "text": [
            "student added surya in class 11, and in group red\n"
          ]
        }
      ]
    },
    {
      "cell_type": "code",
      "source": [
        "#Defining the aurguments list\n",
        "\n",
        "#Create an appliction to make a team and player\n",
        "def ipl_team(teamName,*players):\n",
        "  player_list=[]\n",
        "  for player in players:\n",
        "    player_list.append(player)\n",
        "  print(\"IPL team:\",teamName,\"Player List:\",player_list)"
      ],
      "metadata": {
        "id": "Y-mhwBbn_YbS"
      },
      "execution_count": 23,
      "outputs": []
    },
    {
      "cell_type": "code",
      "source": [
        "ipl_team(\"RCB\",\"Navdeep\",\"Virat\",\"jameson\",\"maxwell\")"
      ],
      "metadata": {
        "colab": {
          "base_uri": "https://localhost:8080/"
        },
        "id": "ULc9aZ_ZBctW",
        "outputId": "764ed271-483e-48f1-fff1-010fb5df20f8"
      },
      "execution_count": 24,
      "outputs": [
        {
          "output_type": "stream",
          "name": "stdout",
          "text": [
            "IPL team: RCB Player List: ['Navdeep', 'Virat', 'jameson', 'maxwell']\n"
          ]
        }
      ]
    },
    {
      "cell_type": "code",
      "source": [
        "# Navdeep Saini = Bowler\n",
        "def ipl_player(**players):\n",
        "  for player in players:\n",
        "    print(\"Player Name:\",player,\"Role: \",players[player])"
      ],
      "metadata": {
        "id": "i9r2etFDB54t"
      },
      "execution_count": 25,
      "outputs": []
    },
    {
      "cell_type": "code",
      "source": [
        "ipl_player(virat='Batsmen',chahal='bowler',maxwell='All-rounder')"
      ],
      "metadata": {
        "colab": {
          "base_uri": "https://localhost:8080/"
        },
        "id": "xqsigdnjEnwp",
        "outputId": "cfac9831-f54a-4bbc-b71f-ad0481a5b3d7"
      },
      "execution_count": 26,
      "outputs": [
        {
          "output_type": "stream",
          "name": "stdout",
          "text": [
            "Player Name: virat Role:  Batsmen\n",
            "Player Name: chahal Role:  bowler\n",
            "Player Name: maxwell Role:  All-rounder\n"
          ]
        }
      ]
    }
  ]
}