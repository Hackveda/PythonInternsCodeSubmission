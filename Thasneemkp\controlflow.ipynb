{
  "nbformat": 4,
  "nbformat_minor": 0,
  "metadata": {
    "colab": {
      "provenance": [],
      "authorship_tag": "ABX9TyNIeThevBXN6RrEFmb3nRFC",
      "include_colab_link": true
    },
    "kernelspec": {
      "name": "python3",
      "display_name": "Python 3"
    },
    "language_info": {
      "name": "python"
    }
  },
  "cells": [
    {
      "cell_type": "markdown",
      "metadata": {
        "id": "view-in-github",
        "colab_type": "text"
      },
      "source": [
        "<a href=\"https://colab.research.google.com/github/Hackveda/PythonInternsCodeSubmission/blob/main/Thasneemkp%5Ccontrolflow.ipynb\" target=\"_parent\"><img src=\"https://colab.research.google.com/assets/colab-badge.svg\" alt=\"Open In Colab\"/></a>"
      ]
    },
    {
      "cell_type": "code",
      "execution_count": null,
      "metadata": {
        "colab": {
          "base_uri": "https://localhost:8080/"
        },
        "id": "GV7pTZUJvDoJ",
        "outputId": "b2b01dbb-b39e-4412-9015-192635cba6fe"
      },
      "outputs": [
        {
          "output_type": "stream",
          "name": "stdout",
          "text": [
            "variable values 0 1 2 3\n"
          ]
        }
      ],
      "source": [
        "#Fibnocci series\n",
        "a=0\n",
        "b=1\n",
        "c,d=2,3\n",
        "print(\"variable values\",a,b,c,d)\n"
      ]
    },
    {
      "cell_type": "code",
      "source": [
        "#sum of 2 numbers defines next\n",
        "a,b=0,1\n",
        "while a<10:\n",
        "  print(a)\n",
        "  a,b=b,a+b"
      ],
      "metadata": {
        "colab": {
          "base_uri": "https://localhost:8080/"
        },
        "id": "9FWrCFxRvpBn",
        "outputId": "13602207-8dab-40b1-9321-1fbcae6bca30"
      },
      "execution_count": null,
      "outputs": [
        {
          "output_type": "stream",
          "name": "stdout",
          "text": [
            "0\n",
            "1\n",
            "1\n",
            "2\n",
            "3\n",
            "5\n",
            "8\n"
          ]
        }
      ]
    },
    {
      "cell_type": "code",
      "source": [
        "#for(int i=0; i<20; i++){}\n",
        "for i in range(50):\n",
        "  print(i)"
      ],
      "metadata": {
        "colab": {
          "base_uri": "https://localhost:8080/"
        },
        "id": "3XpxzMkY0H4e",
        "outputId": "ebbf8726-438a-4d2b-ce3e-7e41ebea767a"
      },
      "execution_count": null,
      "outputs": [
        {
          "output_type": "stream",
          "name": "stdout",
          "text": [
            "0\n",
            "1\n",
            "2\n",
            "3\n",
            "4\n",
            "5\n",
            "6\n",
            "7\n",
            "8\n",
            "9\n",
            "10\n",
            "11\n",
            "12\n",
            "13\n",
            "14\n",
            "15\n",
            "16\n",
            "17\n",
            "18\n",
            "19\n",
            "20\n",
            "21\n",
            "22\n",
            "23\n",
            "24\n",
            "25\n",
            "26\n",
            "27\n",
            "28\n",
            "29\n",
            "30\n",
            "31\n",
            "32\n",
            "33\n",
            "34\n",
            "35\n",
            "36\n",
            "37\n",
            "38\n",
            "39\n",
            "40\n",
            "41\n",
            "42\n",
            "43\n",
            "44\n",
            "45\n",
            "46\n",
            "47\n",
            "48\n",
            "49\n"
          ]
        }
      ]
    },
    {
      "cell_type": "code",
      "source": [
        "items=[\"asdf\",\"jklm\",\"mk\",\"rtn\",\"henn\"]\n",
        "for item in items:\n",
        "  if len(item) == 4:\n",
        "    print(item)\n",
        "  else:\n",
        "      pass"
      ],
      "metadata": {
        "colab": {
          "base_uri": "https://localhost:8080/"
        },
        "id": "QUJdlhtm035w",
        "outputId": "ecbb309e-7066-4b5c-f61a-a640d4ec7f97"
      },
      "execution_count": null,
      "outputs": [
        {
          "output_type": "stream",
          "name": "stdout",
          "text": [
            "asdf\n",
            "jklm\n",
            "henn\n"
          ]
        }
      ]
    },
    {
      "cell_type": "code",
      "source": [
        "for i in range(5):\n",
        "  print(i)\n",
        "  if i==3:\n",
        "    break"
      ],
      "metadata": {
        "colab": {
          "base_uri": "https://localhost:8080/"
        },
        "id": "FY2Umj8s2GLW",
        "outputId": "ed65fa3e-df12-4fa3-b94f-7165abc69df0"
      },
      "execution_count": null,
      "outputs": [
        {
          "output_type": "stream",
          "name": "stdout",
          "text": [
            "0\n",
            "1\n",
            "2\n",
            "3\n"
          ]
        }
      ]
    },
    {
      "cell_type": "code",
      "source": [
        "for num in range (2,10):\n",
        "  if num % 2 == 0:\n",
        "    print(\"even number\",num)\n",
        "    continue\n",
        "    print(\"found and odd number\",num)\n"
      ],
      "metadata": {
        "colab": {
          "base_uri": "https://localhost:8080/"
        },
        "id": "XkWaLpsT2VYj",
        "outputId": "2bed22ab-db57-4fcf-da9f-7dd85c739ded"
      },
      "execution_count": null,
      "outputs": [
        {
          "output_type": "stream",
          "name": "stdout",
          "text": [
            "even number 2\n",
            "even number 4\n",
            "even number 6\n",
            "even number 8\n"
          ]
        }
      ]
    },
    {
      "cell_type": "code",
      "source": [
        "name = None\n",
        "if name == None:\n",
        "  print(\"hi\")"
      ],
      "metadata": {
        "colab": {
          "base_uri": "https://localhost:8080/"
        },
        "id": "HMWyL2dM3gok",
        "outputId": "cd14961c-38e3-48ce-ea87-7274926b6610"
      },
      "execution_count": null,
      "outputs": [
        {
          "output_type": "stream",
          "name": "stdout",
          "text": [
            "hi\n"
          ]
        }
      ]
    },
    {
      "cell_type": "code",
      "source": [],
      "metadata": {
        "id": "gQPshwsj3zTT"
      },
      "execution_count": null,
      "outputs": []
    }
  ]
}