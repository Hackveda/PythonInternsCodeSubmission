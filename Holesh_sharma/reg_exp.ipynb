{
 "cells": [
  {
   "cell_type": "code",
   "execution_count": 1,
   "id": "5741e359",
   "metadata": {},
   "outputs": [
    {
     "name": "stdout",
     "output_type": "stream",
     "text": [
      "0 ... 2 ... ab\n",
      "2 ... 4 ... ab\n",
      "6 ... 8 ... ab\n",
      "8 ... 10 ... ab\n",
      "Total number of occurance 4\n"
     ]
    }
   ],
   "source": [
    "import re\n",
    "count=0\n",
    "pattern=re.compile(\"ab\")\n",
    "matcher=pattern.finditer(\"ababaaababa\")\n",
    "for x in matcher:\n",
    "    count+=1\n",
    "    print(x.start(),\"...\",x.end(),\"...\",x.group())\n",
    "print(\"Total number of occurance\",count)"
   ]
  },
  {
   "cell_type": "code",
   "execution_count": 3,
   "id": "d864b841",
   "metadata": {},
   "outputs": [
    {
     "name": "stdout",
     "output_type": "stream",
     "text": [
      "4 ... 6 ... aa\n",
      "Total number of occurance 1\n"
     ]
    }
   ],
   "source": [
    "import re\n",
    "count=0\n",
    "matcher=re.finditer(\"aa\",\"ababaaababa\")\n",
    "for x in matcher:\n",
    "    count+=1\n",
    "    print(x.start(),\"...\",x.end(),\"...\",x.group())\n",
    "print(\"Total number of occurance\",count)"
   ]
  },
  {
   "cell_type": "code",
   "execution_count": 6,
   "id": "b7099344",
   "metadata": {},
   "outputs": [
    {
     "name": "stdout",
     "output_type": "stream",
     "text": [
      "0 ... 1 ... a\n",
      "1 ... 2 ... f\n",
      "2 ... 3 ... a\n",
      "3 ... 4 ... k\n",
      "4 ... 5 ... n\n",
      "5 ... 6 ... d\n",
      "6 ... 7 ... a\n",
      "7 ... 8 ... i\n",
      "14 ... 15 ... 0\n",
      "15 ... 16 ... 2\n",
      "16 ... 17 ... 0\n",
      "17 ... 18 ... 3\n",
      "18 ... 19 ... 8\n",
      "22 ... 23 ... f\n",
      "23 ... 24 ... e\n",
      "24 ... 25 ... 4\n",
      "Total number of occurance 16\n"
     ]
    }
   ],
   "source": [
    "matcher=re.finditer(\"[a-z0-9]\",\"afakndaiAAANIN02038-!@fe4\")\n",
    "count=0\n",
    "for x in matcher:\n",
    "    count+=1\n",
    "    print(x.start(),\"...\",x.end(),\"...\",x.group())\n",
    "print(\"Total number of occurance\",count)"
   ]
  },
  {
   "cell_type": "code",
   "execution_count": 13,
   "id": "aec70401",
   "metadata": {},
   "outputs": [
    {
     "name": "stdout",
     "output_type": "stream",
     "text": [
      "enter string:abc\n",
      "match is available\n",
      "\n",
      "0 3\n"
     ]
    }
   ],
   "source": [
    "#checks only start of the string\n",
    "str=input(\"enter string:\")\n",
    "matcher=re.match(str,\"abcsdfabcdf\")\n",
    "if matcher!=None:\n",
    "    print(\"match is available\\n\")\n",
    "    print(matcher.start(),matcher.end())\n",
    "else:\n",
    "    print(\"match not available\")"
   ]
  },
  {
   "cell_type": "code",
   "execution_count": 11,
   "id": "abeb1f82",
   "metadata": {},
   "outputs": [
    {
     "name": "stdout",
     "output_type": "stream",
     "text": [
      "enter string:abc\n",
      "match not available\n"
     ]
    }
   ],
   "source": [
    "str=input(\"enter string:\")\n",
    "matcher=re.fullmatch(str,\"abcsdfabcdf\")\n",
    "if matcher!=None:\n",
    "    print(\"match is available\\n\")\n",
    "    print(matcher.start(),matcher.end())\n",
    "else:\n",
    "    print(\"match not available\")"
   ]
  },
  {
   "cell_type": "code",
   "execution_count": 16,
   "id": "da1c14a6",
   "metadata": {},
   "outputs": [
    {
     "name": "stdout",
     "output_type": "stream",
     "text": [
      "enter string:sdf\n",
      "match is available\n",
      "\n",
      "3 6\n"
     ]
    }
   ],
   "source": [
    "str=input(\"enter string:\")\n",
    "matcher=re.search(str,\"abcsdfabcdf\")\n",
    "if matcher!=None:\n",
    "    print(\"match is available\\n\")\n",
    "    print(matcher.start(),matcher.end())\n",
    "else:\n",
    "    print(\"match not available\")"
   ]
  },
  {
   "cell_type": "code",
   "execution_count": 17,
   "id": "21d7b67c",
   "metadata": {},
   "outputs": [
    {
     "name": "stdout",
     "output_type": "stream",
     "text": [
      "['8', '4', '9', '7']\n"
     ]
    }
   ],
   "source": [
    "print(re.findall(\"[0-9]\",\"dhfi84rh %$#hdb97\"))\n"
   ]
  },
  {
   "cell_type": "code",
   "execution_count": 21,
   "id": "5cfc4407",
   "metadata": {},
   "outputs": [
    {
     "name": "stdout",
     "output_type": "stream",
     "text": [
      "9588####7#\n"
     ]
    }
   ],
   "source": [
    "print(re.sub(\"[0-4]\",\"#\",\"9588424273\"))"
   ]
  },
  {
   "cell_type": "code",
   "execution_count": 24,
   "id": "63b9441c",
   "metadata": {},
   "outputs": [
    {
     "name": "stdout",
     "output_type": "stream",
     "text": [
      "***H**37&*8 \n",
      " 6\n"
     ]
    }
   ],
   "source": [
    "res=re.subn(\"[a-z]\",\"*\",\"dhaHia37&k8\")\n",
    "print(res[0],\"\\n\",res[1])"
   ]
  },
  {
   "cell_type": "code",
   "execution_count": 25,
   "id": "898f8bac",
   "metadata": {},
   "outputs": [
    {
     "name": "stdout",
     "output_type": "stream",
     "text": [
      "dev\n",
      "ved\n",
      "kavya\n",
      "ram\n",
      "shyam\n"
     ]
    }
   ],
   "source": [
    "res=re.split(\",\",\"dev,ved,kavya,ram,shyam\")\n",
    "for r in res:\n",
    "    print(r)"
   ]
  },
  {
   "cell_type": "code",
   "execution_count": 36,
   "id": "7d6fc38c",
   "metadata": {},
   "outputs": [
    {
     "name": "stdout",
     "output_type": "stream",
     "text": [
      "Enter string:what is your name\n",
      "starts with\n",
      "\n"
     ]
    }
   ],
   "source": [
    "str=input(\"Enter string:\")\n",
    "res=re.search(\"[^how][^what]\",str)\n",
    "if res!=None:\n",
    "    print(\"starts\\n\")\n",
    "else:\n",
    "    print(\"Not starts\\n\")"
   ]
  },
  {
   "cell_type": "code",
   "execution_count": 29,
   "id": "3043e068",
   "metadata": {},
   "outputs": [
    {
     "name": "stdout",
     "output_type": "stream",
     "text": [
      "Enter number:9849033943\n",
      "Valid Mobile Number\n"
     ]
    }
   ],
   "source": [
    "#Write a Regular Expression to represent all 10 digit mobile numbers.\n",
    "num=input(\"Enter number:\")\n",
    "res=re.fullmatch(\"[7-9]\\d{9}\",num)\n",
    "if res!= None:\n",
    "    print(\"Valid Mobile Number\")\n",
    "else:\n",
    "    print(\"Invalid Mobile Number\")"
   ]
  },
  {
   "cell_type": "code",
   "execution_count": null,
   "id": "d6adddfe",
   "metadata": {},
   "outputs": [],
   "source": []
  }
 ],
 "metadata": {
  "kernelspec": {
   "display_name": "Python 3 (ipykernel)",
   "language": "python",
   "name": "python3"
  },
  "language_info": {
   "codemirror_mode": {
    "name": "ipython",
    "version": 3
   },
   "file_extension": ".py",
   "mimetype": "text/x-python",
   "name": "python",
   "nbconvert_exporter": "python",
   "pygments_lexer": "ipython3",
   "version": "3.9.7"
  }
 },
 "nbformat": 4,
 "nbformat_minor": 5
}
