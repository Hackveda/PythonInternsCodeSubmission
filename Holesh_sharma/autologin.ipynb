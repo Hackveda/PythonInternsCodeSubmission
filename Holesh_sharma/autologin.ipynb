{
 "cells": [
  {
   "cell_type": "code",
   "execution_count": 1,
   "id": "3c627ea7",
   "metadata": {},
   "outputs": [],
   "source": [
    "from selenium import webdriver\n",
    "import time"
   ]
  },
  {
   "cell_type": "code",
   "execution_count": 2,
   "id": "a40e64d6",
   "metadata": {},
   "outputs": [
    {
     "name": "stderr",
     "output_type": "stream",
     "text": [
      "/var/folders/79/99425rgx20g5h19829rqr72w0000gn/T/ipykernel_30188/31562911.py:1: DeprecationWarning: executable_path has been deprecated, please pass in a Service object\n",
      "  browser=webdriver.Chrome(executable_path=\"/Users/holeshsharma/Desktop/web/hackveda_project/drive/chromedriver\")\n"
     ]
    }
   ],
   "source": [
    "browser=webdriver.Chrome(executable_path=\"/Users/holeshsharma/Desktop/web/hackveda_project/drive/chromedriver\")"
   ]
  },
  {
   "cell_type": "code",
   "execution_count": 3,
   "id": "6a9159cb",
   "metadata": {},
   "outputs": [],
   "source": [
    "browser.get(\"https://www.hackveda.in/one2one\")\n",
    "time.sleep(3)"
   ]
  },
  {
   "cell_type": "code",
   "execution_count": 4,
   "id": "1e458c5e",
   "metadata": {},
   "outputs": [
    {
     "ename": "AttributeError",
     "evalue": "'WebDriver' object has no attribute 'find_element_by_id'",
     "output_type": "error",
     "traceback": [
      "\u001b[0;31m---------------------------------------------------------------------------\u001b[0m",
      "\u001b[0;31mAttributeError\u001b[0m                            Traceback (most recent call last)",
      "\u001b[1;32m/Users/holeshsharma/Desktop/hackveda/PythonInternsCodeSubmission/Holesh_sharma/autologin.ipynb Cell 4\u001b[0m in \u001b[0;36m<cell line: 1>\u001b[0;34m()\u001b[0m\n\u001b[0;32m----> <a href='vscode-notebook-cell:/Users/holeshsharma/Desktop/hackveda/PythonInternsCodeSubmission/Holesh_sharma/autologin.ipynb#W3sZmlsZQ%3D%3D?line=0'>1</a>\u001b[0m username\u001b[39m=\u001b[39mbrowser\u001b[39m.\u001b[39;49mfind_element_by_id(\u001b[39m\"\u001b[39m\u001b[39memail\u001b[39m\u001b[39m\"\u001b[39m)\n\u001b[1;32m      <a href='vscode-notebook-cell:/Users/holeshsharma/Desktop/hackveda/PythonInternsCodeSubmission/Holesh_sharma/autologin.ipynb#W3sZmlsZQ%3D%3D?line=1'>2</a>\u001b[0m username\u001b[39m.\u001b[39msend_keys(\u001b[39m\"\u001b[39m\u001b[39mholes@gmail.com\u001b[39m\u001b[39m\"\u001b[39m)\n\u001b[1;32m      <a href='vscode-notebook-cell:/Users/holeshsharma/Desktop/hackveda/PythonInternsCodeSubmission/Holesh_sharma/autologin.ipynb#W3sZmlsZQ%3D%3D?line=2'>3</a>\u001b[0m time\u001b[39m.\u001b[39msleep(\u001b[39m3\u001b[39m)\n",
      "\u001b[0;31mAttributeError\u001b[0m: 'WebDriver' object has no attribute 'find_element_by_id'"
     ]
    }
   ],
   "source": [
    "username=browser.find_element_by_id(\"email\")\n",
    "username.send_keys(\"holes@gmail.com\")\n",
    "time.sleep(3)"
   ]
  },
  {
   "cell_type": "code",
   "execution_count": null,
   "id": "da5b4716",
   "metadata": {},
   "outputs": [],
   "source": [
    "password=browser.find_element_by_id(\"password\")\n",
    "password.send_keys(\"1935**04\")\n",
    "time.sleep(3)"
   ]
  },
  {
   "cell_type": "code",
   "execution_count": null,
   "id": "85d2a46d",
   "metadata": {},
   "outputs": [],
   "source": [
    "btn=browser.find_element_by_id(\"login_btn\")\n",
    "btn.click()"
   ]
  },
  {
   "cell_type": "code",
   "execution_count": null,
   "id": "55dd6eaa",
   "metadata": {},
   "outputs": [],
   "source": []
  }
 ],
 "metadata": {
  "kernelspec": {
   "display_name": "Python 3.9.7 64-bit",
   "language": "python",
   "name": "python3"
  },
  "language_info": {
   "codemirror_mode": {
    "name": "ipython",
    "version": 3
   },
   "file_extension": ".py",
   "mimetype": "text/x-python",
   "name": "python",
   "nbconvert_exporter": "python",
   "pygments_lexer": "ipython3",
   "version": "3.9.7"
  },
  "vscode": {
   "interpreter": {
    "hash": "aee8b7b246df8f9039afb4144a1f6fd8d2ca17a180786b69acc140d282b71a49"
   }
  }
 },
 "nbformat": 4,
 "nbformat_minor": 5
}
