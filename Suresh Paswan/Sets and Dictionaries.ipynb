{
 "cells": [
  {
   "cell_type": "code",
   "execution_count": 1,
   "id": "24dfb5c1",
   "metadata": {},
   "outputs": [
    {
     "data": {
      "text/plain": [
       "{'Bharat', 'Lakhman', 'Ram'}"
      ]
     },
     "execution_count": 1,
     "metadata": {},
     "output_type": "execute_result"
    }
   ],
   "source": [
    "# Creating Sets\n",
    "# Sets does not caontain dublicate values\n",
    "\n",
    "myset = {'Ram','Lakhman','Bharat','Ram'}\n",
    "myset"
   ]
  },
  {
   "cell_type": "code",
   "execution_count": 5,
   "id": "a7e1944e",
   "metadata": {},
   "outputs": [
    {
     "data": {
      "text/plain": [
       "{0, 20, 40, 60, 80, 100, 120, 140, 160, 180}"
      ]
     },
     "execution_count": 5,
     "metadata": {},
     "output_type": "execute_result"
    }
   ],
   "source": [
    "# Sets Comprehension\n",
    "\n",
    "newset = {i*10 for i in range(20) if (i%2) == 0}\n",
    "newset"
   ]
  },
  {
   "cell_type": "code",
   "execution_count": 11,
   "id": "09778cb7",
   "metadata": {},
   "outputs": [
    {
     "name": "stdout",
     "output_type": "stream",
     "text": [
      "The value of name key is:  Shyam\n"
     ]
    }
   ],
   "source": [
    "# Creating Dictionaries\n",
    "\n",
    "mydict = {'name':'Ram', 'Age':25}\n",
    "mydict['name'] = 'Shyam'\n",
    "del mydict['Age']\n",
    "mydict\n",
    "\n",
    "print('The value of name key is: ',mydict['name'])"
   ]
  },
  {
   "cell_type": "code",
   "execution_count": 12,
   "id": "adc55d90",
   "metadata": {},
   "outputs": [
    {
     "name": "stdout",
     "output_type": "stream",
     "text": [
      "Index is name and value is Ram\n",
      "Index is age and value is 25\n",
      "Index is DOB and value is 2000\n"
     ]
    }
   ],
   "source": [
    "# Loops on Dictionaries\n",
    "\n",
    "mydict1 = {'name':'Ram','age':25,'DOB':2000}\n",
    "\n",
    "for index, value in mydict1.items():\n",
    "    print('Index is',index,'and value is',value)"
   ]
  },
  {
   "cell_type": "code",
   "execution_count": 13,
   "id": "6d3dab4f",
   "metadata": {},
   "outputs": [
    {
     "name": "stdout",
     "output_type": "stream",
     "text": [
      "0 11\n",
      "1 22\n",
      "2 33\n",
      "3 44\n",
      "4 55\n",
      "5 66\n"
     ]
    }
   ],
   "source": [
    "#Enmerate Ffunction use\n",
    "\n",
    "mylist = [11,22,33,44,55,66]\n",
    "\n",
    "for index, value in enumerate(mylist):\n",
    "    print(index,value)\n"
   ]
  },
  {
   "cell_type": "code",
   "execution_count": 16,
   "id": "a3496e61",
   "metadata": {},
   "outputs": [
    {
     "name": "stdout",
     "output_type": "stream",
     "text": [
      "The opposit actor of kajal is prabhas\n",
      "The opposit actor of samantha is ntr\n",
      "The opposit actor of sai is arjun\n"
     ]
    }
   ],
   "source": [
    "# Zip Function use\n",
    "\n",
    "actors = ['prabhas','ntr','arjun']\n",
    "actoresses = ['kajal','samantha','sai']\n",
    "\n",
    "for actor, actoress in zip(actors,actoresses):\n",
    "    print('The opposit actor of',actoress,'is',actor)"
   ]
  },
  {
   "cell_type": "code",
   "execution_count": null,
   "id": "659ab8fc",
   "metadata": {},
   "outputs": [],
   "source": []
  }
 ],
 "metadata": {
  "kernelspec": {
   "display_name": "Python 3 (ipykernel)",
   "language": "python",
   "name": "python3"
  },
  "language_info": {
   "codemirror_mode": {
    "name": "ipython",
    "version": 3
   },
   "file_extension": ".py",
   "mimetype": "text/x-python",
   "name": "python",
   "nbconvert_exporter": "python",
   "pygments_lexer": "ipython3",
   "version": "3.9.1"
  }
 },
 "nbformat": 4,
 "nbformat_minor": 5
}
