{
 "cells": [
  {
   "cell_type": "code",
   "execution_count": 32,
   "id": "c39886fb",
   "metadata": {},
   "outputs": [],
   "source": [
    "from selenium import webdriver\n",
    "import time"
   ]
  },
  {
   "cell_type": "code",
   "execution_count": 33,
   "id": "a461f64d",
   "metadata": {},
   "outputs": [
    {
     "name": "stderr",
     "output_type": "stream",
     "text": [
      "C:\\Users\\sures\\AppData\\Local\\Temp/ipykernel_8532/1955823861.py:2: DeprecationWarning: executable_path has been deprecated, please pass in a Service object\n",
      "  browser = webdriver.Chrome(\"D:/Hackveda/chromedriver_win32/chromedriver.exe\")\n"
     ]
    }
   ],
   "source": [
    "# create a connection with browser\n",
    "browser = webdriver.Chrome(\"D:/Hackveda/chromedriver_win32/chromedriver.exe\")\n",
    "\n",
    "# Maximize the windows\n",
    "browser.maximize_window()\n",
    "\n",
    "# Openning website\n",
    "browser.get(\"https://www.hackveda.in/one2one/\")"
   ]
  },
  {
   "cell_type": "code",
   "execution_count": 34,
   "id": "3ef29232",
   "metadata": {},
   "outputs": [],
   "source": [
    "username = browser.find_element(value =\"email\")\n",
    "username\n",
    "time.sleep(2)"
   ]
  },
  {
   "cell_type": "code",
   "execution_count": 35,
   "id": "e8f248a1",
   "metadata": {},
   "outputs": [],
   "source": [
    "username.send_keys(\"sureshpaswan155@gmail.com\")"
   ]
  },
  {
   "cell_type": "code",
   "execution_count": 36,
   "id": "d9d88075",
   "metadata": {},
   "outputs": [],
   "source": [
    "password = browser.find_element(value =\"password\")\n",
    "password\n",
    "time.sleep(2)"
   ]
  },
  {
   "cell_type": "code",
   "execution_count": 37,
   "id": "97901fc7",
   "metadata": {},
   "outputs": [],
   "source": [
    "password.send_keys(\"11709869\")\n",
    "time.sleep(2)"
   ]
  },
  {
   "cell_type": "code",
   "execution_count": 38,
   "id": "b6a63a6a",
   "metadata": {},
   "outputs": [],
   "source": [
    "login_btn = browser.find_element(value = \"login_btn\")\n",
    "login_btn.click()"
   ]
  },
  {
   "cell_type": "code",
   "execution_count": null,
   "id": "958e12e2",
   "metadata": {},
   "outputs": [],
   "source": []
  }
 ],
 "metadata": {
  "kernelspec": {
   "display_name": "Python 3 (ipykernel)",
   "language": "python",
   "name": "python3"
  },
  "language_info": {
   "codemirror_mode": {
    "name": "ipython",
    "version": 3
   },
   "file_extension": ".py",
   "mimetype": "text/x-python",
   "name": "python",
   "nbconvert_exporter": "python",
   "pygments_lexer": "ipython3",
   "version": "3.9.1"
  }
 },
 "nbformat": 4,
 "nbformat_minor": 5
}
