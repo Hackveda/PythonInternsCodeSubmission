{
 "cells": [
  {
   "cell_type": "code",
   "execution_count": 13,
   "id": "7a0844a3",
   "metadata": {},
   "outputs": [
    {
     "name": "stdout",
     "output_type": "stream",
     "text": [
      "varialbes-  1 2 3 4\n"
     ]
    }
   ],
   "source": [
    "#Multple Variable assignment\n",
    "a = 1\n",
    "b = 2\n",
    "\n",
    "c,d =3,4\n",
    "print('varialbes- ',a,b,c,d)"
   ]
  },
  {
   "cell_type": "code",
   "execution_count": 14,
   "id": "e9aae69e",
   "metadata": {},
   "outputs": [
    {
     "name": "stdout",
     "output_type": "stream",
     "text": [
      "1\n",
      "2\n",
      "3\n",
      "5\n",
      "8\n",
      "13\n"
     ]
    }
   ],
   "source": [
    "#Fibonacci Series\n",
    "while a<20 :\n",
    "    print(a)\n",
    "    a,b = b,a+b"
   ]
  },
  {
   "cell_type": "code",
   "execution_count": 18,
   "id": "ac6cfc4b",
   "metadata": {},
   "outputs": [
    {
     "name": "stdout",
     "output_type": "stream",
     "text": [
      "Enter your  marks: 99\n",
      "Grade A\n"
     ]
    }
   ],
   "source": [
    "#Simple grade application\n",
    "\n",
    "marks = int(input('Enter your  marks: ')) #getting marks from user\n",
    "\n",
    "if marks>=91:\n",
    "    print(\"Grade A\")\n",
    "elif marks>=81:\n",
    "    print('Grade B')\n",
    "elif marks>=71:\n",
    "    print('Grade C')\n",
    "else:\n",
    "    print('You are Fail')\n"
   ]
  },
  {
   "cell_type": "code",
   "execution_count": 20,
   "id": "85569a6e",
   "metadata": {},
   "outputs": [
    {
     "name": "stdout",
     "output_type": "stream",
     "text": [
      "Enter your card number: 8634517371977\n",
      "Select your option: \n",
      "\n",
      "1.Banking\n",
      "2.Mini Statement\n",
      "3.Fast Withdrawal\n",
      "4.Pin Change\n",
      "\n",
      "Enter your option no: 2\n",
      "Print your Statement\n"
     ]
    }
   ],
   "source": [
    "#Switch implementation of if\n",
    "#Implement ATM Machine\n",
    "\n",
    "card =input('Enter your card number: ')\n",
    "\n",
    "print('Select your option: ')\n",
    "print('''\n",
    "1.Banking\n",
    "2.Mini Statement\n",
    "3.Fast Withdrawal\n",
    "4.Pin Change\n",
    "''')\n",
    "\n",
    "option = int(input('Enter your option no: '))\n",
    "\n",
    "if option == 1:\n",
    "    print('Wlcome to Banking Mode')\n",
    "elif option == 2:\n",
    "    print('Print your Statement')\n",
    "elif option == 3:\n",
    "    print('Fast Withdrawal...')\n",
    "elif option == 4:\n",
    "    print('Pin Change Menu...')\n",
    "else:\n",
    "    print('Enter  Correct Number: ')\n"
   ]
  },
  {
   "cell_type": "code",
   "execution_count": 25,
   "id": "2e569763",
   "metadata": {},
   "outputs": [
    {
     "name": "stdout",
     "output_type": "stream",
     "text": [
      "Making ticket for Ram\n",
      "Ticket has been issued for Ram \n",
      "\n",
      "Making ticket for Naresh\n",
      "Ticket has been issued for Naresh \n",
      "\n",
      "Making ticket for Subhash\n",
      "Ticket has been issued for Subhash \n",
      "\n",
      "Making ticket for Riya\n",
      "Ticket has been issued for Riya \n",
      "\n",
      "All Ticket has been issued.\n"
     ]
    }
   ],
   "source": [
    "#Railway Reservation Application\n",
    "queue = ['Ram','Naresh','Subhash','Riya']\n",
    "\n",
    "#Making ticket from the Queue list\n",
    "\n",
    "for name in queue:\n",
    "    print('Making ticket for',name)\n",
    "    print('Ticket has been issued for',name,'\\n')\n",
    "    \n",
    "print('All Ticket has been issued.')"
   ]
  },
  {
   "cell_type": "code",
   "execution_count": 27,
   "id": "8b743ed0",
   "metadata": {},
   "outputs": [
    {
     "name": "stdout",
     "output_type": "stream",
     "text": [
      "Banana\n",
      "Berry\n",
      "Brinjal\n"
     ]
    },
    {
     "data": {
      "text/plain": [
       "['Banana', 'Berry', 'Brinjal']"
      ]
     },
     "execution_count": 27,
     "metadata": {},
     "output_type": "execute_result"
    }
   ],
   "source": [
    "#Add all the items in the basket starting from charactere B\n",
    "items = ['Banana','Berry','Apple','Ice-Berry','Brinjal','Orange','Mango']\n",
    "basket = []\n",
    "\n",
    "for i in items:\n",
    "    if i[0] == 'B':\n",
    "        print(i)\n",
    "        basket.append(i)\n",
    "        \n",
    "basket"
   ]
  },
  {
   "cell_type": "code",
   "execution_count": 31,
   "id": "42be8db5",
   "metadata": {},
   "outputs": [
    {
     "name": "stdout",
     "output_type": "stream",
     "text": [
      "1\n",
      "4\n",
      "7\n",
      "10\n",
      "13\n",
      "16\n",
      "19\n"
     ]
    }
   ],
   "source": [
    "#Range Function\n",
    "for i in range(1,20,3):\n",
    "    print(i)"
   ]
  },
  {
   "cell_type": "code",
   "execution_count": 32,
   "id": "334c934e",
   "metadata": {},
   "outputs": [
    {
     "data": {
      "text/plain": [
       "225"
      ]
     },
     "execution_count": 32,
     "metadata": {},
     "output_type": "execute_result"
    }
   ],
   "source": [
    "sum(range(1,50,6))"
   ]
  },
  {
   "cell_type": "code",
   "execution_count": 34,
   "id": "68547bd1",
   "metadata": {},
   "outputs": [
    {
     "data": {
      "text/plain": [
       "[10, 17, 24, 31, 38, 45]"
      ]
     },
     "execution_count": 34,
     "metadata": {},
     "output_type": "execute_result"
    }
   ],
   "source": [
    "#make a list of items between 10 to 50 step by 7\n",
    "\n",
    "list(range(10,50,7))\n"
   ]
  },
  {
   "cell_type": "code",
   "execution_count": 41,
   "id": "bea92629",
   "metadata": {},
   "outputs": [
    {
     "name": "stdout",
     "output_type": "stream",
     "text": [
      "1\n",
      "2\n",
      "3\n",
      "4\n",
      "5\n"
     ]
    }
   ],
   "source": [
    "#Break Statment\n",
    "for i in range(1,10):\n",
    "    print(i)\n",
    "    if i == 5:\n",
    "        break"
   ]
  },
  {
   "cell_type": "code",
   "execution_count": 43,
   "id": "1d1b51f4",
   "metadata": {},
   "outputs": [
    {
     "name": "stdout",
     "output_type": "stream",
     "text": [
      "This is Even Number 0\n",
      "Odd Nuber 1\n",
      "This is Even Number 2\n",
      "Odd Nuber 3\n",
      "This is Even Number 4\n",
      "Odd Nuber 5\n",
      "This is Even Number 6\n",
      "Odd Nuber 7\n",
      "This is Even Number 8\n",
      "Odd Nuber 9\n",
      "This is Even Number 10\n",
      "Odd Nuber 11\n",
      "This is Even Number 12\n",
      "Odd Nuber 13\n",
      "This is Even Number 14\n",
      "Odd Nuber 15\n",
      "This is Even Number 16\n",
      "Odd Nuber 17\n",
      "This is Even Number 18\n",
      "Odd Nuber 19\n",
      "This is Even Number 20\n"
     ]
    }
   ],
   "source": [
    "#Continue Statment\n",
    "for i in range(21):\n",
    "    if (i%2 == 0 ):\n",
    "        print('This is Even Number',i)\n",
    "        continue\n",
    "    print('Odd Nuber',i)"
   ]
  },
  {
   "cell_type": "code",
   "execution_count": 47,
   "id": "5925e327",
   "metadata": {},
   "outputs": [
    {
     "name": "stdout",
     "output_type": "stream",
     "text": [
      "Apple\n",
      "Orange\n",
      "Banana\n",
      "Berry\n",
      "Chocklet\n"
     ]
    }
   ],
   "source": [
    "#Pass Statment\n",
    "items = ['Apple','Orange','Banana','Berry','Chocklet']\n",
    "\n",
    "for i in items:\n",
    "    if len(items) == 5:\n",
    "        print(i)\n",
    "    else:\n",
    "        pass\n",
    "    "
   ]
  }
 ],
 "metadata": {
  "kernelspec": {
   "display_name": "Python 3 (ipykernel)",
   "language": "python",
   "name": "python3"
  },
  "language_info": {
   "codemirror_mode": {
    "name": "ipython",
    "version": 3
   },
   "file_extension": ".py",
   "mimetype": "text/x-python",
   "name": "python",
   "nbconvert_exporter": "python",
   "pygments_lexer": "ipython3",
   "version": "3.9.1"
  }
 },
 "nbformat": 4,
 "nbformat_minor": 5
}
