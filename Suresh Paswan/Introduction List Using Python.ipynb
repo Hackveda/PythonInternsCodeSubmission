{
 "cells": [
  {
   "cell_type": "code",
   "execution_count": 2,
   "id": "88ab34c2",
   "metadata": {},
   "outputs": [
    {
     "name": "stdout",
     "output_type": "stream",
     "text": [
      "0 11\n",
      "1 22\n",
      "2 33\n",
      "3 44\n",
      "4 55\n",
      "5 66\n",
      "6 77\n",
      "7 88\n",
      "8 99\n"
     ]
    }
   ],
   "source": [
    "#Print values of each inedx of the list\n",
    "\n",
    "mylist = [11,22,33,44,55,66,77,88,99]\n",
    "index = 0\n",
    "for item in mylist:\n",
    "    print(index, item)\n",
    "    index = index + 1"
   ]
  },
  {
   "cell_type": "code",
   "execution_count": 4,
   "id": "f537276e",
   "metadata": {},
   "outputs": [
    {
     "name": "stdout",
     "output_type": "stream",
     "text": [
      "Enter index number7\n",
      "<class 'str'>\n",
      "<class 'int'>\n",
      "The value of index 7 is 88\n"
     ]
    }
   ],
   "source": [
    "#List Typecasting\n",
    "\n",
    "mylist = [11,22,33,44,55,66,77,88,99]\n",
    "\n",
    "myinput = input('Enter index number')\n",
    "print(type(myinput))\n",
    "\n",
    "myinput = int(myinput)  # Typecasting the myinput as int\n",
    "print(type(myinput))  \n",
    "\n",
    "print(\"The value of index\",myinput,'is',mylist[myinput])\n",
    "\n"
   ]
  },
  {
   "cell_type": "code",
   "execution_count": 10,
   "id": "d886dd01",
   "metadata": {},
   "outputs": [
    {
     "name": "stdout",
     "output_type": "stream",
     "text": [
      "9\n",
      "Enter inclusive index: 4\n",
      "Enter exclusiive index: 8\n"
     ]
    },
    {
     "data": {
      "text/plain": [
       "[55, 44, 33, 22]"
      ]
     },
     "execution_count": 10,
     "metadata": {},
     "output_type": "execute_result"
    }
   ],
   "source": [
    "#List Slicing using user input\n",
    "\n",
    "mylist = [99,88,77,66,55,44,33,22,11]\n",
    "print(len(mylist))\n",
    "\n",
    "inclusive = int(input('Enter inclusive index: '))\n",
    "exclusive = int(input('Enter exclusiive index: '))\n",
    "\n",
    "mylist[inclusive:exclusive]"
   ]
  },
  {
   "cell_type": "code",
   "execution_count": 12,
   "id": "734ec7ea",
   "metadata": {},
   "outputs": [
    {
     "name": "stdout",
     "output_type": "stream",
     "text": [
      "['Ram', 16, 10.5, 'Shyam', 22, 100]\n"
     ]
    }
   ],
   "source": [
    "#Concatenation in List\n",
    "\n",
    "list1 = ['Ram',16,10.5]\n",
    "list2 = ['Shyam',22,100]\n",
    "\n",
    "newlist = list1 + list2\n",
    "\n",
    "print(newlist)"
   ]
  },
  {
   "cell_type": "code",
   "execution_count": 14,
   "id": "736d256c",
   "metadata": {},
   "outputs": [
    {
     "name": "stdout",
     "output_type": "stream",
     "text": [
      "Ram\n",
      "16\n",
      "10.5\n",
      "Shyam\n",
      "22\n",
      "100\n"
     ]
    }
   ],
   "source": [
    "#Cheacking list are mutable\n",
    "index = 0\n",
    "\n",
    "for item in newlist:\n",
    "    print(item)\n",
    "    index = index + 1\n",
    "    "
   ]
  },
  {
   "cell_type": "code",
   "execution_count": 16,
   "id": "915bf42b",
   "metadata": {},
   "outputs": [],
   "source": [
    "newlist[2] = 999"
   ]
  },
  {
   "cell_type": "code",
   "execution_count": 18,
   "id": "855c97de",
   "metadata": {},
   "outputs": [
    {
     "name": "stdout",
     "output_type": "stream",
     "text": [
      "Ram\n",
      "16\n",
      "999\n",
      "Shyam\n",
      "22\n",
      "100\n"
     ]
    }
   ],
   "source": [
    "index = 0\n",
    "\n",
    "for item in newlist:\n",
    "    print(item)\n",
    "    index = index + 1"
   ]
  },
  {
   "cell_type": "code",
   "execution_count": 22,
   "id": "7228a8dc",
   "metadata": {},
   "outputs": [
    {
     "data": {
      "text/plain": [
       "['Ram', 16, 999, 'Shyam', 22, 100, 12345, 12345]"
      ]
     },
     "execution_count": 22,
     "metadata": {},
     "output_type": "execute_result"
    }
   ],
   "source": [
    "#List Function Append\n",
    "\n",
    "newlist.append(12345)\n",
    "\n",
    "newlist"
   ]
  },
  {
   "cell_type": "code",
   "execution_count": 24,
   "id": "c2b2ec54",
   "metadata": {},
   "outputs": [
    {
     "data": {
      "text/plain": [
       "['Ram', 1, 2, 3, 4, 100, 12345, 12345]"
      ]
     },
     "execution_count": 24,
     "metadata": {},
     "output_type": "execute_result"
    }
   ],
   "source": [
    "#Update slice in the list\n",
    "\n",
    "list1 = [1,2,3,4]\n",
    "newlist[1:5] = list1\n",
    "\n",
    "newlist"
   ]
  },
  {
   "cell_type": "code",
   "execution_count": 25,
   "id": "3194ca03",
   "metadata": {},
   "outputs": [
    {
     "data": {
      "text/plain": [
       "['Ram', 1, 12345, 12345]"
      ]
     },
     "execution_count": 25,
     "metadata": {},
     "output_type": "execute_result"
    }
   ],
   "source": [
    "#remove slice from the list\n",
    "\n",
    "newlist[2:6] = []\n",
    "\n",
    "newlist"
   ]
  },
  {
   "cell_type": "code",
   "execution_count": 28,
   "id": "231f9ccf",
   "metadata": {},
   "outputs": [
    {
     "data": {
      "text/plain": [
       "['hii', [1, 2, 3, 4, 5], [6, 7, 8, 9, 1]]"
      ]
     },
     "execution_count": 28,
     "metadata": {},
     "output_type": "execute_result"
    }
   ],
   "source": [
    "#Nested feature in list\n",
    "\n",
    "list1 = [1,2,3,4,5]\n",
    "list2 = [6,7,8,9,1]\n",
    "\n",
    "nest_list = ['hii',list1,list2]\n",
    "\n",
    "nest_list"
   ]
  },
  {
   "cell_type": "code",
   "execution_count": 33,
   "id": "40481cef",
   "metadata": {},
   "outputs": [
    {
     "data": {
      "text/plain": [
       "5"
      ]
     },
     "execution_count": 33,
     "metadata": {},
     "output_type": "execute_result"
    }
   ],
   "source": [
    "#Accessing the value in nested list\n",
    "\n",
    "nest_list[1][4]"
   ]
  },
  {
   "cell_type": "code",
   "execution_count": 37,
   "id": "e2d6f34a",
   "metadata": {},
   "outputs": [
    {
     "data": {
      "text/plain": [
       "[10000, 11, 22, 33, 44, 55, 66, 77]"
      ]
     },
     "execution_count": 37,
     "metadata": {},
     "output_type": "execute_result"
    }
   ],
   "source": [
    "#Insert the top of the list\n",
    "mylist = [11,22,33,44,55,66,77]\n",
    "\n",
    "mylist.insert(0,10000)\n",
    "\n",
    "mylist"
   ]
  },
  {
   "cell_type": "code",
   "execution_count": 39,
   "id": "d6c73f3a",
   "metadata": {},
   "outputs": [
    {
     "data": {
      "text/plain": [
       "[11, 22, 33, 44, 55, 66, 77, 9999]"
      ]
     },
     "execution_count": 39,
     "metadata": {},
     "output_type": "execute_result"
    }
   ],
   "source": [
    "#Insert the end of the list\n",
    "mylist = [11,22,33,44,55,66,77]\n",
    "\n",
    "mylist.append(9999)\n",
    "\n",
    "mylist"
   ]
  },
  {
   "cell_type": "code",
   "execution_count": 41,
   "id": "995765db",
   "metadata": {},
   "outputs": [
    {
     "data": {
      "text/plain": [
       "[11, 22, 33, 9999, 44, 55, 66, 77, 9999]"
      ]
     },
     "execution_count": 41,
     "metadata": {},
     "output_type": "execute_result"
    }
   ],
   "source": [
    "#Insert the middil of the list\n",
    "\n",
    "mylist.insert(3,9999)\n",
    "\n",
    "mylist"
   ]
  }
 ],
 "metadata": {
  "kernelspec": {
   "display_name": "Python 3 (ipykernel)",
   "language": "python",
   "name": "python3"
  },
  "language_info": {
   "codemirror_mode": {
    "name": "ipython",
    "version": 3
   },
   "file_extension": ".py",
   "mimetype": "text/x-python",
   "name": "python",
   "nbconvert_exporter": "python",
   "pygments_lexer": "ipython3",
   "version": "3.9.1"
  }
 },
 "nbformat": 4,
 "nbformat_minor": 5
}
