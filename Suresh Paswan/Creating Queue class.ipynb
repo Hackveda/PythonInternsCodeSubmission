{
 "cells": [
  {
   "cell_type": "code",
   "execution_count": 8,
   "id": "31fea325",
   "metadata": {},
   "outputs": [],
   "source": [
    "#Creating Queue class\n",
    "class Queue:\n",
    "    def __init__(self,size):\n",
    "        self.q = [None]*size \n",
    "        self.front = 0\n",
    "        self.rear  = -1\n",
    "        self.count = 0\n",
    "        self.capacity = size\n",
    "        \n",
    "    def append(self,value):\n",
    "        if self.rear == self.capacity:\n",
    "            print('Overflow...')\n",
    "            exit(1)\n",
    "            \n",
    "        print('Inserting: ',value)\n",
    "        self.rear = self.rear + 1\n",
    "        self.q[self.rear] = value\n",
    "        self.count = self.count +1\n",
    "            \n",
    "    def pop(self):\n",
    "        if self.front == 0:\n",
    "            print('Underflow...')\n",
    "            exit(1)\n",
    "        print(\"Removing: \",self.q[self.front])\n",
    "        self.front = self.front + 1\n",
    "        self.count = self.count -1\n",
    "            \n",
    "    def peek(self):\n",
    "        if self.front == 0:\n",
    "            print('Underflow...')\n",
    "            exit(1)\n",
    "        return self.q[self.front]\n",
    "    \n",
    "    def size(self):\n",
    "        return self.count"
   ]
  },
  {
   "cell_type": "code",
   "execution_count": 9,
   "id": "4ab6b96d",
   "metadata": {},
   "outputs": [
    {
     "name": "stdout",
     "output_type": "stream",
     "text": [
      "size of Queue is:  0\n"
     ]
    }
   ],
   "source": [
    "if __name__ == \"__main__\":\n",
    "    myQueue = Queue(10)\n",
    "    print('size of Queue is: ',myQueue.size())"
   ]
  },
  {
   "cell_type": "code",
   "execution_count": 10,
   "id": "761f1ecf",
   "metadata": {},
   "outputs": [
    {
     "name": "stdout",
     "output_type": "stream",
     "text": [
      "Inserting:  55\n"
     ]
    }
   ],
   "source": [
    "myQueue.append(55)"
   ]
  },
  {
   "cell_type": "code",
   "execution_count": 11,
   "id": "8591ebf9",
   "metadata": {},
   "outputs": [
    {
     "name": "stdout",
     "output_type": "stream",
     "text": [
      "Inserting:  22\n",
      "Inserting:  77\n",
      "Inserting:  99\n"
     ]
    }
   ],
   "source": [
    "myQueue.append(22)\n",
    "myQueue.append(77)\n",
    "myQueue.append(99)"
   ]
  },
  {
   "cell_type": "code",
   "execution_count": 12,
   "id": "df064c78",
   "metadata": {},
   "outputs": [
    {
     "data": {
      "text/plain": [
       "4"
      ]
     },
     "execution_count": 12,
     "metadata": {},
     "output_type": "execute_result"
    }
   ],
   "source": [
    "myQueue.size()"
   ]
  },
  {
   "cell_type": "code",
   "execution_count": 13,
   "id": "b9398b5c",
   "metadata": {},
   "outputs": [
    {
     "name": "stdout",
     "output_type": "stream",
     "text": [
      "Underflow...\n",
      "Removing:  55\n"
     ]
    }
   ],
   "source": [
    "myQueue.pop()"
   ]
  },
  {
   "cell_type": "code",
   "execution_count": 14,
   "id": "a6b76835",
   "metadata": {},
   "outputs": [
    {
     "data": {
      "text/plain": [
       "22"
      ]
     },
     "execution_count": 14,
     "metadata": {},
     "output_type": "execute_result"
    }
   ],
   "source": [
    "myQueue.peek()"
   ]
  },
  {
   "cell_type": "code",
   "execution_count": null,
   "id": "5128f470",
   "metadata": {},
   "outputs": [],
   "source": []
  }
 ],
 "metadata": {
  "kernelspec": {
   "display_name": "Python 3 (ipykernel)",
   "language": "python",
   "name": "python3"
  },
  "language_info": {
   "codemirror_mode": {
    "name": "ipython",
    "version": 3
   },
   "file_extension": ".py",
   "mimetype": "text/x-python",
   "name": "python",
   "nbconvert_exporter": "python",
   "pygments_lexer": "ipython3",
   "version": "3.9.1"
  }
 },
 "nbformat": 4,
 "nbformat_minor": 5
}
