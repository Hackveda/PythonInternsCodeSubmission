{
 "cells": [
  {
   "cell_type": "code",
   "execution_count": 2,
   "id": "6656a1be",
   "metadata": {},
   "outputs": [],
   "source": [
    "from collections import deque"
   ]
  },
  {
   "cell_type": "code",
   "execution_count": 3,
   "id": "779956e0",
   "metadata": {},
   "outputs": [
    {
     "data": {
      "text/plain": [
       "deque(['Ram', 'Shyam', 'Lakhman', 'Bharat'])"
      ]
     },
     "execution_count": 3,
     "metadata": {},
     "output_type": "execute_result"
    }
   ],
   "source": [
    "#Create a queue using list\n",
    "queue = deque(['Ram','Shyam','Lakhman','Bharat'])\n",
    "queue"
   ]
  },
  {
   "cell_type": "code",
   "execution_count": 4,
   "id": "04ca2728",
   "metadata": {},
   "outputs": [
    {
     "data": {
      "text/plain": [
       "collections.deque"
      ]
     },
     "execution_count": 4,
     "metadata": {},
     "output_type": "execute_result"
    }
   ],
   "source": [
    "type(queue)"
   ]
  },
  {
   "cell_type": "code",
   "execution_count": 5,
   "id": "4269b481",
   "metadata": {},
   "outputs": [
    {
     "data": {
      "text/plain": [
       "deque(['Ram', 'Shyam', 'Lakhman', 'Bharat', 'Brother'])"
      ]
     },
     "execution_count": 5,
     "metadata": {},
     "output_type": "execute_result"
    }
   ],
   "source": [
    "#Queue operations\n",
    "#Append\n",
    "queue.append(\"Brother\")\n",
    "queue"
   ]
  },
  {
   "cell_type": "code",
   "execution_count": 6,
   "id": "6ff2d8a2",
   "metadata": {},
   "outputs": [
    {
     "data": {
      "text/plain": [
       "deque(['Rajesh', 'Ram', 'Shyam', 'Lakhman', 'Bharat', 'Brother'])"
      ]
     },
     "execution_count": 6,
     "metadata": {},
     "output_type": "execute_result"
    }
   ],
   "source": [
    "queue.appendleft('Rajesh')\n",
    "queue"
   ]
  },
  {
   "cell_type": "code",
   "execution_count": 7,
   "id": "0542c2ed",
   "metadata": {},
   "outputs": [
    {
     "data": {
      "text/plain": [
       "deque(['Rajesh', 'Ram', 'Shyam', 'Lakhman', 'Bharat'])"
      ]
     },
     "execution_count": 7,
     "metadata": {},
     "output_type": "execute_result"
    }
   ],
   "source": [
    "#Pop\n",
    "queue.pop()\n",
    "queue"
   ]
  },
  {
   "cell_type": "code",
   "execution_count": 8,
   "id": "731d4374",
   "metadata": {},
   "outputs": [
    {
     "data": {
      "text/plain": [
       "deque(['Ram', 'Shyam', 'Lakhman', 'Bharat'])"
      ]
     },
     "execution_count": 8,
     "metadata": {},
     "output_type": "execute_result"
    }
   ],
   "source": [
    "queue.popleft()\n",
    "queue"
   ]
  },
  {
   "cell_type": "code",
   "execution_count": 9,
   "id": "5f137fc6",
   "metadata": {},
   "outputs": [
    {
     "data": {
      "text/plain": [
       "deque(['Ram', 'Shyam', 'Lakhman', 'Bharat'])"
      ]
     },
     "execution_count": 9,
     "metadata": {},
     "output_type": "execute_result"
    }
   ],
   "source": [
    "queue2 = queue.copy()\n",
    "queue2"
   ]
  },
  {
   "cell_type": "code",
   "execution_count": 10,
   "id": "57e74d1d",
   "metadata": {},
   "outputs": [
    {
     "data": {
      "text/plain": [
       "deque(['Ram', 'Shyam', 'Lakhman', 'Bharat', 'Mohan', 'Ram', 'Sohan', 'Rohan'])"
      ]
     },
     "execution_count": 10,
     "metadata": {},
     "output_type": "execute_result"
    }
   ],
   "source": [
    "extera_list = ['Mohan','Ram','Sohan','Rohan']\n",
    "queue2.extend(extera_list)\n",
    "queue2"
   ]
  },
  {
   "cell_type": "code",
   "execution_count": 11,
   "id": "a520a98b",
   "metadata": {},
   "outputs": [
    {
     "data": {
      "text/plain": [
       "2"
      ]
     },
     "execution_count": 11,
     "metadata": {},
     "output_type": "execute_result"
    }
   ],
   "source": [
    "queue2.count('Ram')"
   ]
  },
  {
   "cell_type": "code",
   "execution_count": 12,
   "id": "d298ff41",
   "metadata": {},
   "outputs": [
    {
     "data": {
      "text/plain": [
       "deque(['Rohan',\n",
       "       'Sohan',\n",
       "       'Ram',\n",
       "       'Mohan',\n",
       "       'Ram',\n",
       "       'Shyam',\n",
       "       'Lakhman',\n",
       "       'Bharat',\n",
       "       'Mohan',\n",
       "       'Ram',\n",
       "       'Sohan',\n",
       "       'Rohan'])"
      ]
     },
     "execution_count": 12,
     "metadata": {},
     "output_type": "execute_result"
    }
   ],
   "source": [
    "queue2.extendleft(extera_list)\n",
    "queue2"
   ]
  },
  {
   "cell_type": "code",
   "execution_count": 13,
   "id": "fcb2bd19",
   "metadata": {},
   "outputs": [
    {
     "data": {
      "text/plain": [
       "5"
      ]
     },
     "execution_count": 13,
     "metadata": {},
     "output_type": "execute_result"
    }
   ],
   "source": [
    "queue2.index('Shyam')"
   ]
  },
  {
   "cell_type": "code",
   "execution_count": 14,
   "id": "063002ed",
   "metadata": {},
   "outputs": [
    {
     "data": {
      "text/plain": [
       "2"
      ]
     },
     "execution_count": 14,
     "metadata": {},
     "output_type": "execute_result"
    }
   ],
   "source": [
    "queue2.index('Ram')"
   ]
  },
  {
   "cell_type": "code",
   "execution_count": 16,
   "id": "866ec1ed",
   "metadata": {},
   "outputs": [
    {
     "data": {
      "text/plain": [
       "deque(['Rohan',\n",
       "       'Sohan',\n",
       "       'Shashank',\n",
       "       'Ram',\n",
       "       'Mohan',\n",
       "       'Ram',\n",
       "       'Shyam',\n",
       "       'Lakhman',\n",
       "       'Bharat',\n",
       "       'Mohan',\n",
       "       'Ram',\n",
       "       'Sohan',\n",
       "       'Rohan'])"
      ]
     },
     "execution_count": 16,
     "metadata": {},
     "output_type": "execute_result"
    }
   ],
   "source": [
    "queue2.insert(2,\"Shashank\")\n",
    "queue2"
   ]
  },
  {
   "cell_type": "code",
   "execution_count": 18,
   "id": "23694553",
   "metadata": {},
   "outputs": [
    {
     "data": {
      "text/plain": [
       "deque(['Rohan',\n",
       "       'Sohan',\n",
       "       'Shashank',\n",
       "       'Ram',\n",
       "       'Ram',\n",
       "       'Shyam',\n",
       "       'Lakhman',\n",
       "       'Bharat',\n",
       "       'Ram',\n",
       "       'Sohan',\n",
       "       'Rohan'])"
      ]
     },
     "execution_count": 18,
     "metadata": {},
     "output_type": "execute_result"
    }
   ],
   "source": [
    "queue2.remove('Mohan')\n",
    "queue2"
   ]
  },
  {
   "cell_type": "code",
   "execution_count": 20,
   "id": "694e612e",
   "metadata": {},
   "outputs": [
    {
     "data": {
      "text/plain": [
       "deque(['Sohan',\n",
       "       'Shashank',\n",
       "       'Ram',\n",
       "       'Ram',\n",
       "       'Shyam',\n",
       "       'Lakhman',\n",
       "       'Bharat',\n",
       "       'Ram',\n",
       "       'Sohan',\n",
       "       'Rohan'])"
      ]
     },
     "execution_count": 20,
     "metadata": {},
     "output_type": "execute_result"
    }
   ],
   "source": [
    "queue2.remove('Rohan')\n",
    "queue2"
   ]
  },
  {
   "cell_type": "code",
   "execution_count": 25,
   "id": "85393ff2",
   "metadata": {},
   "outputs": [
    {
     "data": {
      "text/plain": [
       "deque(['Rohan',\n",
       "       'Sohan',\n",
       "       'Ram',\n",
       "       'Bharat',\n",
       "       'Lakhman',\n",
       "       'Shyam',\n",
       "       'Ram',\n",
       "       'Ram',\n",
       "       'Shashank',\n",
       "       'Sohan'])"
      ]
     },
     "execution_count": 25,
     "metadata": {},
     "output_type": "execute_result"
    }
   ],
   "source": [
    "queue2.reverse()\n",
    "queue2"
   ]
  },
  {
   "cell_type": "code",
   "execution_count": 27,
   "id": "b4ecf1c3",
   "metadata": {},
   "outputs": [
    {
     "data": {
      "text/plain": [
       "deque(['Shashank',\n",
       "       'Sohan',\n",
       "       'Rohan',\n",
       "       'Sohan',\n",
       "       'Ram',\n",
       "       'Bharat',\n",
       "       'Lakhman',\n",
       "       'Shyam',\n",
       "       'Ram',\n",
       "       'Ram'])"
      ]
     },
     "execution_count": 27,
     "metadata": {},
     "output_type": "execute_result"
    }
   ],
   "source": [
    "queue2.rotate()\n",
    "queue2"
   ]
  },
  {
   "cell_type": "code",
   "execution_count": 28,
   "id": "8160b74c",
   "metadata": {},
   "outputs": [
    {
     "data": {
      "text/plain": [
       "deque(['Ram',\n",
       "       'Ram',\n",
       "       'Shashank',\n",
       "       'Sohan',\n",
       "       'Rohan',\n",
       "       'Sohan',\n",
       "       'Ram',\n",
       "       'Bharat',\n",
       "       'Lakhman',\n",
       "       'Shyam'])"
      ]
     },
     "execution_count": 28,
     "metadata": {},
     "output_type": "execute_result"
    }
   ],
   "source": [
    "queue2.rotate(2)\n",
    "queue2"
   ]
  },
  {
   "cell_type": "code",
   "execution_count": null,
   "id": "4f7b2a0c",
   "metadata": {},
   "outputs": [],
   "source": []
  }
 ],
 "metadata": {
  "kernelspec": {
   "display_name": "Python 3 (ipykernel)",
   "language": "python",
   "name": "python3"
  },
  "language_info": {
   "codemirror_mode": {
    "name": "ipython",
    "version": 3
   },
   "file_extension": ".py",
   "mimetype": "text/x-python",
   "name": "python",
   "nbconvert_exporter": "python",
   "pygments_lexer": "ipython3",
   "version": "3.9.1"
  }
 },
 "nbformat": 4,
 "nbformat_minor": 5
}
