{
 "cells": [
  {
   "cell_type": "code",
   "execution_count": 4,
   "id": "0120ca4b",
   "metadata": {},
   "outputs": [
    {
     "name": "stdout",
     "output_type": "stream",
     "text": [
      "Enter email id: hgsyfhbr\n",
      "Email is not valid\n"
     ]
    }
   ],
   "source": [
    "# String Pattern Matching\n",
    "import re\n",
    "email = input('Enter email id: ')\n",
    "result = re.findall(r'^[a-zA-Z0-9+_.-]+@[a-zA-Z0-9.-]+$', email)\n",
    "if len(result) != 0:\n",
    "    print('Email is Valid')\n",
    "else:\n",
    "    print('Email is not valid')"
   ]
  },
  {
   "cell_type": "code",
   "execution_count": 20,
   "id": "0771d6f0",
   "metadata": {},
   "outputs": [
    {
     "data": {
      "text/plain": [
       "44"
      ]
     },
     "execution_count": 20,
     "metadata": {},
     "output_type": "execute_result"
    }
   ],
   "source": [
    "# Using Random \n",
    "\n",
    "import random\n",
    "mylist = [11,22,33,44,55,66,77,8,99]\n",
    "random.choice(mylist)"
   ]
  },
  {
   "cell_type": "code",
   "execution_count": 33,
   "id": "0bee1be9",
   "metadata": {},
   "outputs": [
    {
     "data": {
      "text/plain": [
       "6"
      ]
     },
     "execution_count": 33,
     "metadata": {},
     "output_type": "execute_result"
    }
   ],
   "source": [
    "# Implement Dice\n",
    "\n",
    "dice = [1,2,3,4,5,6]\n",
    "random.choice(dice)"
   ]
  },
  {
   "cell_type": "code",
   "execution_count": 35,
   "id": "f20ce933",
   "metadata": {},
   "outputs": [
    {
     "data": {
      "text/plain": [
       "3.89"
      ]
     },
     "execution_count": 35,
     "metadata": {},
     "output_type": "execute_result"
    }
   ],
   "source": [
    "# Implement Statistics\n",
    "\n",
    "import statistics\n",
    "mylist = [1,2,4,6,3,5,4,3,7]\n",
    "round(statistics.mean(mylist),2)\n"
   ]
  },
  {
   "cell_type": "code",
   "execution_count": 37,
   "id": "82d5435f",
   "metadata": {},
   "outputs": [
    {
     "data": {
      "text/plain": [
       "datetime.date(2022, 11, 24)"
      ]
     },
     "execution_count": 37,
     "metadata": {},
     "output_type": "execute_result"
    }
   ],
   "source": [
    "# Implementation of Date and Time\n",
    "\n",
    "from datetime import date\n",
    "today = date.today()\n",
    "today"
   ]
  },
  {
   "cell_type": "code",
   "execution_count": 40,
   "id": "c16b52d3",
   "metadata": {},
   "outputs": [
    {
     "data": {
      "text/plain": [
       "'24/11/22'"
      ]
     },
     "execution_count": 40,
     "metadata": {},
     "output_type": "execute_result"
    }
   ],
   "source": [
    "today.strftime(\"%d/%m/%y\")"
   ]
  },
  {
   "cell_type": "code",
   "execution_count": 41,
   "id": "883acfd4",
   "metadata": {},
   "outputs": [
    {
     "data": {
      "text/plain": [
       "'Day is Thursday, Month is November'"
      ]
     },
     "execution_count": 41,
     "metadata": {},
     "output_type": "execute_result"
    }
   ],
   "source": [
    "# Print date in Alphabets\n",
    "today.strftime(\"Day is %A, Month is %B\")"
   ]
  },
  {
   "cell_type": "code",
   "execution_count": 42,
   "id": "52b32da9",
   "metadata": {},
   "outputs": [
    {
     "data": {
      "text/plain": [
       "164"
      ]
     },
     "execution_count": 42,
     "metadata": {},
     "output_type": "execute_result"
    }
   ],
   "source": [
    "# Data Compression \n",
    "data = b\"Earth consists of land, air, water and life. The land contains mountains, valleys and flat areas. The air is made up of different gases, mainly nitrogen and oxygen.\"\n",
    "len(data)"
   ]
  },
  {
   "cell_type": "code",
   "execution_count": 46,
   "id": "eaa3a361",
   "metadata": {},
   "outputs": [],
   "source": [
    "# Compressing data\n",
    "import zlib\n",
    "comp_data = zlib.compress(data)\n"
   ]
  },
  {
   "cell_type": "code",
   "execution_count": 47,
   "id": "e0fcdaf3",
   "metadata": {},
   "outputs": [
    {
     "data": {
      "text/plain": [
       "121"
      ]
     },
     "execution_count": 47,
     "metadata": {},
     "output_type": "execute_result"
    }
   ],
   "source": [
    "len(comp_data)"
   ]
  },
  {
   "cell_type": "code",
   "execution_count": 48,
   "id": "ec983352",
   "metadata": {},
   "outputs": [
    {
     "data": {
      "text/plain": [
       "b'Earth consists of land, air, water and life. The land contains mountains, valleys and flat areas. The air is made up of different gases, mainly nitrogen and oxygen.'"
      ]
     },
     "execution_count": 48,
     "metadata": {},
     "output_type": "execute_result"
    }
   ],
   "source": [
    "# Decompressing data\n",
    "zlib.decompress(comp_data)"
   ]
  },
  {
   "cell_type": "code",
   "execution_count": 49,
   "id": "4013cc64",
   "metadata": {},
   "outputs": [],
   "source": [
    "# Performance measurement\n",
    "\n",
    "from timeit import Timer\n",
    "mylist = [11,22,33,44,55,66,77,88,99]"
   ]
  },
  {
   "cell_type": "code",
   "execution_count": 50,
   "id": "c89ee09f",
   "metadata": {},
   "outputs": [
    {
     "data": {
      "text/plain": [
       "2.893742100000054"
      ]
     },
     "execution_count": 50,
     "metadata": {},
     "output_type": "execute_result"
    }
   ],
   "source": [
    "import timeit\n",
    "timeit.timeit(\"[i*2 for i in range(10)]\")"
   ]
  },
  {
   "cell_type": "code",
   "execution_count": 52,
   "id": "5420af3d",
   "metadata": {},
   "outputs": [
    {
     "data": {
      "text/plain": [
       "19.384387199999992"
      ]
     },
     "execution_count": 52,
     "metadata": {},
     "output_type": "execute_result"
    }
   ],
   "source": [
    "import timeit\n",
    "timeit.timeit(\"[i*2 for i in range(100)]\")"
   ]
  },
  {
   "cell_type": "code",
   "execution_count": 53,
   "id": "7331cbf9",
   "metadata": {},
   "outputs": [
    {
     "data": {
      "text/plain": [
       "TestResults(failed=0, attempted=1)"
      ]
     },
     "execution_count": 53,
     "metadata": {},
     "output_type": "execute_result"
    }
   ],
   "source": [
    "# Quality Control\n",
    "def sum(a,b):\n",
    "    \"\"\"\n",
    "    this function sums two values\n",
    "    >>> print(sum(10,20))\n",
    "    30\n",
    "    \"\"\"\n",
    "    return a+b\n",
    "\n",
    "import doctest\n",
    "doctest.testmod()"
   ]
  },
  {
   "cell_type": "code",
   "execution_count": null,
   "id": "5816f04d",
   "metadata": {},
   "outputs": [],
   "source": []
  }
 ],
 "metadata": {
  "kernelspec": {
   "display_name": "Python 3 (ipykernel)",
   "language": "python",
   "name": "python3"
  },
  "language_info": {
   "codemirror_mode": {
    "name": "ipython",
    "version": 3
   },
   "file_extension": ".py",
   "mimetype": "text/x-python",
   "name": "python",
   "nbconvert_exporter": "python",
   "pygments_lexer": "ipython3",
   "version": "3.9.1"
  }
 },
 "nbformat": 4,
 "nbformat_minor": 5
}
