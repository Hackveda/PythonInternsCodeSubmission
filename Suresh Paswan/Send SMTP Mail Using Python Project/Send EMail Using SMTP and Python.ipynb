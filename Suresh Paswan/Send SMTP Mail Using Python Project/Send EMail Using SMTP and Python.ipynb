{
 "cells": [
  {
   "cell_type": "code",
   "execution_count": 2,
   "id": "56129dc0",
   "metadata": {},
   "outputs": [],
   "source": [
    "import smtplib\n",
    "from email.mime.multipart import MIMEMultipart\n",
    "from email.mime.text import MIMEText\n",
    "from email.mime.base import MIMEBase\n",
    "from email import encoders"
   ]
  },
  {
   "cell_type": "code",
   "execution_count": 4,
   "id": "119d7aec",
   "metadata": {},
   "outputs": [
    {
     "name": "stdout",
     "output_type": "stream",
     "text": [
      "Mail Sent to sureshpaswan155@gmail.com\n"
     ]
    }
   ],
   "source": [
    "mail_content = \"\"\"Hello \n",
    "Lorem Ipsum is simply dummy text of the printing and typesetting industry. \n",
    "Lorem Ipsum has been the industry's standard dummy text ever since the 1500s,\n",
    "when an unknown printer took a galley of type and scrambled it to make a type specimen book.\n",
    "It has survived not only five centuries, but also the leap into electronic typesetting,\n",
    "remaining essentially unchanged. \n",
    "\n",
    "Thank You\"\"\"\n",
    "\n",
    "#The mail addresses and password\n",
    "sender_address = \"i.am.samratpaswan@gmail.com\"\n",
    "sender_password = \"piffojymtsbrlggh\"\n",
    "receiver_address = \"sureshpaswan155@gmail.com\"\n",
    "\n",
    "#Setup the MIME\n",
    "message = MIMEMultipart()\n",
    "message['From'] = \"Suresh Paswan <i.am.samratpaswan@gmail.com>\"\n",
    "message['To'] = receiver_address\n",
    "message['Subject'] = \"Send Automated Mail Using SMTP Python\"\n",
    "\n",
    "#The body and the attachments for the mail\n",
    "message.attach(MIMEText(mail_content, 'plain'))\n",
    "attach_file_name = \"Lorem_Ipsum.pdf\"\n",
    "attach_file = open(attach_file_name, 'rb') # Open the file as binary mode\n",
    "payload = MIMEBase('application', 'octate-stream')\n",
    "payload.set_payload((attach_file).read())\n",
    "encoders.encode_base64(payload) #encode the attachment\n",
    "\n",
    "#add payload header with filename\n",
    "payload.add_header('Content-Decomposition', 'attachment', filename= \"Lorem_Ipsum.pdf\")\n",
    "message.attach(payload)\n",
    "\n",
    "#Create SMTP session for sending the mail\n",
    "session = smtplib.SMTP('smtp.gmail.com', 587) #use gmail with port\n",
    "session.starttls() \n",
    "session.login(sender_address, sender_password)\n",
    "text = message.as_string()\n",
    "session.sendmail(sender_address, receiver_address, text)\n",
    "session.quit()\n",
    "print('Mail Sent to '+ receiver_address)\n",
    "\n",
    "\n"
   ]
  },
  {
   "cell_type": "code",
   "execution_count": null,
   "id": "b10b36e3",
   "metadata": {},
   "outputs": [],
   "source": []
  }
 ],
 "metadata": {
  "kernelspec": {
   "display_name": "Python 3 (ipykernel)",
   "language": "python",
   "name": "python3"
  },
  "language_info": {
   "codemirror_mode": {
    "name": "ipython",
    "version": 3
   },
   "file_extension": ".py",
   "mimetype": "text/x-python",
   "name": "python",
   "nbconvert_exporter": "python",
   "pygments_lexer": "ipython3",
   "version": "3.9.1"
  }
 },
 "nbformat": 4,
 "nbformat_minor": 5
}
