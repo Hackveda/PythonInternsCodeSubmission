{
 "cells": [
  {
   "cell_type": "code",
   "execution_count": 1,
   "id": "09253095",
   "metadata": {},
   "outputs": [
    {
     "name": "stdout",
     "output_type": "stream",
     "text": [
      "Python 3.9.1\n"
     ]
    }
   ],
   "source": [
    "!python --version\n"
   ]
  },
  {
   "cell_type": "code",
   "execution_count": 2,
   "id": "2cf132ed",
   "metadata": {},
   "outputs": [
    {
     "name": "stdout",
     "output_type": "stream",
     "text": [
      "Ram <class 'str'>\n",
      "Shyam <class 'str'>\n"
     ]
    }
   ],
   "source": [
    " # Creating Strings\n",
    "FName = \"Ram\"\n",
    "LName = 'Shyam'\n",
    "    \n",
    "print(FName, type(FName))\n",
    "print(LName, type(LName))\n",
    "    \n"
   ]
  },
  {
   "cell_type": "code",
   "execution_count": 7,
   "id": "22d1033a",
   "metadata": {},
   "outputs": [
    {
     "name": "stdout",
     "output_type": "stream",
     "text": [
      "He doesn't understand\n",
      "He doesn't understand\n"
     ]
    }
   ],
   "source": [
    "# He doesn't understand\n",
    "\n",
    "stmt1 = \"He doesn't understand\"\n",
    "stmt2 = 'He doesn\\'t understand'\n",
    "\n",
    "print(stmt1)\n",
    "print(stmt2)"
   ]
  },
  {
   "cell_type": "code",
   "execution_count": 11,
   "id": "e8be9431",
   "metadata": {},
   "outputs": [
    {
     "name": "stdout",
     "output_type": "stream",
     "text": [
      "Here is the \"Tajmahal\"\n",
      "Here is the 'Tajmahal'\n"
     ]
    }
   ],
   "source": [
    "stmt1 = \"Here is the \\\"Tajmahal\\\"\"\n",
    "stmt2 = \"Here is the 'Tajmahal'\"\n",
    "\n",
    "print(stmt1)\n",
    "print(stmt2)"
   ]
  },
  {
   "cell_type": "code",
   "execution_count": 14,
   "id": "907f9f4a",
   "metadata": {},
   "outputs": [
    {
     "name": "stdout",
     "output_type": "stream",
     "text": [
      "Hi, My \n",
      "ame is Rahul\n",
      "Hi, My \\name is Rahul\n"
     ]
    }
   ],
   "source": [
    "#Spacial Characters\n",
    "\n",
    "stmt1 = \"Hi, My \\name is Rahul\"\n",
    "stmt2 = r\"Hi, My \\name is Rahul\" # Using r as Raw string for avoid backslash escaping\n",
    "\n",
    "print(stmt1)\n",
    "print(stmt2)"
   ]
  },
  {
   "cell_type": "code",
   "execution_count": 24,
   "id": "34a7de76",
   "metadata": {},
   "outputs": [
    {
     "name": "stdout",
     "output_type": "stream",
     "text": [
      "C:\\user\n",
      "aman\n",
      "C:\\\\user\\naman\n"
     ]
    }
   ],
   "source": [
    "path =\"C:\\\\user\\naman\"\n",
    "path1 = r\"C:\\\\user\\naman\"\n",
    "\n",
    "print(path)\n",
    "print(path1)"
   ]
  },
  {
   "cell_type": "code",
   "execution_count": 27,
   "id": "480c4ef0",
   "metadata": {},
   "outputs": [
    {
     "name": "stdout",
     "output_type": "stream",
     "text": [
      "Hii, This is\n",
      "the Example of \n",
      "Multple lines Print\n"
     ]
    }
   ],
   "source": [
    "# Printing multiple lines in python\n",
    "\n",
    "str = \"\"\"Hii, This is\n",
    "the Example of \n",
    "Multple lines Print\"\"\"\n",
    "\n",
    "print(str)"
   ]
  },
  {
   "cell_type": "code",
   "execution_count": 31,
   "id": "65847ca9",
   "metadata": {},
   "outputs": [
    {
     "name": "stdout",
     "output_type": "stream",
     "text": [
      "Hii Shivam\n",
      "hmhmhmhmhm\n"
     ]
    }
   ],
   "source": [
    "#String can be Concatenated and Repeated\n",
    "\n",
    "str1 = \"Hii\"\n",
    "str2 = ' Shivam'\n",
    "\n",
    "print(str1 + str2)\n",
    "\n",
    "str3 = 'hm'\n",
    "print(str3*5)"
   ]
  },
  {
   "cell_type": "code",
   "execution_count": 34,
   "id": "438434a2",
   "metadata": {},
   "outputs": [
    {
     "name": "stdout",
     "output_type": "stream",
     "text": [
      "R\n",
      "a\n"
     ]
    }
   ],
   "source": [
    "#String indexing\n",
    "\n",
    "name = 'Ramayan'\n",
    "print(name[0])\n",
    "print(name[5])"
   ]
  },
  {
   "cell_type": "code",
   "execution_count": 43,
   "id": "ce7ba16f",
   "metadata": {},
   "outputs": [
    {
     "name": "stdout",
     "output_type": "stream",
     "text": [
      "d\n",
      "w\n"
     ]
    }
   ],
   "source": [
    "#String Indexing with Negative\n",
    "name = 'Hello world'\n",
    "print(name[-1])\n",
    "print(name[-5])"
   ]
  },
  {
   "cell_type": "code",
   "execution_count": 50,
   "id": "c88a6cff",
   "metadata": {},
   "outputs": [
    {
     "name": "stdout",
     "output_type": "stream",
     "text": [
      "11\n",
      "ello \n",
      "ello wor\n",
      "Hlwl\n"
     ]
    }
   ],
   "source": [
    "#String Slicing\n",
    "\n",
    "word = \"Hello world\"\n",
    "print(len(word))\n",
    "      \n",
    "print(word[1:6])  #slicing content [start:end:escap]\n",
    "print(word[1:-2])\n",
    "\n",
    "#String Slicng with Escape\n",
    "print(word[0::3])\n",
    "\n"
   ]
  }
 ],
 "metadata": {
  "kernelspec": {
   "display_name": "Python 3 (ipykernel)",
   "language": "python",
   "name": "python3"
  },
  "language_info": {
   "codemirror_mode": {
    "name": "ipython",
    "version": 3
   },
   "file_extension": ".py",
   "mimetype": "text/x-python",
   "name": "python",
   "nbconvert_exporter": "python",
   "pygments_lexer": "ipython3",
   "version": "3.9.1"
  }
 },
 "nbformat": 4,
 "nbformat_minor": 5
}
