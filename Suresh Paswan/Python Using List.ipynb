{
 "cells": [
  {
   "cell_type": "code",
   "execution_count": 15,
   "id": "95cbec99",
   "metadata": {},
   "outputs": [
    {
     "data": {
      "text/plain": [
       "'Mumbai'"
      ]
     },
     "execution_count": 15,
     "metadata": {},
     "output_type": "execute_result"
    }
   ],
   "source": [
    "#List using compound varialbes\n",
    "\n",
    "name = 'Ram'\n",
    "age = 20\n",
    "grade = 95.7\n",
    "address = \"Mumbai\"\n",
    "\n",
    "mylist = [name,age,grade,address]\n",
    "mylist[3]\n",
    "#print(mylist)"
   ]
  },
  {
   "cell_type": "code",
   "execution_count": 16,
   "id": "95874897",
   "metadata": {},
   "outputs": [
    {
     "data": {
      "text/plain": [
       "[11, 33, 55, 77, 99]"
      ]
     },
     "execution_count": 16,
     "metadata": {},
     "output_type": "execute_result"
    }
   ],
   "source": [
    "#Slicing of List\n",
    "\n",
    "mylist = [11,22,33,44,55,66,77,88,99]\n",
    "\n",
    "mylist[1:7]\n",
    "mylist[-7:7]\n",
    "\n",
    "mylist[0:9:2]"
   ]
  },
  {
   "cell_type": "code",
   "execution_count": 18,
   "id": "8baa13a7",
   "metadata": {},
   "outputs": [
    {
     "data": {
      "text/plain": [
       "[11, 22, 33, 44, 1000, 66, 77, 88, 99]"
      ]
     },
     "execution_count": 18,
     "metadata": {},
     "output_type": "execute_result"
    }
   ],
   "source": [
    "mylist = [11,22,33,44,55,66,77,88,99]\n",
    "\n",
    "mylist[4] = 1000  #updating list values\n",
    "mylist"
   ]
  },
  {
   "cell_type": "code",
   "execution_count": 24,
   "id": "f9ad698a",
   "metadata": {},
   "outputs": [
    {
     "name": "stdout",
     "output_type": "stream",
     "text": [
      "0 11\n",
      "1 22\n",
      "2 33\n",
      "3 44\n",
      "4 55\n",
      "5 66\n",
      "6 77\n",
      "7 88\n",
      "8 99\n"
     ]
    }
   ],
   "source": [
    "#Print values of each inedx of the list\n",
    "\n",
    "mylist = [11,22,33,44,55,66,77,88,99]\n",
    "index = 0\n",
    "for item in mylist:\n",
    "    print(index, item)\n",
    "    index = index + 1"
   ]
  }
 ],
 "metadata": {
  "kernelspec": {
   "display_name": "Python 3 (ipykernel)",
   "language": "python",
   "name": "python3"
  },
  "language_info": {
   "codemirror_mode": {
    "name": "ipython",
    "version": 3
   },
   "file_extension": ".py",
   "mimetype": "text/x-python",
   "name": "python",
   "nbconvert_exporter": "python",
   "pygments_lexer": "ipython3",
   "version": "3.9.1"
  }
 },
 "nbformat": 4,
 "nbformat_minor": 5
}
