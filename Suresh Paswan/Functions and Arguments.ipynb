{
 "cells": [
  {
   "cell_type": "code",
   "execution_count": 3,
   "id": "73a5b296",
   "metadata": {},
   "outputs": [],
   "source": [
    "#Defining the Function\n",
    "def functionName(Parameter):\n",
    "    \"Document string for function\"\n",
    "    \n",
    "functionName(1)    #Calling the function"
   ]
  },
  {
   "cell_type": "code",
   "execution_count": 11,
   "id": "9716af83",
   "metadata": {},
   "outputs": [],
   "source": [
    "#Define function to add two values\n",
    "#Method 1\n",
    "def add1(a,b):\n",
    "    '''Add two values and get added values\n",
    "    For Exampple:\n",
    "    add(2,8) => 10'''\n",
    "    return a+b"
   ]
  },
  {
   "cell_type": "code",
   "execution_count": 12,
   "id": "4dd5ef07",
   "metadata": {},
   "outputs": [
    {
     "name": "stdout",
     "output_type": "stream",
     "text": [
      "Addition of 255 and 999 is 1254\n"
     ]
    }
   ],
   "source": [
    "print('Addition of 255 and 999 is',add1(255,999))"
   ]
  },
  {
   "cell_type": "code",
   "execution_count": 13,
   "id": "c6d71224",
   "metadata": {},
   "outputs": [],
   "source": [
    "#Excute the function but doesn't return values\n",
    "#Method 2\n",
    "def add2(a,b):\n",
    "    \"Add two values without return value\"\n",
    "    print(a+b)"
   ]
  },
  {
   "cell_type": "code",
   "execution_count": 15,
   "id": "1bc2b34a",
   "metadata": {},
   "outputs": [
    {
     "name": "stdout",
     "output_type": "stream",
     "text": [
      "132\n"
     ]
    }
   ],
   "source": [
    "ans1 = add1(55,77)  #return int \n",
    "ans2 = add2(33,99)  #return none"
   ]
  },
  {
   "cell_type": "code",
   "execution_count": 16,
   "id": "047305d4",
   "metadata": {},
   "outputs": [
    {
     "name": "stdout",
     "output_type": "stream",
     "text": [
      "132\n"
     ]
    }
   ],
   "source": [
    "print(ans1)"
   ]
  },
  {
   "cell_type": "code",
   "execution_count": 17,
   "id": "121de7f6",
   "metadata": {},
   "outputs": [
    {
     "name": "stdout",
     "output_type": "stream",
     "text": [
      "None\n"
     ]
    }
   ],
   "source": [
    "print(ans2)"
   ]
  },
  {
   "cell_type": "code",
   "execution_count": 18,
   "id": "8328a77a",
   "metadata": {},
   "outputs": [],
   "source": [
    "#Argumnets withiout a define count\n",
    "\n",
    "#Make simple application to add new admission\n",
    "#Groups Red,Green,Blue and White\n",
    "\n",
    "def newAddmission(studentName,studentClass=11,studentGroup=\"Blue\"):\n",
    "    \"Demo function to add new student in class\"\n",
    "    print(\"Student added name-\",studentName,studentClass,studentGroup)"
   ]
  },
  {
   "cell_type": "code",
   "execution_count": 20,
   "id": "4e0d7cff",
   "metadata": {},
   "outputs": [
    {
     "ename": "TypeError",
     "evalue": "newAddmission() missing 1 required positional argument: 'studentName'",
     "output_type": "error",
     "traceback": [
      "\u001b[1;31m---------------------------------------------------------------------------\u001b[0m",
      "\u001b[1;31mTypeError\u001b[0m                                 Traceback (most recent call last)",
      "\u001b[1;32m~\\AppData\\Local\\Temp/ipykernel_7292/2351594841.py\u001b[0m in \u001b[0;36m<module>\u001b[1;34m\u001b[0m\n\u001b[1;32m----> 1\u001b[1;33m \u001b[0mnewAddmission\u001b[0m\u001b[1;33m(\u001b[0m\u001b[1;33m)\u001b[0m\u001b[1;33m\u001b[0m\u001b[1;33m\u001b[0m\u001b[0m\n\u001b[0m",
      "\u001b[1;31mTypeError\u001b[0m: newAddmission() missing 1 required positional argument: 'studentName'"
     ]
    }
   ],
   "source": [
    "# 1st method to call without parameter\n",
    "newAddmission() "
   ]
  },
  {
   "cell_type": "code",
   "execution_count": 21,
   "id": "5f6b394b",
   "metadata": {},
   "outputs": [
    {
     "name": "stdout",
     "output_type": "stream",
     "text": [
      "Student added name- Mohan Raj 11 Blue\n"
     ]
    }
   ],
   "source": [
    "# 2nd method to call without required parameter\n",
    "newAddmission(\"Mohan Raj\")"
   ]
  },
  {
   "cell_type": "code",
   "execution_count": 24,
   "id": "9c811f9b",
   "metadata": {},
   "outputs": [
    {
     "name": "stdout",
     "output_type": "stream",
     "text": [
      "Student added name- Rameshwar 12 Blue\n"
     ]
    }
   ],
   "source": [
    "#3rd method to call with required parameter and default paramter\n",
    "newAddmission(\"Rameshwar\",12)"
   ]
  },
  {
   "cell_type": "code",
   "execution_count": 25,
   "id": "dcddc8b1",
   "metadata": {},
   "outputs": [
    {
     "name": "stdout",
     "output_type": "stream",
     "text": [
      "Student added name- Shyam 12 Red\n"
     ]
    }
   ],
   "source": [
    "#4th method to call with required parameter and default paramter\n",
    "newAddmission(studentName = \"Shyam\",studentClass =12,studentGroup=\"Red\")"
   ]
  },
  {
   "cell_type": "code",
   "execution_count": 31,
   "id": "d25b5644",
   "metadata": {},
   "outputs": [],
   "source": [
    "#Define the arguments list\n",
    "#Create a Team and add playes \n",
    "\n",
    "def iplTeam(teamName,*players):\n",
    "    \"Create a New IPL Team\"\n",
    "    IPL_Players =[]\n",
    "    for player in players:\n",
    "        IPL_Players.append(player)\n",
    "        \n",
    "    print(\"IPL Team :\",teamName,\"Player Names:\",IPL_Players)"
   ]
  },
  {
   "cell_type": "code",
   "execution_count": 33,
   "id": "096cbed8",
   "metadata": {},
   "outputs": [
    {
     "name": "stdout",
     "output_type": "stream",
     "text": [
      "IPL Team : CSK Player Names: ['Ruturaj', 'Rajvardhan', 'Chris', 'Devon']\n"
     ]
    }
   ],
   "source": [
    "iplTeam(\"CSK\", \"Ruturaj\",\"Rajvardhan\",\"Chris\",\"Devon\")"
   ]
  },
  {
   "cell_type": "code",
   "execution_count": 34,
   "id": "8c529d04",
   "metadata": {},
   "outputs": [],
   "source": [
    "def ipl_players(**players):\n",
    "    for player in players:\n",
    "        print(\"Player Name\",player,\"Role:\",players[player])"
   ]
  },
  {
   "cell_type": "code",
   "execution_count": 35,
   "id": "96eaa806",
   "metadata": {},
   "outputs": [
    {
     "name": "stdout",
     "output_type": "stream",
     "text": [
      "Player Name Ruturaj Role: Bowler\n",
      "Player Name Chris Role: Batsman\n",
      "Player Name Devon Role: All Rounder\n"
     ]
    }
   ],
   "source": [
    "ipl_players(Ruturaj ='Bowler',\n",
    "           Chris ='Batsman',\n",
    "           Devon = 'All Rounder')"
   ]
  }
 ],
 "metadata": {
  "kernelspec": {
   "display_name": "Python 3 (ipykernel)",
   "language": "python",
   "name": "python3"
  },
  "language_info": {
   "codemirror_mode": {
    "name": "ipython",
    "version": 3
   },
   "file_extension": ".py",
   "mimetype": "text/x-python",
   "name": "python",
   "nbconvert_exporter": "python",
   "pygments_lexer": "ipython3",
   "version": "3.9.1"
  }
 },
 "nbformat": 4,
 "nbformat_minor": 5
}
