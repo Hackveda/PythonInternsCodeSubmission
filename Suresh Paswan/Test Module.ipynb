{
 "cells": [
  {
   "cell_type": "code",
   "execution_count": 9,
   "id": "59b1223d",
   "metadata": {},
   "outputs": [],
   "source": [
    "import fibonacci as fb"
   ]
  },
  {
   "cell_type": "code",
   "execution_count": 10,
   "id": "22293e86",
   "metadata": {},
   "outputs": [
    {
     "name": "stdout",
     "output_type": "stream",
     "text": [
      "0, \n",
      "1, \n",
      "1, \n",
      "2, \n",
      "3, \n",
      "5, \n",
      "8, \n",
      "13, \n"
     ]
    }
   ],
   "source": [
    "fb.fib(20)"
   ]
  },
  {
   "cell_type": "code",
   "execution_count": null,
   "id": "75172aa3",
   "metadata": {},
   "outputs": [],
   "source": []
  }
 ],
 "metadata": {
  "kernelspec": {
   "display_name": "Python 3 (ipykernel)",
   "language": "python",
   "name": "python3"
  },
  "language_info": {
   "codemirror_mode": {
    "name": "ipython",
    "version": 3
   },
   "file_extension": ".py",
   "mimetype": "text/x-python",
   "name": "python",
   "nbconvert_exporter": "python",
   "pygments_lexer": "ipython3",
   "version": "3.9.1"
  }
 },
 "nbformat": 4,
 "nbformat_minor": 5
}
