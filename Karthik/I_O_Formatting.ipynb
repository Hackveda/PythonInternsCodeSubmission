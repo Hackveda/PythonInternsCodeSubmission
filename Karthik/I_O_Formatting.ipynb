{
  "nbformat": 4,
  "nbformat_minor": 0,
  "metadata": {
    "colab": {
      "provenance": [],
      "authorship_tag": "ABX9TyPEgEj6+Ccsj3lUKDA/sgqx",
      "include_colab_link": true
    },
    "kernelspec": {
      "name": "python3",
      "display_name": "Python 3"
    },
    "language_info": {
      "name": "python"
    }
  },
  "cells": [
    {
      "cell_type": "markdown",
      "metadata": {
        "id": "view-in-github",
        "colab_type": "text"
      },
      "source": [
        "<a href=\"https://colab.research.google.com/github/Hackveda/PythonInternsCodeSubmission/blob/main/Karthik/I_O_Formatting.ipynb\" target=\"_parent\"><img src=\"https://colab.research.google.com/assets/colab-badge.svg\" alt=\"Open In Colab\"/></a>"
      ]
    },
    {
      "cell_type": "code",
      "execution_count": null,
      "metadata": {
        "colab": {
          "base_uri": "https://localhost:8080/"
        },
        "id": "QzxhvR5YudNL",
        "outputId": "67ea29d3-e22a-432a-ba52-d502ae893718"
      },
      "outputs": [
        {
          "output_type": "stream",
          "name": "stdout",
          "text": [
            "my name is karthik and my surname is peta\n"
          ]
        }
      ],
      "source": [
        "name ='karthik'\n",
        "surname = 'peta'\n",
        "print(f'my name is {name} and my surname is {surname}')"
      ]
    },
    {
      "cell_type": "code",
      "source": [
        "subtotal_amount = 10000\n",
        "user = \"karthik\"\n",
        "\"Subtotal for user is {} is {:,}\".format(user,subtotal_amount)"
      ],
      "metadata": {
        "colab": {
          "base_uri": "https://localhost:8080/",
          "height": 36
        },
        "id": "8ufQUSvLvFiH",
        "outputId": "335137e6-121b-4a84-9bc0-371d37d41c4c"
      },
      "execution_count": null,
      "outputs": [
        {
          "output_type": "execute_result",
          "data": {
            "text/plain": [
              "'Subtotal for user is karthik is 10,000'"
            ],
            "application/vnd.google.colaboratory.intrinsic+json": {
              "type": "string"
            }
          },
          "metadata": {},
          "execution_count": 4
        }
      ]
    },
    {
      "cell_type": "code",
      "source": [
        "\"Subtotal for user is {} is {:_}\".format(user,subtotal_amount)"
      ],
      "metadata": {
        "colab": {
          "base_uri": "https://localhost:8080/",
          "height": 36
        },
        "id": "4RZ73AowvQg0",
        "outputId": "1eab6ee7-30bc-4ec1-8c10-3b96a334e583"
      },
      "execution_count": null,
      "outputs": [
        {
          "output_type": "execute_result",
          "data": {
            "text/plain": [
              "'Subtotal for user is karthik is 10_000'"
            ],
            "application/vnd.google.colaboratory.intrinsic+json": {
              "type": "string"
            }
          },
          "metadata": {},
          "execution_count": 5
        }
      ]
    },
    {
      "cell_type": "code",
      "source": [
        "l_value=10\n",
        "\"Binary value of {} is {:b}\".format(l_value,l_value)"
      ],
      "metadata": {
        "colab": {
          "base_uri": "https://localhost:8080/",
          "height": 36
        },
        "id": "W2-mtnijvUxk",
        "outputId": "ca474ed3-4b3c-4bc7-da57-c2341ae6ca96"
      },
      "execution_count": null,
      "outputs": [
        {
          "output_type": "execute_result",
          "data": {
            "text/plain": [
              "'Binary value of 10 is 1010'"
            ],
            "application/vnd.google.colaboratory.intrinsic+json": {
              "type": "string"
            }
          },
          "metadata": {},
          "execution_count": 6
        }
      ]
    },
    {
      "cell_type": "code",
      "source": [
        "val = 43\n",
        "\"Octal value of {} is {:o}\".format(val,val)"
      ],
      "metadata": {
        "colab": {
          "base_uri": "https://localhost:8080/",
          "height": 36
        },
        "id": "0XZadvs4vVGb",
        "outputId": "cf618924-978a-41cb-92e6-902f0562ed8f"
      },
      "execution_count": null,
      "outputs": [
        {
          "output_type": "execute_result",
          "data": {
            "text/plain": [
              "'Octal value of 43 is 53'"
            ],
            "application/vnd.google.colaboratory.intrinsic+json": {
              "type": "string"
            }
          },
          "metadata": {},
          "execution_count": 7
        }
      ]
    },
    {
      "cell_type": "code",
      "source": [
        "\"Hexa decimal value of {} is {:x}\".format(val,val)"
      ],
      "metadata": {
        "colab": {
          "base_uri": "https://localhost:8080/",
          "height": 36
        },
        "id": "y9LzfA9QvVTF",
        "outputId": "c1bb6e84-37e3-4773-8c4e-2c15d65e9d8c"
      },
      "execution_count": null,
      "outputs": [
        {
          "output_type": "execute_result",
          "data": {
            "text/plain": [
              "'Hexa decimal value of 43 is 2b'"
            ],
            "application/vnd.google.colaboratory.intrinsic+json": {
              "type": "string"
            }
          },
          "metadata": {},
          "execution_count": 8
        }
      ]
    },
    {
      "cell_type": "code",
      "source": [],
      "metadata": {
        "id": "1B11QXd6vj6_"
      },
      "execution_count": null,
      "outputs": []
    },
    {
      "cell_type": "code",
      "source": [
        "# Writing JSON data in Python\n",
        "import json\n",
        "data = {\"Name\":\"Namaiva\", \"Age\": 43}\n",
        "json.dumps(data)"
      ],
      "metadata": {
        "colab": {
          "base_uri": "https://localhost:8080/",
          "height": 36
        },
        "id": "BKrg_bUPvzKE",
        "outputId": "8fc62873-dd06-45a4-c340-c736b1e73e3d"
      },
      "execution_count": null,
      "outputs": [
        {
          "output_type": "execute_result",
          "data": {
            "text/plain": [
              "'{\"Name\": \"Namaiva\", \"Age\": 43}'"
            ],
            "application/vnd.google.colaboratory.intrinsic+json": {
              "type": "string"
            }
          },
          "metadata": {},
          "execution_count": 10
        }
      ]
    },
    {
      "cell_type": "code",
      "source": [
        "with open(\"newjson.json\",\"w\") as f:\n",
        "  json.dump(data,f)"
      ],
      "metadata": {
        "id": "s8PMNX5Bv1QO"
      },
      "execution_count": null,
      "outputs": []
    },
    {
      "cell_type": "code",
      "source": [
        "meta = {\"wakuwaku\":\"anya\",\"age\": 15}\n",
        "json.dumps(meta)"
      ],
      "metadata": {
        "colab": {
          "base_uri": "https://localhost:8080/",
          "height": 36
        },
        "id": "LKaVk8N8wA6i",
        "outputId": "73b8f59b-8a2b-4153-a12e-30f56338cea0"
      },
      "execution_count": null,
      "outputs": [
        {
          "output_type": "execute_result",
          "data": {
            "text/plain": [
              "'{\"wakuwaku\": \"anya\", \"age\": 15}'"
            ],
            "application/vnd.google.colaboratory.intrinsic+json": {
              "type": "string"
            }
          },
          "metadata": {},
          "execution_count": 14
        }
      ]
    },
    {
      "cell_type": "code",
      "source": [
        "with open(\"newjson.json\",\"w\") as r:\n",
        "  json.dump(meta,r)"
      ],
      "metadata": {
        "id": "rhOualuUwFi1"
      },
      "execution_count": null,
      "outputs": []
    },
    {
      "cell_type": "code",
      "source": [
        "with open(\"newjson.json\",\"r\") as k:\n",
        "  y=k.readline()\n",
        "print(y)"
      ],
      "metadata": {
        "colab": {
          "base_uri": "https://localhost:8080/"
        },
        "id": "-XwVulynwKid",
        "outputId": "18c275c8-e525-48b7-e72b-b98b9e68de15"
      },
      "execution_count": null,
      "outputs": [
        {
          "output_type": "stream",
          "name": "stdout",
          "text": [
            "{\"wakuwaku\": \"anya\", \"age\": 15}\n"
          ]
        }
      ]
    },
    {
      "cell_type": "code",
      "source": [],
      "metadata": {
        "id": "APB1O5SlwN_5"
      },
      "execution_count": null,
      "outputs": []
    }
  ]
}