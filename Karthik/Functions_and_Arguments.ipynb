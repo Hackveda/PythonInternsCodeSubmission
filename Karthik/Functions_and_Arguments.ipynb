{
  "nbformat": 4,
  "nbformat_minor": 0,
  "metadata": {
    "colab": {
      "provenance": [],
      "authorship_tag": "ABX9TyPT6kS4+uq+FQHf6yQyeoAd",
      "include_colab_link": true
    },
    "kernelspec": {
      "name": "python3",
      "display_name": "Python 3"
    },
    "language_info": {
      "name": "python"
    }
  },
  "cells": [
    {
      "cell_type": "markdown",
      "metadata": {
        "id": "view-in-github",
        "colab_type": "text"
      },
      "source": [
        "<a href=\"https://colab.research.google.com/github/Hackveda/PythonInternsCodeSubmission/blob/main/Karthik/Functions_and_Arguments.ipynb\" target=\"_parent\"><img src=\"https://colab.research.google.com/assets/colab-badge.svg\" alt=\"Open In Colab\"/></a>"
      ]
    },
    {
      "cell_type": "code",
      "execution_count": null,
      "metadata": {
        "id": "YrAtMf9ZIQ1Q"
      },
      "outputs": [],
      "source": [
        "# Defining the function\n",
        "def functionName(paramaters):\n",
        "  \"Document String for the function\"\n",
        "# Calling the function\n",
        "param=1 # Sample parameter with example\n",
        "functionName(param)"
      ]
    },
    {
      "cell_type": "code",
      "source": [
        "# Define a function to add two values\n",
        "def add(a,b):\n",
        "  \"Add two numbers and returns added values\"\n",
        "  return a+b"
      ],
      "metadata": {
        "id": "24T5G-NMLs_N"
      },
      "execution_count": null,
      "outputs": []
    },
    {
      "cell_type": "code",
      "source": [
        "add(10,30)"
      ],
      "metadata": {
        "colab": {
          "base_uri": "https://localhost:8080/"
        },
        "id": "pphDce-IMjBD",
        "outputId": "ace78566-d3ae-46dd-badb-9ea81ab1a429"
      },
      "execution_count": null,
      "outputs": [
        {
          "output_type": "execute_result",
          "data": {
            "text/plain": [
              "40"
            ]
          },
          "metadata": {},
          "execution_count": 4
        }
      ]
    },
    {
      "cell_type": "code",
      "source": [
        "# Method 1: Execute the function but doesnot return a value\n",
        "def add1(a,b):\n",
        "  \"Add two values and print,But no return value\"\n",
        "  print(a+b)"
      ],
      "metadata": {
        "id": "tjMhWK6NMr77"
      },
      "execution_count": null,
      "outputs": []
    },
    {
      "cell_type": "code",
      "source": [
        "add1(10,20)"
      ],
      "metadata": {
        "colab": {
          "base_uri": "https://localhost:8080/"
        },
        "id": "LqPStk9ONQwk",
        "outputId": "3bc46915-2812-4087-bd76-37b531068733"
      },
      "execution_count": null,
      "outputs": [
        {
          "output_type": "stream",
          "name": "stdout",
          "text": [
            "30\n"
          ]
        }
      ]
    },
    {
      "cell_type": "code",
      "source": [
        "ans1=add(10,20) # Return int value\n",
        "ans2=add1(10,20) # Return None"
      ],
      "metadata": {
        "colab": {
          "base_uri": "https://localhost:8080/"
        },
        "id": "Ob9Ek8csNf6B",
        "outputId": "897662f8-e5f2-4d37-be77-62021fe39145"
      },
      "execution_count": null,
      "outputs": [
        {
          "output_type": "stream",
          "name": "stdout",
          "text": [
            "30\n"
          ]
        }
      ]
    },
    {
      "cell_type": "code",
      "source": [
        "print(ans1)"
      ],
      "metadata": {
        "colab": {
          "base_uri": "https://localhost:8080/"
        },
        "id": "S95uWgL9Nqhq",
        "outputId": "ae91faeb-71f5-4acf-9960-bbbab7ed6d90"
      },
      "execution_count": null,
      "outputs": [
        {
          "output_type": "stream",
          "name": "stdout",
          "text": [
            "30\n"
          ]
        }
      ]
    },
    {
      "cell_type": "code",
      "source": [
        "print(ans2)"
      ],
      "metadata": {
        "colab": {
          "base_uri": "https://localhost:8080/"
        },
        "id": "uSkwFt2eNu0j",
        "outputId": "937b9bed-089c-41ac-bafe-882a298c3088"
      },
      "execution_count": null,
      "outputs": [
        {
          "output_type": "stream",
          "name": "stdout",
          "text": [
            "None\n"
          ]
        }
      ]
    },
    {
      "cell_type": "code",
      "source": [
        "# When you have arguments without a defined count\n",
        "\n",
        "# make a simple application to add a new admission\n",
        "# Groups: Red,Green,Blue and White\n",
        "def newAdmission(studentName,studentClass=10,studentGroup=\"Red\"):\n",
        "  \"Demo functionto add a student in a class\"\n",
        "  print(\"Student added\",studentName,studentClass,studentGroup)"
      ],
      "metadata": {
        "id": "Z63WizLaOPaf"
      },
      "execution_count": null,
      "outputs": []
    },
    {
      "cell_type": "code",
      "source": [
        "# Call the function in first way- No paramater\n",
        "newAdmission()"
      ],
      "metadata": {
        "colab": {
          "base_uri": "https://localhost:8080/",
          "height": 189
        },
        "id": "h_7vLjrWPvl1",
        "outputId": "f3868502-5a79-447f-f9ae-9c88203e8266"
      },
      "execution_count": null,
      "outputs": [
        {
          "output_type": "error",
          "ename": "TypeError",
          "evalue": "ignored",
          "traceback": [
            "\u001b[0;31m---------------------------------------------------------------------------\u001b[0m",
            "\u001b[0;31mTypeError\u001b[0m                                 Traceback (most recent call last)",
            "\u001b[0;32m<ipython-input-12-c3778b24d665>\u001b[0m in \u001b[0;36m<module>\u001b[0;34m\u001b[0m\n\u001b[1;32m      1\u001b[0m \u001b[0;31m# Call the function in first way- No paramater\u001b[0m\u001b[0;34m\u001b[0m\u001b[0;34m\u001b[0m\u001b[0;34m\u001b[0m\u001b[0m\n\u001b[0;32m----> 2\u001b[0;31m \u001b[0mnewAdmission\u001b[0m\u001b[0;34m(\u001b[0m\u001b[0;34m)\u001b[0m\u001b[0;34m\u001b[0m\u001b[0;34m\u001b[0m\u001b[0m\n\u001b[0m",
            "\u001b[0;31mTypeError\u001b[0m: newAdmission() missing 1 required positional argument: 'studentName'"
          ]
        }
      ]
    },
    {
      "cell_type": "code",
      "source": [
        "# Give the position argument\n",
        "newAdmission(\"Tata\")"
      ],
      "metadata": {
        "colab": {
          "base_uri": "https://localhost:8080/"
        },
        "id": "BcSGQx-yQIww",
        "outputId": "4aa8f9f9-970d-44ec-ad79-cd38a7923426"
      },
      "execution_count": null,
      "outputs": [
        {
          "output_type": "stream",
          "name": "stdout",
          "text": [
            "Student added Tata 10 Red\n"
          ]
        }
      ]
    },
    {
      "cell_type": "code",
      "source": [
        "newAdmission(\"Ram\",studentGroup=\"Blue\")"
      ],
      "metadata": {
        "colab": {
          "base_uri": "https://localhost:8080/"
        },
        "id": "VVBiwfe8QWI3",
        "outputId": "44ff944f-b966-4de8-bde3-051869371645"
      },
      "execution_count": null,
      "outputs": [
        {
          "output_type": "stream",
          "name": "stdout",
          "text": [
            "Student added Ram 10 Blue\n"
          ]
        }
      ]
    },
    {
      "cell_type": "code",
      "source": [
        "newAdmission(studentClass=11,studentName=\"Sai\")"
      ],
      "metadata": {
        "colab": {
          "base_uri": "https://localhost:8080/"
        },
        "id": "GeDfa5x9Qcs0",
        "outputId": "8bd930ae-476e-474d-b7eb-6dde880d1f19"
      },
      "execution_count": null,
      "outputs": [
        {
          "output_type": "stream",
          "name": "stdout",
          "text": [
            "Student added Sai 11 Red\n"
          ]
        }
      ]
    },
    {
      "cell_type": "code",
      "source": [
        "# defing the arguments list\n",
        "\n",
        "# Create an application to take a team and players\n",
        "def ipl_team(teamName,*players):\n",
        "  \"Create a new IPL team\"\n",
        "  player_list=[]\n",
        "  for player in players:\n",
        "    player_list.append(player)\n",
        "  print(\"IPL team\",teamName,\"Player List:\",player_list)\n"
      ],
      "metadata": {
        "id": "QtE3q4eVRWnX"
      },
      "execution_count": null,
      "outputs": []
    },
    {
      "cell_type": "code",
      "source": [
        "ipl_team(\"RCB\",\"Virat\",\"Finn\",\"ABD\",\"Saini\")"
      ],
      "metadata": {
        "colab": {
          "base_uri": "https://localhost:8080/"
        },
        "id": "BpdG8UJVS2hM",
        "outputId": "33139554-4422-47b5-da6e-d31f39bd91ac"
      },
      "execution_count": null,
      "outputs": [
        {
          "output_type": "stream",
          "name": "stdout",
          "text": [
            "IPL team RCB Player List: ['Virat', 'Finn', 'ABD']\n"
          ]
        }
      ]
    },
    {
      "cell_type": "code",
      "source": [
        "# \"Saini\"=\"Bowler\"\n",
        "def ipl_players(**players):\n",
        "  for player in players:\n",
        "    print(\"Player Name:\",player,\"Role\",players[player])"
      ],
      "metadata": {
        "id": "VZVhemUfTa0Q"
      },
      "execution_count": null,
      "outputs": []
    },
    {
      "cell_type": "code",
      "source": [
        "ipl_players(Saini=\"Bowler\",\n",
        "            virat=\"Batsman\",\n",
        "            Finn=\"All-rounder\")"
      ],
      "metadata": {
        "colab": {
          "base_uri": "https://localhost:8080/"
        },
        "id": "bFG-rhRJUNrG",
        "outputId": "0bfa879f-c863-4f3e-9e62-47841995c105"
      },
      "execution_count": null,
      "outputs": [
        {
          "output_type": "stream",
          "name": "stdout",
          "text": [
            "Player Name: Saini Role Bowler\n",
            "Player Name: virat Role Batsman\n",
            "Player Name: Finn Role All-rounder\n"
          ]
        }
      ]
    }
  ]
}