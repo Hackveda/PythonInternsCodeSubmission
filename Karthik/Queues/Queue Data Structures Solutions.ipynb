{
 "cells": [
  {
   "cell_type": "code",
   "execution_count": 7,
   "metadata": {},
   "outputs": [
    {
     "name": "stdout",
     "output_type": "stream",
     "text": [
      "Size of the queueis 0\n",
      "Inserting: 10\n",
      "Inserting: 20\n",
      "Inserting: 30\n",
      "Inserting: 40\n",
      "Size of the queue is 4\n"
     ]
    }
   ],
   "source": [
    "# Queue Implementation\n",
    "class Queue:\n",
    "    def __init__(self,size):\n",
    "        self.q=[None]*size\n",
    "        self.capacity=size\n",
    "        self.front=0\n",
    "        self.last=-1\n",
    "        self.count=0\n",
    "    def pop(self):\n",
    "        if self.isEmpty():\n",
    "            print(\"Terminate\")\n",
    "            exit(1)\n",
    "        print(\"Removing elememt:\",self.q(self.front))\n",
    "        self.front=(self.front+1) % self.capacity\n",
    "        self.count=self.count-1\n",
    "    def append(self,value):\n",
    "        if self.isFull():\n",
    "            print(\"Overflow\")\n",
    "            exit(1)\n",
    "        print(\"Inserting:\",value)\n",
    "        self.last=(self.last+1) % self.capacity\n",
    "        self.q[self.last]=value\n",
    "        self.count=self.count+1\n",
    "    def peek(self):\n",
    "        if self.isEmpty():\n",
    "            print(\"Queue empty\")\n",
    "            exit(1)\n",
    "        return self.q[self.front]\n",
    "    def size(self):\n",
    "        return self.count\n",
    "    def isEmpty(self):\n",
    "        return self.size() == 0\n",
    "    def isFull(self):\n",
    "        return self.size()==self.capacity\n",
    "if __name__==\"__main__\":\n",
    "    cust_queue=Queue(10)\n",
    "    print(\"Size of the queueis\",cust_queue.size())\n",
    "    cust_queue.append(10)\n",
    "    cust_queue.append(20)\n",
    "    cust_queue.append(30)\n",
    "    cust_queue.append(40)\n",
    "    print(\"Size of the queue is\",cust_queue.size())\n",
    "\n",
    "\n",
    "\n"
   ]
  }
 ],
 "metadata": {
  "kernelspec": {
   "display_name": "Python 3.7.8 64-bit",
   "language": "python",
   "name": "python3"
  },
  "language_info": {
   "codemirror_mode": {
    "name": "ipython",
    "version": 3
   },
   "file_extension": ".py",
   "mimetype": "text/x-python",
   "name": "python",
   "nbconvert_exporter": "python",
   "pygments_lexer": "ipython3",
   "version": "3.7.8 (tags/v3.7.8:4b47a5b6ba, Jun 28 2020, 08:53:46) [MSC v.1916 64 bit (AMD64)]"
  },
  "orig_nbformat": 4,
  "vscode": {
   "interpreter": {
    "hash": "0a54084e6b208ee8d1ce3989ffc20924477a5f55f5a43e22e699a6741623861e"
   }
  }
 },
 "nbformat": 4,
 "nbformat_minor": 2
}
