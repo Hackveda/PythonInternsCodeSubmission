{
  "nbformat": 4,
  "nbformat_minor": 0,
  "metadata": {
    "colab": {
      "provenance": [],
      "authorship_tag": "ABX9TyO7MwMMywoBvfn8yzvHAJ8l",
      "include_colab_link": true
    },
    "kernelspec": {
      "name": "python3",
      "display_name": "Python 3"
    },
    "language_info": {
      "name": "python"
    }
  },
  "cells": [
    {
      "cell_type": "markdown",
      "metadata": {
        "id": "view-in-github",
        "colab_type": "text"
      },
      "source": [
        "<a href=\"https://colab.research.google.com/github/Hackveda/PythonInternsCodeSubmission/blob/main/Karthik/control%20flow/Contro_Flow_Statements.ipynb\" target=\"_parent\"><img src=\"https://colab.research.google.com/assets/colab-badge.svg\" alt=\"Open In Colab\"/></a>"
      ]
    },
    {
      "cell_type": "code",
      "execution_count": null,
      "metadata": {
        "colab": {
          "base_uri": "https://localhost:8080/"
        },
        "id": "XRlX5CWYy0Vc",
        "outputId": "cc2c4b4f-de55-4d09-a5a0-1e4f911ab2ba"
      },
      "outputs": [
        {
          "output_type": "stream",
          "name": "stdout",
          "text": [
            "Variable values 0 1 2 3\n"
          ]
        }
      ],
      "source": [
        "a=0\n",
        "b=1\n",
        "c,d=2,3 #Multiple variables assignment\n",
        "print(\"Variable values\",a,b,c,d)"
      ]
    },
    {
      "cell_type": "code",
      "source": [
        "while a<10:\n",
        "  print(a)\n",
        "  a,b=b,a+b"
      ],
      "metadata": {
        "colab": {
          "base_uri": "https://localhost:8080/"
        },
        "id": "Ftf1n_ih0jCO",
        "outputId": "160da453-b22e-4001-c3e0-2554468f98a3"
      },
      "execution_count": null,
      "outputs": [
        {
          "output_type": "stream",
          "name": "stdout",
          "text": [
            "0\n",
            "1\n",
            "1\n",
            "2\n",
            "3\n",
            "5\n",
            "8\n"
          ]
        }
      ]
    },
    {
      "cell_type": "code",
      "source": [
        "# Simple Grade System Application\n",
        "# 91-100=A,81-90=B,71-80=C,Below or equal 70=Fail\n",
        "# Take input from the user\n",
        "marks=int(input(\"Enter your marks: \"))\n",
        "#Conditional Flow Implementation Using if\n",
        "if marks>=91:\n",
        "  print(\"Grade A\")\n",
        "elif marks>=81:\n",
        "  print(\"Grade B\")\n",
        "elif marks>=71:\n",
        "  print(\"Grade c\")\n",
        "else:\n",
        "  print(\"Failed Score\")"
      ],
      "metadata": {
        "colab": {
          "base_uri": "https://localhost:8080/"
        },
        "id": "UVqX0Xai2J80",
        "outputId": "ec03480f-4c95-4d57-984b-69bebefc1183"
      },
      "execution_count": null,
      "outputs": [
        {
          "output_type": "stream",
          "name": "stdout",
          "text": [
            "Enter your marks: 78\n",
            "Grade c\n"
          ]
        }
      ]
    },
    {
      "cell_type": "code",
      "source": [
        "# Switch implementation of If\n",
        "# ATM Machine Application\n",
        "card=input(\"Enter Card: \")\n",
        "print(\"\"\"\n",
        "Select option \n",
        "\n",
        "1. Banking\n",
        "2. Bank Statement\n",
        "3. PIN Change\n",
        "4. Fast Withdrawal\n",
        "\"\"\")\n",
        "option=int(input(\"Enter option no:\"))\n",
        "\n",
        "# Switch Implementation\n",
        "if option==1:\n",
        "  print(\"Welcome to Banking mode\")\n",
        "elif option==2:\n",
        "  print(\"Print Bank Statement\")\n",
        "elif option==3:\n",
        "  print(\"PIN Change Menu\")\n",
        "elif option==4:\n",
        "  print(\"Fast Withdrawl\")\n",
        "else:\n",
        "  print(\"please check the correct option\")\n",
        "\n"
      ],
      "metadata": {
        "colab": {
          "base_uri": "https://localhost:8080/"
        },
        "id": "eGCNbhLH8afF",
        "outputId": "ce6488e0-ba4b-48b3-ee96-eab77e29a9c1"
      },
      "execution_count": null,
      "outputs": [
        {
          "output_type": "stream",
          "name": "stdout",
          "text": [
            "Enter Card: 12436554765\n",
            "\n",
            "Select option \n",
            "\n",
            "1. Banking\n",
            "2. Bank Statement\n",
            "3. PIN Change\n",
            "4. Fast Withdrawal\n",
            "\n",
            "Enter option no:4\n",
            "Fast Withdrawl\n"
          ]
        }
      ]
    },
    {
      "cell_type": "code",
      "source": [
        "# For Statements in Python\n",
        "# Railway Reservation Application\n",
        "\n",
        "queue=[\"Virat\",\"Dhoni\",\"Rohit\",\"Rahul\"]\n",
        "# Start making tickets for this queue using FOR Statement\n",
        "for traveller_name in queue:\n",
        "  print(\"Make Ticket for\",traveller_name)\n",
        "  print(\"Tickets issued for\",traveller_name)\n",
        "print(\"All travellers ticket made\")"
      ],
      "metadata": {
        "colab": {
          "base_uri": "https://localhost:8080/"
        },
        "id": "iDz5DZEG_k2F",
        "outputId": "65fef01f-5e1d-4b25-9c37-19bce2a8efbc"
      },
      "execution_count": null,
      "outputs": [
        {
          "output_type": "stream",
          "name": "stdout",
          "text": [
            "Make Ticket for Virat\n",
            "Tickets issued for Virat\n",
            "Make Ticket for Dhoni\n",
            "Tickets issued for Dhoni\n",
            "Make Ticket for Rohit\n",
            "Tickets issued for Rohit\n",
            "Make Ticket for Rahul\n",
            "Tickets issued for Rahul\n",
            "All travellers ticket made\n"
          ]
        }
      ]
    },
    {
      "cell_type": "code",
      "source": [
        "# Add all the items in a basket starting from character B\n",
        "items=[\"Banana\",\"Apple\",\"Brinjal\",\"Bhindi\",\"Burger\",\"Coffee\",\"Butter\"]\n",
        "basket=[]\n",
        "for i in items:\n",
        "  if i[0]==\"B\":\n",
        "    basket.append(i)\n",
        "basket\n"
      ],
      "metadata": {
        "colab": {
          "base_uri": "https://localhost:8080/"
        },
        "id": "SrcFtN1RBar1",
        "outputId": "678dd89e-e25a-4765-fe5e-682e2a12f5c8"
      },
      "execution_count": null,
      "outputs": [
        {
          "output_type": "execute_result",
          "data": {
            "text/plain": [
              "['Banana', 'Brinjal', 'Bhindi', 'Burger', 'Butter']"
            ]
          },
          "metadata": {},
          "execution_count": 11
        }
      ]
    },
    {
      "cell_type": "code",
      "source": [
        "# Range Function\n",
        "# for(int i=0;i<20;i++){}\n",
        "\n",
        "for i in range(0,20,2):\n",
        "  print(i)"
      ],
      "metadata": {
        "colab": {
          "base_uri": "https://localhost:8080/"
        },
        "id": "QoeLZGI-Dr33",
        "outputId": "34c5bb94-b40b-4b0b-97b9-7bf63c89ed8d"
      },
      "execution_count": null,
      "outputs": [
        {
          "output_type": "stream",
          "name": "stdout",
          "text": [
            "0\n",
            "2\n",
            "4\n",
            "6\n",
            "8\n",
            "10\n",
            "12\n",
            "14\n",
            "16\n",
            "18\n"
          ]
        }
      ]
    },
    {
      "cell_type": "code",
      "source": [
        "sum(range(10,20,2))"
      ],
      "metadata": {
        "colab": {
          "base_uri": "https://localhost:8080/"
        },
        "id": "IbaNmeJUFe49",
        "outputId": "8e6d57a7-5bdd-4d8a-d49c-b887d07353e7"
      },
      "execution_count": null,
      "outputs": [
        {
          "output_type": "execute_result",
          "data": {
            "text/plain": [
              "70"
            ]
          },
          "metadata": {},
          "execution_count": 17
        }
      ]
    },
    {
      "cell_type": "code",
      "source": [
        "# Make a list of items between 10,50 step by 7\n",
        "list(range(10,50,7))"
      ],
      "metadata": {
        "colab": {
          "base_uri": "https://localhost:8080/"
        },
        "id": "3rXVQbPyFl_a",
        "outputId": "4aacf02d-a2f8-4fc9-ed93-0f3a16d26a40"
      },
      "execution_count": null,
      "outputs": [
        {
          "output_type": "execute_result",
          "data": {
            "text/plain": [
              "[10, 17, 24, 31, 38, 45]"
            ]
          },
          "metadata": {},
          "execution_count": 18
        }
      ]
    },
    {
      "cell_type": "code",
      "source": [
        "for i in range(5):\n",
        "  print(i)\n",
        "  if i ==3:\n",
        "    break"
      ],
      "metadata": {
        "colab": {
          "base_uri": "https://localhost:8080/"
        },
        "id": "v2w_BbdSGBqT",
        "outputId": "ffc411b8-c33c-4e2f-e433-bab5b9405a36"
      },
      "execution_count": null,
      "outputs": [
        {
          "output_type": "stream",
          "name": "stdout",
          "text": [
            "0\n",
            "1\n",
            "2\n",
            "3\n"
          ]
        }
      ]
    },
    {
      "cell_type": "code",
      "source": [
        "for num in range(2,10):\n",
        "  if num%2==0:\n",
        "    print(\"Even Number\",num)\n",
        "    continue  # resume back to loop\n",
        "  print(\"Found and odd number\",num)\n",
        "   "
      ],
      "metadata": {
        "colab": {
          "base_uri": "https://localhost:8080/"
        },
        "id": "QqkrYRY6Gpb3",
        "outputId": "ea6a95b9-bcc7-4717-9210-9e9209fc3d95"
      },
      "execution_count": null,
      "outputs": [
        {
          "output_type": "stream",
          "name": "stdout",
          "text": [
            "Even Number 2\n",
            "Found and odd number 3\n",
            "Even Number 4\n",
            "Found and odd number 5\n",
            "Even Number 6\n",
            "Found and odd number 7\n",
            "Even Number 8\n",
            "Found and odd number 9\n"
          ]
        }
      ]
    },
    {
      "cell_type": "code",
      "source": [
        "items=[\"abcd\",\"defg\",\"ab\",\"ijkl\",\"hem\"]\n",
        "for item in items:\n",
        "  if len(item)==4:\n",
        "    print(item)\n",
        "  else:\n",
        "    pass"
      ],
      "metadata": {
        "colab": {
          "base_uri": "https://localhost:8080/"
        },
        "id": "T3wOByJcHcdn",
        "outputId": "f2a4615a-c533-4b0c-aeaa-b163efb6bd8e"
      },
      "execution_count": null,
      "outputs": [
        {
          "output_type": "stream",
          "name": "stdout",
          "text": [
            "abcd\n",
            "defg\n",
            "ijkl\n"
          ]
        }
      ]
    }
  ]
}