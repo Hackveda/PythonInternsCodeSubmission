{
  "nbformat": 4,
  "nbformat_minor": 0,
  "metadata": {
    "colab": {
      "provenance": [],
      "authorship_tag": "ABX9TyOJO2wQkpnTGm7tatCPqjzB",
      "include_colab_link": true
    },
    "kernelspec": {
      "name": "python3",
      "display_name": "Python 3"
    },
    "language_info": {
      "name": "python"
    }
  },
  "cells": [
    {
      "cell_type": "markdown",
      "metadata": {
        "id": "view-in-github",
        "colab_type": "text"
      },
      "source": [
        "<a href=\"https://colab.research.google.com/github/Hackveda/PythonInternsCodeSubmission/blob/main/Karthik/Standard_library.ipynb\" target=\"_parent\"><img src=\"https://colab.research.google.com/assets/colab-badge.svg\" alt=\"Open In Colab\"/></a>"
      ]
    },
    {
      "cell_type": "code",
      "execution_count": null,
      "metadata": {
        "colab": {
          "base_uri": "https://localhost:8080/"
        },
        "id": "S5JApsZ9wqSP",
        "outputId": "a57dcfee-b22b-4b93-a057-949a172ac96f"
      },
      "outputs": [
        {
          "output_type": "stream",
          "name": "stdout",
          "text": [
            "karthikp2505@gmail.com\n",
            "Email ID is valid\n"
          ]
        }
      ],
      "source": [
        "# String Pattern Matching\n",
        "# Check if the mail id is valid or not\n",
        "import re\n",
        "email = input()\n",
        "result = re.findall(r'^[a-zA-Z0_9+_.-]+@[a-zA-Z0-9.-]+$', email)\n",
        "if result != 0:\n",
        "  print('Email ID is valid')\n",
        "else:\n",
        "  print('Email ID is invalid') "
      ]
    },
    {
      "cell_type": "code",
      "source": [
        "# Using random in Python\n",
        "import random\n",
        "mylist= ['dummyt','gummy','runny','denwt']\n",
        "random.choice(mylist)"
      ],
      "metadata": {
        "colab": {
          "base_uri": "https://localhost:8080/",
          "height": 36
        },
        "id": "VtO3eDOPxFPu",
        "outputId": "6400ec21-6179-4567-951a-c3c66bff18c0"
      },
      "execution_count": null,
      "outputs": [
        {
          "output_type": "execute_result",
          "data": {
            "text/plain": [
              "'denwt'"
            ],
            "application/vnd.google.colaboratory.intrinsic+json": {
              "type": "string"
            }
          },
          "metadata": {},
          "execution_count": 3
        }
      ]
    },
    {
      "cell_type": "code",
      "source": [
        "num = [1,2,3,5,3,34]\n",
        "random.choice(num)"
      ],
      "metadata": {
        "colab": {
          "base_uri": "https://localhost:8080/"
        },
        "id": "5SHxQxPWxLue",
        "outputId": "dc9dc8d7-2701-494b-91cc-3145bea0af95"
      },
      "execution_count": null,
      "outputs": [
        {
          "output_type": "execute_result",
          "data": {
            "text/plain": [
              "1"
            ]
          },
          "metadata": {},
          "execution_count": 4
        }
      ]
    },
    {
      "cell_type": "code",
      "source": [
        "#Implement DIce\n",
        "dice = [1,2,3,4,5,6]\n",
        "#k = \n",
        "user = input(\"enter 1 to start:\")\n",
        "if user == 1:\n",
        "  random.choice(dice)"
      ],
      "metadata": {
        "colab": {
          "base_uri": "https://localhost:8080/"
        },
        "id": "wjReN912xNdF",
        "outputId": "aabc224c-c629-4ba1-e00e-a70cdff70994"
      },
      "execution_count": null,
      "outputs": [
        {
          "name": "stdout",
          "output_type": "stream",
          "text": [
            "enter 1 to start:1\n"
          ]
        }
      ]
    },
    {
      "cell_type": "code",
      "source": [
        "#Implement Statistics in python\n",
        "import statistics\n",
        "mylist = [6,4,2,0,1,4]\n",
        "round(statistics.mean(mylist),5)"
      ],
      "metadata": {
        "colab": {
          "base_uri": "https://localhost:8080/"
        },
        "id": "lnwTtcS_xRFa",
        "outputId": "81167eab-3a64-48f9-f785-767c934e63e1"
      },
      "execution_count": null,
      "outputs": [
        {
          "output_type": "execute_result",
          "data": {
            "text/plain": [
              "2.83333"
            ]
          },
          "metadata": {},
          "execution_count": 6
        }
      ]
    },
    {
      "cell_type": "code",
      "source": [
        "from datetime import date\n",
        "today = date.today()"
      ],
      "metadata": {
        "id": "-ZF0otrhxXSV"
      },
      "execution_count": null,
      "outputs": []
    },
    {
      "cell_type": "code",
      "source": [
        "today.strftime(\"%m/%d/%y\")"
      ],
      "metadata": {
        "colab": {
          "base_uri": "https://localhost:8080/",
          "height": 36
        },
        "id": "vISv8F1NxcQ5",
        "outputId": "c3fd9f3b-e06c-419f-a40d-1cb290cafbbf"
      },
      "execution_count": null,
      "outputs": [
        {
          "output_type": "execute_result",
          "data": {
            "text/plain": [
              "'01/07/23'"
            ],
            "application/vnd.google.colaboratory.intrinsic+json": {
              "type": "string"
            }
          },
          "metadata": {},
          "execution_count": 8
        }
      ]
    },
    {
      "cell_type": "code",
      "source": [
        "# Print the date in alphabets\n",
        "today.strftime(\"Day is %A, Month is %B (%b)\")"
      ],
      "metadata": {
        "colab": {
          "base_uri": "https://localhost:8080/",
          "height": 36
        },
        "id": "1NI3j1uDxgG3",
        "outputId": "4ce2fb15-e1cf-4c92-eace-c346efddff4e"
      },
      "execution_count": null,
      "outputs": [
        {
          "output_type": "execute_result",
          "data": {
            "text/plain": [
              "'Day is Saturday, Month is January (Jan)'"
            ],
            "application/vnd.google.colaboratory.intrinsic+json": {
              "type": "string"
            }
          },
          "metadata": {},
          "execution_count": 9
        }
      ]
    },
    {
      "cell_type": "code",
      "source": [
        "#Data compression in python\n",
        "data =b\"This is my statement ashrviubvcauygrcfn aquerlm;ouyerfcbq;ahdiy;oweqrufibwelnacx\"\n",
        "len(data)"
      ],
      "metadata": {
        "colab": {
          "base_uri": "https://localhost:8080/"
        },
        "id": "XeUl4ueaxjjf",
        "outputId": "faa88022-2667-41e2-d22f-3a70346c1d73"
      },
      "execution_count": null,
      "outputs": [
        {
          "output_type": "execute_result",
          "data": {
            "text/plain": [
              "80"
            ]
          },
          "metadata": {},
          "execution_count": 10
        }
      ]
    },
    {
      "cell_type": "code",
      "source": [
        "#Compress this data using zlib\n",
        "import zlib\n",
        "data_compress=zlib.compress(data)\n",
        "len(data_compress)"
      ],
      "metadata": {
        "colab": {
          "base_uri": "https://localhost:8080/"
        },
        "id": "UVq9qPkOxmDC",
        "outputId": "9246ad4e-f9c8-478e-e580-ee20ba8e77fa"
      },
      "execution_count": null,
      "outputs": [
        {
          "output_type": "execute_result",
          "data": {
            "text/plain": [
              "77"
            ]
          },
          "metadata": {},
          "execution_count": 11
        }
      ]
    },
    {
      "cell_type": "code",
      "source": [
        "zlib.decompress(data_compress)"
      ],
      "metadata": {
        "colab": {
          "base_uri": "https://localhost:8080/"
        },
        "id": "29X7cZaoxq-j",
        "outputId": "53b34d9f-6fc4-461d-c905-1f72d6430e33"
      },
      "execution_count": null,
      "outputs": [
        {
          "output_type": "execute_result",
          "data": {
            "text/plain": [
              "b'This is my statement ashrviubvcauygrcfn aquerlm;ouyerfcbq;ahdiy;oweqrufibwelnacx'"
            ]
          },
          "metadata": {},
          "execution_count": 13
        }
      ]
    },
    {
      "cell_type": "code",
      "source": [
        "#Quality Control in Python\n",
        "def sum(a,b):\n",
        "  \"\"\"\n",
        "  This function sums two values\n",
        "  >>> print(sum(10,10))\n",
        "  30\n",
        "  \"\"\"\n",
        "  return a+b\n",
        "def sub(a,b):\n",
        "  \"\"\"\n",
        "  Subtract two values\n",
        "  >>> print(sub(20,10))\n",
        "  10\n",
        "  \"\"\"\n",
        "  return a-b\n",
        "import doctest\n",
        "doctest.testmod()  "
      ],
      "metadata": {
        "colab": {
          "base_uri": "https://localhost:8080/"
        },
        "id": "3lc2j2c9yEx5",
        "outputId": "ce216976-221e-4b7e-cda1-b7eca9a62c0a"
      },
      "execution_count": null,
      "outputs": [
        {
          "output_type": "stream",
          "name": "stderr",
          "text": [
            "\n",
            "PYDEV DEBUGGER WARNING:\n",
            "sys.settrace() should not be used when the debugger is being used.\n",
            "This may cause the debugger to stop working correctly.\n",
            "If this is needed, please check: \n",
            "http://pydev.blogspot.com/2007/06/why-cant-pydev-debugger-work-with.html\n",
            "to see how to restore the debug tracing back correctly.\n",
            "Call Location:\n",
            "  File \"/usr/lib/python3.8/doctest.py\", line 1487, in run\n",
            "    sys.settrace(save_trace)\n",
            "\n"
          ]
        },
        {
          "output_type": "stream",
          "name": "stdout",
          "text": [
            "**********************************************************************\n",
            "File \"__main__\", line 5, in __main__.sum\n",
            "Failed example:\n",
            "    print(sum(10,10))\n",
            "Expected:\n",
            "    30\n",
            "Got:\n",
            "    20\n",
            "**********************************************************************\n",
            "1 items had failures:\n",
            "   1 of   1 in __main__.sum\n",
            "***Test Failed*** 1 failures.\n"
          ]
        },
        {
          "output_type": "execute_result",
          "data": {
            "text/plain": [
              "TestResults(failed=1, attempted=2)"
            ]
          },
          "metadata": {},
          "execution_count": 15
        }
      ]
    },
    {
      "cell_type": "code",
      "source": [],
      "metadata": {
        "id": "iiiajTLDyK5s"
      },
      "execution_count": null,
      "outputs": []
    }
  ]
}